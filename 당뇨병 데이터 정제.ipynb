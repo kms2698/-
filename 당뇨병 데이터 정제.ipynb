{
 "cells": [
  {
   "cell_type": "markdown",
   "metadata": {},
   "source": [
    "## 코드"
   ]
  },
  {
   "cell_type": "code",
   "execution_count": 2,
   "metadata": {},
   "outputs": [],
   "source": [
    "import pandas as pd\n",
    "import numpy as np\n",
    "import matplotlib.pyplot as plt\n",
    "import matplotlib as mpl\n",
    "from imblearn.over_sampling import SMOTE\n",
    "from imblearn.under_sampling import RandomUnderSampler"
   ]
  },
  {
   "cell_type": "code",
   "execution_count": 3,
   "metadata": {},
   "outputs": [],
   "source": [
    "# plt.rc('font', family='NanumGothicOTF') # For MacOS\n",
    "plt.rc('font', family='NanumGothic') # For Windows\n",
    "mpl.rcParams['axes.unicode_minus'] = False\n",
    "pd.set_option('display.max_columns', None)"
   ]
  },
  {
   "cell_type": "code",
   "execution_count": 4,
   "metadata": {},
   "outputs": [],
   "source": [
    "raw_path = './csv/raw'\n",
    "preprocessed_path = './csv/preprocessed'"
   ]
  },
  {
   "cell_type": "code",
   "execution_count": 4,
   "metadata": {},
   "outputs": [],
   "source": [
    "df1 = pd.read_csv(f'{raw_path}/data_2014.csv',engine = 'python')\n",
    "df2 = pd.read_csv(f'{raw_path}/data_2015.csv',engine = 'python')\n",
    "df3 = pd.read_csv(f'{raw_path}/data_2016.csv',engine = 'python') #음주여부 all null\n",
    "df4 = pd.read_csv(f'{raw_path}/data_2017.csv',engine = 'python')\n",
    "df5 = pd.read_csv(f'{raw_path}/data_2018.csv')\n",
    "df6 = pd.read_csv(f'{raw_path}/data_2019.csv', engine = 'python')"
   ]
  },
  {
   "cell_type": "code",
   "execution_count": 5,
   "metadata": {},
   "outputs": [],
   "source": [
    "def clean_data(df):\n",
    "    df.columns = df.columns.str.replace(' ', '')\n",
    "    \n",
    "    year = df['기준년도'][0]\n",
    "    print(\"Numbers of rows in %d before: (%d, %d)\" %(year, df.shape[0], df.shape[1]))\n",
    "    \n",
    "    df = df.rename(columns={\"연령대코드(5세단위)\":\"연령대코드\", \n",
    "                        \"신장(5Cm단위)\":\"신장\", \n",
    "                        \"체중(5Kg단위)\":\"체중\",\n",
    "                        \"식전혈당(공복혈당)\":\"식전혈당\",\n",
    "                        \"데이터기준일자\":\"데이터공개일자\",\n",
    "                        \"치석유무\":\"치석\",\n",
    "                        \"(혈청지오티)AST\":\"AST\",\n",
    "                        \"(혈청지오티)ALT\":\"ALT\",})\n",
    "    \n",
    "    preserve_columns = ['성별코드', '연령대코드', '신장', '체중', '허리둘레', '수축기혈압',\n",
    "       '이완기혈압', '식전혈당', '총콜레스테롤', '트리글리세라이드', 'HDL콜레스테롤', 'LDL콜레스테롤',\n",
    "       '혈색소', '요단백', '혈청크레아티닌', 'AST', 'ALT', '감마지티피', '흡연상태',\n",
    "       '음주여부']\n",
    "    \n",
    "#     drop_column = ['기준년도', '가입자일련번호','시도코드', '시력(좌)', '시력(우)', '청력(좌)', '청력(우)','구강검진수검여부',\n",
    "#        '치아우식증유무', '결손치유무', '치아마모증유무', '제3대구치(사랑니)이상', '치석', '데이터공개일자']\n",
    "#     df = df.drop(drop_column, axis = 1, errors='ignore')\n",
    "\n",
    "    df = df[preserve_columns]\n",
    "    \n",
    "    df.drop(df[df['ALT'] >= 500].index, inplace=True)\n",
    "    df.drop(df[df['AST'] >= 500].index, inplace=True)\n",
    "    df.drop(df[df['감마지티피'] >= 900].index, inplace=True)\n",
    "    \n",
    "    #음주여부\n",
    "    if  df.loc[df['음주여부'].isnull()].shape[0] < df.shape[0] * 0.5:\n",
    "        df.loc[df['음주여부'].isnull(), '음주여부'] = 0\n",
    "    \n",
    "        if df['음주여부'].dtypes != np.number:\n",
    "            df.loc[df['음주여부']=='Y', '음주여부'] = 1\n",
    "            df.loc[df['음주여부']=='N', '음주여부'] = 0\n",
    "    \n",
    "    #식전혈당이 없을 시 드랍\n",
    "    df = df.loc[df['식전혈당'].notnull()]\n",
    "\n",
    "    #당뇨병: 공복 혈당치 126 mg/dL 이상 당뇨병의 전단계: 공복 혈당치 100 mg/dL 이상\n",
    "    #저혈당: 혈당치 126 mg/dL 미만\n",
    "    df.loc[df['식전혈당'] < 100, '식전혈당'] = 0\n",
    "    df.loc[(df['식전혈당'] >= 100) & (df['식전혈당'] < 126), '식전혈당'] = 1\n",
    "    df.loc[df['식전혈당'] >= 126, '식전혈당'] = 2\n",
    "    \n",
    "    #비정상적인 값 배제\n",
    "    df = df.loc[df['허리둘레']<140]\n",
    "    df = df.loc[df['허리둘레']>40]\n",
    "\n",
    "    #국내의 복부비만 기준은 남자는 90cm 이상, 여자의 경우 85cm 이상\n",
    "    df_obesity = df[['허리둘레','성별코드']].copy()\n",
    "    \n",
    "    df_obesity.loc[(df_obesity['허리둘레']>= 90) & (df_obesity['성별코드']==1), '복부비만'] = 1\n",
    "    df_obesity.loc[(df_obesity['허리둘레']>= 85) & (df_obesity['성별코드']==2), '복부비만'] = 1\n",
    "    df_obesity['복부비만'] = df_obesity['복부비만'].fillna(0)\n",
    "\n",
    "    df['복부비만'] = df_obesity['복부비만']\n",
    "    \n",
    "    df_weight = df[['신장', '체중']].copy()\n",
    "\n",
    "    #체중(kg)을 신장(m)의 제곱으로 나눈 값(체중(kg)/신장(m2))\n",
    "    temp = df_weight['신장']/100\n",
    "    df_bmi = round(df_weight['체중'] / (temp * temp), 1)\n",
    "\n",
    "    #세계보건기구 아시아태평양지역과 대한비만학회\n",
    "    #BMI < 25 kg/m2 : 저체중+정상 0\n",
    "    #BMI ≥ 25 kg/m2 : 과체중 1\n",
    "    #BMI ≥ 30 kg/m2 : 비만 2\n",
    "    df_bmi.loc[df_bmi < 25] = 0\n",
    "    df_bmi.loc[(df_bmi >= 25) & (df_bmi < 30)] = 1\n",
    "    df_bmi.loc[df_bmi >= 30] = 2\n",
    "\n",
    "    df['비만여부'] = df_bmi\n",
    "\n",
    "    df = df.drop(['체중', '신장'], axis = 1)\n",
    "    \n",
    "    df_pressure = df[['이완기혈압', '수축기혈압']].copy()\n",
    "\n",
    "    # 정상: 0 / 120~139/80~89 전단계: 1/  140~159/90~99 1기:2 / 160/100 2기:3\n",
    "    df_pressure.loc[(df_pressure['수축기혈압'] < 120) & (df_pressure['이완기혈압'] < 80), '고혈압 여부'] = 0\n",
    "    df_pressure.loc[((df_pressure['수축기혈압'] >= 120) & (df_pressure['수축기혈압'] < 140))|\n",
    "                ((df_pressure['이완기혈압'] >= 80) & (df_pressure['이완기혈압'] < 90)), '고혈압 여부'] = 1\n",
    "    df_pressure.loc[((df_pressure['수축기혈압'] >= 140) & (df_pressure['수축기혈압'] < 160))|\n",
    "                ((df_pressure['이완기혈압'] >= 90) & (df_pressure['이완기혈압'] < 99)), '고혈압 여부'] = 2\n",
    "    df_pressure.loc[(df_pressure['수축기혈압'] >=160) | (df_pressure['이완기혈압'] >= 100), '고혈압 여부'] = 3\n",
    "\n",
    "    df['고혈압'] = df_pressure['고혈압 여부']\n",
    "    df = df.drop(['수축기혈압', '이완기혈압'], axis = 1)\n",
    "    \n",
    "    if df.loc[df['음주여부'].isnull()].shape[0] > df.shape[0] * 0.5:\n",
    "        df = df.loc[:, df.columns != '음주여부']\n",
    "        \n",
    "    df = df.dropna(axis = 0, how='any')\n",
    "    \n",
    "    weight = 0.1\n",
    "    invalid_cholesterol_idx = []\n",
    "    for index, row in df.iterrows():\n",
    "        calculated = row['HDL콜레스테롤'] + row['LDL콜레스테롤'] + (row['트리글리세라이드']/5)\n",
    "        total = row['총콜레스테롤']\n",
    "        if (total < (1 - weight) * calculated or (1 + weight) * calculated < total):\n",
    "            invalid_cholesterol_idx.append(index)\n",
    "        \n",
    "    df = df.drop(invalid_cholesterol_idx)\n",
    "    \n",
    "    print(\"Numbers of rows in %d after: (%d, %d)\" %(year, df.shape[0], df.shape[1]))\n",
    "    \n",
    "    return year, df"
   ]
  },
  {
   "cell_type": "code",
   "execution_count": 6,
   "metadata": {},
   "outputs": [
    {
     "name": "stdout",
     "output_type": "stream",
     "text": [
      "Numbers of rows in 2014 before: (1000000, 31)\n"
     ]
    },
    {
     "name": "stderr",
     "output_type": "stream",
     "text": [
      "C:\\Users\\Public\\Anaconda3\\lib\\site-packages\\ipykernel_launcher.py:35: DeprecationWarning: Converting `np.inexact` or `np.floating` to a dtype is deprecated. The current result is `float64` which is not strictly correct.\n"
     ]
    },
    {
     "name": "stdout",
     "output_type": "stream",
     "text": [
      "Numbers of rows in 2014 after: (974332, 19)\n",
      "Numbers of rows in 2015 before: (1000000, 31)\n",
      "Numbers of rows in 2015 after: (975085, 19)\n",
      "Numbers of rows in 2016 before: (1000000, 34)\n",
      "Numbers of rows in 2016 after: (972275, 18)\n",
      "Numbers of rows in 2017 before: (1000000, 34)\n",
      "Numbers of rows in 2017 after: (972186, 19)\n",
      "Numbers of rows in 2018 before: (1000000, 34)\n",
      "Numbers of rows in 2018 after: (322063, 19)\n",
      "Numbers of rows in 2019 before: (1000000, 34)\n",
      "Numbers of rows in 2019 after: (323548, 19)\n"
     ]
    }
   ],
   "source": [
    "df_list = [df1, df2, df3, df4, df5, df6]\n",
    "df_year = []\n",
    "df_cleaned = []\n",
    "\n",
    "for df in df_list:\n",
    "    year, ddf = clean_data(df)\n",
    "    df_year.append(year)\n",
    "    df_cleaned.append(ddf)"
   ]
  },
  {
   "cell_type": "code",
   "execution_count": 14,
   "metadata": {},
   "outputs": [],
   "source": [
    "df_class_0 = pd.DataFrame(columns = df_cleaned[0].columns)\n",
    "\n",
    "df_1718 = df_cleaned[3].append(df_cleaned[4])"
   ]
  },
  {
   "cell_type": "code",
   "execution_count": 15,
   "metadata": {},
   "outputs": [],
   "source": [
    "df_test = df_cleaned[5]\n",
    "df_test.to_csv(f'{preprocessed_path}/data_test.csv', index=False)"
   ]
  },
  {
   "cell_type": "markdown",
   "metadata": {},
   "source": [
    "## Without 2016"
   ]
  },
  {
   "cell_type": "code",
   "execution_count": 13,
   "metadata": {},
   "outputs": [
    {
     "ename": "NameError",
     "evalue": "name 'df_1718' is not defined",
     "output_type": "error",
     "traceback": [
      "\u001b[1;31m---------------------------------------------------------------------------\u001b[0m",
      "\u001b[1;31mNameError\u001b[0m                                 Traceback (most recent call last)",
      "\u001b[1;32m<ipython-input-13-80eeb93935a8>\u001b[0m in \u001b[0;36m<module>\u001b[1;34m\u001b[0m\n\u001b[1;32m----> 1\u001b[1;33m \u001b[0mdf_16\u001b[0m \u001b[1;33m=\u001b[0m \u001b[0mdf_1718\u001b[0m\u001b[1;33m\u001b[0m\u001b[1;33m\u001b[0m\u001b[0m\n\u001b[0m\u001b[0;32m      2\u001b[0m \u001b[1;33m\u001b[0m\u001b[0m\n\u001b[0;32m      3\u001b[0m \u001b[1;32mfor\u001b[0m \u001b[0mdf\u001b[0m \u001b[1;32min\u001b[0m \u001b[0mdf_cleaned\u001b[0m\u001b[1;33m[\u001b[0m\u001b[1;33m:\u001b[0m\u001b[1;36m3\u001b[0m\u001b[1;33m]\u001b[0m\u001b[1;33m:\u001b[0m\u001b[1;33m\u001b[0m\u001b[1;33m\u001b[0m\u001b[0m\n\u001b[0;32m      4\u001b[0m     \u001b[1;32mif\u001b[0m \u001b[0mdf\u001b[0m\u001b[1;33m.\u001b[0m\u001b[0mshape\u001b[0m\u001b[1;33m[\u001b[0m\u001b[1;36m1\u001b[0m\u001b[1;33m]\u001b[0m \u001b[1;33m!=\u001b[0m \u001b[1;36m19\u001b[0m\u001b[1;33m:\u001b[0m\u001b[1;33m\u001b[0m\u001b[1;33m\u001b[0m\u001b[0m\n\u001b[0;32m      5\u001b[0m         \u001b[1;32mcontinue\u001b[0m\u001b[1;33m\u001b[0m\u001b[1;33m\u001b[0m\u001b[0m\n",
      "\u001b[1;31mNameError\u001b[0m: name 'df_1718' is not defined"
     ]
    }
   ],
   "source": [
    "df_16 = df_1718\n",
    "\n",
    "for df in df_cleaned[:3]:\n",
    "    if df.shape[1] != 19:\n",
    "        continue\n",
    "    df_12 = df.loc[(df['식전혈당']==1) | (df['식전혈당']==2)]\n",
    "    df_16 = df_16.append(df_12)\n",
    "    \n",
    "df_16 = df_16.sample(frac=1).reset_index(drop=True)\n",
    "\n",
    "print(df_16['식전혈당'].value_counts())    \n",
    "\n",
    "df_16.to_csv(f'{preprocessed_path}/data_preprocessed.csv', index=False)"
   ]
  },
  {
   "cell_type": "code",
   "execution_count": 18,
   "metadata": {},
   "outputs": [
    {
     "data": {
      "text/plain": [
       "1    924629\n",
       "0    800762\n",
       "2    234337\n",
       "Name: 식전혈당, dtype: int64"
      ]
     },
     "execution_count": 18,
     "metadata": {},
     "output_type": "execute_result"
    }
   ],
   "source": [
    "X_16 = df_16.loc[:, df_16.columns != '식전혈당']\n",
    "y_16 = df_16['식전혈당']\n",
    "y_16=y_16.astype('int')\n",
    "\n",
    "y_16.value_counts()"
   ]
  },
  {
   "cell_type": "code",
   "execution_count": null,
   "metadata": {},
   "outputs": [],
   "source": [
    "oversample = SMOTE()\n",
    "X_temp, y_temp = oversample.fit_resample(X_16, y_16)"
   ]
  },
  {
   "cell_type": "code",
   "execution_count": null,
   "metadata": {},
   "outputs": [],
   "source": [
    "df_upper = X_temp\n",
    "df_upper['식전혈당'] = y_temp\n",
    "df_upper.head()\n",
    "\n",
    "df_upper.to_csv(f'{file_route}/data_preprocessed_over.csv', index=False)"
   ]
  },
  {
   "cell_type": "code",
   "execution_count": 24,
   "metadata": {},
   "outputs": [
    {
     "name": "stdout",
     "output_type": "stream",
     "text": [
      "UnderSampling 적용 전 레이블 값 분포: \n",
      " 1    924629\n",
      "0    800762\n",
      "2    234337\n",
      "Name: 식전혈당, dtype: int64\n",
      "UnderSampling 적용 후 레이블 값 분포: \n",
      " 1.0    234337\n",
      "0.0    234337\n",
      "2.0    234337\n",
      "Name: 식전혈당, dtype: int64\n"
     ]
    }
   ],
   "source": [
    "df_class_0 = df_16[df_16['식전혈당'] == 0]\n",
    "df_class_1 = df_16[df_16['식전혈당'] == 1]\n",
    "df_class_2 = df_16[df_16['식전혈당'] == 2]\n",
    "\n",
    "count_class_2 = df_class_2.shape[0]\n",
    "\n",
    "df_class_0_under = df_class_0.sample(count_class_2)\n",
    "df_class_1_under = df_class_1.sample(count_class_2)\n",
    "\n",
    "df_under = pd.concat([df_class_0_under, df_class_1_under, df_class_2], axis=0)\n",
    "df_under = df_under.sample(frac=1)\n",
    "\n",
    "y_under = df_under['식전혈당']\n",
    "\n",
    "print('UnderSampling 적용 전 레이블 값 분포: \\n', pd.Series(y).value_counts())\n",
    "print('UnderSampling 적용 후 레이블 값 분포: \\n', pd.Series(y_under).value_counts())\n",
    "\n",
    "df_under.to_csv(f'{preprocessed_path}/data_preprocessed_under.csv', index=False)"
   ]
  },
  {
   "cell_type": "code",
   "execution_count": null,
   "metadata": {},
   "outputs": [],
   "source": []
  }
 ],
 "metadata": {
  "kernelspec": {
   "display_name": "Python 3",
   "language": "python",
   "name": "python3"
  },
  "language_info": {
   "codemirror_mode": {
    "name": "ipython",
    "version": 3
   },
   "file_extension": ".py",
   "mimetype": "text/x-python",
   "name": "python",
   "nbconvert_exporter": "python",
   "pygments_lexer": "ipython3",
   "version": "3.7.1"
  }
 },
 "nbformat": 4,
 "nbformat_minor": 2
}
