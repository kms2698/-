{
 "cells": [
  {
   "cell_type": "markdown",
   "metadata": {},
   "source": [
    "## 코드"
   ]
  },
  {
   "cell_type": "code",
   "execution_count": 2,
   "metadata": {},
   "outputs": [],
   "source": [
    "import pandas as pd\n",
    "import numpy as np\n",
    "import matplotlib.pyplot as plt\n",
    "import matplotlib as mpl"
   ]
  },
  {
   "cell_type": "code",
   "execution_count": 3,
   "metadata": {},
   "outputs": [],
   "source": [
    "# plt.rc('font', family='NanumGothicOTF') # For MacOS\n",
    "plt.rc('font', family='NanumGothic') # For Windows\n",
    "mpl.rcParams['axes.unicode_minus'] = False\n",
    "pd.set_option('display.max_columns', None)"
   ]
  },
  {
   "cell_type": "code",
   "execution_count": 4,
   "metadata": {},
   "outputs": [],
   "source": [
    "raw_path = './csv/raw'\n",
    "preprocessed_path = './csv/preprocessed'"
   ]
  },
  {
   "cell_type": "code",
   "execution_count": 5,
   "metadata": {},
   "outputs": [],
   "source": [
    "df1 = pd.read_csv(f'{raw_path}/data_2017.csv',engine = 'python')\n",
    "df2 = pd.read_csv(f'{raw_path}/data_2018.csv')"
   ]
  },
  {
   "cell_type": "code",
   "execution_count": 6,
   "metadata": {},
   "outputs": [],
   "source": [
    "frames = [df1, df2]\n",
    "df = pd.concat(frames)\n",
    "df.to_csv(f'{preprocessed_path}/data_1718.csv')"
   ]
  },
  {
   "cell_type": "code",
   "execution_count": 7,
   "metadata": {},
   "outputs": [],
   "source": [
    "df = df.rename(columns={\"연령대코드(5세단위)\":\"연령대 코드\", \n",
    "                        \"신장(5Cm단위)\":\"신장\", \n",
    "                        \"체중(5Kg단위)\":\"체중\",\n",
    "                        \"식전혈당(공복혈당)\":\"식전혈당\",\n",
    "                        \"(혈청지오티)AST\":\"AST\",\n",
    "                        \"(혈청지오티)ALT\":\"ALT\",})"
   ]
  },
  {
   "cell_type": "code",
   "execution_count": 8,
   "metadata": {},
   "outputs": [],
   "source": [
    "df = df.drop(['기준년도', '가입자일련번호','시도코드', '시력(좌)', '시력(우)', '청력(좌)', '청력(우)','구강검진수검여부',\n",
    "       '치아우식증유무', '결손치유무', '치아마모증유무', '제3대구치(사랑니)이상', '치석', '데이터공개일자'], axis = 1)"
   ]
  },
  {
   "cell_type": "markdown",
   "metadata": {},
   "source": [
    "## null 값 정리"
   ]
  },
  {
   "cell_type": "code",
   "execution_count": 9,
   "metadata": {},
   "outputs": [
    {
     "data": {
      "text/plain": [
       "성별코드             0\n",
       "연령대 코드           0\n",
       "신장               0\n",
       "체중               0\n",
       "허리둘레           680\n",
       "수축기혈압         5749\n",
       "이완기혈압         5748\n",
       "식전혈당          5957\n",
       "총콜레스테롤      667287\n",
       "트리글리세라이드    667297\n",
       "HDL콜레스테롤    667298\n",
       "LDL콜레스테롤    677034\n",
       "혈색소           5966\n",
       "요단백          15162\n",
       "혈청크레아티닌       5949\n",
       "AST           5947\n",
       "ALT           5948\n",
       "감마지티피         5951\n",
       "흡연상태           378\n",
       "음주여부        355479\n",
       "dtype: int64"
      ]
     },
     "execution_count": 9,
     "metadata": {},
     "output_type": "execute_result"
    }
   ],
   "source": [
    "df.isnull().sum()"
   ]
  },
  {
   "cell_type": "code",
   "execution_count": 10,
   "metadata": {},
   "outputs": [],
   "source": [
    "df.drop(df[df['AST'] == 9999].index, inplace=True)\n",
    "df.drop(df[df['감마지티피'] == 999].index, inplace=True)\n",
    "df.loc[df['음주여부'].isnull(), '음주여부'] = 0"
   ]
  },
  {
   "cell_type": "markdown",
   "metadata": {},
   "source": [
    "## 혈당에 따른 당뇨여부  "
   ]
  },
  {
   "cell_type": "code",
   "execution_count": 11,
   "metadata": {},
   "outputs": [],
   "source": [
    "#식전혈당이 없을 시 드랍\n",
    "df = df.loc[df['식전혈당'].notnull()]\n",
    "\n",
    "#당뇨병: 공복 혈당치 126 mg/dL 이상 당뇨병의 전단계: 공복 혈당치 100 mg/dL 이상\n",
    "#저혈당: 혈당치 126 mg/dL 미만\n",
    "df.loc[df['식전혈당'] < 100, '식전혈당'] = 0\n",
    "df.loc[(df['식전혈당'] >= 100) & (df['식전혈당'] < 126), '식전혈당'] = 1\n",
    "df.loc[df['식전혈당'] >= 126, '식전혈당'] = 2"
   ]
  },
  {
   "cell_type": "markdown",
   "metadata": {},
   "source": [
    "## 복부비만"
   ]
  },
  {
   "cell_type": "code",
   "execution_count": 12,
   "metadata": {},
   "outputs": [],
   "source": [
    "#비정상적인 값 배제\n",
    "df = df.loc[df['허리둘레']<140]\n",
    "df = df.loc[df['허리둘레']>40]\n",
    "\n",
    "#국내의 복부비만 기준은 남자는 90cm 이상, 여자의 경우 85cm 이상\n",
    "df_obesity = df[['허리둘레','성별코드']].copy()\n",
    "\n",
    "df_obesity.loc[(df_obesity['허리둘레']>= 90) & (df_obesity['성별코드']==1), '복부비만'] = 1\n",
    "df_obesity.loc[(df_obesity['허리둘레']>= 85) & (df_obesity['성별코드']==2), '복부비만'] = 1\n",
    "df_obesity['복부비만'] = df_obesity['복부비만'].fillna(0)\n",
    "\n",
    "df['복부비만'] = df_obesity['복부비만']"
   ]
  },
  {
   "cell_type": "markdown",
   "metadata": {},
   "source": [
    "## BMI"
   ]
  },
  {
   "cell_type": "code",
   "execution_count": 13,
   "metadata": {
    "scrolled": true
   },
   "outputs": [],
   "source": [
    "df_weight = df[['신장', '체중']].copy()\n",
    "\n",
    "#체중(kg)을 신장(m)의 제곱으로 나눈 값(체중(kg)/신장(m2))\n",
    "temp = df_weight['신장']/100\n",
    "df_bmi = round(df_weight['체중'] / (temp * temp), 1)\n",
    "\n",
    "#세계보건기구 아시아태평양지역과 대한비만학회\n",
    "#BMI < 25 kg/m2 : 저체중+정상 0\n",
    "#BMI ≥ 25 kg/m2 : 과체중 1\n",
    "#BMI ≥ 30 kg/m2 : 비만 2\n",
    "df_bmi.loc[df_bmi < 25] = 0\n",
    "df_bmi.loc[(df_bmi >= 25) & (df_bmi < 30)] = 1\n",
    "df_bmi.loc[df_bmi >= 30] = 2\n",
    "\n",
    "df['비만여부'] = df_bmi\n",
    "\n",
    "df = df.drop(['체중', '신장'], axis = 1)"
   ]
  },
  {
   "cell_type": "markdown",
   "metadata": {},
   "source": [
    "## 고혈압"
   ]
  },
  {
   "cell_type": "code",
   "execution_count": 14,
   "metadata": {},
   "outputs": [],
   "source": [
    "df_pressure = df[['이완기혈압', '수축기혈압']].copy()\n",
    "\n",
    "# 정상: 0 / 120~139/80~89 전단계: 1/  140~159/90~99 1기:2 / 160/100 2기:3\n",
    "df_pressure.loc[(df_pressure['수축기혈압'] < 120) & (df_pressure['이완기혈압'] < 80), '고혈압 여부'] = 0\n",
    "df_pressure.loc[((df_pressure['수축기혈압'] >= 120) & (df_pressure['수축기혈압'] < 140))|\n",
    "                ((df_pressure['이완기혈압'] >= 80) & (df_pressure['이완기혈압'] < 90)), '고혈압 여부'] = 1\n",
    "df_pressure.loc[((df_pressure['수축기혈압'] >= 140) & (df_pressure['수축기혈압'] < 160))|\n",
    "                ((df_pressure['이완기혈압'] >= 90) & (df_pressure['이완기혈압'] < 99)), '고혈압 여부'] = 2\n",
    "df_pressure.loc[(df_pressure['수축기혈압'] >=160) | (df_pressure['이완기혈압'] >= 100), '고혈압 여부'] = 3\n",
    "\n",
    "df['고혈압'] = df_pressure['고혈압 여부']\n",
    "df = df.drop(['수축기혈압', '이완기혈압'], axis = 1)"
   ]
  },
  {
   "cell_type": "markdown",
   "metadata": {},
   "source": [
    "## 최종"
   ]
  },
  {
   "cell_type": "code",
   "execution_count": 15,
   "metadata": {},
   "outputs": [],
   "source": [
    "df.to_csv(f'{preprocessed_path}/data_preprocessed_with_na.csv', index=False)"
   ]
  },
  {
   "cell_type": "code",
   "execution_count": 16,
   "metadata": {},
   "outputs": [],
   "source": [
    "df = df.dropna(axis = 0, how='any')\n",
    "\n",
    "df_without_cholesterol = df.drop(['HDL콜레스테롤', 'LDL콜레스테롤', '트리글리세라이드', '총콜레스테롤'], axis = 1)\n",
    "df.to_csv(f'{preprocessed_path}/data_preprocessed_without_cholesterol.csv', index=False)"
   ]
  },
  {
   "cell_type": "code",
   "execution_count": 17,
   "metadata": {},
   "outputs": [],
   "source": [
    "weight = 0.1\n",
    "invalid_cholesterol_idx = []\n",
    "for index, row in df.iterrows():\n",
    "    calculated = row['HDL콜레스테롤'] + row['LDL콜레스테롤'] + (row['트리글리세라이드']/5)\n",
    "    total = row['총콜레스테롤']\n",
    "    if (total < (1 - weight) * calculated or (1 + weight) * calculated < total):\n",
    "        invalid_cholesterol_idx.append(index)\n",
    "        \n",
    "df = df.drop(invalid_cholesterol_idx)"
   ]
  },
  {
   "cell_type": "code",
   "execution_count": 18,
   "metadata": {},
   "outputs": [],
   "source": [
    "df.to_csv(f'{preprocessed_path}/data_preprocessed.csv', index=False)"
   ]
  },
  {
   "cell_type": "code",
   "execution_count": 19,
   "metadata": {},
   "outputs": [
    {
     "data": {
      "text/html": [
       "<div>\n",
       "<style scoped>\n",
       "    .dataframe tbody tr th:only-of-type {\n",
       "        vertical-align: middle;\n",
       "    }\n",
       "\n",
       "    .dataframe tbody tr th {\n",
       "        vertical-align: top;\n",
       "    }\n",
       "\n",
       "    .dataframe thead th {\n",
       "        text-align: right;\n",
       "    }\n",
       "</style>\n",
       "<table border=\"1\" class=\"dataframe\">\n",
       "  <thead>\n",
       "    <tr style=\"text-align: right;\">\n",
       "      <th></th>\n",
       "      <th>성별코드</th>\n",
       "      <th>연령대 코드</th>\n",
       "      <th>허리둘레</th>\n",
       "      <th>식전혈당</th>\n",
       "      <th>총콜레스테롤</th>\n",
       "      <th>트리글리세라이드</th>\n",
       "      <th>HDL콜레스테롤</th>\n",
       "      <th>LDL콜레스테롤</th>\n",
       "      <th>혈색소</th>\n",
       "      <th>요단백</th>\n",
       "      <th>혈청크레아티닌</th>\n",
       "      <th>AST</th>\n",
       "      <th>ALT</th>\n",
       "      <th>감마지티피</th>\n",
       "      <th>흡연상태</th>\n",
       "      <th>음주여부</th>\n",
       "      <th>복부비만</th>\n",
       "      <th>비만여부</th>\n",
       "      <th>고혈압</th>\n",
       "    </tr>\n",
       "  </thead>\n",
       "  <tbody>\n",
       "    <tr>\n",
       "      <th>0</th>\n",
       "      <td>1</td>\n",
       "      <td>8</td>\n",
       "      <td>90.0</td>\n",
       "      <td>0.0</td>\n",
       "      <td>193.0</td>\n",
       "      <td>92.0</td>\n",
       "      <td>48.0</td>\n",
       "      <td>126.0</td>\n",
       "      <td>17.1</td>\n",
       "      <td>1.0</td>\n",
       "      <td>1.0</td>\n",
       "      <td>21.0</td>\n",
       "      <td>35.0</td>\n",
       "      <td>40.0</td>\n",
       "      <td>1.0</td>\n",
       "      <td>1.0</td>\n",
       "      <td>1.0</td>\n",
       "      <td>1.0</td>\n",
       "      <td>1.0</td>\n",
       "    </tr>\n",
       "    <tr>\n",
       "      <th>1</th>\n",
       "      <td>1</td>\n",
       "      <td>7</td>\n",
       "      <td>89.0</td>\n",
       "      <td>1.0</td>\n",
       "      <td>228.0</td>\n",
       "      <td>121.0</td>\n",
       "      <td>55.0</td>\n",
       "      <td>148.0</td>\n",
       "      <td>15.8</td>\n",
       "      <td>1.0</td>\n",
       "      <td>0.9</td>\n",
       "      <td>20.0</td>\n",
       "      <td>36.0</td>\n",
       "      <td>27.0</td>\n",
       "      <td>3.0</td>\n",
       "      <td>0.0</td>\n",
       "      <td>0.0</td>\n",
       "      <td>0.0</td>\n",
       "      <td>1.0</td>\n",
       "    </tr>\n",
       "    <tr>\n",
       "      <th>2</th>\n",
       "      <td>1</td>\n",
       "      <td>9</td>\n",
       "      <td>91.0</td>\n",
       "      <td>0.0</td>\n",
       "      <td>136.0</td>\n",
       "      <td>104.0</td>\n",
       "      <td>41.0</td>\n",
       "      <td>74.0</td>\n",
       "      <td>15.8</td>\n",
       "      <td>1.0</td>\n",
       "      <td>0.9</td>\n",
       "      <td>47.0</td>\n",
       "      <td>32.0</td>\n",
       "      <td>68.0</td>\n",
       "      <td>1.0</td>\n",
       "      <td>0.0</td>\n",
       "      <td>1.0</td>\n",
       "      <td>1.0</td>\n",
       "      <td>1.0</td>\n",
       "    </tr>\n",
       "    <tr>\n",
       "      <th>3</th>\n",
       "      <td>1</td>\n",
       "      <td>11</td>\n",
       "      <td>91.0</td>\n",
       "      <td>0.0</td>\n",
       "      <td>201.0</td>\n",
       "      <td>106.0</td>\n",
       "      <td>76.0</td>\n",
       "      <td>104.0</td>\n",
       "      <td>17.6</td>\n",
       "      <td>1.0</td>\n",
       "      <td>1.1</td>\n",
       "      <td>29.0</td>\n",
       "      <td>34.0</td>\n",
       "      <td>18.0</td>\n",
       "      <td>1.0</td>\n",
       "      <td>0.0</td>\n",
       "      <td>1.0</td>\n",
       "      <td>1.0</td>\n",
       "      <td>2.0</td>\n",
       "    </tr>\n",
       "    <tr>\n",
       "      <th>4</th>\n",
       "      <td>1</td>\n",
       "      <td>11</td>\n",
       "      <td>80.0</td>\n",
       "      <td>1.0</td>\n",
       "      <td>199.0</td>\n",
       "      <td>104.0</td>\n",
       "      <td>61.0</td>\n",
       "      <td>117.0</td>\n",
       "      <td>13.8</td>\n",
       "      <td>1.0</td>\n",
       "      <td>0.8</td>\n",
       "      <td>19.0</td>\n",
       "      <td>12.0</td>\n",
       "      <td>25.0</td>\n",
       "      <td>1.0</td>\n",
       "      <td>0.0</td>\n",
       "      <td>0.0</td>\n",
       "      <td>0.0</td>\n",
       "      <td>1.0</td>\n",
       "    </tr>\n",
       "  </tbody>\n",
       "</table>\n",
       "</div>"
      ],
      "text/plain": [
       "   성별코드  연령대 코드  허리둘레  식전혈당  총콜레스테롤  트리글리세라이드  HDL콜레스테롤  LDL콜레스테롤   혈색소  요단백  \\\n",
       "0     1       8  90.0   0.0   193.0      92.0      48.0     126.0  17.1  1.0   \n",
       "1     1       7  89.0   1.0   228.0     121.0      55.0     148.0  15.8  1.0   \n",
       "2     1       9  91.0   0.0   136.0     104.0      41.0      74.0  15.8  1.0   \n",
       "3     1      11  91.0   0.0   201.0     106.0      76.0     104.0  17.6  1.0   \n",
       "4     1      11  80.0   1.0   199.0     104.0      61.0     117.0  13.8  1.0   \n",
       "\n",
       "   혈청크레아티닌   AST   ALT  감마지티피  흡연상태  음주여부  복부비만  비만여부  고혈압  \n",
       "0      1.0  21.0  35.0   40.0   1.0   1.0   1.0   1.0  1.0  \n",
       "1      0.9  20.0  36.0   27.0   3.0   0.0   0.0   0.0  1.0  \n",
       "2      0.9  47.0  32.0   68.0   1.0   0.0   1.0   1.0  1.0  \n",
       "3      1.1  29.0  34.0   18.0   1.0   0.0   1.0   1.0  2.0  \n",
       "4      0.8  19.0  12.0   25.0   1.0   0.0   0.0   0.0  1.0  "
      ]
     },
     "execution_count": 19,
     "metadata": {},
     "output_type": "execute_result"
    }
   ],
   "source": [
    "df.head()"
   ]
  }
 ],
 "metadata": {
  "kernelspec": {
   "display_name": "Python 3",
   "language": "python",
   "name": "python3"
  },
  "language_info": {
   "codemirror_mode": {
    "name": "ipython",
    "version": 3
   },
   "file_extension": ".py",
   "mimetype": "text/x-python",
   "name": "python",
   "nbconvert_exporter": "python",
   "pygments_lexer": "ipython3",
   "version": "3.7.1"
  }
 },
 "nbformat": 4,
 "nbformat_minor": 2
}
