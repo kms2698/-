{
 "cells": [
  {
   "cell_type": "code",
   "execution_count": 1,
   "id": "30835af4",
   "metadata": {},
   "outputs": [],
   "source": [
    "import numpy as np\n",
    "import pandas as pd\n",
    "import matplotlib.pyplot as plt\n",
    "import seaborn as sns\n",
    "\n",
    "plt.rcParams['font.family'] = 'AppleGothic'"
   ]
  },
  {
   "cell_type": "code",
   "execution_count": 2,
   "id": "dead98af",
   "metadata": {},
   "outputs": [],
   "source": [
    "df1 = pd.read_csv('NHIS_OPEN_GJ_2018_100.csv')"
   ]
  },
  {
   "cell_type": "code",
   "execution_count": 3,
   "id": "4c8b50af",
   "metadata": {},
   "outputs": [],
   "source": [
    "df1 = df1[['성별코드', '연령대코드(5세단위)', '신장(5Cm단위)', '체중(5Kg단위)', '허리둘레', \n",
    "              '수축기혈압','이완기혈압', '식전혈당(공복혈당)']].copy()"
   ]
  },
  {
   "cell_type": "code",
   "execution_count": 4,
   "id": "c866d28e",
   "metadata": {},
   "outputs": [],
   "source": [
    "df1 = df1.rename(columns={\"연령대코드(5세단위)\":\"연령대코드\",\n",
    "                         \"신장(5Cm단위)\":\"신장\",\n",
    "                         \"체중(5Kg단위)\":\"체중\",\n",
    "                         \"식전혈당(공복혈당)\":\"식전혈당\"})"
   ]
  },
  {
   "cell_type": "code",
   "execution_count": 5,
   "id": "455b48ea",
   "metadata": {},
   "outputs": [
    {
     "data": {
      "text/html": [
       "<div>\n",
       "<style scoped>\n",
       "    .dataframe tbody tr th:only-of-type {\n",
       "        vertical-align: middle;\n",
       "    }\n",
       "\n",
       "    .dataframe tbody tr th {\n",
       "        vertical-align: top;\n",
       "    }\n",
       "\n",
       "    .dataframe thead th {\n",
       "        text-align: right;\n",
       "    }\n",
       "</style>\n",
       "<table border=\"1\" class=\"dataframe\">\n",
       "  <thead>\n",
       "    <tr style=\"text-align: right;\">\n",
       "      <th></th>\n",
       "      <th>성별코드</th>\n",
       "      <th>연령대코드</th>\n",
       "      <th>신장</th>\n",
       "      <th>체중</th>\n",
       "      <th>허리둘레</th>\n",
       "      <th>수축기혈압</th>\n",
       "      <th>이완기혈압</th>\n",
       "      <th>식전혈당</th>\n",
       "    </tr>\n",
       "  </thead>\n",
       "  <tbody>\n",
       "    <tr>\n",
       "      <th>0</th>\n",
       "      <td>2</td>\n",
       "      <td>7</td>\n",
       "      <td>160</td>\n",
       "      <td>60</td>\n",
       "      <td>79.5</td>\n",
       "      <td>110.0</td>\n",
       "      <td>60.0</td>\n",
       "      <td>96.0</td>\n",
       "    </tr>\n",
       "    <tr>\n",
       "      <th>1</th>\n",
       "      <td>1</td>\n",
       "      <td>6</td>\n",
       "      <td>170</td>\n",
       "      <td>55</td>\n",
       "      <td>69.3</td>\n",
       "      <td>128.0</td>\n",
       "      <td>78.0</td>\n",
       "      <td>79.0</td>\n",
       "    </tr>\n",
       "    <tr>\n",
       "      <th>2</th>\n",
       "      <td>1</td>\n",
       "      <td>12</td>\n",
       "      <td>165</td>\n",
       "      <td>70</td>\n",
       "      <td>85.0</td>\n",
       "      <td>128.0</td>\n",
       "      <td>65.0</td>\n",
       "      <td>80.0</td>\n",
       "    </tr>\n",
       "    <tr>\n",
       "      <th>3</th>\n",
       "      <td>2</td>\n",
       "      <td>15</td>\n",
       "      <td>150</td>\n",
       "      <td>45</td>\n",
       "      <td>71.5</td>\n",
       "      <td>151.0</td>\n",
       "      <td>89.0</td>\n",
       "      <td>100.0</td>\n",
       "    </tr>\n",
       "    <tr>\n",
       "      <th>4</th>\n",
       "      <td>2</td>\n",
       "      <td>14</td>\n",
       "      <td>145</td>\n",
       "      <td>50</td>\n",
       "      <td>77.0</td>\n",
       "      <td>114.0</td>\n",
       "      <td>62.0</td>\n",
       "      <td>124.0</td>\n",
       "    </tr>\n",
       "  </tbody>\n",
       "</table>\n",
       "</div>"
      ],
      "text/plain": [
       "   성별코드  연령대코드   신장  체중  허리둘레  수축기혈압  이완기혈압   식전혈당\n",
       "0     2      7  160  60  79.5  110.0   60.0   96.0\n",
       "1     1      6  170  55  69.3  128.0   78.0   79.0\n",
       "2     1     12  165  70  85.0  128.0   65.0   80.0\n",
       "3     2     15  150  45  71.5  151.0   89.0  100.0\n",
       "4     2     14  145  50  77.0  114.0   62.0  124.0"
      ]
     },
     "execution_count": 5,
     "metadata": {},
     "output_type": "execute_result"
    }
   ],
   "source": [
    "df1.head()"
   ]
  },
  {
   "cell_type": "code",
   "execution_count": 6,
   "id": "2b558301",
   "metadata": {},
   "outputs": [
    {
     "data": {
      "text/plain": [
       "(1000000, 8)"
      ]
     },
     "execution_count": 6,
     "metadata": {},
     "output_type": "execute_result"
    }
   ],
   "source": [
    "df1.shape"
   ]
  },
  {
   "cell_type": "code",
   "execution_count": 7,
   "id": "50a48f4c",
   "metadata": {},
   "outputs": [
    {
     "data": {
      "text/plain": [
       "성별코드        0\n",
       "연령대코드       0\n",
       "신장          0\n",
       "체중          0\n",
       "허리둘레      414\n",
       "수축기혈압    5730\n",
       "이완기혈압    5730\n",
       "식전혈당     5915\n",
       "dtype: int64"
      ]
     },
     "execution_count": 7,
     "metadata": {},
     "output_type": "execute_result"
    }
   ],
   "source": [
    "df1.isnull().sum()"
   ]
  },
  {
   "cell_type": "code",
   "execution_count": 8,
   "id": "1d02492c",
   "metadata": {},
   "outputs": [],
   "source": [
    "df1 = df1.dropna(how=\"any\").copy()"
   ]
  },
  {
   "cell_type": "code",
   "execution_count": 9,
   "id": "a60ec036",
   "metadata": {},
   "outputs": [
    {
     "data": {
      "text/plain": [
       "(993663, 8)"
      ]
     },
     "execution_count": 9,
     "metadata": {},
     "output_type": "execute_result"
    }
   ],
   "source": [
    "df1.shape"
   ]
  },
  {
   "cell_type": "code",
   "execution_count": 10,
   "id": "9dd267e7",
   "metadata": {},
   "outputs": [
    {
     "data": {
      "text/plain": [
       "성별코드     0\n",
       "연령대코드    0\n",
       "신장       0\n",
       "체중       0\n",
       "허리둘레     0\n",
       "수축기혈압    0\n",
       "이완기혈압    0\n",
       "식전혈당     0\n",
       "dtype: int64"
      ]
     },
     "execution_count": 10,
     "metadata": {},
     "output_type": "execute_result"
    }
   ],
   "source": [
    "df1.isnull().sum()"
   ]
  },
  {
   "cell_type": "code",
   "execution_count": 11,
   "id": "7341ad8f",
   "metadata": {},
   "outputs": [],
   "source": [
    "df1 = df1.loc[df1['허리둘레'] < 140]\n",
    "df1 = df1.loc[df1['허리둘레'] > 40]"
   ]
  },
  {
   "cell_type": "code",
   "execution_count": 12,
   "id": "62f49a1c",
   "metadata": {
    "scrolled": true
   },
   "outputs": [
    {
     "data": {
      "text/plain": [
       "(993641, 8)"
      ]
     },
     "execution_count": 12,
     "metadata": {},
     "output_type": "execute_result"
    }
   ],
   "source": [
    "df1.shape"
   ]
  },
  {
   "cell_type": "code",
   "execution_count": 13,
   "id": "ace2414e",
   "metadata": {},
   "outputs": [],
   "source": [
    "def draw_plot(column):\n",
    "    sns.countplot(data=df1, x = column, palette='light:#5A9')\n",
    "    plt.title(column)\n",
    "    plt.show()"
   ]
  },
  {
   "cell_type": "code",
   "execution_count": 14,
   "id": "3e65aeab",
   "metadata": {},
   "outputs": [],
   "source": [
    "df1_bp = df1[['수축기혈압', '이완기혈압']].copy()"
   ]
  },
  {
   "cell_type": "code",
   "execution_count": 15,
   "id": "b5a9d18b",
   "metadata": {},
   "outputs": [],
   "source": [
    "df1_bp.loc[(df1_bp['수축기혈압'] < 120) | (df1_bp['이완기혈압'] < 80), '고혈압'] = 0 # 정상\n",
    "df1_bp.loc[((df1_bp['수축기혈압'] >= 120) & (df1_bp['수축기혈압'] < 140)) \n",
    "           | ((df1_bp['이완기혈압'] >= 80) & (df1_bp['이완기혈압'] < 90)), '고혈압'] = 1 # 전단계\n",
    "df1_bp.loc[((df1_bp['수축기혈압'] >= 140) & (df1_bp['수축기혈압'] < 160)) \n",
    "           | ((df1_bp['이완기혈압'] >= 80) & (df1_bp['이완기혈압'] < 90)), '고혈압'] = 2 # 1기\n",
    "df1_bp.loc[(df1_bp['수축기혈압'] >= 160) | (df1_bp['이완기혈압'] >= 100), '고혈압'] = 3 # 2기"
   ]
  },
  {
   "cell_type": "code",
   "execution_count": 16,
   "id": "0222e918",
   "metadata": {},
   "outputs": [],
   "source": [
    "df1['고혈압'] = df1_bp['고혈압']"
   ]
  },
  {
   "cell_type": "code",
   "execution_count": 17,
   "id": "ccc34284",
   "metadata": {
    "scrolled": true
   },
   "outputs": [
    {
     "data": {
      "text/plain": [
       "0         0.0\n",
       "1         1.0\n",
       "2         1.0\n",
       "3         2.0\n",
       "4         0.0\n",
       "         ... \n",
       "999995    0.0\n",
       "999996    2.0\n",
       "999997    3.0\n",
       "999998    2.0\n",
       "999999    2.0\n",
       "Name: 고혈압, Length: 993641, dtype: float64"
      ]
     },
     "execution_count": 17,
     "metadata": {},
     "output_type": "execute_result"
    }
   ],
   "source": [
    "df1['고혈압']"
   ]
  },
  {
   "cell_type": "code",
   "execution_count": 18,
   "id": "13872fd0",
   "metadata": {},
   "outputs": [
    {
     "data": {
      "image/png": "[encoded data removed]",
      "text/plain": [
       "<Figure size 432x288 with 1 Axes>"
      ]
     },
     "metadata": {
      "needs_background": "light"
     },
     "output_type": "display_data"
    }
   ],
   "source": [
    "draw_plot('고혈압')"
   ]
  },
  {
   "cell_type": "code",
   "execution_count": 19,
   "id": "49720755",
   "metadata": {},
   "outputs": [],
   "source": [
    "df1_Ao = df1[['성별코드', '허리둘레']].copy()"
   ]
  },
  {
   "cell_type": "code",
   "execution_count": 20,
   "id": "0c8ba707",
   "metadata": {},
   "outputs": [],
   "source": [
    "df1_Ao.loc[(df1_Ao['성별코드'] == 1) & (df1_Ao['허리둘레'] >= 90), '복부비만'] = 1 # 복부비만\n",
    "df1_Ao.loc[(df1_Ao['성별코드'] == 2) & (df1_Ao['허리둘레'] >= 85), '복부비만'] = 1\n",
    "df1_Ao.loc[(df1_Ao['성별코드'] == 1) & (df1_Ao['허리둘레'] < 90), '복부비만'] = 0 # 정상\n",
    "df1_Ao.loc[(df1_Ao['성별코드'] == 2) & (df1_Ao['허리둘레'] < 85), '복부비만'] = 0"
   ]
  },
  {
   "cell_type": "code",
   "execution_count": 21,
   "id": "e15b237d",
   "metadata": {},
   "outputs": [],
   "source": [
    "df1['복부비만'] = df1_Ao['복부비만']"
   ]
  },
  {
   "cell_type": "code",
   "execution_count": 22,
   "id": "93815b82",
   "metadata": {
    "scrolled": true
   },
   "outputs": [
    {
     "data": {
      "text/plain": [
       "0         0.0\n",
       "1         0.0\n",
       "2         0.0\n",
       "3         0.0\n",
       "4         0.0\n",
       "         ... \n",
       "999995    0.0\n",
       "999996    0.0\n",
       "999997    0.0\n",
       "999998    0.0\n",
       "999999    0.0\n",
       "Name: 복부비만, Length: 993641, dtype: float64"
      ]
     },
     "execution_count": 22,
     "metadata": {},
     "output_type": "execute_result"
    }
   ],
   "source": [
    "df1['복부비만']"
   ]
  },
  {
   "cell_type": "code",
   "execution_count": 23,
   "id": "cd743c0d",
   "metadata": {},
   "outputs": [
    {
     "data": {
      "image/png": "[encoded data removed]",
      "text/plain": [
       "<Figure size 432x288 with 1 Axes>"
      ]
     },
     "metadata": {
      "needs_background": "light"
     },
     "output_type": "display_data"
    }
   ],
   "source": [
    "draw_plot('복부비만')"
   ]
  },
  {
   "cell_type": "code",
   "execution_count": 24,
   "id": "f72ae802",
   "metadata": {},
   "outputs": [],
   "source": [
    "df_weight = df1[['신장', '체중']].copy()"
   ]
  },
  {
   "cell_type": "code",
   "execution_count": 25,
   "id": "39887b3c",
   "metadata": {},
   "outputs": [],
   "source": [
    "temp = df_weight['신장']/100\n",
    "df_bmi = round(df_weight['체중'] / (temp * temp), 1)\n",
    "df_bmi2 = df_bmi.copy()\n",
    "df_bmi.loc[df_bmi < 25] = 0\n",
    "df_bmi.loc[(df_bmi >= 25) & (df_bmi < 30)] = 1\n",
    "df_bmi.loc[df_bmi >= 30] = 2"
   ]
  },
  {
   "cell_type": "code",
   "execution_count": 26,
   "id": "435ae589",
   "metadata": {},
   "outputs": [],
   "source": [
    "df1['BMI지수'] = df_bmi2\n",
    "df1['BMI'] = df_bmi\n",
    "df1 = df1.drop(['체중', '신장'], axis = 1)"
   ]
  },
  {
   "cell_type": "code",
   "execution_count": 27,
   "id": "1b152640",
   "metadata": {},
   "outputs": [
    {
     "data": {
      "text/plain": [
       "0         0.0\n",
       "1         0.0\n",
       "2         1.0\n",
       "3         0.0\n",
       "4         0.0\n",
       "         ... \n",
       "999995    1.0\n",
       "999996    1.0\n",
       "999997    1.0\n",
       "999998    1.0\n",
       "999999    0.0\n",
       "Name: BMI, Length: 993641, dtype: float64"
      ]
     },
     "execution_count": 27,
     "metadata": {},
     "output_type": "execute_result"
    }
   ],
   "source": [
    "df1['BMI']"
   ]
  },
  {
   "cell_type": "code",
   "execution_count": 28,
   "id": "9e0e5018",
   "metadata": {},
   "outputs": [
    {
     "data": {
      "image/png": "[encoded data removed]",
      "text/plain": [
       "<Figure size 432x288 with 1 Axes>"
      ]
     },
     "metadata": {
      "needs_background": "light"
     },
     "output_type": "display_data"
    }
   ],
   "source": [
    "draw_plot('BMI')"
   ]
  },
  {
   "cell_type": "code",
   "execution_count": 29,
   "id": "62645ca5",
   "metadata": {},
   "outputs": [],
   "source": [
    "df_di = df1['식전혈당'].copy()"
   ]
  },
  {
   "cell_type": "code",
   "execution_count": 30,
   "id": "50f74be5",
   "metadata": {},
   "outputs": [],
   "source": [
    "df_di.loc[(df_di < 100)] = 0 # 정상\n",
    "df_di.loc[((df_di >= 100) & (df_di < 126))] = 1 # 전단계\n",
    "df_di.loc[df_di >= 126] = 2 # 당뇨"
   ]
  },
  {
   "cell_type": "code",
   "execution_count": 31,
   "id": "845d44df",
   "metadata": {},
   "outputs": [],
   "source": [
    "df1['당뇨여부'] = df_di"
   ]
  },
  {
   "cell_type": "code",
   "execution_count": 32,
   "id": "4e4b9c95",
   "metadata": {},
   "outputs": [
    {
     "data": {
      "text/plain": [
       "0         0.0\n",
       "1         0.0\n",
       "2         0.0\n",
       "3         1.0\n",
       "4         1.0\n",
       "         ... \n",
       "999995    1.0\n",
       "999996    1.0\n",
       "999997    0.0\n",
       "999998    0.0\n",
       "999999    0.0\n",
       "Name: 당뇨여부, Length: 993641, dtype: float64"
      ]
     },
     "execution_count": 32,
     "metadata": {},
     "output_type": "execute_result"
    }
   ],
   "source": [
    "df1['당뇨여부']"
   ]
  },
  {
   "cell_type": "code",
   "execution_count": 33,
   "id": "e0ab1445",
   "metadata": {},
   "outputs": [
    {
     "data": {
      "image/png": "[encoded data removed]",
      "text/plain": [
       "<Figure size 432x288 with 1 Axes>"
      ]
     },
     "metadata": {
      "needs_background": "light"
     },
     "output_type": "display_data"
    }
   ],
   "source": [
    "draw_plot('당뇨여부')"
   ]
  },
  {
   "cell_type": "code",
   "execution_count": 34,
   "id": "9fd4c7ae",
   "metadata": {},
   "outputs": [
    {
     "data": {
      "text/html": [
       "<div>\n",
       "<style scoped>\n",
       "    .dataframe tbody tr th:only-of-type {\n",
       "        vertical-align: middle;\n",
       "    }\n",
       "\n",
       "    .dataframe tbody tr th {\n",
       "        vertical-align: top;\n",
       "    }\n",
       "\n",
       "    .dataframe thead th {\n",
       "        text-align: right;\n",
       "    }\n",
       "</style>\n",
       "<table border=\"1\" class=\"dataframe\">\n",
       "  <thead>\n",
       "    <tr style=\"text-align: right;\">\n",
       "      <th></th>\n",
       "      <th>성별코드</th>\n",
       "      <th>연령대코드</th>\n",
       "      <th>허리둘레</th>\n",
       "      <th>수축기혈압</th>\n",
       "      <th>이완기혈압</th>\n",
       "      <th>식전혈당</th>\n",
       "      <th>고혈압</th>\n",
       "      <th>복부비만</th>\n",
       "      <th>BMI지수</th>\n",
       "      <th>BMI</th>\n",
       "      <th>당뇨여부</th>\n",
       "    </tr>\n",
       "  </thead>\n",
       "  <tbody>\n",
       "    <tr>\n",
       "      <th>0</th>\n",
       "      <td>2</td>\n",
       "      <td>7</td>\n",
       "      <td>79.5</td>\n",
       "      <td>110.0</td>\n",
       "      <td>60.0</td>\n",
       "      <td>96.0</td>\n",
       "      <td>0.0</td>\n",
       "      <td>0.0</td>\n",
       "      <td>23.4</td>\n",
       "      <td>0.0</td>\n",
       "      <td>0.0</td>\n",
       "    </tr>\n",
       "    <tr>\n",
       "      <th>1</th>\n",
       "      <td>1</td>\n",
       "      <td>6</td>\n",
       "      <td>69.3</td>\n",
       "      <td>128.0</td>\n",
       "      <td>78.0</td>\n",
       "      <td>79.0</td>\n",
       "      <td>1.0</td>\n",
       "      <td>0.0</td>\n",
       "      <td>19.0</td>\n",
       "      <td>0.0</td>\n",
       "      <td>0.0</td>\n",
       "    </tr>\n",
       "    <tr>\n",
       "      <th>2</th>\n",
       "      <td>1</td>\n",
       "      <td>12</td>\n",
       "      <td>85.0</td>\n",
       "      <td>128.0</td>\n",
       "      <td>65.0</td>\n",
       "      <td>80.0</td>\n",
       "      <td>1.0</td>\n",
       "      <td>0.0</td>\n",
       "      <td>25.7</td>\n",
       "      <td>1.0</td>\n",
       "      <td>0.0</td>\n",
       "    </tr>\n",
       "    <tr>\n",
       "      <th>3</th>\n",
       "      <td>2</td>\n",
       "      <td>15</td>\n",
       "      <td>71.5</td>\n",
       "      <td>151.0</td>\n",
       "      <td>89.0</td>\n",
       "      <td>100.0</td>\n",
       "      <td>2.0</td>\n",
       "      <td>0.0</td>\n",
       "      <td>20.0</td>\n",
       "      <td>0.0</td>\n",
       "      <td>1.0</td>\n",
       "    </tr>\n",
       "    <tr>\n",
       "      <th>4</th>\n",
       "      <td>2</td>\n",
       "      <td>14</td>\n",
       "      <td>77.0</td>\n",
       "      <td>114.0</td>\n",
       "      <td>62.0</td>\n",
       "      <td>124.0</td>\n",
       "      <td>0.0</td>\n",
       "      <td>0.0</td>\n",
       "      <td>23.8</td>\n",
       "      <td>0.0</td>\n",
       "      <td>1.0</td>\n",
       "    </tr>\n",
       "  </tbody>\n",
       "</table>\n",
       "</div>"
      ],
      "text/plain": [
       "   성별코드  연령대코드  허리둘레  수축기혈압  이완기혈압   식전혈당  고혈압  복부비만  BMI지수  BMI  당뇨여부\n",
       "0     2      7  79.5  110.0   60.0   96.0  0.0   0.0   23.4  0.0   0.0\n",
       "1     1      6  69.3  128.0   78.0   79.0  1.0   0.0   19.0  0.0   0.0\n",
       "2     1     12  85.0  128.0   65.0   80.0  1.0   0.0   25.7  1.0   0.0\n",
       "3     2     15  71.5  151.0   89.0  100.0  2.0   0.0   20.0  0.0   1.0\n",
       "4     2     14  77.0  114.0   62.0  124.0  0.0   0.0   23.8  0.0   1.0"
      ]
     },
     "execution_count": 34,
     "metadata": {},
     "output_type": "execute_result"
    }
   ],
   "source": [
    "df1.head()"
   ]
  },
  {
   "cell_type": "code",
   "execution_count": 35,
   "id": "2180393f",
   "metadata": {},
   "outputs": [],
   "source": [
    "def Entropy(df, attribute) :\n",
    "    list1  = list(df[attribute].unique())\n",
    "    etp = 0\n",
    "    for i in range(len(list1)):\n",
    "        q1 = len(df[df[attribute] == list1[i]])/len(df[attribute])\n",
    "        etp -=  q1*np.log2(q1)\n",
    "    return etp\n",
    "\n",
    "def Group_info(df,m_attribute,fix_attribute):\n",
    "    list2 = list(df[m_attribute].unique())\n",
    "    info_Entropy = Entropy(df,fix_attribute)\n",
    "    info_data = 0\n",
    "    for i in range (len(list2)) :\n",
    "        q2 = df.loc[df[m_attribute] == list2[i]]\n",
    "        info_data +=  (len(q2[m_attribute])/len(df[m_attribute]))* Entropy(q2,fix_attribute) \n",
    "    \n",
    "    data = info_Entropy - info_data\n",
    "    \n",
    "    return data"
   ]
  },
  {
   "cell_type": "code",
   "execution_count": 36,
   "id": "b0b83927",
   "metadata": {},
   "outputs": [
    {
     "data": {
      "text/plain": [
       "1.2467075779001522"
      ]
     },
     "execution_count": 36,
     "metadata": {},
     "output_type": "execute_result"
    }
   ],
   "source": [
    "Entropy(df1, \"당뇨여부\")"
   ]
  },
  {
   "cell_type": "code",
   "execution_count": 37,
   "id": "bf7c8f84",
   "metadata": {},
   "outputs": [
    {
     "name": "stdout",
     "output_type": "stream",
     "text": [
      "성별코드 : 0.014510195182841468\n",
      "연령대코드 : 0.04840377227039294\n",
      "고혈압 : 0.02639732076510115\n",
      "복부비만 : 0.021518895992977738\n",
      "BMI : 0.02177806519981562\n"
     ]
    }
   ],
   "source": [
    "info = np.array([(\"성별코드\"),(\"연령대코드\"),(\"고혈압\"),(\"복부비만\"),(\"BMI\")])\n",
    "\n",
    "for i in info:\n",
    "    print(i, \":\", Group_info(df1, i, \"당뇨여부\"))"
   ]
  },
  {
   "cell_type": "markdown",
   "id": "68676c0c",
   "metadata": {},
   "source": [
    "훈련데이터 : 993641"
   ]
  },
  {
   "cell_type": "code",
   "execution_count": 38,
   "id": "9a56803a",
   "metadata": {},
   "outputs": [],
   "source": [
    "x = info\n",
    "y = np.zeros(5)\n",
    "for i in range(5):\n",
    "    y[i] = Group_info(df1, x[i], \"당뇨여부\")"
   ]
  },
  {
   "cell_type": "code",
   "execution_count": 39,
   "id": "2f261166",
   "metadata": {},
   "outputs": [],
   "source": [
    "import pyecharts"
   ]
  },
  {
   "cell_type": "code",
   "execution_count": 40,
   "id": "7c93bd34",
   "metadata": {},
   "outputs": [
    {
     "data": {
      "text/html": [
       "<script>\n",
       "    require.config({\n",
       "        paths: {\n",
       "            'echarts': '/nbextensions/echarts/echarts.min'\n",
       "        }\n",
       "    });\n",
       "</script>\n",
       "    <div id=\"b7a894944c504283a86070c85879618b\" style=\"width:800px;height:500px;\"></div>\n",
       "\n",
       "\n",
       "<script>\n",
       "    require(['echarts'], function(echarts) {\n",
       "        \n",
       "var myChart_b7a894944c504283a86070c85879618b = echarts.init(document.getElementById('b7a894944c504283a86070c85879618b'), 'light', {renderer: 'canvas'});\n",
       "\n",
       "var option_b7a894944c504283a86070c85879618b = {\n",
       "    \"title\": [\n",
       "        {\n",
       "            \"text\": \"\\uc5d4\\ud2b8\\ub85c\\ud53c \\uc815\\ubcf4\\uc99d\\uac00\\ub7c9\",\n",
       "            \"subtext\": \"\\uc2dc\\uac01\\ud654\",\n",
       "            \"left\": \"auto\",\n",
       "            \"top\": \"auto\",\n",
       "            \"textStyle\": {\n",
       "                \"fontSize\": 18\n",
       "            },\n",
       "            \"subtextStyle\": {\n",
       "                \"fontSize\": 12\n",
       "            }\n",
       "        }\n",
       "    ],\n",
       "    \"toolbox\": {\n",
       "        \"show\": true,\n",
       "        \"orient\": \"vertical\",\n",
       "        \"left\": \"95%\",\n",
       "        \"top\": \"center\",\n",
       "        \"feature\": {\n",
       "            \"saveAsImage\": {\n",
       "                \"show\": true,\n",
       "                \"title\": \"save as image\"\n",
       "            },\n",
       "            \"restore\": {\n",
       "                \"show\": true,\n",
       "                \"title\": \"restore\"\n",
       "            },\n",
       "            \"dataView\": {\n",
       "                \"show\": true,\n",
       "                \"title\": \"data view\"\n",
       "            }\n",
       "        }\n",
       "    },\n",
       "    \"series_id\": 1449339,\n",
       "    \"tooltip\": {\n",
       "        \"trigger\": \"item\",\n",
       "        \"triggerOn\": \"mousemove|click\",\n",
       "        \"axisPointer\": {\n",
       "            \"type\": \"line\"\n",
       "        },\n",
       "        \"textStyle\": {\n",
       "            \"fontSize\": 14\n",
       "        },\n",
       "        \"backgroundColor\": \"rgba(50,50,50,0.7)\",\n",
       "        \"borderColor\": \"#333\",\n",
       "        \"borderWidth\": 0\n",
       "    },\n",
       "    \"series\": [\n",
       "        {\n",
       "            \"type\": \"bar\",\n",
       "            \"name\": \"\\uc815\\ubcf4\\uc99d\\uac00\\ub7c9(IG)\",\n",
       "            \"data\": [\n",
       "                0.014510195182841468,\n",
       "                0.04840377227039294,\n",
       "                0.02639732076510115,\n",
       "                0.021518895992977738,\n",
       "                0.02177806519981562\n",
       "            ],\n",
       "            \"barCategoryGap\": \"20%\",\n",
       "            \"label\": {\n",
       "                \"normal\": {\n",
       "                    \"show\": false,\n",
       "                    \"position\": \"top\",\n",
       "                    \"textStyle\": {\n",
       "                        \"fontSize\": 12\n",
       "                    }\n",
       "                },\n",
       "                \"emphasis\": {\n",
       "                    \"show\": true,\n",
       "                    \"textStyle\": {\n",
       "                        \"fontSize\": 12\n",
       "                    }\n",
       "                }\n",
       "            },\n",
       "            \"markPoint\": {\n",
       "                \"data\": [\n",
       "                    {\n",
       "                        \"type\": \"max\",\n",
       "                        \"name\": \"Maximum\",\n",
       "                        \"symbol\": \"pin\",\n",
       "                        \"symbolSize\": 50,\n",
       "                        \"label\": {\n",
       "                            \"normal\": {\n",
       "                                \"textStyle\": {\n",
       "                                    \"color\": \"#fff\"\n",
       "                                }\n",
       "                            }\n",
       "                        }\n",
       "                    },\n",
       "                    {\n",
       "                        \"type\": \"min\",\n",
       "                        \"name\": \"Minimum\",\n",
       "                        \"symbol\": \"pin\",\n",
       "                        \"symbolSize\": 50,\n",
       "                        \"label\": {\n",
       "                            \"normal\": {\n",
       "                                \"textStyle\": {\n",
       "                                    \"color\": \"#fff\"\n",
       "                                }\n",
       "                            }\n",
       "                        }\n",
       "                    }\n",
       "                ]\n",
       "            },\n",
       "            \"markLine\": {\n",
       "                \"data\": []\n",
       "            },\n",
       "            \"seriesId\": 1449339\n",
       "        }\n",
       "    ],\n",
       "    \"legend\": [\n",
       "        {\n",
       "            \"data\": [\n",
       "                \"\\uc815\\ubcf4\\uc99d\\uac00\\ub7c9(IG)\"\n",
       "            ],\n",
       "            \"selectedMode\": \"multiple\",\n",
       "            \"show\": true,\n",
       "            \"left\": \"center\",\n",
       "            \"top\": \"top\",\n",
       "            \"orient\": \"horizontal\",\n",
       "            \"textStyle\": {\n",
       "                \"fontSize\": 12\n",
       "            }\n",
       "        }\n",
       "    ],\n",
       "    \"animation\": true,\n",
       "    \"xAxis\": [\n",
       "        {\n",
       "            \"show\": true,\n",
       "            \"nameLocation\": \"middle\",\n",
       "            \"nameGap\": 25,\n",
       "            \"nameTextStyle\": {\n",
       "                \"fontSize\": 14\n",
       "            },\n",
       "            \"axisTick\": {\n",
       "                \"alignWithLabel\": false\n",
       "            },\n",
       "            \"inverse\": false,\n",
       "            \"boundaryGap\": true,\n",
       "            \"type\": \"category\",\n",
       "            \"splitLine\": {\n",
       "                \"show\": false\n",
       "            },\n",
       "            \"axisLine\": {\n",
       "                \"lineStyle\": {\n",
       "                    \"width\": 1\n",
       "                }\n",
       "            },\n",
       "            \"axisLabel\": {\n",
       "                \"interval\": \"auto\",\n",
       "                \"rotate\": 0,\n",
       "                \"margin\": 8,\n",
       "                \"textStyle\": {\n",
       "                    \"fontSize\": 12\n",
       "                }\n",
       "            },\n",
       "            \"data\": [\n",
       "                \"\\uc131\\ubcc4\\ucf54\\ub4dc\",\n",
       "                \"\\uc5f0\\ub839\\ub300\\ucf54\\ub4dc\",\n",
       "                \"\\uace0\\ud608\\uc555\",\n",
       "                \"\\ubcf5\\ubd80\\ube44\\ub9cc\",\n",
       "                \"BMI\"\n",
       "            ]\n",
       "        }\n",
       "    ],\n",
       "    \"yAxis\": [\n",
       "        {\n",
       "            \"show\": true,\n",
       "            \"nameLocation\": \"middle\",\n",
       "            \"nameGap\": 25,\n",
       "            \"nameTextStyle\": {\n",
       "                \"fontSize\": 14\n",
       "            },\n",
       "            \"axisTick\": {\n",
       "                \"alignWithLabel\": false\n",
       "            },\n",
       "            \"inverse\": false,\n",
       "            \"boundaryGap\": true,\n",
       "            \"type\": \"value\",\n",
       "            \"splitLine\": {\n",
       "                \"show\": true\n",
       "            },\n",
       "            \"axisLine\": {\n",
       "                \"lineStyle\": {\n",
       "                    \"width\": 1\n",
       "                }\n",
       "            },\n",
       "            \"axisLabel\": {\n",
       "                \"interval\": \"auto\",\n",
       "                \"formatter\": \"{value} \",\n",
       "                \"rotate\": 0,\n",
       "                \"margin\": 8,\n",
       "                \"textStyle\": {\n",
       "                    \"fontSize\": 12\n",
       "                }\n",
       "            }\n",
       "        }\n",
       "    ],\n",
       "    \"color\": [\n",
       "        \"#c23531\",\n",
       "        \"#2f4554\",\n",
       "        \"#61a0a8\",\n",
       "        \"#d48265\",\n",
       "        \"#749f83\",\n",
       "        \"#ca8622\",\n",
       "        \"#bda29a\",\n",
       "        \"#6e7074\",\n",
       "        \"#546570\",\n",
       "        \"#c4ccd3\",\n",
       "        \"#f05b72\",\n",
       "        \"#ef5b9c\",\n",
       "        \"#f47920\",\n",
       "        \"#905a3d\",\n",
       "        \"#fab27b\",\n",
       "        \"#2a5caa\",\n",
       "        \"#444693\",\n",
       "        \"#726930\",\n",
       "        \"#b2d235\",\n",
       "        \"#6d8346\",\n",
       "        \"#ac6767\",\n",
       "        \"#1d953f\",\n",
       "        \"#6950a1\",\n",
       "        \"#918597\",\n",
       "        \"#f6f5ec\"\n",
       "    ]\n",
       "};\n",
       "myChart_b7a894944c504283a86070c85879618b.setOption(option_b7a894944c504283a86070c85879618b);\n",
       "\n",
       "    });\n",
       "</script>\n"
      ],
      "text/plain": [
       "<pyecharts.charts.bar.Bar at 0x16a616be0>"
      ]
     },
     "execution_count": 40,
     "metadata": {},
     "output_type": "execute_result"
    }
   ],
   "source": [
    "bar = pyecharts.Bar(\"엔트로피 정보증가량\", \"시각화\")\n",
    "bar.add(\"정보증가량(IG)\", x, y, mark_point=[\"max\", \"min\"])\n",
    "bar.height = 500\n",
    "bar.width = 800\n",
    "bar"
   ]
  },
  {
   "cell_type": "code",
   "execution_count": 41,
   "id": "2b14f72c",
   "metadata": {},
   "outputs": [
    {
     "data": {
      "text/html": [
       "<script>\n",
       "    require.config({\n",
       "        paths: {\n",
       "            'echarts': '/nbextensions/echarts/echarts.min'\n",
       "        }\n",
       "    });\n",
       "</script>\n",
       "    <div id=\"689cbf3f953e4609927bfcc34773c05f\" style=\"width:800px;height:400px;\"></div>\n",
       "\n",
       "\n",
       "<script>\n",
       "    require(['echarts'], function(echarts) {\n",
       "        \n",
       "var myChart_689cbf3f953e4609927bfcc34773c05f = echarts.init(document.getElementById('689cbf3f953e4609927bfcc34773c05f'), 'light', {renderer: 'canvas'});\n",
       "\n",
       "var option_689cbf3f953e4609927bfcc34773c05f = {\n",
       "    \"title\": [\n",
       "        {\n",
       "            \"text\": \"\\uc5d4\\ud2b8\\ub85c\\ud53c \\uc815\\ubcf4\\uc99d\\uac00\\ub7c9\",\n",
       "            \"subtext\": \"%\",\n",
       "            \"left\": \"auto\",\n",
       "            \"top\": \"auto\",\n",
       "            \"textStyle\": {\n",
       "                \"fontSize\": 18\n",
       "            },\n",
       "            \"subtextStyle\": {\n",
       "                \"fontSize\": 12\n",
       "            }\n",
       "        }\n",
       "    ],\n",
       "    \"toolbox\": {\n",
       "        \"show\": true,\n",
       "        \"orient\": \"vertical\",\n",
       "        \"left\": \"95%\",\n",
       "        \"top\": \"center\",\n",
       "        \"feature\": {\n",
       "            \"saveAsImage\": {\n",
       "                \"show\": true,\n",
       "                \"title\": \"save as image\"\n",
       "            },\n",
       "            \"restore\": {\n",
       "                \"show\": true,\n",
       "                \"title\": \"restore\"\n",
       "            },\n",
       "            \"dataView\": {\n",
       "                \"show\": true,\n",
       "                \"title\": \"data view\"\n",
       "            }\n",
       "        }\n",
       "    },\n",
       "    \"series_id\": 1622317,\n",
       "    \"tooltip\": {\n",
       "        \"trigger\": \"item\",\n",
       "        \"triggerOn\": \"mousemove|click\",\n",
       "        \"axisPointer\": {\n",
       "            \"type\": \"line\"\n",
       "        },\n",
       "        \"textStyle\": {\n",
       "            \"fontSize\": 14\n",
       "        },\n",
       "        \"backgroundColor\": \"rgba(50,50,50,0.7)\",\n",
       "        \"borderColor\": \"#333\",\n",
       "        \"borderWidth\": 0\n",
       "    },\n",
       "    \"series\": [\n",
       "        {\n",
       "            \"type\": \"pie\",\n",
       "            \"name\": \"\\uc5d4\\ud2b8\\ub85c\\ud53c\",\n",
       "            \"data\": [\n",
       "                {\n",
       "                    \"name\": \"\\uc131\\ubcc4\\ucf54\\ub4dc\",\n",
       "                    \"value\": 0.014510195182841468\n",
       "                },\n",
       "                {\n",
       "                    \"name\": \"\\uc5f0\\ub839\\ub300\\ucf54\\ub4dc\",\n",
       "                    \"value\": 0.04840377227039294\n",
       "                },\n",
       "                {\n",
       "                    \"name\": \"\\uace0\\ud608\\uc555\",\n",
       "                    \"value\": 0.02639732076510115\n",
       "                },\n",
       "                {\n",
       "                    \"name\": \"\\ubcf5\\ubd80\\ube44\\ub9cc\",\n",
       "                    \"value\": 0.021518895992977738\n",
       "                },\n",
       "                {\n",
       "                    \"name\": \"BMI\",\n",
       "                    \"value\": 0.02177806519981562\n",
       "                }\n",
       "            ],\n",
       "            \"radius\": [\n",
       "                \"30%\",\n",
       "                \"50%\"\n",
       "            ],\n",
       "            \"center\": [\n",
       "                \"45%\",\n",
       "                \"45%\"\n",
       "            ],\n",
       "            \"roseType\": \"area\",\n",
       "            \"label\": {\n",
       "                \"normal\": {\n",
       "                    \"show\": true,\n",
       "                    \"position\": \"outside\",\n",
       "                    \"textStyle\": {\n",
       "                        \"fontSize\": 12\n",
       "                    },\n",
       "                    \"formatter\": \"{b}: {d}%\"\n",
       "                },\n",
       "                \"emphasis\": {\n",
       "                    \"show\": true,\n",
       "                    \"textStyle\": {\n",
       "                        \"fontSize\": 12\n",
       "                    },\n",
       "                    \"formatter\": \"{b}: {d}%\"\n",
       "                }\n",
       "            },\n",
       "            \"seriesId\": 1622317\n",
       "        }\n",
       "    ],\n",
       "    \"legend\": [\n",
       "        {\n",
       "            \"data\": [\n",
       "                \"\\uc131\\ubcc4\\ucf54\\ub4dc\",\n",
       "                \"\\uc5f0\\ub839\\ub300\\ucf54\\ub4dc\",\n",
       "                \"\\uace0\\ud608\\uc555\",\n",
       "                \"\\ubcf5\\ubd80\\ube44\\ub9cc\",\n",
       "                \"BMI\"\n",
       "            ],\n",
       "            \"selectedMode\": \"multiple\",\n",
       "            \"show\": false,\n",
       "            \"left\": \"center\",\n",
       "            \"top\": \"top\",\n",
       "            \"orient\": \"horizontal\",\n",
       "            \"textStyle\": {\n",
       "                \"fontSize\": 12\n",
       "            }\n",
       "        }\n",
       "    ],\n",
       "    \"animation\": true,\n",
       "    \"color\": [\n",
       "        \"#c23531\",\n",
       "        \"#2f4554\",\n",
       "        \"#61a0a8\",\n",
       "        \"#d48265\",\n",
       "        \"#749f83\",\n",
       "        \"#ca8622\",\n",
       "        \"#bda29a\",\n",
       "        \"#6e7074\",\n",
       "        \"#546570\",\n",
       "        \"#c4ccd3\",\n",
       "        \"#f05b72\",\n",
       "        \"#ef5b9c\",\n",
       "        \"#f47920\",\n",
       "        \"#905a3d\",\n",
       "        \"#fab27b\",\n",
       "        \"#2a5caa\",\n",
       "        \"#444693\",\n",
       "        \"#726930\",\n",
       "        \"#b2d235\",\n",
       "        \"#6d8346\",\n",
       "        \"#ac6767\",\n",
       "        \"#1d953f\",\n",
       "        \"#6950a1\",\n",
       "        \"#918597\",\n",
       "        \"#f6f5ec\"\n",
       "    ]\n",
       "};\n",
       "myChart_689cbf3f953e4609927bfcc34773c05f.setOption(option_689cbf3f953e4609927bfcc34773c05f);\n",
       "\n",
       "    });\n",
       "</script>\n"
      ],
      "text/plain": [
       "<pyecharts.charts.pie.Pie at 0x16a6166a0>"
      ]
     },
     "execution_count": 41,
     "metadata": {},
     "output_type": "execute_result"
    }
   ],
   "source": [
    "pie = pyecharts.Pie(\"엔트로피 정보증가량\",\"%\")\n",
    "pie.add(\"엔트로피\", x, y, center=[45,45], is_ramdom=True, radius=[30, 50], \n",
    "        rosetype='area', is_legend_show=False, is_label_show=True)\n",
    "pie"
   ]
  },
  {
   "cell_type": "code",
   "execution_count": null,
   "id": "b2a3205c",
   "metadata": {},
   "outputs": [],
   "source": []
  }
 ],
 "metadata": {
  "kernelspec": {
   "display_name": "Python 3",
   "language": "python",
   "name": "python3"
  },
  "language_info": {
   "codemirror_mode": {
    "name": "ipython",
    "version": 3
   },
   "file_extension": ".py",
   "mimetype": "text/x-python",
   "name": "python",
   "nbconvert_exporter": "python",
   "pygments_lexer": "ipython3",
   "version": "3.9.2"
  }
 },
 "nbformat": 4,
 "nbformat_minor": 5
}
