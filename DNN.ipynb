{
  "nbformat": 4,
  "nbformat_minor": 0,
  "metadata": {
    "kernelspec": {
      "display_name": "Python 3",
      "language": "python",
      "name": "python3"
    },
    "language_info": {
      "codemirror_mode": {
        "name": "ipython",
        "version": 3
      },
      "file_extension": ".py",
      "mimetype": "text/x-python",
      "name": "python",
      "nbconvert_exporter": "python",
      "pygments_lexer": "ipython3",
      "version": "3.7.1"
    },
    "colab": {
      "name": "DNN.ipynb",
      "provenance": [],
      "collapsed_sections": []
    },
    "accelerator": "GPU"
  },
  "cells": [
    {
      "cell_type": "code",
      "metadata": {
        "id": "0JLWGqAqgktU"
      },
      "source": [
        "import pandas as pd\n",
        "import numpy as np\n",
        "import matplotlib.pyplot as plt\n",
        "import matplotlib as mpl\n",
        "import time\n",
        "\n",
        "import warnings\n",
        "warnings.simplefilter(action='ignore', category=FutureWarning)"
      ],
      "execution_count": null,
      "outputs": []
    },
    {
      "cell_type": "code",
      "metadata": {
        "id": "ABNlqO_6gkun"
      },
      "source": [
        "# plt.rc('font', family='NanumGothicOTF') # For MacOS\n",
        "plt.rc('font', family='NanumGothic') # For Windows\n",
        "mpl.rcParams['axes.unicode_minus'] = False\n",
        "pd.set_option('display.max_columns', None)\n",
        "pd.set_option('display.float_format', lambda x: '%.03f' % x)"
      ],
      "execution_count": null,
      "outputs": []
    },
    {
      "cell_type": "code",
      "metadata": {
        "id": "GDnJkwuLgkvd"
      },
      "source": [
        "from sklearn.model_selection import train_test_split\n",
        "\n",
        "from tensorflow.keras.models import Sequential\n",
        "from tensorflow.keras.layers import Dense, Flatten, Dropout\n",
        "from tensorflow.keras.layers import Conv1D\n",
        "from tensorflow.keras.layers import Bidirectional, LSTM"
      ],
      "execution_count": null,
      "outputs": []
    },
    {
      "cell_type": "code",
      "metadata": {
        "colab": {
          "base_uri": "https://localhost:8080/"
        },
        "id": "E_Jx8shIgmtT",
        "outputId": "85292bd9-a62c-4dc3-a1a1-a687125665af"
      },
      "source": [
        "from google.colab import drive\n",
        "drive.mount(\"/content/drive\")"
      ],
      "execution_count": null,
      "outputs": [
        {
          "output_type": "stream",
          "text": [
            "Mounted at /content/drive\n"
          ],
          "name": "stdout"
        }
      ]
    },
    {
      "cell_type": "code",
      "metadata": {
        "id": "HWxA7156gkup"
      },
      "source": [
        "file_route = \"/content/drive/My Drive\"\n",
        "df = pd.read_csv(f'{file_route}/data_preprocessed_binary.csv')"
      ],
      "execution_count": null,
      "outputs": []
    },
    {
      "cell_type": "code",
      "metadata": {
        "id": "PRI5ngCFgkup"
      },
      "source": [
        "X_under = df.loc[:, df.columns != '식전혈당']\n",
        "y_under = df['식전혈당']\n",
        "\n",
        "X_train, X_test, y_train, y_test = train_test_split(X_under, y_under, test_size = 0.2)"
      ],
      "execution_count": null,
      "outputs": []
    },
    {
      "cell_type": "code",
      "metadata": {
        "colab": {
          "base_uri": "https://localhost:8080/"
        },
        "id": "fxIO0qB5gkve",
        "outputId": "6b0070ff-14ab-42a6-e890-93931a5a3e87"
      },
      "source": [
        "X_train2 = X_train.values.reshape(X_train.shape + (1,))\n",
        "y_train2 = y_train.values.reshape(y_train.shape + (1,))\n",
        "X_test2 = X_test.values.reshape(X_test.shape + (1,))\n",
        "y_test2 = y_test.values.reshape(y_test.shape + (1,))\n",
        "print(X_train2.shape)\n",
        "print(y_train2.shape)"
      ],
      "execution_count": null,
      "outputs": [
        {
          "output_type": "stream",
          "text": [
            "(1479406, 18, 1)\n",
            "(1479406, 1)\n"
          ],
          "name": "stdout"
        }
      ]
    },
    {
      "cell_type": "code",
      "metadata": {
        "id": "4uWtDi0bgkvi"
      },
      "source": [
        "model=Sequential()\n",
        "\n",
        "model.add(Conv1D(filters=32, kernel_size=1))\n",
        "model.add(Dropout(0.25))\n",
        "\n",
        "model.add(Conv1D(filters=32, kernel_size=1))\n",
        "model.add(Dropout(0.25))\n",
        "\n",
        "model.add(Bidirectional(LSTM(20)))\n",
        "model.add(Dropout(0.25))\n",
        "\n",
        "model.add(Flatten())\n",
        "model.add(Dense(1, activation='sigmoid'))\n",
        "\n",
        "model.compile(\n",
        "    loss = 'binary_crossentropy',\n",
        "    optimizer = 'adam',\n",
        "    metrics = ['accuracy'])"
      ],
      "execution_count": null,
      "outputs": []
    },
    {
      "cell_type": "code",
      "metadata": {
        "colab": {
          "base_uri": "https://localhost:8080/"
        },
        "id": "93OouL1Ygkvj",
        "outputId": "24b38988-388f-4977-f5dc-a84afd5f829a"
      },
      "source": [
        "model.fit(X_train2, y_train, epochs =5)"
      ],
      "execution_count": null,
      "outputs": [
        {
          "output_type": "stream",
          "text": [
            "Epoch 1/5\n",
            "46232/46232 [==============================] - 80s 2ms/step - loss: 0.7938 - accuracy: 0.6582\n",
            "Epoch 2/5\n",
            "46232/46232 [==============================] - 79s 2ms/step - loss: 0.6041 - accuracy: 0.6747\n",
            "Epoch 3/5\n",
            "46232/46232 [==============================] - 79s 2ms/step - loss: 0.6027 - accuracy: 0.6758\n",
            "Epoch 4/5\n",
            "46232/46232 [==============================] - 80s 2ms/step - loss: 0.6039 - accuracy: 0.6748\n",
            "Epoch 5/5\n",
            "46232/46232 [==============================] - 80s 2ms/step - loss: 0.6029 - accuracy: 0.6762\n"
          ],
          "name": "stdout"
        },
        {
          "output_type": "execute_result",
          "data": {
            "text/plain": [
              "<tensorflow.python.keras.callbacks.History at 0x7fcc182b1710>"
            ]
          },
          "metadata": {
            "tags": []
          },
          "execution_count": 34
        }
      ]
    },
    {
      "cell_type": "code",
      "metadata": {
        "colab": {
          "base_uri": "https://localhost:8080/"
        },
        "id": "oYUBBILUjjAh",
        "outputId": "1f87a6ca-ddd6-48c3-ad18-7efb4731f6c9"
      },
      "source": [
        "X_test2 = X_test.values.reshape(X_test.shape + (1,))"
      ],
      "execution_count": null,
      "outputs": [
        {
          "output_type": "stream",
          "text": [
            "/usr/local/lib/python3.7/dist-packages/tensorflow/python/keras/engine/sequential.py:450: UserWarning: `model.predict_classes()` is deprecated and will be removed after 2021-01-01. Please use instead:* `np.argmax(model.predict(x), axis=-1)`,   if your model does multi-class classification   (e.g. if it uses a `softmax` last-layer activation).* `(model.predict(x) > 0.5).astype(\"int32\")`,   if your model does binary classification   (e.g. if it uses a `sigmoid` last-layer activation).\n",
            "  warnings.warn('`model.predict_classes()` is deprecated and '\n"
          ],
          "name": "stderr"
        }
      ]
    },
    {
      "cell_type": "code",
      "metadata": {
        "id": "DiPRls4CkOOL"
      },
      "source": [
        "from sklearn.metrics import accuracy_score, recall_score, precision_score, f1_score, roc_auc_score, confusion_matrix\n",
        "from sklearn.metrics import classification_report"
      ],
      "execution_count": null,
      "outputs": []
    },
    {
      "cell_type": "code",
      "metadata": {
        "id": "9fYFr7vQEfad"
      },
      "source": [
        "def get_metrics(y_true, y_pred):\n",
        "  acc = accuracy_score(y_true, y_pred)\n",
        "  recall = recall_score(y_true, y_pred)\n",
        "  prec = precision_score(y_true, y_pred)\n",
        "  f1 = f1_score(y_true, y_pred)\n",
        "  roc = roc_auc_score(y_true, y_pred)\n",
        "  print(\"accuracy : %f\" %acc)\n",
        "  print(\"recall   : %f\" %recall)\n",
        "  print(\"precision: %f\" %prec)\n",
        "  print(\"f1       : %f\" %f1)\n",
        "  print(\"AUC      : %f\" %roc)\n",
        "\n",
        "  return [acc, recall, prec, f1, roc]"
      ],
      "execution_count": null,
      "outputs": []
    },
    {
      "cell_type": "code",
      "metadata": {
        "id": "KW4JHvJDIloB"
      },
      "source": [
        "model=Sequential()\n",
        "\n",
        "model.add(Conv1D(filters=32, kernel_size=3))\n",
        "model.add(Dropout(0.25))\n",
        "\n",
        "model.add(Bidirectional(LSTM(32)))\n",
        "model.add(Dropout(0.25))\n",
        "\n",
        "model.add(Flatten())\n",
        "model.add(Dense(1, activation='sigmoid'))\n",
        "\n",
        "model.compile(\n",
        "    loss = 'binary_crossentropy',\n",
        "    optimizer = 'adam',\n",
        "    metrics = ['accuracy'])"
      ],
      "execution_count": null,
      "outputs": []
    },
    {
      "cell_type": "code",
      "metadata": {
        "colab": {
          "base_uri": "https://localhost:8080/"
        },
        "id": "2AQ4ScuIuF_u",
        "outputId": "f0a529ba-97a2-4eef-8b78-4e6e5e3759b8"
      },
      "source": [
        "#2 LSTM Layers Train\n",
        "model.fit(X_train2, y_train, epochs = 10)"
      ],
      "execution_count": null,
      "outputs": [
        {
          "output_type": "stream",
          "text": [
            "Epoch 1/10\n",
            "46232/46232 [==============================] - 473s 9ms/step - loss: 0.5711 - accuracy: 0.6985\n",
            "Epoch 2/10\n",
            "46232/46232 [==============================] - 442s 10ms/step - loss: 0.5454 - accuracy: 0.7211\n",
            "Epoch 3/10\n",
            "46232/46232 [==============================] - 437s 9ms/step - loss: 0.5420 - accuracy: 0.7228\n",
            "Epoch 4/10\n",
            "46232/46232 [==============================] - 431s 9ms/step - loss: 0.5398 - accuracy: 0.7247\n",
            "Epoch 5/10\n",
            "46232/46232 [==============================] - 414s 9ms/step - loss: 0.5370 - accuracy: 0.7262\n",
            "Epoch 6/10\n",
            "46232/46232 [==============================] - 405s 9ms/step - loss: 0.5366 - accuracy: 0.7269\n",
            "Epoch 7/10\n",
            "46232/46232 [==============================] - 405s 9ms/step - loss: 0.5359 - accuracy: 0.7271\n",
            "Epoch 8/10\n",
            "46232/46232 [==============================] - 406s 9ms/step - loss: 0.5355 - accuracy: 0.7273\n",
            "Epoch 9/10\n",
            "46232/46232 [==============================] - 403s 9ms/step - loss: 0.5352 - accuracy: 0.7269\n",
            "Epoch 10/10\n",
            "46232/46232 [==============================] - 403s 9ms/step - loss: 0.5354 - accuracy: 0.7269\n"
          ],
          "name": "stdout"
        },
        {
          "output_type": "execute_result",
          "data": {
            "text/plain": [
              "<tensorflow.python.keras.callbacks.History at 0x7f94e61126d0>"
            ]
          },
          "metadata": {
            "tags": []
          },
          "execution_count": 9
        }
      ]
    },
    {
      "cell_type": "code",
      "metadata": {
        "colab": {
          "base_uri": "https://localhost:8080/"
        },
        "id": "iZhxcvq2Jr_H",
        "outputId": "de70e3bf-28a0-490d-a967-771478907eeb"
      },
      "source": [
        "y_pred_lstm2 = model.predict_classes(X_test2)\n",
        "lstm2 = get_metrics(y_test, y_pred_lstm2)"
      ],
      "execution_count": null,
      "outputs": [
        {
          "output_type": "stream",
          "text": [
            "accuracy : 0.728421\n",
            "recall   : 0.773267\n",
            "precision: 0.709495\n",
            "f1       : 0.740010\n",
            "AUC      : 0.728437\n"
          ],
          "name": "stdout"
        }
      ]
    },
    {
      "cell_type": "code",
      "metadata": {
        "colab": {
          "base_uri": "https://localhost:8080/"
        },
        "id": "SJdxhAF-eRH5",
        "outputId": "5ec8a7ad-6222-453f-f43f-a00dae16ffb9"
      },
      "source": [
        "confusion_matrix(y_test, y_pred2_lstm2)"
      ],
      "execution_count": null,
      "outputs": [
        {
          "output_type": "execute_result",
          "data": {
            "text/plain": [
              "array([[126461,  58530],\n",
              "       [ 41914, 142947]])"
            ]
          },
          "metadata": {
            "tags": []
          },
          "execution_count": 16
        }
      ]
    },
    {
      "cell_type": "code",
      "metadata": {
        "colab": {
          "base_uri": "https://localhost:8080/",
          "height": 273
        },
        "id": "gdKAjkgFy2sK",
        "outputId": "15d4a25a-3693-45b2-958e-15cb0dac0c37"
      },
      "source": [
        "print('Neural Network Comparison')\n",
        "scores_df"
      ],
      "execution_count": null,
      "outputs": [
        {
          "output_type": "stream",
          "text": [
            "Neural Network Comparison\n"
          ],
          "name": "stdout"
        },
        {
          "output_type": "execute_result",
          "data": {
            "text/html": [
              "<div>\n",
              "<style scoped>\n",
              "    .dataframe tbody tr th:only-of-type {\n",
              "        vertical-align: middle;\n",
              "    }\n",
              "\n",
              "    .dataframe tbody tr th {\n",
              "        vertical-align: top;\n",
              "    }\n",
              "\n",
              "    .dataframe thead th {\n",
              "        text-align: right;\n",
              "    }\n",
              "</style>\n",
              "<table border=\"1\" class=\"dataframe\">\n",
              "  <thead>\n",
              "    <tr style=\"text-align: right;\">\n",
              "      <th></th>\n",
              "      <th>accuracy</th>\n",
              "      <th>recall</th>\n",
              "      <th>precision</th>\n",
              "      <th>f1</th>\n",
              "      <th>AUC</th>\n",
              "    </tr>\n",
              "  </thead>\n",
              "  <tbody>\n",
              "    <tr>\n",
              "      <th>CNN</th>\n",
              "      <td>0.675711</td>\n",
              "      <td>0.622587</td>\n",
              "      <td>0.697378</td>\n",
              "      <td>0.657864</td>\n",
              "      <td>0.675793</td>\n",
              "    </tr>\n",
              "    <tr>\n",
              "      <th>CNN2</th>\n",
              "      <td>0.684522</td>\n",
              "      <td>0.721258</td>\n",
              "      <td>0.672501</td>\n",
              "      <td>0.696027</td>\n",
              "      <td>0.684466</td>\n",
              "    </tr>\n",
              "    <tr>\n",
              "      <th>CNN3</th>\n",
              "      <td>0.663628</td>\n",
              "      <td>0.589814</td>\n",
              "      <td>0.692809</td>\n",
              "      <td>0.637176</td>\n",
              "      <td>0.663742</td>\n",
              "    </tr>\n",
              "    <tr>\n",
              "      <th>LSTM</th>\n",
              "      <td>0.727980</td>\n",
              "      <td>0.785072</td>\n",
              "      <td>0.705146</td>\n",
              "      <td>0.742966</td>\n",
              "      <td>0.727892</td>\n",
              "    </tr>\n",
              "    <tr>\n",
              "      <th>LSTM2</th>\n",
              "      <td>0.728421</td>\n",
              "      <td>0.773267</td>\n",
              "      <td>0.709495</td>\n",
              "      <td>0.740010</td>\n",
              "      <td>0.728437</td>\n",
              "    </tr>\n",
              "    <tr>\n",
              "      <th>CNN1LSTM</th>\n",
              "      <td>0.681235</td>\n",
              "      <td>0.549174</td>\n",
              "      <td>0.747280</td>\n",
              "      <td>0.633091</td>\n",
              "      <td>0.681438</td>\n",
              "    </tr>\n",
              "    <tr>\n",
              "      <th>CNN2LSTM</th>\n",
              "      <td>0.720864</td>\n",
              "      <td>0.774517</td>\n",
              "      <td>0.700004</td>\n",
              "      <td>0.735378</td>\n",
              "      <td>0.720781</td>\n",
              "    </tr>\n",
              "  </tbody>\n",
              "</table>\n",
              "</div>"
            ],
            "text/plain": [
              "          accuracy    recall  precision        f1       AUC\n",
              "CNN       0.675711  0.622587   0.697378  0.657864  0.675793\n",
              "CNN2      0.684522  0.721258   0.672501  0.696027  0.684466\n",
              "CNN3      0.663628  0.589814   0.692809  0.637176  0.663742\n",
              "LSTM      0.727980  0.785072   0.705146  0.742966  0.727892\n",
              "LSTM2     0.728421  0.773267   0.709495  0.740010  0.728437\n",
              "CNN1LSTM  0.681235  0.549174   0.747280  0.633091  0.681438\n",
              "CNN2LSTM  0.720864  0.774517   0.700004  0.735378  0.720781"
            ]
          },
          "metadata": {
            "tags": []
          },
          "execution_count": 50
        }
      ]
    }
  ]
}