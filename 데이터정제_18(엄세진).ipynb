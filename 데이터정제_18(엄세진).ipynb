{
 "cells": [
  {
   "cell_type": "code",
   "execution_count": 18,
   "metadata": {
    "slideshow": {
     "slide_type": "slide"
    }
   },
   "outputs": [],
   "source": [
    "import numpy as np\n",
    "import sys\n",
    "import numpy as np\n",
    "import pandas as pd\n",
    "import matplotlib as mpl\n",
    "import sklearn"
   ]
  },
  {
   "cell_type": "code",
   "execution_count": 20,
   "metadata": {
    "slideshow": {
     "slide_type": "slide"
    }
   },
   "outputs": [],
   "source": [
    "df = pd.read_csv('NHIS_OPEN_GJ_2017_100.csv',engine = 'python')"
   ]
  },
  {
   "cell_type": "code",
   "execution_count": 21,
   "metadata": {
    "slideshow": {
     "slide_type": "slide"
    }
   },
   "outputs": [],
   "source": [
    "df_sample = df[['총콜레스테롤', '트리글리세라이드', 'HDL콜레스테롤', 'LDL콜레스테롤','성별코드', '연령대코드(5세단위)','수축기혈압','이완기혈압','식전혈당(공복혈당)','신장(5Cm단위)', '체중(5Kg단위)', '허리둘레']]\n"
   ]
  },
  {
   "cell_type": "code",
   "execution_count": 22,
   "metadata": {},
   "outputs": [
    {
     "data": {
      "text/plain": [
       "0         193.0\n",
       "1         228.0\n",
       "2         136.0\n",
       "3         201.0\n",
       "4         199.0\n",
       "          ...  \n",
       "999995    198.0\n",
       "999996    133.0\n",
       "999997    205.0\n",
       "999998    122.0\n",
       "999999    225.0\n",
       "Name: 총콜레스테롤, Length: 1000000, dtype: float64"
      ]
     },
     "execution_count": 22,
     "metadata": {},
     "output_type": "execute_result"
    }
   ],
   "source": [
    "df_sample['총콜레스테롤']"
   ]
  },
  {
   "cell_type": "code",
   "execution_count": null,
   "metadata": {},
   "outputs": [],
   "source": []
  },
  {
   "cell_type": "code",
   "execution_count": 23,
   "metadata": {},
   "outputs": [],
   "source": [
    "df_sample = df_sample.dropna()"
   ]
  },
  {
   "cell_type": "code",
   "execution_count": 24,
   "metadata": {},
   "outputs": [],
   "source": [
    "df_sample = df_sample.loc[(df_sample['허리둘레'] >= 40) & (df_sample['허리둘레'] <= 140)]"
   ]
  },
  {
   "cell_type": "code",
   "execution_count": 25,
   "metadata": {},
   "outputs": [],
   "source": [
    "def bmi(height,weight):\n",
    "    m = height / 100\n",
    "    return weight / (m ** 2)\n",
    "def diabetes(x):\n",
    "    if x >= 100 and x < 126:\n",
    "        return \"전단계\"\n",
    "    elif x >= 127:\n",
    "        return \"당뇨\"\n",
    "    else:\n",
    "        return \"정상\"\n",
    "\n",
    "def fat(bmi) :\n",
    "    if(bmi < 25):\n",
    "        return '정상'\n",
    "    elif(bmi >= 25 and bmi < 30):\n",
    "        return '과체중'\n",
    "    else:\n",
    "        return '비만'\n",
    "\n",
    "def pulse(low,high):\n",
    "    if low >= 100 or high >= 160:\n",
    "        return \"2기고혈압\"\n",
    "    elif 90 <= low < 100 or 140 <= high < 160:\n",
    "        return \"1기\"\n",
    "    elif 80 <= low < 90 or 120 <= high < 140:\n",
    "        return \"전단계\"\n",
    "    else:\n",
    "        return \"정상\"\n",
    "\n",
    "def bokbu(gen, hurry):\n",
    "    if gen == 1 and hurry >= 90:\n",
    "        return \"비만\"\n",
    "    elif gen == 2 and hurry >= 85:\n",
    "        return \"비만\"\n",
    "    else:\n",
    "        return \"정상\"\n",
    "\n",
    "def colesterol(all, ldl, hdl):\n",
    "    if 139 <= all <200 or 130<= ldl <= 159 or 35 <= hdl <=  59:\n",
    "        return 1\n",
    "    elif all <= 200 or ldl <= 130 or hdl <= 60:\n",
    "        return 0\n",
    "    else:\n",
    "        return -1"
   ]
  },
  {
   "cell_type": "code",
   "execution_count": 26,
   "metadata": {},
   "outputs": [],
   "source": [
    "df_sample['당뇨병'] = df_sample['식전혈당(공복혈당)'].map(diabetes)\n",
    "df_sample['고혈압'] = np.vectorize(pulse)(df_sample['이완기혈압'], df_sample['수축기혈압'])\n",
    "df_sample['bmi'] = np.vectorize(bmi)(df_sample['신장(5Cm단위)'], df_sample['체중(5Kg단위)'])\n",
    "df_sample['비만도'] = df_sample['bmi'].map(fat)\n",
    "df_sample['복부비만'] = np.vectorize(bokbu)(df_sample['성별코드'], df_sample['허리둘레'])\n",
    "df_sample['고지혈증'] = np.vectorize(colesterol)(df_sample['총콜레스테롤'],df_sample['LDL콜레스테롤'],df_sample['HDL콜레스테롤'])"
   ]
  },
  {
   "cell_type": "code",
   "execution_count": 27,
   "metadata": {},
   "outputs": [
    {
     "data": {
      "text/plain": [
       "정상     626457\n",
       "전단계    296442\n",
       "당뇨      73840\n",
       "Name: 당뇨병, dtype: int64"
      ]
     },
     "execution_count": 27,
     "metadata": {},
     "output_type": "execute_result"
    }
   ],
   "source": [
    "df_sample['당뇨병'].value_counts()"
   ]
  },
  {
   "cell_type": "code",
   "execution_count": 28,
   "metadata": {},
   "outputs": [
    {
     "data": {
      "text/plain": [
       " 1    863284\n",
       " 0    104902\n",
       "-1     28553\n",
       "Name: 고지혈증, dtype: int64"
      ]
     },
     "execution_count": 28,
     "metadata": {},
     "output_type": "execute_result"
    }
   ],
   "source": [
    "df_sample['고지혈증'].value_counts()\n"
   ]
  },
  {
   "cell_type": "code",
   "execution_count": 29,
   "metadata": {
    "scrolled": true
   },
   "outputs": [
    {
     "data": {
      "text/html": [
       "<div>\n",
       "<style scoped>\n",
       "    .dataframe tbody tr th:only-of-type {\n",
       "        vertical-align: middle;\n",
       "    }\n",
       "\n",
       "    .dataframe tbody tr th {\n",
       "        vertical-align: top;\n",
       "    }\n",
       "\n",
       "    .dataframe thead th {\n",
       "        text-align: right;\n",
       "    }\n",
       "</style>\n",
       "<table border=\"1\" class=\"dataframe\">\n",
       "  <thead>\n",
       "    <tr style=\"text-align: right;\">\n",
       "      <th></th>\n",
       "      <th>총콜레스테롤</th>\n",
       "      <th>트리글리세라이드</th>\n",
       "      <th>HDL콜레스테롤</th>\n",
       "      <th>LDL콜레스테롤</th>\n",
       "      <th>성별코드</th>\n",
       "      <th>연령대코드(5세단위)</th>\n",
       "      <th>수축기혈압</th>\n",
       "      <th>이완기혈압</th>\n",
       "      <th>식전혈당(공복혈당)</th>\n",
       "      <th>신장(5Cm단위)</th>\n",
       "      <th>체중(5Kg단위)</th>\n",
       "      <th>허리둘레</th>\n",
       "      <th>bmi</th>\n",
       "      <th>고지혈증</th>\n",
       "    </tr>\n",
       "  </thead>\n",
       "  <tbody>\n",
       "    <tr>\n",
       "      <th>count</th>\n",
       "      <td>996739.000000</td>\n",
       "      <td>996739.000000</td>\n",
       "      <td>996739.000000</td>\n",
       "      <td>996739.000000</td>\n",
       "      <td>996739.000000</td>\n",
       "      <td>996739.000000</td>\n",
       "      <td>996739.000000</td>\n",
       "      <td>996739.000000</td>\n",
       "      <td>996739.000000</td>\n",
       "      <td>996739.000000</td>\n",
       "      <td>996739.000000</td>\n",
       "      <td>996739.000000</td>\n",
       "      <td>996739.000000</td>\n",
       "      <td>996739.000000</td>\n",
       "    </tr>\n",
       "    <tr>\n",
       "      <th>mean</th>\n",
       "      <td>195.501086</td>\n",
       "      <td>132.077642</td>\n",
       "      <td>56.930715</td>\n",
       "      <td>112.999331</td>\n",
       "      <td>1.469835</td>\n",
       "      <td>10.528189</td>\n",
       "      <td>122.425408</td>\n",
       "      <td>76.044000</td>\n",
       "      <td>100.433773</td>\n",
       "      <td>162.223461</td>\n",
       "      <td>63.258004</td>\n",
       "      <td>81.172262</td>\n",
       "      <td>23.912151</td>\n",
       "      <td>0.837462</td>\n",
       "    </tr>\n",
       "    <tr>\n",
       "      <th>std</th>\n",
       "      <td>38.669277</td>\n",
       "      <td>102.201252</td>\n",
       "      <td>17.229834</td>\n",
       "      <td>35.842479</td>\n",
       "      <td>0.499090</td>\n",
       "      <td>2.841360</td>\n",
       "      <td>14.553429</td>\n",
       "      <td>9.891631</td>\n",
       "      <td>24.204515</td>\n",
       "      <td>9.284908</td>\n",
       "      <td>12.516185</td>\n",
       "      <td>9.594750</td>\n",
       "      <td>3.516292</td>\n",
       "      <td>0.439787</td>\n",
       "    </tr>\n",
       "    <tr>\n",
       "      <th>min</th>\n",
       "      <td>30.000000</td>\n",
       "      <td>1.000000</td>\n",
       "      <td>1.000000</td>\n",
       "      <td>1.000000</td>\n",
       "      <td>1.000000</td>\n",
       "      <td>5.000000</td>\n",
       "      <td>58.000000</td>\n",
       "      <td>30.000000</td>\n",
       "      <td>25.000000</td>\n",
       "      <td>130.000000</td>\n",
       "      <td>25.000000</td>\n",
       "      <td>40.000000</td>\n",
       "      <td>12.486993</td>\n",
       "      <td>-1.000000</td>\n",
       "    </tr>\n",
       "    <tr>\n",
       "      <th>25%</th>\n",
       "      <td>169.000000</td>\n",
       "      <td>73.000000</td>\n",
       "      <td>46.000000</td>\n",
       "      <td>89.000000</td>\n",
       "      <td>1.000000</td>\n",
       "      <td>8.000000</td>\n",
       "      <td>112.000000</td>\n",
       "      <td>70.000000</td>\n",
       "      <td>88.000000</td>\n",
       "      <td>155.000000</td>\n",
       "      <td>55.000000</td>\n",
       "      <td>74.000000</td>\n",
       "      <td>21.484375</td>\n",
       "      <td>1.000000</td>\n",
       "    </tr>\n",
       "    <tr>\n",
       "      <th>50%</th>\n",
       "      <td>193.000000</td>\n",
       "      <td>106.000000</td>\n",
       "      <td>55.000000</td>\n",
       "      <td>111.000000</td>\n",
       "      <td>1.000000</td>\n",
       "      <td>10.000000</td>\n",
       "      <td>120.000000</td>\n",
       "      <td>76.000000</td>\n",
       "      <td>96.000000</td>\n",
       "      <td>160.000000</td>\n",
       "      <td>60.000000</td>\n",
       "      <td>81.000000</td>\n",
       "      <td>23.875115</td>\n",
       "      <td>1.000000</td>\n",
       "    </tr>\n",
       "    <tr>\n",
       "      <th>75%</th>\n",
       "      <td>219.000000</td>\n",
       "      <td>159.000000</td>\n",
       "      <td>66.000000</td>\n",
       "      <td>135.000000</td>\n",
       "      <td>2.000000</td>\n",
       "      <td>13.000000</td>\n",
       "      <td>131.000000</td>\n",
       "      <td>82.000000</td>\n",
       "      <td>105.000000</td>\n",
       "      <td>170.000000</td>\n",
       "      <td>70.000000</td>\n",
       "      <td>87.700000</td>\n",
       "      <td>25.951557</td>\n",
       "      <td>1.000000</td>\n",
       "    </tr>\n",
       "    <tr>\n",
       "      <th>max</th>\n",
       "      <td>2344.000000</td>\n",
       "      <td>9490.000000</td>\n",
       "      <td>8110.000000</td>\n",
       "      <td>5119.000000</td>\n",
       "      <td>2.000000</td>\n",
       "      <td>18.000000</td>\n",
       "      <td>273.000000</td>\n",
       "      <td>185.000000</td>\n",
       "      <td>852.000000</td>\n",
       "      <td>190.000000</td>\n",
       "      <td>140.000000</td>\n",
       "      <td>140.000000</td>\n",
       "      <td>45.714286</td>\n",
       "      <td>1.000000</td>\n",
       "    </tr>\n",
       "  </tbody>\n",
       "</table>\n",
       "</div>"
      ],
      "text/plain": [
       "              총콜레스테롤       트리글리세라이드       HDL콜레스테롤       LDL콜레스테롤  \\\n",
       "count  996739.000000  996739.000000  996739.000000  996739.000000   \n",
       "mean      195.501086     132.077642      56.930715     112.999331   \n",
       "std        38.669277     102.201252      17.229834      35.842479   \n",
       "min        30.000000       1.000000       1.000000       1.000000   \n",
       "25%       169.000000      73.000000      46.000000      89.000000   \n",
       "50%       193.000000     106.000000      55.000000     111.000000   \n",
       "75%       219.000000     159.000000      66.000000     135.000000   \n",
       "max      2344.000000    9490.000000    8110.000000    5119.000000   \n",
       "\n",
       "                성별코드    연령대코드(5세단위)          수축기혈압          이완기혈압  \\\n",
       "count  996739.000000  996739.000000  996739.000000  996739.000000   \n",
       "mean        1.469835      10.528189     122.425408      76.044000   \n",
       "std         0.499090       2.841360      14.553429       9.891631   \n",
       "min         1.000000       5.000000      58.000000      30.000000   \n",
       "25%         1.000000       8.000000     112.000000      70.000000   \n",
       "50%         1.000000      10.000000     120.000000      76.000000   \n",
       "75%         2.000000      13.000000     131.000000      82.000000   \n",
       "max         2.000000      18.000000     273.000000     185.000000   \n",
       "\n",
       "          식전혈당(공복혈당)      신장(5Cm단위)      체중(5Kg단위)           허리둘레  \\\n",
       "count  996739.000000  996739.000000  996739.000000  996739.000000   \n",
       "mean      100.433773     162.223461      63.258004      81.172262   \n",
       "std        24.204515       9.284908      12.516185       9.594750   \n",
       "min        25.000000     130.000000      25.000000      40.000000   \n",
       "25%        88.000000     155.000000      55.000000      74.000000   \n",
       "50%        96.000000     160.000000      60.000000      81.000000   \n",
       "75%       105.000000     170.000000      70.000000      87.700000   \n",
       "max       852.000000     190.000000     140.000000     140.000000   \n",
       "\n",
       "                 bmi           고지혈증  \n",
       "count  996739.000000  996739.000000  \n",
       "mean       23.912151       0.837462  \n",
       "std         3.516292       0.439787  \n",
       "min        12.486993      -1.000000  \n",
       "25%        21.484375       1.000000  \n",
       "50%        23.875115       1.000000  \n",
       "75%        25.951557       1.000000  \n",
       "max        45.714286       1.000000  "
      ]
     },
     "execution_count": 29,
     "metadata": {},
     "output_type": "execute_result"
    }
   ],
   "source": [
    "df_sample.describe()"
   ]
  },
  {
   "cell_type": "code",
   "execution_count": 32,
   "metadata": {
    "scrolled": true
   },
   "outputs": [
    {
     "name": "stdout",
     "output_type": "stream",
     "text": [
      "성별코드 : 13.76310992524532\n",
      "고혈압 : 29.599823180006535\n",
      "비만도 : 20.71876197429301\n",
      "복부비만 : 20.92423466753779\n",
      "연령대코드(5세단위) : 46.91403754450207\n",
      "고지혈증 : 0.35700174649733185\n",
      "총콜레스테롤 : 12.97783939851982\n",
      "HDL콜레스테롤 : 15.825036610049414\n",
      "LDL콜레스테롤 : 12.470371371869238\n"
     ]
    }
   ],
   "source": [
    "\n",
    "def Entropy(df, attribute) :\n",
    "    list1  = list(df[attribute].unique())\n",
    "    etp = 0\n",
    "    for i in range(len(list1)):\n",
    "        q1 = len(df[df[attribute] == list1[i]])/len(df[attribute])\n",
    "        etp -=  q1*np.log2(q1)\n",
    "    return etp\n",
    "\n",
    "def Group_info(df,m_attribute,fix_attribute):\n",
    "    list2 = list(df[m_attribute].unique())\n",
    "    info_Entropy = Entropy(df,fix_attribute)\n",
    "    info_data = 0\n",
    "    for i in range (len(list2)) :\n",
    "        q2 = df.loc[df[m_attribute] == list2[i]]\n",
    "        info_data +=  (len(q2[m_attribute])/len(df[m_attribute]))* Entropy(q2,fix_attribute) \n",
    "    \n",
    "    data = info_Entropy - info_data\n",
    "    \n",
    "    return data\n",
    "\n",
    "info = np.array([(\"성별코드\"),(\"고혈압\"),(\"비만도\"),(\"복부비만\"),(\"연령대코드(5세단위)\"),(\"고지혈증\"),(\"총콜레스테롤\"),(\"HDL콜레스테롤\"),(\"LDL콜레스테롤\")])\n",
    "\n",
    "for i in info :\n",
    "    print(i,\":\",Group_info(df_sample, i,\"당뇨병\") * 1000)"
   ]
  },
  {
   "cell_type": "code",
   "execution_count": 10,
   "metadata": {},
   "outputs": [],
   "source": [
    "#지니 지수 https://lucy-the-marketer.kr/ko/growth/decision-tree-and-impurity/"
   ]
  },
  {
   "cell_type": "code",
   "execution_count": 11,
   "metadata": {},
   "outputs": [
    {
     "name": "stdout",
     "output_type": "stream",
     "text": [
      "성별코드 : 0.5132477500810447\n",
      "고혈압 : 0.5067788048087857\n",
      "비만도 : 0.5102727536675177\n",
      "복부비만 : 0.5110472000612207\n",
      "연령대코드(5세단위) : 0.501566998920739\n"
     ]
    }
   ],
   "source": [
    "def Gini(df, attribute) :\n",
    "    list1  = list(df[attribute].unique())\n",
    "    gini = 0\n",
    "    for i in range(len(list1)):\n",
    "        q1 = len(df[df[attribute] == list1[i]])/len(df[attribute])\n",
    "        gini += (q1**2)\n",
    "    return 1 - gini\n",
    "\n",
    "def Group_Gini(df,m_attribute,fix_attribute):\n",
    "    list2 = list(df[m_attribute].unique())\n",
    "    info_data = 0\n",
    "    for i in range (len(list2)) :\n",
    "        q2 = df.loc[df[m_attribute] == list2[i]]\n",
    "        info_data +=  (len(q2[m_attribute])/len(df[m_attribute]))* Gini(q2,fix_attribute) \n",
    "    \n",
    "    return info_data\n",
    "\n",
    "info = np.array([(\"성별코드\"),(\"고혈압\"),(\"비만도\"),(\"복부비만\"),(\"연령대코드(5세단위)\")])\n",
    "\n",
    "for i in info :\n",
    "    print(i,\":\",Group_Gini(df_sample, i,\"당뇨병\"))"
   ]
  },
  {
   "cell_type": "code",
   "execution_count": 12,
   "metadata": {},
   "outputs": [
    {
     "data": {
      "text/html": [
       "<div>\n",
       "<style scoped>\n",
       "    .dataframe tbody tr th:only-of-type {\n",
       "        vertical-align: middle;\n",
       "    }\n",
       "\n",
       "    .dataframe tbody tr th {\n",
       "        vertical-align: top;\n",
       "    }\n",
       "\n",
       "    .dataframe thead th {\n",
       "        text-align: right;\n",
       "    }\n",
       "</style>\n",
       "<table border=\"1\" class=\"dataframe\">\n",
       "  <thead>\n",
       "    <tr style=\"text-align: right;\">\n",
       "      <th></th>\n",
       "      <th>성별코드</th>\n",
       "      <th>연령대코드(5세단위)</th>\n",
       "    </tr>\n",
       "  </thead>\n",
       "  <tbody>\n",
       "    <tr>\n",
       "      <th>count</th>\n",
       "      <td>993643.000000</td>\n",
       "      <td>993643.000000</td>\n",
       "    </tr>\n",
       "    <tr>\n",
       "      <th>mean</th>\n",
       "      <td>1.463026</td>\n",
       "      <td>10.569117</td>\n",
       "    </tr>\n",
       "    <tr>\n",
       "      <th>std</th>\n",
       "      <td>0.498631</td>\n",
       "      <td>2.861437</td>\n",
       "    </tr>\n",
       "    <tr>\n",
       "      <th>min</th>\n",
       "      <td>1.000000</td>\n",
       "      <td>5.000000</td>\n",
       "    </tr>\n",
       "    <tr>\n",
       "      <th>25%</th>\n",
       "      <td>1.000000</td>\n",
       "      <td>8.000000</td>\n",
       "    </tr>\n",
       "    <tr>\n",
       "      <th>50%</th>\n",
       "      <td>1.000000</td>\n",
       "      <td>11.000000</td>\n",
       "    </tr>\n",
       "    <tr>\n",
       "      <th>75%</th>\n",
       "      <td>2.000000</td>\n",
       "      <td>13.000000</td>\n",
       "    </tr>\n",
       "    <tr>\n",
       "      <th>max</th>\n",
       "      <td>2.000000</td>\n",
       "      <td>18.000000</td>\n",
       "    </tr>\n",
       "  </tbody>\n",
       "</table>\n",
       "</div>"
      ],
      "text/plain": [
       "                성별코드    연령대코드(5세단위)\n",
       "count  993643.000000  993643.000000\n",
       "mean        1.463026      10.569117\n",
       "std         0.498631       2.861437\n",
       "min         1.000000       5.000000\n",
       "25%         1.000000       8.000000\n",
       "50%         1.000000      11.000000\n",
       "75%         2.000000      13.000000\n",
       "max         2.000000      18.000000"
      ]
     },
     "execution_count": 12,
     "metadata": {},
     "output_type": "execute_result"
    }
   ],
   "source": [
    "df_sample[[\"성별코드\",\"고혈압\",\"비만도\",\"복부비만\",\"연령대코드(5세단위)\"]].describe()"
   ]
  },
  {
   "cell_type": "code",
   "execution_count": 15,
   "metadata": {},
   "outputs": [
    {
     "data": {
      "text/plain": [
       "['기준년도',\n",
       " '가입자일련번호',\n",
       " '성별코드',\n",
       " '연령대코드(5세단위)',\n",
       " '시도코드',\n",
       " '신장(5Cm단위)',\n",
       " '체중(5Kg단위)',\n",
       " '허리둘레',\n",
       " '시력(좌)',\n",
       " '시력(우)',\n",
       " '청력(좌)',\n",
       " '청력(우)',\n",
       " '수축기혈압',\n",
       " '이완기혈압',\n",
       " '식전혈당(공복혈당)',\n",
       " '총콜레스테롤',\n",
       " '트리글리세라이드',\n",
       " 'HDL콜레스테롤',\n",
       " 'LDL콜레스테롤',\n",
       " '혈색소',\n",
       " '요단백',\n",
       " '혈청크레아티닌',\n",
       " '(혈청지오티)AST',\n",
       " '(혈청지오티)ALT',\n",
       " '감마지티피',\n",
       " '흡연상태',\n",
       " '음주여부',\n",
       " '구강검진수검여부',\n",
       " '치아우식증유무',\n",
       " '결손치유무',\n",
       " '치아마모증유무',\n",
       " '제3대구치(사랑니)이상',\n",
       " '치석',\n",
       " '데이터공개일자']"
      ]
     },
     "execution_count": 15,
     "metadata": {},
     "output_type": "execute_result"
    }
   ],
   "source": [
    "list(df.columns)"
   ]
  },
  {
   "cell_type": "code",
   "execution_count": null,
   "metadata": {},
   "outputs": [],
   "source": []
  }
 ],
 "metadata": {
  "celltoolbar": "Slideshow",
  "kernelspec": {
   "display_name": "Python 3",
   "language": "python",
   "name": "python3"
  },
  "language_info": {
   "codemirror_mode": {
    "name": "ipython",
    "version": 3
   },
   "file_extension": ".py",
   "mimetype": "text/x-python",
   "name": "python",
   "nbconvert_exporter": "python",
   "pygments_lexer": "ipython3",
   "version": "3.8.5"
  }
 },
 "nbformat": 4,
 "nbformat_minor": 4
}
