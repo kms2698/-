{
  "nbformat": 4,
  "nbformat_minor": 0,
  "metadata": {
    "accelerator": "TPU",
    "colab": {
      "name": "AdaBoostClassifier.ipynb",
      "provenance": []
    },
    "kernelspec": {
      "display_name": "Python 3",
      "name": "python3"
    },
    "language_info": {
      "name": "python"
    }
  },
  "cells": [
    {
      "cell_type": "code",
      "metadata": {
        "id": "Qo3kMnOhBV1C"
      },
      "source": [
        "import pandas as pd\n",
        "import numpy as np\n",
        "import matplotlib.pyplot as plt\n",
        "import matplotlib as mpl\n",
        "import time\n",
        " \n",
        "import warnings\n",
        "warnings.simplefilter(action='ignore', category=FutureWarning)\n",
        " \n",
        "# plt.rc('font', family='NanumGothicOTF') # For MacOS\n",
        "plt.rc('font', family='NanumGothic') # For Windows\n",
        "mpl.rcParams['axes.unicode_minus'] = False\n",
        "pd.set_option('display.max_columns', None)\n",
        "pd.set_option('display.float_format', lambda x: '%.03f' % x)"
      ],
      "execution_count": null,
      "outputs": []
    },
    {
      "cell_type": "code",
      "metadata": {
        "id": "GXvxBRVRBas3"
      },
      "source": [
        "from sklearn.model_selection import train_test_split\n",
        "from sklearn.ensemble import AdaBoostClassifier\n",
        " \n",
        "from sklearn.metrics import accuracy_score, recall_score, precision_score, f1_score, roc_auc_score, confusion_matrix\n",
        "from sklearn.metrics import classification_report\n",
        " \n",
        "from sklearn.model_selection import cross_val_score\n",
        "from sklearn.model_selection import RepeatedStratifiedKFold"
      ],
      "execution_count": null,
      "outputs": []
    },
    {
      "cell_type": "code",
      "metadata": {
        "colab": {
          "base_uri": "https://localhost:8080/"
        },
        "id": "9WBiWxBDBdOo",
        "outputId": "35547b5c-744f-48d7-d62b-9dbdba801280"
      },
      "source": [
        "from google.colab import drive\n",
        "drive.mount(\"/content/drive\")"
      ],
      "execution_count": null,
      "outputs": [
        {
          "output_type": "stream",
          "text": [
            "Mounted at /content/drive\n"
          ],
          "name": "stdout"
        }
      ]
    },
    {
      "cell_type": "code",
      "metadata": {
        "id": "h-QjzJQtBdeF"
      },
      "source": [
        "file_route = \"/content/drive/My Drive\"\n",
        "df = pd.read_csv(f'{file_route}/data_preprocessed_binary.csv')"
      ],
      "execution_count": null,
      "outputs": []
    },
    {
      "cell_type": "code",
      "metadata": {
        "id": "_46-_EuMBjQA"
      },
      "source": [
        "X = df.loc[:, df.columns != '식전혈당']\n",
        "y = df['식전혈당']\n",
        "\n",
        "X_train, X_test, y_train, y_test = train_test_split(X, y, test_size = 0.33)"
      ],
      "execution_count": null,
      "outputs": []
    },
    {
      "cell_type": "code",
      "metadata": {
        "id": "0qrBErn7BmWM"
      },
      "source": [
        "model = AdaBoostClassifier()"
      ],
      "execution_count": null,
      "outputs": []
    },
    {
      "cell_type": "code",
      "metadata": {
        "colab": {
          "base_uri": "https://localhost:8080/"
        },
        "id": "vyImR3uNm2uK",
        "outputId": "2310cc7c-8cf6-43e7-d033-9a77fa71cbe8"
      },
      "source": [
        "model.fit(X_train, y_train)"
      ],
      "execution_count": null,
      "outputs": [
        {
          "output_type": "execute_result",
          "data": {
            "text/plain": [
              "AdaBoostClassifier(algorithm='SAMME.R', base_estimator=None, learning_rate=1.0,\n",
              "                   n_estimators=50, random_state=None)"
            ]
          },
          "metadata": {
            "tags": []
          },
          "execution_count": 7
        }
      ]
    },
    {
      "cell_type": "code",
      "metadata": {
        "id": "SOEZGye2DHrf"
      },
      "source": [
        "def get_metrics(y_true, y_pred):\n",
        "  acc = accuracy_score(y_true, y_pred)\n",
        "  recall = recall_score(y_true, y_pred)\n",
        "  prec = precision_score(y_true, y_pred)\n",
        "  f1 = f1_score(y_true, y_pred)\n",
        "  roc = roc_auc_score(y_true, y_pred)\n",
        "  print(\"accuracy : %f\" %acc)\n",
        "  print(\"recall   : %f\" %recall)\n",
        "  print(\"precision: %f\" %prec)\n",
        "  print(\"f1       : %f\" %f1)\n",
        "  print(\"AUC      : %f\" %roc)\n",
        "\n",
        "  return [acc, recall, prec, f1, roc]"
      ],
      "execution_count": null,
      "outputs": []
    },
    {
      "cell_type": "code",
      "metadata": {
        "id": "GsTp6s05DKtD",
        "colab": {
          "base_uri": "https://localhost:8080/"
        },
        "outputId": "9c280626-1119-4d7a-cec3-8bea178e92a6"
      },
      "source": [
        "y_pred = model.predict(X_test)\n",
        "\n",
        "metrics1 = get_metrics(y_test, y_pred)\n",
        "print()\n",
        "print(confusion_matrix(y_test, y_pred))"
      ],
      "execution_count": null,
      "outputs": [
        {
          "output_type": "stream",
          "text": [
            "accuracy : 0.710513\n",
            "recall   : 0.747483\n",
            "precision: 0.695595\n",
            "f1       : 0.720606\n",
            "AUC      : 0.710555\n",
            "\n",
            "[[205775  99698]\n",
            " [ 76963 227820]]\n"
          ],
          "name": "stdout"
        }
      ]
    },
    {
      "cell_type": "code",
      "metadata": {
        "id": "ZCkG768tm6Xp",
        "colab": {
          "base_uri": "https://localhost:8080/"
        },
        "outputId": "9126c3a7-3338-4f8a-cd66-f8132dbef3bb"
      },
      "source": [
        "print(X_train.columns)\n",
        "print(model.feature_importances_)\n",
        "\n",
        "feat_impt = model.feature_importances_\n",
        "feat_list = []\n",
        "\n",
        "for i in range(len(feat_impt)):\n",
        "  if feat_impt[i] >= 0.04:\n",
        "    feat_list.append(X_train.columns[i])\n",
        "\n",
        "print(feat_list)"
      ],
      "execution_count": null,
      "outputs": [
        {
          "output_type": "stream",
          "text": [
            "Index(['성별코드', '연령대코드', '허리둘레', '총콜레스테롤', '트리글리세라이드', 'HDL콜레스테롤', 'LDL콜레스테롤',\n",
            "       '혈색소', '요단백', '혈청크레아티닌', 'AST', 'ALT', '감마지티피', '흡연상태', '음주여부', '복부비만',\n",
            "       '비만여부', '고혈압'],\n",
            "      dtype='object')\n",
            "[0.   0.2  0.08 0.02 0.06 0.04 0.06 0.02 0.02 0.02 0.1  0.12 0.14 0.06\n",
            " 0.   0.02 0.02 0.02]\n",
            "['연령대코드', '허리둘레', '트리글리세라이드', 'HDL콜레스테롤', 'LDL콜레스테롤', 'AST', 'ALT', '감마지티피', '흡연상태']\n"
          ],
          "name": "stdout"
        }
      ]
    },
    {
      "cell_type": "code",
      "metadata": {
        "id": "sR-6Q97moIc7"
      },
      "source": [
        "X = X[feat_list]\n",
        "\n",
        "X_train, X_test, y_train, y_test = train_test_split(X, y, test_size = 0.33)"
      ],
      "execution_count": null,
      "outputs": []
    },
    {
      "cell_type": "code",
      "metadata": {
        "colab": {
          "base_uri": "https://localhost:8080/"
        },
        "id": "1ZEasL8l7tRw",
        "outputId": "8c6becab-8f19-459e-9c2b-0b98d7b5fa68"
      },
      "source": [
        "X_train.shape"
      ],
      "execution_count": null,
      "outputs": [
        {
          "output_type": "execute_result",
          "data": {
            "text/plain": [
              "(1239002, 9)"
            ]
          },
          "metadata": {
            "tags": []
          },
          "execution_count": 15
        }
      ]
    },
    {
      "cell_type": "code",
      "metadata": {
        "id": "9h0gZfoTWGb9",
        "colab": {
          "base_uri": "https://localhost:8080/"
        },
        "outputId": "f9413dda-57ff-4013-9458-4bef28b358fc"
      },
      "source": [
        "from sklearn.model_selection import GridSearchCV\n",
        "\n",
        "# define the grid of values to search\n",
        "grid = dict()\n",
        "grid['n_estimators'] = [10, 50, 100, 500]\n",
        "grid['learning_rate'] = [0.001, 0.01, 0.1, 1.0]\n",
        "\n",
        "# define the grid search procedure\n",
        "grid_search = GridSearchCV(estimator=model, cv = 3, param_grid=grid, n_jobs=-1, verbose = 2, scoring='accuracy')\n",
        "# execute the grid search\n",
        "grid_result = grid_search.fit(X_train, y_train)\n",
        "\n",
        "# summarize the best score and configuration\n",
        "print(\"Best: %f using %s\" % (grid_result.best_score_, grid_result.best_params_))"
      ],
      "execution_count": null,
      "outputs": [
        {
          "output_type": "stream",
          "text": [
            "Fitting 3 folds for each of 16 candidates, totalling 48 fits\n"
          ],
          "name": "stdout"
        },
        {
          "output_type": "stream",
          "text": [
            "[Parallel(n_jobs=-1)]: Using backend LokyBackend with 2 concurrent workers.\n",
            "[Parallel(n_jobs=-1)]: Done  37 tasks      | elapsed: 63.3min\n",
            "[Parallel(n_jobs=-1)]: Done  48 out of  48 | elapsed: 92.4min finished\n"
          ],
          "name": "stderr"
        },
        {
          "output_type": "stream",
          "text": [
            "Best: 0.708945 using {'learning_rate': 1.0, 'n_estimators': 500}\n"
          ],
          "name": "stdout"
        }
      ]
    },
    {
      "cell_type": "code",
      "metadata": {
        "colab": {
          "base_uri": "https://localhost:8080/"
        },
        "id": "ZC6jVNFz7iXH",
        "outputId": "d5cadd6d-5043-4909-88d0-7600a0d73a5d"
      },
      "source": [
        "# summarize all scores that were evaluated\n",
        "means = grid_result.cv_results_['mean_test_score']\n",
        "stds = grid_result.cv_results_['std_test_score']\n",
        "params = grid_result.cv_results_['params']\n",
        "\n",
        "for mean, stdev, param in zip(means, stds, params):\n",
        "    print(\"%f (%f) with: %r\" % (mean, stdev, param))"
      ],
      "execution_count": null,
      "outputs": [
        {
          "output_type": "stream",
          "text": [
            "0.625434 (0.000211) with: {'learning_rate': 0.001, 'n_estimators': 10}\n",
            "0.625434 (0.000211) with: {'learning_rate': 0.001, 'n_estimators': 50}\n",
            "0.625434 (0.000211) with: {'learning_rate': 0.001, 'n_estimators': 100}\n",
            "0.640848 (0.000813) with: {'learning_rate': 0.001, 'n_estimators': 500}\n",
            "0.625434 (0.000211) with: {'learning_rate': 0.01, 'n_estimators': 10}\n",
            "0.640848 (0.000813) with: {'learning_rate': 0.01, 'n_estimators': 50}\n",
            "0.664252 (0.000641) with: {'learning_rate': 0.01, 'n_estimators': 100}\n",
            "0.687119 (0.000707) with: {'learning_rate': 0.01, 'n_estimators': 500}\n",
            "0.663838 (0.000373) with: {'learning_rate': 0.1, 'n_estimators': 10}\n",
            "0.687070 (0.000474) with: {'learning_rate': 0.1, 'n_estimators': 50}\n",
            "0.695702 (0.000586) with: {'learning_rate': 0.1, 'n_estimators': 100}\n",
            "0.707553 (0.000389) with: {'learning_rate': 0.1, 'n_estimators': 500}\n",
            "0.681040 (0.000588) with: {'learning_rate': 1.0, 'n_estimators': 10}\n",
            "0.703801 (0.000691) with: {'learning_rate': 1.0, 'n_estimators': 50}\n",
            "0.707095 (0.000445) with: {'learning_rate': 1.0, 'n_estimators': 100}\n",
            "0.708945 (0.000448) with: {'learning_rate': 1.0, 'n_estimators': 500}\n"
          ],
          "name": "stdout"
        }
      ]
    },
    {
      "cell_type": "code",
      "metadata": {
        "colab": {
          "base_uri": "https://localhost:8080/"
        },
        "id": "dbzTBgP4YZ2X",
        "outputId": "55baca09-35a1-4550-b0be-19621c815ebd"
      },
      "source": [
        "y_pred_grid = grid_result.predict(X_test)\n",
        "\n",
        "metrics1 = get_metrics(y_test, y_pred_grid)\n",
        "print()\n",
        "print(confusion_matrix(y_test, y_pred_grid))"
      ],
      "execution_count": null,
      "outputs": [
        {
          "output_type": "stream",
          "text": [
            "accuracy : 0.710599\n",
            "recall   : 0.752131\n",
            "precision: 0.694880\n",
            "f1       : 0.722373\n",
            "AUC      : 0.710550\n",
            "\n",
            "[[203883 100889]\n",
            " [ 75720 229764]]\n"
          ],
          "name": "stdout"
        }
      ]
    }
  ]
}