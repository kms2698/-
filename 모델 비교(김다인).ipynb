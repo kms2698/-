{
 "cells": [
  {
   "cell_type": "code",
   "execution_count": 3,
   "metadata": {},
   "outputs": [],
   "source": [
    "import pandas as pd\n",
    "import numpy as np\n",
    "import matplotlib.pyplot as plt\n",
    "import matplotlib as mpl\n",
    "import time\n",
    "\n",
    "import warnings\n",
    "warnings.simplefilter(action='ignore', category=FutureWarning)"
   ]
  },
  {
   "cell_type": "code",
   "execution_count": 4,
   "metadata": {},
   "outputs": [],
   "source": [
    "# plt.rc('font', family='NanumGothicOTF') # For MacOS\n",
    "plt.rc('font', family='NanumGothic') # For Windows\n",
    "mpl.rcParams['axes.unicode_minus'] = False\n",
    "pd.set_option('display.max_columns', None)"
   ]
  },
  {
   "cell_type": "code",
   "execution_count": 5,
   "metadata": {},
   "outputs": [],
   "source": [
    "preprocessed_path = './csv/preprocessed'\n",
    "df = pd.read_csv(f'{preprocessed_path}/data_preprocessed.csv')"
   ]
  },
  {
   "cell_type": "code",
   "execution_count": 6,
   "metadata": {
    "scrolled": true
   },
   "outputs": [
    {
     "data": {
      "text/html": [
       "<div>\n",
       "<style scoped>\n",
       "    .dataframe tbody tr th:only-of-type {\n",
       "        vertical-align: middle;\n",
       "    }\n",
       "\n",
       "    .dataframe tbody tr th {\n",
       "        vertical-align: top;\n",
       "    }\n",
       "\n",
       "    .dataframe thead th {\n",
       "        text-align: right;\n",
       "    }\n",
       "</style>\n",
       "<table border=\"1\" class=\"dataframe\">\n",
       "  <thead>\n",
       "    <tr style=\"text-align: right;\">\n",
       "      <th></th>\n",
       "      <th>성별코드</th>\n",
       "      <th>연령대 코드</th>\n",
       "      <th>허리둘레</th>\n",
       "      <th>식전혈당</th>\n",
       "      <th>총콜레스테롤</th>\n",
       "      <th>트리글리세라이드</th>\n",
       "      <th>HDL콜레스테롤</th>\n",
       "      <th>LDL콜레스테롤</th>\n",
       "      <th>혈색소</th>\n",
       "      <th>요단백</th>\n",
       "      <th>혈청크레아티닌</th>\n",
       "      <th>AST</th>\n",
       "      <th>ALT</th>\n",
       "      <th>감마지티피</th>\n",
       "      <th>흡연상태</th>\n",
       "      <th>음주여부</th>\n",
       "      <th>복부비만</th>\n",
       "      <th>비만여부</th>\n",
       "      <th>고혈압</th>\n",
       "    </tr>\n",
       "  </thead>\n",
       "  <tbody>\n",
       "    <tr>\n",
       "      <th>0</th>\n",
       "      <td>1</td>\n",
       "      <td>8</td>\n",
       "      <td>90.0</td>\n",
       "      <td>0.0</td>\n",
       "      <td>193.0</td>\n",
       "      <td>92.0</td>\n",
       "      <td>48.0</td>\n",
       "      <td>126.0</td>\n",
       "      <td>17.1</td>\n",
       "      <td>1.0</td>\n",
       "      <td>1.0</td>\n",
       "      <td>21.0</td>\n",
       "      <td>35.0</td>\n",
       "      <td>40.0</td>\n",
       "      <td>1.0</td>\n",
       "      <td>1.0</td>\n",
       "      <td>1.0</td>\n",
       "      <td>1.0</td>\n",
       "      <td>1.0</td>\n",
       "    </tr>\n",
       "    <tr>\n",
       "      <th>1</th>\n",
       "      <td>1</td>\n",
       "      <td>7</td>\n",
       "      <td>89.0</td>\n",
       "      <td>1.0</td>\n",
       "      <td>228.0</td>\n",
       "      <td>121.0</td>\n",
       "      <td>55.0</td>\n",
       "      <td>148.0</td>\n",
       "      <td>15.8</td>\n",
       "      <td>1.0</td>\n",
       "      <td>0.9</td>\n",
       "      <td>20.0</td>\n",
       "      <td>36.0</td>\n",
       "      <td>27.0</td>\n",
       "      <td>3.0</td>\n",
       "      <td>0.0</td>\n",
       "      <td>0.0</td>\n",
       "      <td>0.0</td>\n",
       "      <td>1.0</td>\n",
       "    </tr>\n",
       "    <tr>\n",
       "      <th>2</th>\n",
       "      <td>1</td>\n",
       "      <td>9</td>\n",
       "      <td>91.0</td>\n",
       "      <td>0.0</td>\n",
       "      <td>136.0</td>\n",
       "      <td>104.0</td>\n",
       "      <td>41.0</td>\n",
       "      <td>74.0</td>\n",
       "      <td>15.8</td>\n",
       "      <td>1.0</td>\n",
       "      <td>0.9</td>\n",
       "      <td>47.0</td>\n",
       "      <td>32.0</td>\n",
       "      <td>68.0</td>\n",
       "      <td>1.0</td>\n",
       "      <td>0.0</td>\n",
       "      <td>1.0</td>\n",
       "      <td>1.0</td>\n",
       "      <td>1.0</td>\n",
       "    </tr>\n",
       "    <tr>\n",
       "      <th>3</th>\n",
       "      <td>1</td>\n",
       "      <td>11</td>\n",
       "      <td>91.0</td>\n",
       "      <td>0.0</td>\n",
       "      <td>201.0</td>\n",
       "      <td>106.0</td>\n",
       "      <td>76.0</td>\n",
       "      <td>104.0</td>\n",
       "      <td>17.6</td>\n",
       "      <td>1.0</td>\n",
       "      <td>1.1</td>\n",
       "      <td>29.0</td>\n",
       "      <td>34.0</td>\n",
       "      <td>18.0</td>\n",
       "      <td>1.0</td>\n",
       "      <td>0.0</td>\n",
       "      <td>1.0</td>\n",
       "      <td>1.0</td>\n",
       "      <td>2.0</td>\n",
       "    </tr>\n",
       "    <tr>\n",
       "      <th>4</th>\n",
       "      <td>1</td>\n",
       "      <td>11</td>\n",
       "      <td>80.0</td>\n",
       "      <td>1.0</td>\n",
       "      <td>199.0</td>\n",
       "      <td>104.0</td>\n",
       "      <td>61.0</td>\n",
       "      <td>117.0</td>\n",
       "      <td>13.8</td>\n",
       "      <td>1.0</td>\n",
       "      <td>0.8</td>\n",
       "      <td>19.0</td>\n",
       "      <td>12.0</td>\n",
       "      <td>25.0</td>\n",
       "      <td>1.0</td>\n",
       "      <td>0.0</td>\n",
       "      <td>0.0</td>\n",
       "      <td>0.0</td>\n",
       "      <td>1.0</td>\n",
       "    </tr>\n",
       "  </tbody>\n",
       "</table>\n",
       "</div>"
      ],
      "text/plain": [
       "   성별코드  연령대 코드  허리둘레  식전혈당  총콜레스테롤  트리글리세라이드  HDL콜레스테롤  LDL콜레스테롤   혈색소  요단백  \\\n",
       "0     1       8  90.0   0.0   193.0      92.0      48.0     126.0  17.1  1.0   \n",
       "1     1       7  89.0   1.0   228.0     121.0      55.0     148.0  15.8  1.0   \n",
       "2     1       9  91.0   0.0   136.0     104.0      41.0      74.0  15.8  1.0   \n",
       "3     1      11  91.0   0.0   201.0     106.0      76.0     104.0  17.6  1.0   \n",
       "4     1      11  80.0   1.0   199.0     104.0      61.0     117.0  13.8  1.0   \n",
       "\n",
       "   혈청크레아티닌   AST   ALT  감마지티피  흡연상태  음주여부  복부비만  비만여부  고혈압  \n",
       "0      1.0  21.0  35.0   40.0   1.0   1.0   1.0   1.0  1.0  \n",
       "1      0.9  20.0  36.0   27.0   3.0   0.0   0.0   0.0  1.0  \n",
       "2      0.9  47.0  32.0   68.0   1.0   0.0   1.0   1.0  1.0  \n",
       "3      1.1  29.0  34.0   18.0   1.0   0.0   1.0   1.0  2.0  \n",
       "4      0.8  19.0  12.0   25.0   1.0   0.0   0.0   0.0  1.0  "
      ]
     },
     "execution_count": 6,
     "metadata": {},
     "output_type": "execute_result"
    }
   ],
   "source": [
    "df.head()"
   ]
  },
  {
   "cell_type": "code",
   "execution_count": 7,
   "metadata": {},
   "outputs": [],
   "source": [
    "from sklearn.utils import shuffle\n",
    "from sklearn.model_selection import train_test_split\n",
    "\n",
    "from pandas import set_option\n",
    "from sklearn.model_selection import train_test_split\n",
    "from sklearn.model_selection import cross_val_score\n",
    "from sklearn.linear_model import LogisticRegression\n",
    "from sklearn.linear_model import Perceptron\n",
    "from sklearn.neighbors import KNeighborsClassifier\n",
    "from sklearn.tree import DecisionTreeClassifier\n",
    "from sklearn.naive_bayes import ComplementNB\n",
    "from sklearn.svm import SVC\n",
    "from sklearn.ensemble import AdaBoostClassifier\n",
    "from sklearn.ensemble import GradientBoostingClassifier\n",
    "from sklearn.ensemble import RandomForestClassifier\n",
    "from sklearn.ensemble import ExtraTreesClassifier\n",
    "from sklearn.feature_selection import RFE\n",
    "from sklearn.feature_selection import SelectFromModel\n",
    "from sklearn.metrics import accuracy_score\n",
    "from sklearn.metrics import confusion_matrix"
   ]
  },
  {
   "cell_type": "code",
   "execution_count": 57,
   "metadata": {},
   "outputs": [],
   "source": [
    "def GetTrainTest(df):\n",
    "    X =  df.loc[:, df.columns != '식전혈당']\n",
    "    Y = df['식전혈당']\n",
    "    X_train, X_test, y_train, y_test =train_test_split(X, Y, test_size=0.2, shuffle=True)\n",
    "    \n",
    "    return X_train, X_test, y_train, y_test\n",
    "\n",
    "def GetBasedModel():\n",
    "    basedModels = []\n",
    "    \n",
    "    #Linear Model\n",
    "    basedModels.append(LogisticRegression(class_weight='balanced'))\n",
    "    basedModels.append(Perceptron(class_weight='balanced'))\n",
    "    \n",
    "    #Nearest Neighborhood\n",
    "    #basedModels.append(KNeighborsClassifier()) Not Suitable for imbalanced data\n",
    "    \n",
    "    #Tree\n",
    "    basedModels.append(DecisionTreeClassifier(class_weight='balanced'))\n",
    "    \n",
    "    #Naives Bayes\n",
    "    basedModels.append(ComplementNB()) #Suitable NB for Imbalanced Data\n",
    "    \n",
    "    #SVM\n",
    "    #basedModels.append(SVC(probability=True)) 시간이 너무 오래 걸림\n",
    "    \n",
    "    #Ensemble Methods\n",
    "    basedModels.append(AdaBoostClassifier())\n",
    "    basedModels.append(GradientBoostingClassifier())\n",
    "    basedModels.append(RandomForestClassifier())\n",
    "    \n",
    "    return basedModels\n",
    "\n",
    "def EvaluateModel(X, Y, models, scoring='accuracy'):\n",
    "    names = []\n",
    "    results = []\n",
    "    \n",
    "    for model in models:\n",
    "        tic = time.perf_counter()\n",
    "        name = model.__class__.__name__\n",
    "        cv_result = cross_val_score(model, X, Y, scoring=scoring, cv = 3)\n",
    "        results.append(cv_result)\n",
    "        names.append(name)\n",
    "        toc = time.perf_counter()\n",
    "        msg = \"%s: %f (%0.4f seconds)\" % (name, cv_result.mean(), round((toc-tic), 4))\n",
    "        print(msg)\n",
    "        \n",
    "    return names, results\n",
    "\n",
    "def ScoreDataFrame(names,results):\n",
    "    #https://www.kaggle.com/pouryaayria/a-complete-ml-pipeline-tutorial-acu-86\n",
    "    def floatingDecimals(f_val, dec=3):\n",
    "        prc = \"{:.\"+str(dec)+\"f}\" \n",
    "    \n",
    "        return float(prc.format(f_val))\n",
    "\n",
    "    scores = []\n",
    "    for r in results:\n",
    "        scores.append(floatingDecimals(r.mean(),4))\n",
    "\n",
    "    scoreDataFrame = pd.DataFrame({'Model':names, 'Score': scores})\n",
    "    return scoreDataFrame"
   ]
  },
  {
   "cell_type": "code",
   "execution_count": 9,
   "metadata": {},
   "outputs": [],
   "source": [
    "df_binary = df.copy()\n",
    "df_binary.loc[df['식전혈당'] == 1, '식전혈당'] = 0\n",
    "df_binary.loc[df['식전혈당'] == 2, '식전혈당'] = 1\n",
    "\n",
    "X =  df.loc[:, df.columns != '식전혈당']\n",
    "y = df['식전혈당']\n",
    "X_binary = df_binary.loc[:, df.columns != '식전혈당']\n",
    "y_binary = df_binary['식전혈당']\n",
    "#X_train, X_test, Y_train, Y_test = GetTrainTest(df)\n",
    "#X_train2, X_test2, Y_train2, Y_test2 = GetTrainTest(df_binary)"
   ]
  },
  {
   "cell_type": "markdown",
   "metadata": {},
   "source": [
    "## Feature Selection"
   ]
  },
  {
   "cell_type": "code",
   "execution_count": 35,
   "metadata": {},
   "outputs": [],
   "source": [
    "features = []"
   ]
  },
  {
   "cell_type": "code",
   "execution_count": 10,
   "metadata": {},
   "outputs": [],
   "source": [
    "#Feature Selection using RFE\n",
    "#rfe = RFE(model)\n",
    "#fit = rfe.fit(X, y)\n",
    "#X_rfe = X.columns.values[fit.get_support()]\n",
    "#print(\"Num Featrues: %d\" % fit.n_features_)\n",
    "#print(\"Selected Features: %s\" % fit.support_)\n",
    "#print(\"Feature Ranking: %s\" % fit.ranking_)\n",
    "#print(X_rfe)\n",
    "#features.append(('X_rfe', X_rfe))"
   ]
  },
  {
   "cell_type": "code",
   "execution_count": 19,
   "metadata": {},
   "outputs": [
    {
     "name": "stdout",
     "output_type": "stream",
     "text": [
      "Num Features: 8\n",
      "Selected Features: ['허리둘레' '감마지티피' '연령대 코드' '트리글리세라이드' 'ALT' '고혈압' '복부비만' '비만여부']\n"
     ]
    }
   ],
   "source": [
    "#Feature Selection using Information Gain\n",
    "def Entropy(df, attribute) :\n",
    "    list1  = list(df[attribute].unique())\n",
    "    etp = 0\n",
    "    for i in range(len(list1)):\n",
    "        q1 = len(df[df[attribute] == list1[i]])/len(df[attribute])\n",
    "        etp -=  q1*np.log2(q1)\n",
    "    return etp\n",
    "\n",
    "\n",
    "def Group_info(df,m_attribute,fix_attribute):\n",
    "    list2 = list(df[m_attribute].unique())\n",
    "    info_Entropy = Entropy(df,fix_attribute)\n",
    "    info_data = 0\n",
    "    for i in range (len(list2)) :\n",
    "        q2 = df.loc[df[m_attribute] == list2[i]]\n",
    "        info_data +=  (len(q2[m_attribute])/len(df[m_attribute]))* Entropy(q2,fix_attribute) \n",
    "    \n",
    "    data = info_Entropy - info_data\n",
    "    \n",
    "    return data\n",
    "\n",
    "info = X.columns\n",
    "\n",
    "info_gain = []\n",
    "\n",
    "for i in info:\n",
    "    info_gain.append(Group_info(df, i, \"식전혈당\"))\n",
    "    \n",
    "EntropyDataFrame = pd.DataFrame({'Columns':info, 'Entropy': info_gain})\n",
    "EntropyDataFrame.sort_values(by = ['Entropy'], ascending=False, inplace = True)\n",
    "EntropyDataFrame\n",
    "\n",
    "threshold = 0.02\n",
    "X_info = EntropyDataFrame.loc[EntropyDataFrame['Entropy']>threshold].Columns\n",
    "print(\"Num Features: %d\" % X_info.shape[0])\n",
    "print(\"Selected Features: %s\" % X_info.values)\n",
    "features.append(('X_info', X_info.values))"
   ]
  },
  {
   "cell_type": "code",
   "execution_count": 22,
   "metadata": {},
   "outputs": [
    {
     "name": "stdout",
     "output_type": "stream",
     "text": [
      "X_LR\n",
      "Num Features: 7\n",
      "Selected Features: ['성별코드' '연령대 코드' '요단백' '음주여부' '복부비만' '비만여부' '고혈압']\n",
      "X_GBM\n",
      "Num Features: 5\n",
      "Selected Features: ['연령대 코드' '허리둘레' '트리글리세라이드' '감마지티피' '고혈압']\n",
      "X_RF\n",
      "Num Features: 10\n",
      "Selected Features: ['연령대 코드' '허리둘레' '총콜레스테롤' '트리글리세라이드' 'HDL콜레스테롤' 'LDL콜레스테롤' '혈색소' 'AST'\n",
      " 'ALT' '감마지티피']\n"
     ]
    }
   ],
   "source": [
    "#Feature Selection using Logistic Regression, Gradient Boost Classifier, RandomForestClassifier\n",
    "models = []\n",
    "models.append(('LR', LogisticRegression()))\n",
    "models.append(('GBM', GradientBoostingClassifier()))\n",
    "models.append(('RF', RandomForestClassifier()))\n",
    "\n",
    "for name, model in models:\n",
    "    fit = SelectFromModel(estimator=model).fit(X, y)\n",
    "    X_name = 'X_'+name\n",
    "    X_fs = X.columns.values[fit.get_support()]\n",
    "    print(X_name)\n",
    "    print(\"Num Features: %d\" % X_fs.shape[0])\n",
    "    print(\"Selected Features: %s\" % X_fs)\n",
    "    features.append((X_name, X_fs))"
   ]
  },
  {
   "cell_type": "code",
   "execution_count": 36,
   "metadata": {},
   "outputs": [
    {
     "data": {
      "text/plain": [
       "[('X_info', array(['허리둘레', '감마지티피', '연령대 코드', '트리글리세라이드', 'ALT', '고혈압', '복부비만',\n",
       "         '비만여부'], dtype='<U8')),\n",
       " ('X_LR', array(['성별코드', '연령대 코드', '요단백', '음주여부', '복부비만', '비만여부', '고혈압'],\n",
       "        dtype='<U6')),\n",
       " ('X_GBM', array(['연령대 코드', '허리둘레', '트리글리세라이드', '감마지티피', '고혈압'], dtype='<U8')),\n",
       " ('X_RF',\n",
       "  array(['연령대 코드', '허리둘레', '총콜레스테롤', '트리글리세라이드', 'HDL콜레스테롤', 'LDL콜레스테롤',\n",
       "         '혈색소', 'AST', 'ALT', '감마지티피'], dtype='<U8'))]"
      ]
     },
     "execution_count": 36,
     "metadata": {},
     "output_type": "execute_result"
    }
   ],
   "source": [
    "features.append(('X_info', np.array(['허리둘레', '감마지티피', '연령대 코드', '트리글리세라이드', 'ALT', '고혈압', '복부비만', '비만여부'])))\n",
    "features.append(('X_LR', np.array(['성별코드', '연령대 코드', '요단백', '음주여부', '복부비만', '비만여부', '고혈압'])))\n",
    "features.append(('X_GBM', np.array(['연령대 코드', '허리둘레', '트리글리세라이드', '감마지티피', '고혈압'])))\n",
    "features.append(('X_RF', np.array(['연령대 코드', '허리둘레', '총콜레스테롤', '트리글리세라이드', 'HDL콜레스테롤', 'LDL콜레스테롤', '혈색소', 'AST',\n",
    " 'ALT', '감마지티피'])))\n",
    "features"
   ]
  },
  {
   "cell_type": "markdown",
   "metadata": {},
   "source": [
    "## Train Model"
   ]
  },
  {
   "cell_type": "code",
   "execution_count": 58,
   "metadata": {},
   "outputs": [],
   "source": [
    "models = GetBasedModel()\n",
    "score_name = ['Model', 'Score_default']\n",
    "result_list = []"
   ]
  },
  {
   "cell_type": "code",
   "execution_count": 59,
   "metadata": {},
   "outputs": [
    {
     "name": "stdout",
     "output_type": "stream",
     "text": [
      "LogisticRegression: 0.591329 (534.7613 seconds)\n",
      "Perceptron: 0.538768 (11.3623 seconds)\n",
      "DecisionTreeClassifier: 0.530795 (63.7553 seconds)\n",
      "ComplementNB: 0.583626 (1.8226 seconds)\n",
      "AdaBoostClassifier: 0.631127 (261.4433 seconds)\n",
      "GradientBoostingClassifier: 0.635167 (2183.8628 seconds)\n",
      "RandomForestClassifier: 0.608343 (135.7594 seconds)\n",
      "X_info\n",
      "LogisticRegression: 0.586542 (113.0462 seconds)\n",
      "Perceptron: 0.549429 (10.2117 seconds)\n",
      "DecisionTreeClassifier: 0.523131 (30.2049 seconds)\n",
      "ComplementNB: 0.591874 (1.4021 seconds)\n",
      "AdaBoostClassifier: 0.630232 (165.9954 seconds)\n",
      "GradientBoostingClassifier: 0.631713 (1132.3707 seconds)\n",
      "RandomForestClassifier: 0.595252 (74.0197 seconds)\n",
      "\n",
      "X_LR\n",
      "LogisticRegression: 0.585650 (26.0268 seconds)\n",
      "Perceptron: 0.561275 (8.9887 seconds)\n",
      "DecisionTreeClassifier: 0.457559 (9.2227 seconds)\n",
      "ComplementNB: 0.575001 (1.4389 seconds)\n",
      "AdaBoostClassifier: 0.625068 (91.8107 seconds)\n",
      "GradientBoostingClassifier: 0.625615 (634.0162 seconds)\n",
      "RandomForestClassifier: 0.623872 (27.5673 seconds)\n",
      "\n",
      "X_GBM\n",
      "LogisticRegression: 0.587045 (61.5252 seconds)\n",
      "Perceptron: 0.538883 (8.7066 seconds)\n",
      "DecisionTreeClassifier: 0.517988 (22.9720 seconds)\n",
      "ComplementNB: 0.591877 (1.2013 seconds)\n",
      "AdaBoostClassifier: 0.630264 (129.6660 seconds)\n",
      "GradientBoostingClassifier: 0.631301 (789.8337 seconds)\n",
      "RandomForestClassifier: 0.575675 (69.7771 seconds)\n",
      "\n",
      "X_RF\n",
      "LogisticRegression: 0.585882 (201.4517 seconds)\n",
      "Perceptron: 0.601599 (8.8911 seconds)\n",
      "DecisionTreeClassifier: 0.527608 (47.8089 seconds)\n",
      "ComplementNB: 0.582613 (1.7145 seconds)\n",
      "AdaBoostClassifier: 0.628947 (201.9968 seconds)\n",
      "GradientBoostingClassifier: 0.632576 (1520.0568 seconds)\n",
      "RandomForestClassifier: 0.604927 (116.6758 seconds)\n",
      "\n"
     ]
    }
   ],
   "source": [
    "names, results = EvaluateModel(X, y, models)\n",
    "result_list.append(('Default', results))\n",
    "ModelComparison = ScoreDataFrame(names,results)\n",
    "\n",
    "for name, X_feat in features:\n",
    "    print(name)\n",
    "    score_name.append('Score'+name[1:])\n",
    "    names, results = EvaluateModel(X[X_feat], y, models)\n",
    "    result_list.append((name, results))\n",
    "    basedLineScore = ScoreDataFrame(names,results)\n",
    "    ModelComparison = ModelComparison.merge(basedLineScore, on='Model', how='left')\n",
    "    print()"
   ]
  },
  {
   "cell_type": "code",
   "execution_count": 63,
   "metadata": {},
   "outputs": [
    {
     "data": {
      "text/html": [
       "<div>\n",
       "<style scoped>\n",
       "    .dataframe tbody tr th:only-of-type {\n",
       "        vertical-align: middle;\n",
       "    }\n",
       "\n",
       "    .dataframe tbody tr th {\n",
       "        vertical-align: top;\n",
       "    }\n",
       "\n",
       "    .dataframe thead th {\n",
       "        text-align: right;\n",
       "    }\n",
       "</style>\n",
       "<table border=\"1\" class=\"dataframe\">\n",
       "  <thead>\n",
       "    <tr style=\"text-align: right;\">\n",
       "      <th></th>\n",
       "      <th>Model</th>\n",
       "      <th>Score_default</th>\n",
       "      <th>Score_info</th>\n",
       "      <th>Score_LR</th>\n",
       "      <th>Score_GBM</th>\n",
       "      <th>Score_RF</th>\n",
       "    </tr>\n",
       "  </thead>\n",
       "  <tbody>\n",
       "    <tr>\n",
       "      <th>0</th>\n",
       "      <td>LogisticRegression</td>\n",
       "      <td>0.5913</td>\n",
       "      <td>0.5865</td>\n",
       "      <td>0.5856</td>\n",
       "      <td>0.5870</td>\n",
       "      <td>0.5859</td>\n",
       "    </tr>\n",
       "    <tr>\n",
       "      <th>1</th>\n",
       "      <td>Perceptron</td>\n",
       "      <td>0.5388</td>\n",
       "      <td>0.5494</td>\n",
       "      <td>0.5613</td>\n",
       "      <td>0.5389</td>\n",
       "      <td>0.6016</td>\n",
       "    </tr>\n",
       "    <tr>\n",
       "      <th>2</th>\n",
       "      <td>DecisionTreeClassifier</td>\n",
       "      <td>0.5308</td>\n",
       "      <td>0.5231</td>\n",
       "      <td>0.4576</td>\n",
       "      <td>0.5180</td>\n",
       "      <td>0.5276</td>\n",
       "    </tr>\n",
       "    <tr>\n",
       "      <th>3</th>\n",
       "      <td>ComplementNB</td>\n",
       "      <td>0.5836</td>\n",
       "      <td>0.5919</td>\n",
       "      <td>0.5750</td>\n",
       "      <td>0.5919</td>\n",
       "      <td>0.5826</td>\n",
       "    </tr>\n",
       "    <tr>\n",
       "      <th>4</th>\n",
       "      <td>AdaBoostClassifier</td>\n",
       "      <td>0.6311</td>\n",
       "      <td>0.6302</td>\n",
       "      <td>0.6251</td>\n",
       "      <td>0.6303</td>\n",
       "      <td>0.6289</td>\n",
       "    </tr>\n",
       "    <tr>\n",
       "      <th>5</th>\n",
       "      <td>GradientBoostingClassifier</td>\n",
       "      <td>0.6352</td>\n",
       "      <td>0.6317</td>\n",
       "      <td>0.6256</td>\n",
       "      <td>0.6313</td>\n",
       "      <td>0.6326</td>\n",
       "    </tr>\n",
       "    <tr>\n",
       "      <th>6</th>\n",
       "      <td>RandomForestClassifier</td>\n",
       "      <td>0.6083</td>\n",
       "      <td>0.5953</td>\n",
       "      <td>0.6239</td>\n",
       "      <td>0.5757</td>\n",
       "      <td>0.6049</td>\n",
       "    </tr>\n",
       "  </tbody>\n",
       "</table>\n",
       "</div>"
      ],
      "text/plain": [
       "                        Model  Score_default  Score_info  Score_LR  Score_GBM  \\\n",
       "0          LogisticRegression         0.5913      0.5865    0.5856     0.5870   \n",
       "1                  Perceptron         0.5388      0.5494    0.5613     0.5389   \n",
       "2      DecisionTreeClassifier         0.5308      0.5231    0.4576     0.5180   \n",
       "3                ComplementNB         0.5836      0.5919    0.5750     0.5919   \n",
       "4          AdaBoostClassifier         0.6311      0.6302    0.6251     0.6303   \n",
       "5  GradientBoostingClassifier         0.6352      0.6317    0.6256     0.6313   \n",
       "6      RandomForestClassifier         0.6083      0.5953    0.6239     0.5757   \n",
       "\n",
       "   Score_RF  \n",
       "0    0.5859  \n",
       "1    0.6016  \n",
       "2    0.5276  \n",
       "3    0.5826  \n",
       "4    0.6289  \n",
       "5    0.6326  \n",
       "6    0.6049  "
      ]
     },
     "execution_count": 63,
     "metadata": {},
     "output_type": "execute_result"
    }
   ],
   "source": [
    "ModelComparison.columns = score_name\n",
    "ModelComparison"
   ]
  },
  {
   "cell_type": "code",
   "execution_count": 61,
   "metadata": {},
   "outputs": [
    {
     "data": {
      "text/plain": [
       "[('Default',\n",
       "  [array([0.59934044, 0.59979196, 0.57485336]),\n",
       "   array([0.6201279 , 0.60224784, 0.39392908]),\n",
       "   array([0.53547839, 0.53715654, 0.51974858]),\n",
       "   array([0.58703075, 0.58685487, 0.57699206]),\n",
       "   array([0.63283874, 0.6329545 , 0.62758854]),\n",
       "   array([0.63687822, 0.63620101, 0.63242102]),\n",
       "   array([0.61231015, 0.61171452, 0.60100521])]),\n",
       " ('X_info',\n",
       "  [array([0.59536626, 0.59467496, 0.56958474]),\n",
       "   array([0.58785404, 0.61810261, 0.44233088]),\n",
       "   array([0.52745074, 0.52978657, 0.51215701]),\n",
       "   array([0.5938946 , 0.59442075, 0.5873054 ]),\n",
       "   array([0.63168194, 0.63214986, 0.6268632 ]),\n",
       "   array([0.63289471, 0.63354456, 0.62870104]),\n",
       "   array([0.59924715, 0.59979663, 0.586713  ])]),\n",
       " ('X_LR',\n",
       "  [array([0.59430041, 0.59479158, 0.56785652]),\n",
       "   array([0.62145496, 0.61645836, 0.44591093]),\n",
       "   array([0.47312066, 0.47179237, 0.42776346]),\n",
       "   array([0.57810518, 0.5780039 , 0.56889438]),\n",
       "   array([0.62653463, 0.62589705, 0.62277238]),\n",
       "   array([0.62719932, 0.62675532, 0.622889  ]),\n",
       "   array([0.6253615 , 0.62535363, 0.62090189])]),\n",
       " ('X_GBM',\n",
       "  [array([0.59547121, 0.59526036, 0.57040337]),\n",
       "   array([0.61655487, 0.54164849, 0.4584446 ]),\n",
       "   array([0.52287951, 0.52517335, 0.50591116]),\n",
       "   array([0.59399489, 0.59433445, 0.58730307]),\n",
       "   array([0.63170759, 0.63210555, 0.62697981]),\n",
       "   array([0.63278743, 0.63293117, 0.62818327]),\n",
       "   array([0.58100185, 0.58102186, 0.56500181])]),\n",
       " ('X_RF',\n",
       "  [array([0.59409984, 0.59433678, 0.56920924]),\n",
       "   array([0.62101883, 0.62156836, 0.56221007]),\n",
       "   array([0.53406504, 0.53326632, 0.51549217]),\n",
       "   array([0.58608851, 0.58578435, 0.57596586]),\n",
       "   array([0.63078868, 0.63083446, 0.62521661]),\n",
       "   array([0.63435704, 0.63341862, 0.62995114]),\n",
       "   array([0.60935751, 0.60798056, 0.59744149])])]"
      ]
     },
     "execution_count": 61,
     "metadata": {},
     "output_type": "execute_result"
    }
   ],
   "source": [
    "result_list"
   ]
  },
  {
   "cell_type": "code",
   "execution_count": 127,
   "metadata": {},
   "outputs": [
    {
     "data": {
      "image/png": "[encoded data removed]",
      "text/plain": [
       "<Figure size 720x288 with 1 Axes>"
      ]
     },
     "metadata": {
      "needs_background": "light"
     },
     "output_type": "display_data"
    }
   ],
   "source": [
    "ModelComparison.plot(x=\"Model\",linestyle='--', marker='o', grid=True, figsize=(10, 4))\n",
    "model_labels = ['LR', 'PCT', 'DT', 'CNB', 'AB', 'GBM', 'RF']\n",
    "plt.title('Model Comparison')\n",
    "locs, labels = plt.xticks()\n",
    "plt.xticks((locs+1)[:7], model_labels)\n",
    "plt.show()"
   ]
  },
  {
   "cell_type": "code",
   "execution_count": 134,
   "metadata": {},
   "outputs": [],
   "source": [
    "X_train, X_test, y_train, y_test = GetTrainTest(df)"
   ]
  },
  {
   "cell_type": "code",
   "execution_count": 155,
   "metadata": {},
   "outputs": [],
   "source": [
    "model = LogisticRegression()\n",
    "X_LR = features[1][1]\n",
    "model.fit(X_train[X_LR], y_train)\n",
    "y_pred = model.predict(X_test[X_LR])"
   ]
  },
  {
   "cell_type": "code",
   "execution_count": 156,
   "metadata": {},
   "outputs": [
    {
     "name": "stdout",
     "output_type": "stream",
     "text": [
      "[[146528  12221    228]\n",
      " [ 64846  13081    293]\n",
      " [ 14216   5518    329]]\n",
      "0.6216978931819949\n"
     ]
    }
   ],
   "source": [
    "print(confusion_matrix(y_test, y_pred))\n",
    "print(accuracy_score(y_test, y_pred))"
   ]
  },
  {
   "cell_type": "code",
   "execution_count": null,
   "metadata": {},
   "outputs": [],
   "source": []
  },
  {
   "cell_type": "markdown",
   "metadata": {},
   "source": [
    "## How About Binary Classification?"
   ]
  },
  {
   "cell_type": "code",
   "execution_count": 157,
   "metadata": {},
   "outputs": [
    {
     "name": "stdout",
     "output_type": "stream",
     "text": [
      "LogisticRegression: 0.694644 (167.1863 seconds)\n",
      "Perceptron: 0.885505 (4.9278 seconds)\n",
      "DecisionTreeClassifier: 0.871052 (63.7920 seconds)\n",
      "ComplementNB: 0.733173 (1.9025 seconds)\n",
      "AdaBoostClassifier: 0.921450 (267.1597 seconds)\n",
      "GradientBoostingClassifier: 0.922304 (595.9360 seconds)\n",
      "RandomForestClassifier: 0.919928 (120.0347 seconds)\n",
      "X_info\n",
      "LogisticRegression: 0.670820 (33.3712 seconds)\n",
      "Perceptron: 0.900129 (4.1127 seconds)\n",
      "DecisionTreeClassifier: 0.866645 (28.1892 seconds)\n",
      "ComplementNB: 0.761192 (1.5857 seconds)\n",
      "AdaBoostClassifier: 0.922010 (148.7823 seconds)\n",
      "GradientBoostingClassifier: 0.922139 (312.7972 seconds)\n",
      "RandomForestClassifier: 0.918374 (64.7609 seconds)\n",
      "\n",
      "X_LR\n",
      "LogisticRegression: 0.666013 (8.6894 seconds)\n",
      "Perceptron: 0.875823 (4.1781 seconds)\n",
      "DecisionTreeClassifier: 0.603810 (9.0643 seconds)\n",
      "ComplementNB: 0.667626 (1.7088 seconds)\n",
      "AdaBoostClassifier: 0.921849 (82.9952 seconds)\n",
      "GradientBoostingClassifier: 0.922108 (180.0141 seconds)\n",
      "RandomForestClassifier: 0.921523 (27.3085 seconds)\n",
      "\n",
      "X_GBM\n",
      "LogisticRegression: 0.672209 (17.8140 seconds)\n",
      "Perceptron: 0.881298 (3.9488 seconds)\n",
      "DecisionTreeClassifier: 0.863720 (21.3003 seconds)\n",
      "ComplementNB: 0.760028 (1.4236 seconds)\n",
      "AdaBoostClassifier: 0.922006 (122.6442 seconds)\n",
      "GradientBoostingClassifier: 0.922118 (253.2161 seconds)\n",
      "RandomForestClassifier: 0.910812 (68.8335 seconds)\n",
      "\n",
      "X_RF\n",
      "LogisticRegression: 0.687653 (59.1334 seconds)\n",
      "Perceptron: 0.863268 (4.1300 seconds)\n",
      "DecisionTreeClassifier: 0.870129 (49.2307 seconds)\n",
      "ComplementNB: 0.733225 (1.7785 seconds)\n",
      "AdaBoostClassifier: 0.921505 (214.4354 seconds)\n",
      "GradientBoostingClassifier: 0.922087 (493.3487 seconds)\n",
      "RandomForestClassifier: 0.919363 (117.8714 seconds)\n",
      "\n"
     ]
    }
   ],
   "source": [
    "models = GetBasedModel()\n",
    "score_name = ['Model', 'Score_default']\n",
    "binary_list = []\n",
    "\n",
    "names, results = EvaluateModel(X_binary, y_binary, models)\n",
    "binary_list.append(('Default', results))\n",
    "BinaryModelComparison = ScoreDataFrame(names,results)\n",
    "\n",
    "for name, X_feat in features:\n",
    "    print(name)\n",
    "    score_name.append('Score'+name[1:])\n",
    "    names, results = EvaluateModel(X_binary[X_feat], y_binary, models)\n",
    "    binary_list.append((name, results))\n",
    "    basedLineScore = ScoreDataFrame(names,results)\n",
    "    BinaryModelComparison = BinaryModelComparison.merge(basedLineScore, on='Model', how='left')\n",
    "    print()"
   ]
  },
  {
   "cell_type": "code",
   "execution_count": 158,
   "metadata": {},
   "outputs": [
    {
     "data": {
      "text/html": [
       "<div>\n",
       "<style scoped>\n",
       "    .dataframe tbody tr th:only-of-type {\n",
       "        vertical-align: middle;\n",
       "    }\n",
       "\n",
       "    .dataframe tbody tr th {\n",
       "        vertical-align: top;\n",
       "    }\n",
       "\n",
       "    .dataframe thead th {\n",
       "        text-align: right;\n",
       "    }\n",
       "</style>\n",
       "<table border=\"1\" class=\"dataframe\">\n",
       "  <thead>\n",
       "    <tr style=\"text-align: right;\">\n",
       "      <th></th>\n",
       "      <th>Model</th>\n",
       "      <th>Score_default</th>\n",
       "      <th>Score_info</th>\n",
       "      <th>Score_LR</th>\n",
       "      <th>Score_GBM</th>\n",
       "      <th>Score_RF</th>\n",
       "    </tr>\n",
       "  </thead>\n",
       "  <tbody>\n",
       "    <tr>\n",
       "      <th>0</th>\n",
       "      <td>LogisticRegression</td>\n",
       "      <td>0.6946</td>\n",
       "      <td>0.6708</td>\n",
       "      <td>0.6660</td>\n",
       "      <td>0.6722</td>\n",
       "      <td>0.6877</td>\n",
       "    </tr>\n",
       "    <tr>\n",
       "      <th>1</th>\n",
       "      <td>Perceptron</td>\n",
       "      <td>0.8855</td>\n",
       "      <td>0.9001</td>\n",
       "      <td>0.8758</td>\n",
       "      <td>0.8813</td>\n",
       "      <td>0.8633</td>\n",
       "    </tr>\n",
       "    <tr>\n",
       "      <th>2</th>\n",
       "      <td>DecisionTreeClassifier</td>\n",
       "      <td>0.8711</td>\n",
       "      <td>0.8666</td>\n",
       "      <td>0.6038</td>\n",
       "      <td>0.8637</td>\n",
       "      <td>0.8701</td>\n",
       "    </tr>\n",
       "    <tr>\n",
       "      <th>3</th>\n",
       "      <td>ComplementNB</td>\n",
       "      <td>0.7332</td>\n",
       "      <td>0.7612</td>\n",
       "      <td>0.6676</td>\n",
       "      <td>0.7600</td>\n",
       "      <td>0.7332</td>\n",
       "    </tr>\n",
       "    <tr>\n",
       "      <th>4</th>\n",
       "      <td>AdaBoostClassifier</td>\n",
       "      <td>0.9214</td>\n",
       "      <td>0.9220</td>\n",
       "      <td>0.9218</td>\n",
       "      <td>0.9220</td>\n",
       "      <td>0.9215</td>\n",
       "    </tr>\n",
       "    <tr>\n",
       "      <th>5</th>\n",
       "      <td>GradientBoostingClassifier</td>\n",
       "      <td>0.9223</td>\n",
       "      <td>0.9221</td>\n",
       "      <td>0.9221</td>\n",
       "      <td>0.9221</td>\n",
       "      <td>0.9221</td>\n",
       "    </tr>\n",
       "    <tr>\n",
       "      <th>6</th>\n",
       "      <td>RandomForestClassifier</td>\n",
       "      <td>0.9199</td>\n",
       "      <td>0.9184</td>\n",
       "      <td>0.9215</td>\n",
       "      <td>0.9108</td>\n",
       "      <td>0.9194</td>\n",
       "    </tr>\n",
       "  </tbody>\n",
       "</table>\n",
       "</div>"
      ],
      "text/plain": [
       "                        Model  Score_default  Score_info  Score_LR  Score_GBM  \\\n",
       "0          LogisticRegression         0.6946      0.6708    0.6660     0.6722   \n",
       "1                  Perceptron         0.8855      0.9001    0.8758     0.8813   \n",
       "2      DecisionTreeClassifier         0.8711      0.8666    0.6038     0.8637   \n",
       "3                ComplementNB         0.7332      0.7612    0.6676     0.7600   \n",
       "4          AdaBoostClassifier         0.9214      0.9220    0.9218     0.9220   \n",
       "5  GradientBoostingClassifier         0.9223      0.9221    0.9221     0.9221   \n",
       "6      RandomForestClassifier         0.9199      0.9184    0.9215     0.9108   \n",
       "\n",
       "   Score_RF  \n",
       "0    0.6877  \n",
       "1    0.8633  \n",
       "2    0.8701  \n",
       "3    0.7332  \n",
       "4    0.9215  \n",
       "5    0.9221  \n",
       "6    0.9194  "
      ]
     },
     "execution_count": 158,
     "metadata": {},
     "output_type": "execute_result"
    }
   ],
   "source": [
    "BinaryModelComparison.columns = score_name\n",
    "BinaryModelComparison"
   ]
  },
  {
   "cell_type": "code",
   "execution_count": 159,
   "metadata": {},
   "outputs": [
    {
     "data": {
      "image/png": "[encoded data removed]",
      "text/plain": [
       "<Figure size 720x288 with 1 Axes>"
      ]
     },
     "metadata": {
      "needs_background": "light"
     },
     "output_type": "display_data"
    }
   ],
   "source": [
    "BinaryModelComparison.plot(x=\"Model\",linestyle='--', marker='o', grid=True, figsize=(10, 4))\n",
    "model_labels = ['LR', 'PCT', 'DT', 'CNB', 'AB', 'GBM', 'RF']\n",
    "plt.title('Model Comparison')\n",
    "locs, labels = plt.xticks()\n",
    "plt.xticks((locs+1)[:7], model_labels)\n",
    "plt.show()"
   ]
  },
  {
   "cell_type": "code",
   "execution_count": 145,
   "metadata": {},
   "outputs": [
    {
     "name": "stdout",
     "output_type": "stream",
     "text": [
      "[[236806    394]\n",
      " [ 19808    252]]\n"
     ]
    }
   ],
   "source": [
    "X_train2, X_test2, y_train2, y_test2 = GetTrainTest(df_binary)\n",
    "model = RandomForestClassifier()\n",
    "X_LR = features[1][1]\n",
    "model.fit(X_train2[X_LR], y_train2)\n",
    "y_pred = model.predict(X_test2[X_LR])\n",
    "\n",
    "#False Negative 비율이 높음..."
   ]
  },
  {
   "cell_type": "code",
   "execution_count": 148,
   "metadata": {},
   "outputs": [
    {
     "name": "stdout",
     "output_type": "stream",
     "text": [
      "[[235982   1218]\n",
      " [ 19376    684]]\n",
      "0.9199486900412035\n"
     ]
    }
   ],
   "source": [
    "model2 = RandomForestClassifier()\n",
    "model2.fit(X_train2, y_train2)\n",
    "y_pred = model2.predict(X_test2)\n",
    "print(confusion_matrix(y_test2, y_pred))\n",
    "print(accuracy_score(y_test2, y_pred))"
   ]
  },
  {
   "cell_type": "code",
   "execution_count": 152,
   "metadata": {},
   "outputs": [
    {
     "name": "stdout",
     "output_type": "stream",
     "text": [
      "[[233474   3726]\n",
      " [ 19351    709]]\n"
     ]
    }
   ],
   "source": [
    "model3 = RandomForestClassifier()\n",
    "X_GBM = features[2][1]\n",
    "model3.fit(X_train2[X_GBM], y_train2)\n",
    "y_pred = model3.predict(X_test2[X_GBM])\n",
    "print(confusion_matrix(y_test2, y_pred))"
   ]
  }
 ],
 "metadata": {
  "kernelspec": {
   "display_name": "Python 3",
   "language": "python",
   "name": "python3"
  },
  "language_info": {
   "codemirror_mode": {
    "name": "ipython",
    "version": 3
   },
   "file_extension": ".py",
   "mimetype": "text/x-python",
   "name": "python",
   "nbconvert_exporter": "python",
   "pygments_lexer": "ipython3",
   "version": "3.7.1"
  }
 },
 "nbformat": 4,
 "nbformat_minor": 2
}
