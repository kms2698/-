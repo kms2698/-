{
 "cells": [
  {
   "cell_type": "code",
   "execution_count": 1,
   "metadata": {},
   "outputs": [],
   "source": [
    "import pandas as pd\n",
    "import numpy as np"
   ]
  },
  {
   "cell_type": "code",
   "execution_count": 2,
   "metadata": {},
   "outputs": [],
   "source": [
    "df = pd.read_csv('data.csv',encoding='CP949')"
   ]
  },
  {
   "cell_type": "code",
   "execution_count": 3,
   "metadata": {},
   "outputs": [
    {
     "data": {
      "text/html": [
       "<div>\n",
       "<style scoped>\n",
       "    .dataframe tbody tr th:only-of-type {\n",
       "        vertical-align: middle;\n",
       "    }\n",
       "\n",
       "    .dataframe tbody tr th {\n",
       "        vertical-align: top;\n",
       "    }\n",
       "\n",
       "    .dataframe thead th {\n",
       "        text-align: right;\n",
       "    }\n",
       "</style>\n",
       "<table border=\"1\" class=\"dataframe\">\n",
       "  <thead>\n",
       "    <tr style=\"text-align: right;\">\n",
       "      <th></th>\n",
       "      <th>식전혈당(공복혈당)</th>\n",
       "      <th>구강검진 수검여부</th>\n",
       "      <th>결손치 유무</th>\n",
       "      <th>치아마모증유무</th>\n",
       "      <th>제3대구치(사랑니) 이상</th>\n",
       "      <th>치석</th>\n",
       "    </tr>\n",
       "  </thead>\n",
       "  <tbody>\n",
       "    <tr>\n",
       "      <th>0</th>\n",
       "      <td>93.0</td>\n",
       "      <td>1</td>\n",
       "      <td>미시행</td>\n",
       "      <td>미시행</td>\n",
       "      <td>미시행</td>\n",
       "      <td>1.0</td>\n",
       "    </tr>\n",
       "    <tr>\n",
       "      <th>1</th>\n",
       "      <td>89.0</td>\n",
       "      <td>0</td>\n",
       "      <td>미시행</td>\n",
       "      <td>미시행</td>\n",
       "      <td>미시행</td>\n",
       "      <td>NaN</td>\n",
       "    </tr>\n",
       "    <tr>\n",
       "      <th>2</th>\n",
       "      <td>100.0</td>\n",
       "      <td>0</td>\n",
       "      <td>미시행</td>\n",
       "      <td>미시행</td>\n",
       "      <td>미시행</td>\n",
       "      <td>NaN</td>\n",
       "    </tr>\n",
       "    <tr>\n",
       "      <th>3</th>\n",
       "      <td>85.0</td>\n",
       "      <td>0</td>\n",
       "      <td>미시행</td>\n",
       "      <td>미시행</td>\n",
       "      <td>미시행</td>\n",
       "      <td>NaN</td>\n",
       "    </tr>\n",
       "    <tr>\n",
       "      <th>4</th>\n",
       "      <td>91.0</td>\n",
       "      <td>0</td>\n",
       "      <td>미시행</td>\n",
       "      <td>미시행</td>\n",
       "      <td>미시행</td>\n",
       "      <td>NaN</td>\n",
       "    </tr>\n",
       "  </tbody>\n",
       "</table>\n",
       "</div>"
      ],
      "text/plain": [
       "   식전혈당(공복혈당)  구강검진 수검여부 결손치 유무 치아마모증유무 제3대구치(사랑니) 이상   치석\n",
       "0        93.0          1    미시행     미시행           미시행  1.0\n",
       "1        89.0          0    미시행     미시행           미시행  NaN\n",
       "2       100.0          0    미시행     미시행           미시행  NaN\n",
       "3        85.0          0    미시행     미시행           미시행  NaN\n",
       "4        91.0          0    미시행     미시행           미시행  NaN"
      ]
     },
     "execution_count": 3,
     "metadata": {},
     "output_type": "execute_result"
    }
   ],
   "source": [
    "#구강검진 관련 기록만\n",
    "teeth_df = df[['식전혈당(공복혈당)', '구강검진 수검여부', '결손치 유무', '치아마모증유무', '제3대구치(사랑니) 이상','치석']].copy()\n",
    "teeth_df.head()"
   ]
  },
  {
   "cell_type": "code",
   "execution_count": 4,
   "metadata": {},
   "outputs": [
    {
     "data": {
      "text/plain": [
       "식전혈당(공복혈당)         5523\n",
       "구강검진 수검여부             0\n",
       "결손치 유무                0\n",
       "치아마모증유무               0\n",
       "제3대구치(사랑니) 이상         0\n",
       "치석               602320\n",
       "dtype: int64"
      ]
     },
     "execution_count": 4,
     "metadata": {},
     "output_type": "execute_result"
    }
   ],
   "source": [
    "teeth_df.isnull().sum()"
   ]
  },
  {
   "cell_type": "code",
   "execution_count": 5,
   "metadata": {},
   "outputs": [],
   "source": [
    "teeth_df = teeth_df.dropna()"
   ]
  },
  {
   "cell_type": "code",
   "execution_count": 6,
   "metadata": {},
   "outputs": [
    {
     "name": "stdout",
     "output_type": "stream",
     "text": [
      "1    397657\n",
      "Name: 구강검진 수검여부, dtype: int64\n",
      "미시행    397657\n",
      "Name: 결손치 유무, dtype: int64\n",
      "미시행    397657\n",
      "Name: 치아마모증유무, dtype: int64\n",
      "미시행    397657\n",
      "Name: 제3대구치(사랑니) 이상, dtype: int64\n",
      "1.0    191920\n",
      "0.0    184882\n",
      "2.0     20855\n",
      "Name: 치석, dtype: int64\n"
     ]
    }
   ],
   "source": [
    "#치석을 제외하면 전부 미시행\n",
    "print(teeth_df['구강검진 수검여부'].value_counts())\n",
    "\n",
    "print(teeth_df['결손치 유무'].value_counts())\n",
    "\n",
    "print(teeth_df['치아마모증유무'].value_counts())\n",
    "\n",
    "print(teeth_df['제3대구치(사랑니) 이상'].value_counts())\n",
    "\n",
    "print(teeth_df['치석'].value_counts())"
   ]
  },
  {
   "cell_type": "code",
   "execution_count": 7,
   "metadata": {},
   "outputs": [],
   "source": [
    "teeth_df = teeth_df.drop(['결손치 유무', '치아마모증유무', '제3대구치(사랑니) 이상'], axis=1)\n",
    "teeth_df = teeth_df[teeth_df['구강검진 수검여부'] != 0]"
   ]
  },
  {
   "cell_type": "code",
   "execution_count": 8,
   "metadata": {},
   "outputs": [
    {
     "data": {
      "text/html": [
       "<div>\n",
       "<style scoped>\n",
       "    .dataframe tbody tr th:only-of-type {\n",
       "        vertical-align: middle;\n",
       "    }\n",
       "\n",
       "    .dataframe tbody tr th {\n",
       "        vertical-align: top;\n",
       "    }\n",
       "\n",
       "    .dataframe thead th {\n",
       "        text-align: right;\n",
       "    }\n",
       "</style>\n",
       "<table border=\"1\" class=\"dataframe\">\n",
       "  <thead>\n",
       "    <tr style=\"text-align: right;\">\n",
       "      <th></th>\n",
       "      <th>식전혈당(공복혈당)</th>\n",
       "      <th>구강검진 수검여부</th>\n",
       "      <th>치석</th>\n",
       "      <th>당뇨여부</th>\n",
       "    </tr>\n",
       "  </thead>\n",
       "  <tbody>\n",
       "    <tr>\n",
       "      <th>0</th>\n",
       "      <td>93.0</td>\n",
       "      <td>1</td>\n",
       "      <td>1.0</td>\n",
       "      <td>0</td>\n",
       "    </tr>\n",
       "    <tr>\n",
       "      <th>6</th>\n",
       "      <td>90.0</td>\n",
       "      <td>1</td>\n",
       "      <td>0.0</td>\n",
       "      <td>0</td>\n",
       "    </tr>\n",
       "    <tr>\n",
       "      <th>7</th>\n",
       "      <td>130.0</td>\n",
       "      <td>1</td>\n",
       "      <td>0.0</td>\n",
       "      <td>1</td>\n",
       "    </tr>\n",
       "    <tr>\n",
       "      <th>8</th>\n",
       "      <td>99.0</td>\n",
       "      <td>1</td>\n",
       "      <td>0.0</td>\n",
       "      <td>0</td>\n",
       "    </tr>\n",
       "    <tr>\n",
       "      <th>9</th>\n",
       "      <td>98.0</td>\n",
       "      <td>1</td>\n",
       "      <td>0.0</td>\n",
       "      <td>0</td>\n",
       "    </tr>\n",
       "  </tbody>\n",
       "</table>\n",
       "</div>"
      ],
      "text/plain": [
       "   식전혈당(공복혈당)  구강검진 수검여부   치석  당뇨여부\n",
       "0        93.0          1  1.0     0\n",
       "6        90.0          1  0.0     0\n",
       "7       130.0          1  0.0     1\n",
       "8        99.0          1  0.0     0\n",
       "9        98.0          1  0.0     0"
      ]
     },
     "execution_count": 8,
     "metadata": {},
     "output_type": "execute_result"
    }
   ],
   "source": [
    "temp = np.where(teeth_df['식전혈당(공복혈당)'] >= 126, 1, 0)\n",
    "teeth_df['당뇨여부'] = temp\n",
    "teeth_df.head()"
   ]
  },
  {
   "cell_type": "code",
   "execution_count": 9,
   "metadata": {},
   "outputs": [
    {
     "data": {
      "text/plain": [
       "<matplotlib.axes._subplots.AxesSubplot at 0x218b2f502e8>"
      ]
     },
     "execution_count": 9,
     "metadata": {},
     "output_type": "execute_result"
    }
   ],
   "source": [
    "diabetes = pd.DataFrame(teeth_df[teeth_df['식전혈당(공복혈당)']>=126]['치석'].value_counts())\n",
    "not_diabetes = pd.DataFrame(teeth_df[teeth_df['식전혈당(공복혈당)']<126]['치석'].value_counts())\n",
    "\n",
    "diabetes.plot(kind='bar', title='diabetes')\n",
    "not_diabetes.plot(kind='bar', title='not diabetes')"
   ]
  },
  {
   "cell_type": "code",
   "execution_count": 10,
   "metadata": {},
   "outputs": [
    {
     "data": {
      "text/plain": [
       "<matplotlib.axes._subplots.AxesSubplot at 0x218b32b6278>"
      ]
     },
     "execution_count": 10,
     "metadata": {},
     "output_type": "execute_result"
    },
    {
     "data": {
      "image/png": "[encoded data removed]",
      "text/plain": [
       "<Figure size 432x288 with 1 Axes>"
      ]
     },
     "metadata": {
      "needs_background": "light"
     },
     "output_type": "display_data"
    },
    {
     "data": {
      "image/png": "[encoded data removed]",
      "text/plain": [
       "<Figure size 432x288 with 1 Axes>"
      ]
     },
     "metadata": {
      "needs_background": "light"
     },
     "output_type": "display_data"
    }
   ],
   "source": [
    "teeth_df = teeth_df[teeth_df['치석'] != 2.0]\n",
    "diabetes = pd.DataFrame(teeth_df[teeth_df['식전혈당(공복혈당)']>=126]['치석'].value_counts())\n",
    "not_diabetes = pd.DataFrame(teeth_df[teeth_df['식전혈당(공복혈당)']<126]['치석'].value_counts())\n",
    "\n",
    "diabetes.plot(kind='bar', title='diabetes')\n",
    "not_diabetes.plot(kind='bar', title='not diabetes')"
   ]
  }
 ],
 "metadata": {
  "kernelspec": {
   "display_name": "Python 3",
   "language": "python",
   "name": "python3"
  },
  "language_info": {
   "codemirror_mode": {
    "name": "ipython",
    "version": 3
   },
   "file_extension": ".py",
   "mimetype": "text/x-python",
   "name": "python",
   "nbconvert_exporter": "python",
   "pygments_lexer": "ipython3",
   "version": "3.7.1"
  }
 },
 "nbformat": 4,
 "nbformat_minor": 2
}
