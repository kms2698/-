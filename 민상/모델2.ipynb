{
 "cells": [
  {
   "cell_type": "code",
   "execution_count": 4,
   "id": "356fa5a6",
   "metadata": {},
   "outputs": [],
   "source": [
    "import pandas as pd\n",
    "import numpy as np\n",
    "import matplotlib.pyplot as plt\n",
    "import seaborn as sns"
   ]
  },
  {
   "cell_type": "code",
   "execution_count": 3,
   "id": "e49524ca",
   "metadata": {},
   "outputs": [],
   "source": [
    "df = pd.read_csv('세진.csv')"
   ]
  },
  {
   "cell_type": "code",
   "execution_count": 8,
   "id": "2d6def65",
   "metadata": {},
   "outputs": [],
   "source": [
    "df = df.drop(['Unnamed: 0'],axis=1)"
   ]
  },
  {
   "cell_type": "code",
   "execution_count": 9,
   "id": "9a198950",
   "metadata": {},
   "outputs": [
    {
     "name": "stdout",
     "output_type": "stream",
     "text": [
      "<class 'pandas.core.frame.DataFrame'>\n",
      "RangeIndex: 1316214 entries, 0 to 1316213\n",
      "Data columns (total 26 columns):\n",
      " #   Column       Non-Null Count    Dtype  \n",
      "---  ------       --------------    -----  \n",
      " 0   성별코드         1316214 non-null  int64  \n",
      " 1   연령대코드(5세단위)  1316214 non-null  int64  \n",
      " 2   신장(5Cm단위)    1316214 non-null  int64  \n",
      " 3   체중(5Kg단위)    1316214 non-null  int64  \n",
      " 4   허리둘레         1316214 non-null  float64\n",
      " 5   수축기혈압        1316214 non-null  float64\n",
      " 6   이완기혈압        1316214 non-null  float64\n",
      " 7   식전혈당(공복혈당)   1316214 non-null  float64\n",
      " 8   총콜레스테롤       1316214 non-null  float64\n",
      " 9   트리글리세라이드     1316214 non-null  float64\n",
      " 10  HDL콜레스테롤     1316214 non-null  float64\n",
      " 11  LDL콜레스테롤     1316214 non-null  float64\n",
      " 12  혈색소          1316214 non-null  float64\n",
      " 13  요단백          1316214 non-null  float64\n",
      " 14  혈청크레아티닌      1316214 non-null  float64\n",
      " 15  (혈청지오티)AST   1316214 non-null  float64\n",
      " 16  (혈청지오티)ALT   1316214 non-null  float64\n",
      " 17  감마지티피        1316214 non-null  float64\n",
      " 18  흡연상태         1316214 non-null  float64\n",
      " 19  음주여부         1316214 non-null  float64\n",
      " 20  고혈압          1316214 non-null  int64  \n",
      " 21  bmi          1316214 non-null  float64\n",
      " 22  비만도          1316214 non-null  int64  \n",
      " 23  복부비만         1316214 non-null  int64  \n",
      " 24  고지혈증         1316214 non-null  int64  \n",
      " 25  당뇨병          1316214 non-null  int64  \n",
      "dtypes: float64(17), int64(9)\n",
      "memory usage: 261.1 MB\n",
      "None\n"
     ]
    }
   ],
   "source": [
    "print(df.info())"
   ]
  },
  {
   "cell_type": "code",
   "execution_count": 11,
   "id": "9ce30293",
   "metadata": {},
   "outputs": [],
   "source": [
    "from sklearn.tree import DecisionTreeClassifier\n",
    "from sklearn.ensemble import RandomForestClassifier\n",
    "from sklearn.linear_model import LogisticRegression\n",
    "from sklearn.metrics import accuracy_score"
   ]
  },
  {
   "cell_type": "code",
   "execution_count": 18,
   "id": "1cd5cdcf",
   "metadata": {},
   "outputs": [
    {
     "name": "stdout",
     "output_type": "stream",
     "text": [
      "DecisionTreeClassifier 정확도:0.5279\n",
      "RandomForestClassifier 정확도:0.6290\n",
      "LogisticRegression 정확도:0.6264\n"
     ]
    },
    {
     "name": "stderr",
     "output_type": "stream",
     "text": [
      "/Users/kimminsang/miniforge3/lib/python3.9/site-packages/sklearn/linear_model/_logistic.py:763: ConvergenceWarning: lbfgs failed to converge (status=1):\n",
      "STOP: TOTAL NO. of ITERATIONS REACHED LIMIT.\n",
      "\n",
      "Increase the number of iterations (max_iter) or scale the data as shown in:\n",
      "    https://scikit-learn.org/stable/modules/preprocessing.html\n",
      "Please also refer to the documentation for alternative solver options:\n",
      "    https://scikit-learn.org/stable/modules/linear_model.html#logistic-regression\n",
      "  n_iter_i = _check_optimize_result(\n"
     ]
    }
   ],
   "source": [
    "y_info = df['당뇨병']\n",
    "x_info = df.drop(['당뇨병','식전혈당(공복혈당)'],axis=1)\n",
    "\n",
    "x_train, x_test, y_train, y_test = train_test_split(x_info, y_info, test_size=0.2, random_state=11)\n",
    "\n",
    "engine1 = DecisionTreeClassifier(random_state=11)\n",
    "engine2 = RandomForestClassifier(random_state=11)\n",
    "engine3 = LogisticRegression()\n",
    "\n",
    "engine1.fit(x_train,y_train)\n",
    "engine1_result = engine1.predict(x_test)\n",
    "print('DecisionTreeClassifier 정확도:{0:.4f}'.format(accuracy_score(y_test,engine1_result)))\n",
    "\n",
    "engine2.fit(x_train,y_train)\n",
    "engine2_result = engine2.predict(x_test)\n",
    "print('RandomForestClassifier 정확도:{0:.4f}'.format(accuracy_score(y_test,engine2_result)))\n",
    "\n",
    "engine3.fit(x_train,y_train)\n",
    "engine3_result = engine3.predict(x_test)\n",
    "print('LogisticRegression 정확도:{0:.4f}'.format(accuracy_score(y_test,engine3_result)))"
   ]
  },
  {
   "cell_type": "code",
   "execution_count": null,
   "id": "f77a6a64",
   "metadata": {},
   "outputs": [],
   "source": []
  }
 ],
 "metadata": {
  "kernelspec": {
   "display_name": "Python 3",
   "language": "python",
   "name": "python3"
  },
  "language_info": {
   "codemirror_mode": {
    "name": "ipython",
    "version": 3
   },
   "file_extension": ".py",
   "mimetype": "text/x-python",
   "name": "python",
   "nbconvert_exporter": "python",
   "pygments_lexer": "ipython3",
   "version": "3.9.2"
  }
 },
 "nbformat": 4,
 "nbformat_minor": 5
}
