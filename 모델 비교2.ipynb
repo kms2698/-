{
 "cells": [
  {
   "cell_type": "code",
   "execution_count": 1,
   "metadata": {},
   "outputs": [],
   "source": [
    "import pandas as pd\n",
    "import numpy as np\n",
    "import matplotlib.pyplot as plt\n",
    "import matplotlib as mpl\n",
    "import time\n",
    "\n",
    "import warnings\n",
    "warnings.simplefilter(action='ignore', category=FutureWarning)"
   ]
  },
  {
   "cell_type": "code",
   "execution_count": 2,
   "metadata": {},
   "outputs": [],
   "source": [
    "# plt.rc('font', family='NanumGothicOTF') # For MacOS\n",
    "plt.rc('font', family='NanumGothic') # For Windows\n",
    "mpl.rcParams['axes.unicode_minus'] = False\n",
    "pd.set_option('display.max_columns', None)"
   ]
  },
  {
   "cell_type": "code",
   "execution_count": 3,
   "metadata": {},
   "outputs": [],
   "source": [
    "preprocessed_path = './csv/preprocessed'\n",
    "df = pd.read_csv(f'{preprocessed_path}/data_preprocessed.csv')\n",
    "df_2019 = pd.read_csv(f'{preprocessed_path}/data_2019_diabetes.csv')"
   ]
  },
  {
   "cell_type": "code",
   "execution_count": 4,
   "metadata": {},
   "outputs": [],
   "source": [
    "df_2019 = df.append(df_2019.loc[df_2019['식전혈당']!=0])\n",
    "df_2019 = df_2019.sample(frac=1).reset_index(drop=True)"
   ]
  },
  {
   "cell_type": "code",
   "execution_count": 5,
   "metadata": {},
   "outputs": [
    {
     "name": "stdout",
     "output_type": "stream",
     "text": [
      "(1286300, 19)\n",
      "(1421674, 19)\n"
     ]
    }
   ],
   "source": [
    "print(df.shape)\n",
    "print(df_2019.shape)"
   ]
  },
  {
   "cell_type": "code",
   "execution_count": 6,
   "metadata": {
    "scrolled": true
   },
   "outputs": [
    {
     "data": {
      "text/html": [
       "<div>\n",
       "<style scoped>\n",
       "    .dataframe tbody tr th:only-of-type {\n",
       "        vertical-align: middle;\n",
       "    }\n",
       "\n",
       "    .dataframe tbody tr th {\n",
       "        vertical-align: top;\n",
       "    }\n",
       "\n",
       "    .dataframe thead th {\n",
       "        text-align: right;\n",
       "    }\n",
       "</style>\n",
       "<table border=\"1\" class=\"dataframe\">\n",
       "  <thead>\n",
       "    <tr style=\"text-align: right;\">\n",
       "      <th></th>\n",
       "      <th>성별코드</th>\n",
       "      <th>연령대 코드</th>\n",
       "      <th>허리둘레</th>\n",
       "      <th>식전혈당</th>\n",
       "      <th>총콜레스테롤</th>\n",
       "      <th>트리글리세라이드</th>\n",
       "      <th>HDL콜레스테롤</th>\n",
       "      <th>LDL콜레스테롤</th>\n",
       "      <th>혈색소</th>\n",
       "      <th>요단백</th>\n",
       "      <th>혈청크레아티닌</th>\n",
       "      <th>AST</th>\n",
       "      <th>ALT</th>\n",
       "      <th>감마지티피</th>\n",
       "      <th>흡연상태</th>\n",
       "      <th>음주여부</th>\n",
       "      <th>복부비만</th>\n",
       "      <th>비만여부</th>\n",
       "      <th>고혈압</th>\n",
       "    </tr>\n",
       "  </thead>\n",
       "  <tbody>\n",
       "    <tr>\n",
       "      <th>0</th>\n",
       "      <td>1</td>\n",
       "      <td>8</td>\n",
       "      <td>90.0</td>\n",
       "      <td>0.0</td>\n",
       "      <td>193.0</td>\n",
       "      <td>92.0</td>\n",
       "      <td>48.0</td>\n",
       "      <td>126.0</td>\n",
       "      <td>17.1</td>\n",
       "      <td>1.0</td>\n",
       "      <td>1.0</td>\n",
       "      <td>21.0</td>\n",
       "      <td>35.0</td>\n",
       "      <td>40.0</td>\n",
       "      <td>1.0</td>\n",
       "      <td>1.0</td>\n",
       "      <td>1.0</td>\n",
       "      <td>1.0</td>\n",
       "      <td>1.0</td>\n",
       "    </tr>\n",
       "    <tr>\n",
       "      <th>1</th>\n",
       "      <td>1</td>\n",
       "      <td>7</td>\n",
       "      <td>89.0</td>\n",
       "      <td>1.0</td>\n",
       "      <td>228.0</td>\n",
       "      <td>121.0</td>\n",
       "      <td>55.0</td>\n",
       "      <td>148.0</td>\n",
       "      <td>15.8</td>\n",
       "      <td>1.0</td>\n",
       "      <td>0.9</td>\n",
       "      <td>20.0</td>\n",
       "      <td>36.0</td>\n",
       "      <td>27.0</td>\n",
       "      <td>3.0</td>\n",
       "      <td>0.0</td>\n",
       "      <td>0.0</td>\n",
       "      <td>0.0</td>\n",
       "      <td>1.0</td>\n",
       "    </tr>\n",
       "    <tr>\n",
       "      <th>2</th>\n",
       "      <td>1</td>\n",
       "      <td>9</td>\n",
       "      <td>91.0</td>\n",
       "      <td>0.0</td>\n",
       "      <td>136.0</td>\n",
       "      <td>104.0</td>\n",
       "      <td>41.0</td>\n",
       "      <td>74.0</td>\n",
       "      <td>15.8</td>\n",
       "      <td>1.0</td>\n",
       "      <td>0.9</td>\n",
       "      <td>47.0</td>\n",
       "      <td>32.0</td>\n",
       "      <td>68.0</td>\n",
       "      <td>1.0</td>\n",
       "      <td>0.0</td>\n",
       "      <td>1.0</td>\n",
       "      <td>1.0</td>\n",
       "      <td>1.0</td>\n",
       "    </tr>\n",
       "    <tr>\n",
       "      <th>3</th>\n",
       "      <td>1</td>\n",
       "      <td>11</td>\n",
       "      <td>91.0</td>\n",
       "      <td>0.0</td>\n",
       "      <td>201.0</td>\n",
       "      <td>106.0</td>\n",
       "      <td>76.0</td>\n",
       "      <td>104.0</td>\n",
       "      <td>17.6</td>\n",
       "      <td>1.0</td>\n",
       "      <td>1.1</td>\n",
       "      <td>29.0</td>\n",
       "      <td>34.0</td>\n",
       "      <td>18.0</td>\n",
       "      <td>1.0</td>\n",
       "      <td>0.0</td>\n",
       "      <td>1.0</td>\n",
       "      <td>1.0</td>\n",
       "      <td>2.0</td>\n",
       "    </tr>\n",
       "    <tr>\n",
       "      <th>4</th>\n",
       "      <td>1</td>\n",
       "      <td>11</td>\n",
       "      <td>80.0</td>\n",
       "      <td>1.0</td>\n",
       "      <td>199.0</td>\n",
       "      <td>104.0</td>\n",
       "      <td>61.0</td>\n",
       "      <td>117.0</td>\n",
       "      <td>13.8</td>\n",
       "      <td>1.0</td>\n",
       "      <td>0.8</td>\n",
       "      <td>19.0</td>\n",
       "      <td>12.0</td>\n",
       "      <td>25.0</td>\n",
       "      <td>1.0</td>\n",
       "      <td>0.0</td>\n",
       "      <td>0.0</td>\n",
       "      <td>0.0</td>\n",
       "      <td>1.0</td>\n",
       "    </tr>\n",
       "  </tbody>\n",
       "</table>\n",
       "</div>"
      ],
      "text/plain": [
       "   성별코드  연령대 코드  허리둘레  식전혈당  총콜레스테롤  트리글리세라이드  HDL콜레스테롤  LDL콜레스테롤   혈색소  요단백  \\\n",
       "0     1       8  90.0   0.0   193.0      92.0      48.0     126.0  17.1  1.0   \n",
       "1     1       7  89.0   1.0   228.0     121.0      55.0     148.0  15.8  1.0   \n",
       "2     1       9  91.0   0.0   136.0     104.0      41.0      74.0  15.8  1.0   \n",
       "3     1      11  91.0   0.0   201.0     106.0      76.0     104.0  17.6  1.0   \n",
       "4     1      11  80.0   1.0   199.0     104.0      61.0     117.0  13.8  1.0   \n",
       "\n",
       "   혈청크레아티닌   AST   ALT  감마지티피  흡연상태  음주여부  복부비만  비만여부  고혈압  \n",
       "0      1.0  21.0  35.0   40.0   1.0   1.0   1.0   1.0  1.0  \n",
       "1      0.9  20.0  36.0   27.0   3.0   0.0   0.0   0.0  1.0  \n",
       "2      0.9  47.0  32.0   68.0   1.0   0.0   1.0   1.0  1.0  \n",
       "3      1.1  29.0  34.0   18.0   1.0   0.0   1.0   1.0  2.0  \n",
       "4      0.8  19.0  12.0   25.0   1.0   0.0   0.0   0.0  1.0  "
      ]
     },
     "execution_count": 6,
     "metadata": {},
     "output_type": "execute_result"
    }
   ],
   "source": [
    "df.head()"
   ]
  },
  {
   "cell_type": "code",
   "execution_count": 7,
   "metadata": {},
   "outputs": [
    {
     "data": {
      "text/plain": [
       "Index(['성별코드', '연령대 코드', '허리둘레', '식전혈당', '총콜레스테롤', '트리글리세라이드', 'HDL콜레스테롤',\n",
       "       'LDL콜레스테롤', '혈색소', '요단백', '혈청크레아티닌', 'AST', 'ALT', '감마지티피', '흡연상태',\n",
       "       '음주여부', '복부비만', '비만여부', '고혈압'],\n",
       "      dtype='object')"
      ]
     },
     "execution_count": 7,
     "metadata": {},
     "output_type": "execute_result"
    }
   ],
   "source": [
    "df.columns"
   ]
  },
  {
   "cell_type": "code",
   "execution_count": 8,
   "metadata": {},
   "outputs": [],
   "source": [
    "from sklearn.utils import shuffle\n",
    "from sklearn.model_selection import train_test_split\n",
    "\n",
    "from pandas import set_option\n",
    "from sklearn.model_selection import train_test_split\n",
    "from sklearn.model_selection import cross_val_score\n",
    "from sklearn.linear_model import LogisticRegression\n",
    "from sklearn.linear_model import Perceptron\n",
    "from sklearn.neighbors import KNeighborsClassifier\n",
    "from sklearn.tree import DecisionTreeClassifier\n",
    "from sklearn.naive_bayes import ComplementNB\n",
    "from sklearn.svm import SVC\n",
    "from sklearn.ensemble import AdaBoostClassifier\n",
    "from sklearn.ensemble import GradientBoostingClassifier\n",
    "from sklearn.ensemble import RandomForestClassifier\n",
    "from sklearn.ensemble import ExtraTreesClassifier\n",
    "from lightgbm import LGBMClassifier\n",
    "from sklearn.feature_selection import RFE\n",
    "from sklearn.feature_selection import SelectFromModel\n",
    "from sklearn.metrics import accuracy_score\n",
    "from sklearn.metrics import confusion_matrix\n",
    "from sklearn.metrics import f1_score\n",
    "from sklearn.metrics import roc_auc_score"
   ]
  },
  {
   "cell_type": "code",
   "execution_count": 22,
   "metadata": {},
   "outputs": [],
   "source": [
    "def GetTrainTest(df):\n",
    "    X =  df.loc[:, df.columns != '식전혈당']\n",
    "    Y = df['식전혈당']\n",
    "    X_train, X_test, y_train, y_test = train_test_split(X, Y, test_size=0.2, shuffle=True)\n",
    "    \n",
    "    return X_train, X_test, y_train, y_test\n",
    "\n",
    "def GetBasedModel(cw='balanced'):\n",
    "    basedModels = []\n",
    "    \n",
    "    #Linear Model\n",
    "    basedModels.append(LogisticRegression(class_weight=cw))\n",
    "    basedModels.append(Perceptron(class_weight=cw))\n",
    "    \n",
    "    #Nearest Neighborhood\n",
    "    #basedModels.append(KNeighborsClassifier()) Not Suitable for imbalanced data\n",
    "    \n",
    "    #Tree\n",
    "    basedModels.append(DecisionTreeClassifier(class_weight=cw))\n",
    "    \n",
    "    #Naives Bayes\n",
    "    basedModels.append(ComplementNB()) #Suitable NB for Imbalanced Data\n",
    "    \n",
    "    #SVM\n",
    "    #basedModels.append(SVC(probability=True)) 시간이 너무 오래 걸림\n",
    "    \n",
    "    #Ensemble Methods\n",
    "    basedModels.append(AdaBoostClassifier())\n",
    "    #basedModels.append(GradientBoostingClassifier())\n",
    "    basedModels.append(LGBMClassifier())\n",
    "    basedModels.append(RandomForestClassifier())\n",
    "    \n",
    "    return basedModels\n",
    "\n",
    "def EvaluateModel(X, Y, models, scoring='accuracy'):\n",
    "    names = []\n",
    "    results = []\n",
    "    \n",
    "    for model in models:\n",
    "        tic = time.perf_counter()\n",
    "        name = model.__class__.__name__\n",
    "        cv_result = cross_val_score(model, X, Y, scoring=scoring, cv = 3)\n",
    "        results.append(cv_result)\n",
    "        names.append(name)\n",
    "        toc = time.perf_counter()\n",
    "        msg = \"%s: %f (%0.4f seconds)\" % (name, cv_result.mean(), round((toc-tic), 4))\n",
    "        print(msg)\n",
    "        \n",
    "    return names, results\n",
    "\n",
    "def EvaluateModel2(X, y, models):\n",
    "    names = []\n",
    "    accuracy_results = []\n",
    "    f1_results = []\n",
    "    \n",
    "    X_train, X_test, y_train, y_test = train_test_split(X, y, test_size=0.2, shuffle=True)\n",
    "    \n",
    "    for model in models:\n",
    "        tic = time.perf_counter()\n",
    "        name = model.__class__.__name__\n",
    "        model.fit(X_train, y_train)\n",
    "        y_pred = model.predict(X_test)\n",
    "        names.append(name)\n",
    "        accuracy =  accuracy_score(y_test, y_pred)\n",
    "        f1 = f1_score(y_test, y_pred, average='macro')\n",
    "        accuracy_results.append(accuracy)\n",
    "        f1_results.append(f1)\n",
    "        toc = time.perf_counter()\n",
    "        msg = \"%s: %f %f (%0.4f seconds)\" % (name, accuracy, f1, round((toc-tic), 4))\n",
    "        print(msg)\n",
    "        \n",
    "    return names, accuracy_results, f1_results\n",
    "\n",
    "\n",
    "def ScoreDataFrame(names,results):\n",
    "    #https://www.kaggle.com/pouryaayria/a-complete-ml-pipeline-tutorial-acu-86\n",
    "    def floatingDecimals(f_val, dec=3):\n",
    "        prc = \"{:.\"+str(dec)+\"f}\" \n",
    "    \n",
    "        return float(prc.format(f_val))\n",
    "\n",
    "    scores = []\n",
    "    for r in results:\n",
    "        scores.append(floatingDecimals(r.mean(),4))\n",
    "\n",
    "    scoreDataFrame = pd.DataFrame({'Model':names, 'Score': scores})\n",
    "    return scoreDataFrame\n",
    "\n",
    "def ScoreDataFrame2(names,results):\n",
    "    #https://www.kaggle.com/pouryaayria/a-complete-ml-pipeline-tutorial-acu-86\n",
    "    def floatingDecimals(f_val, dec=3):\n",
    "        prc = \"{:.\"+str(dec)+\"f}\" \n",
    "    \n",
    "        return float(prc.format(f_val))\n",
    "\n",
    "    scores = []\n",
    "    for r in results:\n",
    "        scores.append(floatingDecimals(r,4))\n",
    "\n",
    "    scoreDataFrame = pd.DataFrame({'Model':names, 'Score': scores})\n",
    "    return scoreDataFrame"
   ]
  },
  {
   "cell_type": "code",
   "execution_count": 10,
   "metadata": {},
   "outputs": [],
   "source": [
    "df.loc[df['식전혈당'] == 1, '식전혈당'] = 0\n",
    "df.loc[df['식전혈당'] == 2, '식전혈당'] = 1\n",
    "\n",
    "df_2019.loc[df_2019['식전혈당'] == 1, '식전혈당'] = 0\n",
    "df_2019.loc[df_2019['식전혈당'] == 2, '식전혈당'] = 1\n",
    "\n",
    "X =  df.loc[:, df.columns != '식전혈당']\n",
    "y = df['식전혈당']\n",
    "\n",
    "X_2019 =  df_2019.loc[:, df.columns != '식전혈당']\n",
    "y_2019 = df_2019['식전혈당']"
   ]
  },
  {
   "cell_type": "markdown",
   "metadata": {},
   "source": [
    "## Feature Selection"
   ]
  },
  {
   "cell_type": "code",
   "execution_count": 11,
   "metadata": {},
   "outputs": [],
   "source": [
    "features = []"
   ]
  },
  {
   "cell_type": "code",
   "execution_count": null,
   "metadata": {},
   "outputs": [],
   "source": [
    "#Feature Selection using RFE\n",
    "#rfe = RFE(model)\n",
    "#fit = rfe.fit(X, y)\n",
    "#X_rfe = X.columns.values[fit.get_support()]\n",
    "#print(\"Num Featrues: %d\" % fit.n_features_)\n",
    "#print(\"Selected Features: %s\" % fit.support_)\n",
    "#print(\"Feature Ranking: %s\" % fit.ranking_)\n",
    "#print(X_rfe)\n",
    "#features.append(('X_rfe', X_rfe))"
   ]
  },
  {
   "cell_type": "code",
   "execution_count": null,
   "metadata": {},
   "outputs": [],
   "source": [
    "#Feature Selection using Information Gain\n",
    "def Entropy(df, attribute) :\n",
    "    list1  = list(df[attribute].unique())\n",
    "    etp = 0\n",
    "    for i in range(len(list1)):\n",
    "        q1 = len(df[df[attribute] == list1[i]])/len(df[attribute])\n",
    "        etp -=  q1*np.log2(q1)\n",
    "    return etp\n",
    "\n",
    "\n",
    "def Group_info(df,m_attribute,fix_attribute):\n",
    "    list2 = list(df[m_attribute].unique())\n",
    "    info_Entropy = Entropy(df,fix_attribute)\n",
    "    info_data = 0\n",
    "    for i in range (len(list2)) :\n",
    "        q2 = df.loc[df[m_attribute] == list2[i]]\n",
    "        info_data +=  (len(q2[m_attribute])/len(df[m_attribute]))* Entropy(q2,fix_attribute) \n",
    "    \n",
    "    data = info_Entropy - info_data\n",
    "    \n",
    "    return data\n",
    "\n",
    "info = X.columns\n",
    "\n",
    "info_gain = []\n",
    "\n",
    "for i in info:\n",
    "    info_gain.append(Group_info(df, i, \"식전혈당\"))\n",
    "    \n",
    "EntropyDataFrame = pd.DataFrame({'Columns':info, 'Entropy': info_gain})\n",
    "EntropyDataFrame.sort_values(by = ['Entropy'], ascending=False, inplace = True)\n",
    "EntropyDataFrame\n",
    "\n",
    "threshold = 0.02\n",
    "X_info = EntropyDataFrame.loc[EntropyDataFrame['Entropy']>threshold].Columns\n",
    "print(\"Num Features: %d\" % X_info.shape[0])\n",
    "print(\"Selected Features: %s\" % X_info.values)\n",
    "features.append(('X_info', X_info.values))"
   ]
  },
  {
   "cell_type": "code",
   "execution_count": null,
   "metadata": {},
   "outputs": [],
   "source": [
    "#Feature Selection using Logistic Regression, Gradient Boost Classifier, RandomForestClassifier\n",
    "models = []\n",
    "models.append(('LR', LogisticRegression()))\n",
    "models.append(('GBM', GradientBoostingClassifier()))\n",
    "models.append(('RF', RandomForestClassifier()))\n",
    "\n",
    "for name, model in models:\n",
    "    fit = SelectFromModel(estimator=model).fit(X, y)\n",
    "    X_name = 'X_'+name\n",
    "    X_fs = X.columns.values[fit.get_support()]\n",
    "    print(X_name)\n",
    "    print(\"Num Features: %d\" % X_fs.shape[0])\n",
    "    print(\"Selected Features: %s\" % X_fs)\n",
    "    features.append((X_name, X_fs))"
   ]
  },
  {
   "cell_type": "code",
   "execution_count": 12,
   "metadata": {},
   "outputs": [
    {
     "data": {
      "text/plain": [
       "[('X_info', array(['허리둘레', '감마지티피', '연령대 코드', '트리글리세라이드', 'ALT', '고혈압', '복부비만',\n",
       "         '비만여부'], dtype='<U8')),\n",
       " ('X_LR', array(['성별코드', '연령대 코드', '요단백', '음주여부', '복부비만', '비만여부', '고혈압'],\n",
       "        dtype='<U6')),\n",
       " ('X_GBM', array(['연령대 코드', '허리둘레', '트리글리세라이드', '감마지티피', '고혈압'], dtype='<U8')),\n",
       " ('X_RF',\n",
       "  array(['연령대 코드', '허리둘레', '총콜레스테롤', '트리글리세라이드', 'HDL콜레스테롤', 'LDL콜레스테롤',\n",
       "         '혈색소', 'AST', 'ALT', '감마지티피'], dtype='<U8'))]"
      ]
     },
     "execution_count": 12,
     "metadata": {},
     "output_type": "execute_result"
    }
   ],
   "source": [
    "features.append(('X_info', np.array(['허리둘레', '감마지티피', '연령대 코드', '트리글리세라이드', 'ALT', '고혈압', '복부비만', '비만여부'])))\n",
    "features.append(('X_LR', np.array(['성별코드', '연령대 코드', '요단백', '음주여부', '복부비만', '비만여부', '고혈압'])))\n",
    "features.append(('X_GBM', np.array(['연령대 코드', '허리둘레', '트리글리세라이드', '감마지티피', '고혈압'])))\n",
    "features.append(('X_RF', np.array(['연령대 코드', '허리둘레', '총콜레스테롤', '트리글리세라이드', 'HDL콜레스테롤', 'LDL콜레스테롤', '혈색소', 'AST',\n",
    " 'ALT', '감마지티피'])))\n",
    "features\n",
    "\n"
   ]
  },
  {
   "cell_type": "markdown",
   "metadata": {},
   "source": [
    "## Model Comparison"
   ]
  },
  {
   "cell_type": "code",
   "execution_count": 33,
   "metadata": {},
   "outputs": [],
   "source": [
    "def make_plot(ComparePlot):\n",
    "    ComparePlot.plot(x=\"Model\",linestyle='--', marker='o', grid=True, figsize=(10, 4))\n",
    "    model_labels = ['LR', 'PCT', 'DT', 'CNB', 'AB', 'GBM', 'RF']\n",
    "    plt.title('Model Comparison')\n",
    "    locs, labels = plt.xticks()\n",
    "    plt.xticks((locs+1)[:7], model_labels)\n",
    "    plt.show()"
   ]
  },
  {
   "cell_type": "markdown",
   "metadata": {},
   "source": [
    "### 17-18"
   ]
  },
  {
   "cell_type": "code",
   "execution_count": 23,
   "metadata": {},
   "outputs": [],
   "source": [
    "models = GetBasedModel()\n",
    "score_name = ['Model']\n",
    "acc_list = []\n",
    "f1_list = []\n",
    "name_list = []\n",
    "\n",
    "for model in models:\n",
    "    name = model.__class__.__name__\n",
    "    name_list.append(name)\n",
    "    \n",
    "AccuracyComparison = pd.DataFrame(name_list, columns = ['Model'])\n",
    "F1Comparison = pd.DataFrame(name_list, columns = ['Model'])"
   ]
  },
  {
   "cell_type": "code",
   "execution_count": 24,
   "metadata": {},
   "outputs": [
    {
     "name": "stdout",
     "output_type": "stream",
     "text": [
      "X_info\n",
      "LogisticRegression: 0.672720 0.522914 (15.9660 seconds)\n",
      "Perceptron: 0.517484 0.432560 (1.5096 seconds)\n",
      "DecisionTreeClassifier: 0.866303 0.533468 (13.4936 seconds)\n",
      "ComplementNB: 0.762975 0.533035 (0.4848 seconds)\n",
      "AdaBoostClassifier: 0.922028 0.483176 (71.2493 seconds)\n",
      "GradientBoostingClassifier: 0.922063 0.480670 (152.1750 seconds)\n",
      "RandomForestClassifier: 0.918444 0.497339 (37.9042 seconds)\n",
      "\n",
      "X_LR\n",
      "LogisticRegression: 0.660623 0.512094 (3.7834 seconds)\n",
      "Perceptron: 0.136477 0.136177 (1.6816 seconds)\n",
      "DecisionTreeClassifier: 0.607362 0.485022 (4.5502 seconds)\n",
      "ComplementNB: 0.667061 0.497212 (0.4629 seconds)\n",
      "AdaBoostClassifier: 0.922044 0.488523 (46.2896 seconds)\n",
      "GradientBoostingClassifier: 0.922234 0.481413 (98.2197 seconds)\n",
      "RandomForestClassifier: 0.921721 0.491159 (13.6554 seconds)\n",
      "\n",
      "X_GBM\n",
      "LogisticRegression: 0.674050 0.522597 (8.8835 seconds)\n",
      "Perceptron: 0.083231 0.078205 (1.4414 seconds)\n",
      "DecisionTreeClassifier: 0.862070 0.532216 (12.1675 seconds)\n",
      "ComplementNB: 0.761028 0.532285 (0.4510 seconds)\n",
      "AdaBoostClassifier: 0.921301 0.482314 (62.3040 seconds)\n",
      "GradientBoostingClassifier: 0.921437 0.480000 (132.8693 seconds)\n",
      "RandomForestClassifier: 0.910344 0.506077 (29.8275 seconds)\n",
      "\n",
      "X_RF\n",
      "LogisticRegression: 0.689567 0.534711 (22.0365 seconds)\n",
      "Perceptron: 0.112447 0.110774 (1.7072 seconds)\n",
      "DecisionTreeClassifier: 0.871018 0.544456 (24.5042 seconds)\n",
      "ComplementNB: 0.733243 0.539672 (0.4611 seconds)\n",
      "AdaBoostClassifier: 0.921220 0.500539 (116.9979 seconds)\n",
      "GradientBoostingClassifier: 0.921877 0.488075 (311.3695 seconds)\n",
      "RandomForestClassifier: 0.919218 0.505898 (57.6448 seconds)\n",
      "\n"
     ]
    }
   ],
   "source": [
    "for name, X_feat in features:\n",
    "    print(name)\n",
    "    score_name.append('Score'+name[1:])\n",
    "    names, acc_results, f1_results = EvaluateModel2(X[X_feat], y, models)\n",
    "    acc_list.append((name, acc_results))\n",
    "    f1_list.append((name, f1_results))\n",
    "    basedLineScore = ScoreDataFrame2(names,acc_results)\n",
    "    basedLineScore2 = ScoreDataFrame2(names,f1_results)\n",
    "    AccuracyComparison = AccuracyComparison.merge(basedLineScore, on='Model', how='left')\n",
    "    F1Comparison = F1Comparison.merge(basedLineScore2, on='Model', how='left')\n",
    "    print()"
   ]
  },
  {
   "cell_type": "code",
   "execution_count": 26,
   "metadata": {},
   "outputs": [
    {
     "data": {
      "text/html": [
       "<div>\n",
       "<style scoped>\n",
       "    .dataframe tbody tr th:only-of-type {\n",
       "        vertical-align: middle;\n",
       "    }\n",
       "\n",
       "    .dataframe tbody tr th {\n",
       "        vertical-align: top;\n",
       "    }\n",
       "\n",
       "    .dataframe thead th {\n",
       "        text-align: right;\n",
       "    }\n",
       "</style>\n",
       "<table border=\"1\" class=\"dataframe\">\n",
       "  <thead>\n",
       "    <tr style=\"text-align: right;\">\n",
       "      <th></th>\n",
       "      <th>Model</th>\n",
       "      <th>Score_info</th>\n",
       "      <th>Score_LR</th>\n",
       "      <th>Score_GBM</th>\n",
       "      <th>Score_RF</th>\n",
       "    </tr>\n",
       "  </thead>\n",
       "  <tbody>\n",
       "    <tr>\n",
       "      <th>0</th>\n",
       "      <td>LogisticRegression</td>\n",
       "      <td>0.6727</td>\n",
       "      <td>0.6606</td>\n",
       "      <td>0.6740</td>\n",
       "      <td>0.6896</td>\n",
       "    </tr>\n",
       "    <tr>\n",
       "      <th>1</th>\n",
       "      <td>Perceptron</td>\n",
       "      <td>0.5175</td>\n",
       "      <td>0.1365</td>\n",
       "      <td>0.0832</td>\n",
       "      <td>0.1124</td>\n",
       "    </tr>\n",
       "    <tr>\n",
       "      <th>2</th>\n",
       "      <td>DecisionTreeClassifier</td>\n",
       "      <td>0.8663</td>\n",
       "      <td>0.6074</td>\n",
       "      <td>0.8621</td>\n",
       "      <td>0.8710</td>\n",
       "    </tr>\n",
       "    <tr>\n",
       "      <th>3</th>\n",
       "      <td>ComplementNB</td>\n",
       "      <td>0.7630</td>\n",
       "      <td>0.6671</td>\n",
       "      <td>0.7610</td>\n",
       "      <td>0.7332</td>\n",
       "    </tr>\n",
       "    <tr>\n",
       "      <th>4</th>\n",
       "      <td>AdaBoostClassifier</td>\n",
       "      <td>0.9220</td>\n",
       "      <td>0.9220</td>\n",
       "      <td>0.9213</td>\n",
       "      <td>0.9212</td>\n",
       "    </tr>\n",
       "    <tr>\n",
       "      <th>5</th>\n",
       "      <td>GradientBoostingClassifier</td>\n",
       "      <td>0.9221</td>\n",
       "      <td>0.9222</td>\n",
       "      <td>0.9214</td>\n",
       "      <td>0.9219</td>\n",
       "    </tr>\n",
       "    <tr>\n",
       "      <th>6</th>\n",
       "      <td>RandomForestClassifier</td>\n",
       "      <td>0.9184</td>\n",
       "      <td>0.9217</td>\n",
       "      <td>0.9103</td>\n",
       "      <td>0.9192</td>\n",
       "    </tr>\n",
       "  </tbody>\n",
       "</table>\n",
       "</div>"
      ],
      "text/plain": [
       "                        Model  Score_info  Score_LR  Score_GBM  Score_RF\n",
       "0          LogisticRegression      0.6727    0.6606     0.6740    0.6896\n",
       "1                  Perceptron      0.5175    0.1365     0.0832    0.1124\n",
       "2      DecisionTreeClassifier      0.8663    0.6074     0.8621    0.8710\n",
       "3                ComplementNB      0.7630    0.6671     0.7610    0.7332\n",
       "4          AdaBoostClassifier      0.9220    0.9220     0.9213    0.9212\n",
       "5  GradientBoostingClassifier      0.9221    0.9222     0.9214    0.9219\n",
       "6      RandomForestClassifier      0.9184    0.9217     0.9103    0.9192"
      ]
     },
     "execution_count": 26,
     "metadata": {},
     "output_type": "execute_result"
    }
   ],
   "source": [
    "AccuracyComparison.columns = score_name\n",
    "AccuracyComparison"
   ]
  },
  {
   "cell_type": "code",
   "execution_count": 27,
   "metadata": {},
   "outputs": [
    {
     "data": {
      "text/html": [
       "<div>\n",
       "<style scoped>\n",
       "    .dataframe tbody tr th:only-of-type {\n",
       "        vertical-align: middle;\n",
       "    }\n",
       "\n",
       "    .dataframe tbody tr th {\n",
       "        vertical-align: top;\n",
       "    }\n",
       "\n",
       "    .dataframe thead th {\n",
       "        text-align: right;\n",
       "    }\n",
       "</style>\n",
       "<table border=\"1\" class=\"dataframe\">\n",
       "  <thead>\n",
       "    <tr style=\"text-align: right;\">\n",
       "      <th></th>\n",
       "      <th>Model</th>\n",
       "      <th>Score_info</th>\n",
       "      <th>Score_LR</th>\n",
       "      <th>Score_GBM</th>\n",
       "      <th>Score_RF</th>\n",
       "    </tr>\n",
       "  </thead>\n",
       "  <tbody>\n",
       "    <tr>\n",
       "      <th>0</th>\n",
       "      <td>LogisticRegression</td>\n",
       "      <td>0.5229</td>\n",
       "      <td>0.5121</td>\n",
       "      <td>0.5226</td>\n",
       "      <td>0.5347</td>\n",
       "    </tr>\n",
       "    <tr>\n",
       "      <th>1</th>\n",
       "      <td>Perceptron</td>\n",
       "      <td>0.4326</td>\n",
       "      <td>0.1362</td>\n",
       "      <td>0.0782</td>\n",
       "      <td>0.1108</td>\n",
       "    </tr>\n",
       "    <tr>\n",
       "      <th>2</th>\n",
       "      <td>DecisionTreeClassifier</td>\n",
       "      <td>0.5335</td>\n",
       "      <td>0.4850</td>\n",
       "      <td>0.5322</td>\n",
       "      <td>0.5445</td>\n",
       "    </tr>\n",
       "    <tr>\n",
       "      <th>3</th>\n",
       "      <td>ComplementNB</td>\n",
       "      <td>0.5330</td>\n",
       "      <td>0.4972</td>\n",
       "      <td>0.5323</td>\n",
       "      <td>0.5397</td>\n",
       "    </tr>\n",
       "    <tr>\n",
       "      <th>4</th>\n",
       "      <td>AdaBoostClassifier</td>\n",
       "      <td>0.4832</td>\n",
       "      <td>0.4885</td>\n",
       "      <td>0.4823</td>\n",
       "      <td>0.5005</td>\n",
       "    </tr>\n",
       "    <tr>\n",
       "      <th>5</th>\n",
       "      <td>GradientBoostingClassifier</td>\n",
       "      <td>0.4807</td>\n",
       "      <td>0.4814</td>\n",
       "      <td>0.4800</td>\n",
       "      <td>0.4881</td>\n",
       "    </tr>\n",
       "    <tr>\n",
       "      <th>6</th>\n",
       "      <td>RandomForestClassifier</td>\n",
       "      <td>0.4973</td>\n",
       "      <td>0.4912</td>\n",
       "      <td>0.5061</td>\n",
       "      <td>0.5059</td>\n",
       "    </tr>\n",
       "  </tbody>\n",
       "</table>\n",
       "</div>"
      ],
      "text/plain": [
       "                        Model  Score_info  Score_LR  Score_GBM  Score_RF\n",
       "0          LogisticRegression      0.5229    0.5121     0.5226    0.5347\n",
       "1                  Perceptron      0.4326    0.1362     0.0782    0.1108\n",
       "2      DecisionTreeClassifier      0.5335    0.4850     0.5322    0.5445\n",
       "3                ComplementNB      0.5330    0.4972     0.5323    0.5397\n",
       "4          AdaBoostClassifier      0.4832    0.4885     0.4823    0.5005\n",
       "5  GradientBoostingClassifier      0.4807    0.4814     0.4800    0.4881\n",
       "6      RandomForestClassifier      0.4973    0.4912     0.5061    0.5059"
      ]
     },
     "execution_count": 27,
     "metadata": {},
     "output_type": "execute_result"
    }
   ],
   "source": [
    "F1Comparison.columns = score_name\n",
    "F1Comparison"
   ]
  },
  {
   "cell_type": "markdown",
   "metadata": {},
   "source": [
    "## 17-19"
   ]
  },
  {
   "cell_type": "code",
   "execution_count": 32,
   "metadata": {},
   "outputs": [],
   "source": [
    "models = GetBasedModel()\n",
    "score_name = ['Model']\n",
    "acc_list2 = []\n",
    "f1_list2 = []\n",
    "name_list = []\n",
    "\n",
    "for model in models:\n",
    "    name = model.__class__.__name__\n",
    "    name_list.append(name)\n",
    "    \n",
    "AccuracyComparison_19 = pd.DataFrame(name_list, columns = ['Model'])\n",
    "F1Comparison_19 = pd.DataFrame(name_list, columns = ['Model'])"
   ]
  },
  {
   "cell_type": "code",
   "execution_count": 34,
   "metadata": {},
   "outputs": [
    {
     "name": "stdout",
     "output_type": "stream",
     "text": [
      "X_info\n",
      "LogisticRegression: 0.665374 0.529957 (16.3406 seconds)\n",
      "Perceptron: 0.233904 0.231499 (1.7473 seconds)\n",
      "DecisionTreeClassifier: 0.848696 0.536796 (15.6822 seconds)\n",
      "ComplementNB: 0.750731 0.535157 (0.4935 seconds)\n",
      "AdaBoostClassifier: 0.909596 0.481591 (88.0203 seconds)\n",
      "GradientBoostingClassifier: 0.909874 0.477571 (185.3407 seconds)\n",
      "RandomForestClassifier: 0.904982 0.496877 (34.5674 seconds)\n",
      "\n",
      "X_LR\n",
      "LogisticRegression: 0.662279 0.523292 (4.4252 seconds)\n",
      "Perceptron: 0.456831 0.404714 (1.8312 seconds)\n",
      "DecisionTreeClassifier: 0.598646 0.490210 (4.5354 seconds)\n",
      "ComplementNB: 0.656149 0.501124 (0.5953 seconds)\n",
      "AdaBoostClassifier: 0.910451 0.487974 (45.4917 seconds)\n",
      "GradientBoostingClassifier: 0.910714 0.480225 (104.9973 seconds)\n",
      "RandomForestClassifier: 0.910271 0.487977 (23.1522 seconds)\n",
      "\n",
      "X_GBM\n",
      "LogisticRegression: 0.667857 0.530985 (14.6610 seconds)\n",
      "Perceptron: 0.215735 0.214551 (3.6543 seconds)\n",
      "DecisionTreeClassifier: 0.844057 0.534875 (30.1956 seconds)\n",
      "ComplementNB: 0.753182 0.536212 (1.8659 seconds)\n",
      "AdaBoostClassifier: 0.909874 0.480575 (101.1001 seconds)\n",
      "GradientBoostingClassifier: 0.910053 0.477156 (172.2740 seconds)\n",
      "RandomForestClassifier: 0.895391 0.509154 (37.8275 seconds)\n",
      "\n",
      "X_RF\n",
      "LogisticRegression: 0.683264 0.542619 (21.6959 seconds)\n",
      "Perceptron: 0.090720 0.083473 (2.2002 seconds)\n",
      "DecisionTreeClassifier: 0.853419 0.548566 (28.3701 seconds)\n",
      "ComplementNB: 0.725911 0.546854 (1.2293 seconds)\n",
      "AdaBoostClassifier: 0.908734 0.503829 (116.7894 seconds)\n",
      "GradientBoostingClassifier: 0.910064 0.486849 (286.2251 seconds)\n",
      "RandomForestClassifier: 0.906638 0.509807 (64.6028 seconds)\n",
      "\n"
     ]
    }
   ],
   "source": [
    "for name, X_feat in features:\n",
    "    print(name)\n",
    "    score_name.append('Score'+name[1:])\n",
    "    names, acc_results, f1_results = EvaluateModel2(X_2019[X_feat], y_2019, models)\n",
    "    acc_list2.append((name, acc_results))\n",
    "    f1_list2.append((name, f1_results))\n",
    "    basedLineScore = ScoreDataFrame2(names,acc_results)\n",
    "    basedLineScore2 = ScoreDataFrame2(names,f1_results)\n",
    "    AccuracyComparison_19 = AccuracyComparison_19.merge(basedLineScore, on='Model', how='left')\n",
    "    F1Comparison_19 = F1Comparison_19.merge(basedLineScore2, on='Model', how='left')\n",
    "    print()"
   ]
  },
  {
   "cell_type": "code",
   "execution_count": 35,
   "metadata": {},
   "outputs": [
    {
     "data": {
      "text/html": [
       "<div>\n",
       "<style scoped>\n",
       "    .dataframe tbody tr th:only-of-type {\n",
       "        vertical-align: middle;\n",
       "    }\n",
       "\n",
       "    .dataframe tbody tr th {\n",
       "        vertical-align: top;\n",
       "    }\n",
       "\n",
       "    .dataframe thead th {\n",
       "        text-align: right;\n",
       "    }\n",
       "</style>\n",
       "<table border=\"1\" class=\"dataframe\">\n",
       "  <thead>\n",
       "    <tr style=\"text-align: right;\">\n",
       "      <th></th>\n",
       "      <th>Model</th>\n",
       "      <th>Score_info</th>\n",
       "      <th>Score_LR</th>\n",
       "      <th>Score_GBM</th>\n",
       "      <th>Score_RF</th>\n",
       "    </tr>\n",
       "  </thead>\n",
       "  <tbody>\n",
       "    <tr>\n",
       "      <th>0</th>\n",
       "      <td>LogisticRegression</td>\n",
       "      <td>0.6654</td>\n",
       "      <td>0.6623</td>\n",
       "      <td>0.6679</td>\n",
       "      <td>0.6833</td>\n",
       "    </tr>\n",
       "    <tr>\n",
       "      <th>1</th>\n",
       "      <td>Perceptron</td>\n",
       "      <td>0.2339</td>\n",
       "      <td>0.4568</td>\n",
       "      <td>0.2157</td>\n",
       "      <td>0.0907</td>\n",
       "    </tr>\n",
       "    <tr>\n",
       "      <th>2</th>\n",
       "      <td>DecisionTreeClassifier</td>\n",
       "      <td>0.8487</td>\n",
       "      <td>0.5986</td>\n",
       "      <td>0.8441</td>\n",
       "      <td>0.8534</td>\n",
       "    </tr>\n",
       "    <tr>\n",
       "      <th>3</th>\n",
       "      <td>ComplementNB</td>\n",
       "      <td>0.7507</td>\n",
       "      <td>0.6561</td>\n",
       "      <td>0.7532</td>\n",
       "      <td>0.7259</td>\n",
       "    </tr>\n",
       "    <tr>\n",
       "      <th>4</th>\n",
       "      <td>AdaBoostClassifier</td>\n",
       "      <td>0.9096</td>\n",
       "      <td>0.9105</td>\n",
       "      <td>0.9099</td>\n",
       "      <td>0.9087</td>\n",
       "    </tr>\n",
       "    <tr>\n",
       "      <th>5</th>\n",
       "      <td>GradientBoostingClassifier</td>\n",
       "      <td>0.9099</td>\n",
       "      <td>0.9107</td>\n",
       "      <td>0.9101</td>\n",
       "      <td>0.9101</td>\n",
       "    </tr>\n",
       "    <tr>\n",
       "      <th>6</th>\n",
       "      <td>RandomForestClassifier</td>\n",
       "      <td>0.9050</td>\n",
       "      <td>0.9103</td>\n",
       "      <td>0.8954</td>\n",
       "      <td>0.9066</td>\n",
       "    </tr>\n",
       "  </tbody>\n",
       "</table>\n",
       "</div>"
      ],
      "text/plain": [
       "                        Model  Score_info  Score_LR  Score_GBM  Score_RF\n",
       "0          LogisticRegression      0.6654    0.6623     0.6679    0.6833\n",
       "1                  Perceptron      0.2339    0.4568     0.2157    0.0907\n",
       "2      DecisionTreeClassifier      0.8487    0.5986     0.8441    0.8534\n",
       "3                ComplementNB      0.7507    0.6561     0.7532    0.7259\n",
       "4          AdaBoostClassifier      0.9096    0.9105     0.9099    0.9087\n",
       "5  GradientBoostingClassifier      0.9099    0.9107     0.9101    0.9101\n",
       "6      RandomForestClassifier      0.9050    0.9103     0.8954    0.9066"
      ]
     },
     "execution_count": 35,
     "metadata": {},
     "output_type": "execute_result"
    }
   ],
   "source": [
    "AccuracyComparison_19.columns = score_name\n",
    "AccuracyComparison_19"
   ]
  },
  {
   "cell_type": "code",
   "execution_count": 36,
   "metadata": {},
   "outputs": [
    {
     "data": {
      "text/html": [
       "<div>\n",
       "<style scoped>\n",
       "    .dataframe tbody tr th:only-of-type {\n",
       "        vertical-align: middle;\n",
       "    }\n",
       "\n",
       "    .dataframe tbody tr th {\n",
       "        vertical-align: top;\n",
       "    }\n",
       "\n",
       "    .dataframe thead th {\n",
       "        text-align: right;\n",
       "    }\n",
       "</style>\n",
       "<table border=\"1\" class=\"dataframe\">\n",
       "  <thead>\n",
       "    <tr style=\"text-align: right;\">\n",
       "      <th></th>\n",
       "      <th>Model</th>\n",
       "      <th>Score_info</th>\n",
       "      <th>Score_LR</th>\n",
       "      <th>Score_GBM</th>\n",
       "      <th>Score_RF</th>\n",
       "    </tr>\n",
       "  </thead>\n",
       "  <tbody>\n",
       "    <tr>\n",
       "      <th>0</th>\n",
       "      <td>LogisticRegression</td>\n",
       "      <td>0.5300</td>\n",
       "      <td>0.5233</td>\n",
       "      <td>0.5310</td>\n",
       "      <td>0.5426</td>\n",
       "    </tr>\n",
       "    <tr>\n",
       "      <th>1</th>\n",
       "      <td>Perceptron</td>\n",
       "      <td>0.2315</td>\n",
       "      <td>0.4047</td>\n",
       "      <td>0.2146</td>\n",
       "      <td>0.0835</td>\n",
       "    </tr>\n",
       "    <tr>\n",
       "      <th>2</th>\n",
       "      <td>DecisionTreeClassifier</td>\n",
       "      <td>0.5368</td>\n",
       "      <td>0.4902</td>\n",
       "      <td>0.5349</td>\n",
       "      <td>0.5486</td>\n",
       "    </tr>\n",
       "    <tr>\n",
       "      <th>3</th>\n",
       "      <td>ComplementNB</td>\n",
       "      <td>0.5352</td>\n",
       "      <td>0.5011</td>\n",
       "      <td>0.5362</td>\n",
       "      <td>0.5469</td>\n",
       "    </tr>\n",
       "    <tr>\n",
       "      <th>4</th>\n",
       "      <td>AdaBoostClassifier</td>\n",
       "      <td>0.4816</td>\n",
       "      <td>0.4880</td>\n",
       "      <td>0.4806</td>\n",
       "      <td>0.5038</td>\n",
       "    </tr>\n",
       "    <tr>\n",
       "      <th>5</th>\n",
       "      <td>GradientBoostingClassifier</td>\n",
       "      <td>0.4776</td>\n",
       "      <td>0.4802</td>\n",
       "      <td>0.4772</td>\n",
       "      <td>0.4868</td>\n",
       "    </tr>\n",
       "    <tr>\n",
       "      <th>6</th>\n",
       "      <td>RandomForestClassifier</td>\n",
       "      <td>0.4969</td>\n",
       "      <td>0.4880</td>\n",
       "      <td>0.5092</td>\n",
       "      <td>0.5098</td>\n",
       "    </tr>\n",
       "  </tbody>\n",
       "</table>\n",
       "</div>"
      ],
      "text/plain": [
       "                        Model  Score_info  Score_LR  Score_GBM  Score_RF\n",
       "0          LogisticRegression      0.5300    0.5233     0.5310    0.5426\n",
       "1                  Perceptron      0.2315    0.4047     0.2146    0.0835\n",
       "2      DecisionTreeClassifier      0.5368    0.4902     0.5349    0.5486\n",
       "3                ComplementNB      0.5352    0.5011     0.5362    0.5469\n",
       "4          AdaBoostClassifier      0.4816    0.4880     0.4806    0.5038\n",
       "5  GradientBoostingClassifier      0.4776    0.4802     0.4772    0.4868\n",
       "6      RandomForestClassifier      0.4969    0.4880     0.5092    0.5098"
      ]
     },
     "execution_count": 36,
     "metadata": {},
     "output_type": "execute_result"
    }
   ],
   "source": [
    "F1Comparison_19.columns = score_name\n",
    "F1Comparison_19"
   ]
  },
  {
   "cell_type": "code",
   "execution_count": 69,
   "metadata": {},
   "outputs": [
    {
     "data": {
      "text/plain": [
       "([<matplotlib.axis.XTick at 0x1f3a826eb00>,\n",
       "  <matplotlib.axis.XTick at 0x1f3a826e438>,\n",
       "  <matplotlib.axis.XTick at 0x1f3a8265cf8>,\n",
       "  <matplotlib.axis.XTick at 0x1f3a8334780>,\n",
       "  <matplotlib.axis.XTick at 0x1f3a833e160>,\n",
       "  <matplotlib.axis.XTick at 0x1f3a833e668>,\n",
       "  <matplotlib.axis.XTick at 0x1f3a8334f60>],\n",
       " <a list of 7 Text xticklabel objects>)"
      ]
     },
     "execution_count": 69,
     "metadata": {},
     "output_type": "execute_result"
    },
    {
     "data": {
      "image/png": "[encoded data removed]",
      "text/plain": [
       "<Figure size 864x360 with 4 Axes>"
      ]
     },
     "metadata": {
      "needs_background": "light"
     },
     "output_type": "display_data"
    }
   ],
   "source": [
    "model_labels = ['LR', 'PCT', 'DT', 'CNB', 'AB', 'GBM', 'RF']\n",
    "\n",
    "fig, axes = plt.subplots(nrows=2, ncols=2, figsize=(12, 5))\n",
    "\n",
    "AccuracyComparison.plot(x=\"Model\",linestyle='--', marker='o', grid=True, ax=axes[0, 0], title = \"Accuracy 17-18\")\n",
    "AccuracyComparison_19.plot(x=\"Model\",linestyle='--', marker='o', grid=True, ax=axes[1, 0], title = \"Accuracy 17-19\")\n",
    "F1Comparison.plot(x=\"Model\",linestyle='--', marker='o', grid=True, ax=axes[0, 1], title = \"F1 17-18\")\n",
    "F1Comparison_19.plot(x=\"Model\",linestyle='--', marker='o', grid=True, ax=axes[1, 1], title = \"F1 17-19\")\n",
    "\n",
    "locs, labels = plt.xticks()\n",
    "plt.xticks((locs+1)[:7], model_labels)"
   ]
  },
  {
   "cell_type": "markdown",
   "metadata": {},
   "source": [
    "### F1 Score Slightly Improved!"
   ]
  },
  {
   "cell_type": "markdown",
   "metadata": {},
   "source": [
    "## Comparing GBM & LightGBM"
   ]
  },
  {
   "cell_type": "code",
   "execution_count": 94,
   "metadata": {},
   "outputs": [],
   "source": [
    "from lightgbm import LGBMClassifier"
   ]
  },
  {
   "cell_type": "code",
   "execution_count": 95,
   "metadata": {},
   "outputs": [],
   "source": [
    "GBMModels = []\n",
    "GBMModels.append(LGBMClassifier())\n",
    "GBMModels.append(GradientBoostingClassifier())\n",
    "\n",
    "\n",
    "score_name = ['Model']\n",
    "acc_list2 = []\n",
    "f1_list2 = []\n",
    "name_list = []\n",
    "\n",
    "for model in GBMModels:\n",
    "    name = model.__class__.__name__\n",
    "    name_list.append(name)\n",
    "    \n",
    "AccuracyComparison_GBM = pd.DataFrame(name_list, columns = ['Model'])\n",
    "F1Comparison_GBM = pd.DataFrame(name_list, columns = ['Model'])"
   ]
  },
  {
   "cell_type": "code",
   "execution_count": 102,
   "metadata": {},
   "outputs": [
    {
     "name": "stdout",
     "output_type": "stream",
     "text": [
      "X_info\n",
      "LGBMClassifier: 0.910591 0.477620 (9.3240 seconds)\n",
      "GradientBoostingClassifier: 0.910602 0.478170 (168.5968 seconds)\n",
      "\n",
      "X_LR\n",
      "LGBMClassifier: 0.909775 0.477736 (8.4090 seconds)\n",
      "GradientBoostingClassifier: 0.909835 0.480333 (87.1075 seconds)\n",
      "\n",
      "X_GBM\n",
      "LGBMClassifier: 0.910254 0.476744 (7.4469 seconds)\n",
      "GradientBoostingClassifier: 0.910226 0.477243 (146.1599 seconds)\n",
      "\n",
      "X_RF\n",
      "LGBMClassifier: 0.910018 0.482531 (11.3545 seconds)\n",
      "GradientBoostingClassifier: 0.909881 0.487002 (283.3565 seconds)\n",
      "\n"
     ]
    }
   ],
   "source": [
    "for name, X_feat in features:\n",
    "    print(name)\n",
    "    score_name.append('Score'+name[1:])\n",
    "    names, acc_results, f1_results = EvaluateModel2(X_2019[X_feat], y_2019, GBMModels)\n",
    "    print()"
   ]
  },
  {
   "cell_type": "markdown",
   "metadata": {},
   "source": [
    "### LightGBM과 GBM은 정확도, F1에서 크게 차이가 없지만 걸리는 시간에서 크게 차이가 남"
   ]
  },
  {
   "cell_type": "markdown",
   "metadata": {},
   "source": [
    "## OverSampling"
   ]
  },
  {
   "cell_type": "code",
   "execution_count": 13,
   "metadata": {},
   "outputs": [],
   "source": [
    "import imblearn\n",
    "from imblearn.over_sampling import SMOTE"
   ]
  },
  {
   "cell_type": "code",
   "execution_count": 15,
   "metadata": {},
   "outputs": [
    {
     "name": "stdout",
     "output_type": "stream",
     "text": [
      "SMOTE 적용 전 :  (1421674, 18) (1421674,)\n",
      "SMOTE 적용 후 :  (2372304, 18) (2372304,)\n",
      "SMOTE 적용 후 레이블 값 분포: \n",
      " 1.0    1186152\n",
      "0.0    1186152\n",
      "Name: 식전혈당, dtype: int64\n"
     ]
    }
   ],
   "source": [
    "oversample = SMOTE()\n",
    "X_over, y_over = oversample.fit_resample(X, y)\n",
    "\n",
    "print('SMOTE 적용 전 : ', X_2019.shape, y_2019.shape)\n",
    "print('SMOTE 적용 후 : ', X_over.shape, y_over.shape)\n",
    "print('SMOTE 적용 후 레이블 값 분포: \\n', pd.Series(y_over).value_counts())"
   ]
  },
  {
   "cell_type": "code",
   "execution_count": 71,
   "metadata": {},
   "outputs": [],
   "source": [
    "def compare_train(X, y, features, models = GetBasedModel()):\n",
    "    score_name = ['Model']\n",
    "    acc_list = []\n",
    "    f1_list = []\n",
    "    name_list = []\n",
    "\n",
    "    for model in models:\n",
    "        name = model.__class__.__name__\n",
    "        name_list.append(name)\n",
    "    \n",
    "    AccuracyComparison = pd.DataFrame(name_list, columns = ['Model'])\n",
    "    F1Comparison = pd.DataFrame(name_list, columns = ['Model'])\n",
    "\n",
    "    for name, X_feat in features:\n",
    "        print(name)\n",
    "        score_name.append('Score'+name[1:])\n",
    "        names, acc_results, f1_results = EvaluateModel2(X[X_feat], y, models)\n",
    "        acc_list.append((name, acc_results))\n",
    "        f1_list.append((name, f1_results))\n",
    "        basedLineScore = ScoreDataFrame2(names,acc_results)\n",
    "        basedLineScore2 = ScoreDataFrame2(names,f1_results)\n",
    "        AccuracyComparison = AccuracyComparison.merge(basedLineScore, on='Model', how='left')\n",
    "        F1Comparison = F1Comparison.merge(basedLineScore2, on='Model', how='left')\n",
    "        print()\n",
    "        \n",
    "    AccuracyComparison.columns = score_name\n",
    "    F1Comparison.columns = score_name\n",
    "    return AccuracyComparison, F1Comparison"
   ]
  },
  {
   "cell_type": "code",
   "execution_count": 26,
   "metadata": {
    "scrolled": true
   },
   "outputs": [
    {
     "name": "stdout",
     "output_type": "stream",
     "text": [
      "X_info\n"
     ]
    },
    {
     "name": "stderr",
     "output_type": "stream",
     "text": [
      "C:\\Users\\Public\\Anaconda3\\lib\\site-packages\\sklearn\\linear_model\\_logistic.py:765: ConvergenceWarning: lbfgs failed to converge (status=1):\n",
      "STOP: TOTAL NO. of ITERATIONS REACHED LIMIT.\n",
      "\n",
      "Increase the number of iterations (max_iter) or scale the data as shown in:\n",
      "    https://scikit-learn.org/stable/modules/preprocessing.html\n",
      "Please also refer to the documentation for alternative solver options:\n",
      "    https://scikit-learn.org/stable/modules/linear_model.html#logistic-regression\n",
      "  extra_warning_msg=_LOGISTIC_SOLVER_CONVERGENCE_MSG)\n"
     ]
    },
    {
     "name": "stdout",
     "output_type": "stream",
     "text": [
      "LogisticRegression: 0.675809 0.675328 (18.3932 seconds)\n",
      "Perceptron: 0.542087 0.470004 (8.5309 seconds)\n",
      "DecisionTreeClassifier: 0.910593 0.910590 (30.9816 seconds)\n",
      "ComplementNB: 0.595162 0.579400 (1.9904 seconds)\n",
      "AdaBoostClassifier: 0.860035 0.859675 (227.2759 seconds)\n",
      "LGBMClassifier: 0.941319 0.941170 (19.7110 seconds)\n",
      "RandomForestClassifier: 0.944784 0.944686 (873.9561 seconds)\n",
      "\n",
      "X_LR\n",
      "LogisticRegression: 0.710254 0.709957 (9.1671 seconds)\n",
      "Perceptron: 0.656964 0.626987 (5.4111 seconds)\n",
      "DecisionTreeClassifier: 0.917983 0.917473 (7.9334 seconds)\n",
      "ComplementNB: 0.642369 0.641645 (0.9762 seconds)\n",
      "AdaBoostClassifier: 0.900966 0.900672 (110.0770 seconds)\n",
      "LGBMClassifier: 0.918092 0.917575 (14.7642 seconds)\n",
      "RandomForestClassifier: 0.917983 0.917477 (365.7240 seconds)\n",
      "\n",
      "X_GBM\n",
      "LogisticRegression: 0.681833 0.681593 (11.0468 seconds)\n",
      "Perceptron: 0.509186 0.370600 (5.5634 seconds)\n",
      "DecisionTreeClassifier: 0.909537 0.909537 (29.6115 seconds)\n",
      "ComplementNB: 0.593520 0.577480 (1.0189 seconds)\n",
      "AdaBoostClassifier: 0.807381 0.807203 (151.4389 seconds)\n",
      "LGBMClassifier: 0.918588 0.918464 (15.8697 seconds)\n",
      "RandomForestClassifier: 0.928329 0.928283 (1143.0436 seconds)\n",
      "\n",
      "X_RF\n"
     ]
    },
    {
     "name": "stderr",
     "output_type": "stream",
     "text": [
      "C:\\Users\\Public\\Anaconda3\\lib\\site-packages\\sklearn\\linear_model\\_logistic.py:765: ConvergenceWarning: lbfgs failed to converge (status=1):\n",
      "STOP: TOTAL NO. of ITERATIONS REACHED LIMIT.\n",
      "\n",
      "Increase the number of iterations (max_iter) or scale the data as shown in:\n",
      "    https://scikit-learn.org/stable/modules/preprocessing.html\n",
      "Please also refer to the documentation for alternative solver options:\n",
      "    https://scikit-learn.org/stable/modules/linear_model.html#logistic-regression\n",
      "  extra_warning_msg=_LOGISTIC_SOLVER_CONVERGENCE_MSG)\n"
     ]
    },
    {
     "name": "stdout",
     "output_type": "stream",
     "text": [
      "LogisticRegression: 0.686522 0.686464 (22.3078 seconds)\n",
      "Perceptron: 0.688436 0.685149 (23.4700 seconds)\n",
      "DecisionTreeClassifier: 0.908431 0.908420 (94.6124 seconds)\n",
      "ComplementNB: 0.647307 0.643774 (1.0587 seconds)\n",
      "AdaBoostClassifier: 0.747288 0.746886 (280.7190 seconds)\n",
      "LGBMClassifier: 0.945947 0.945898 (17.6685 seconds)\n",
      "RandomForestClassifier: 0.954498 0.954491 (1844.7005 seconds)\n",
      "\n"
     ]
    }
   ],
   "source": [
    "models = GetBasedModel(None)\n",
    "\n",
    "Accuracy_over, F1_over = compare_train(X_over, y_over, features, models)"
   ]
  },
  {
   "cell_type": "code",
   "execution_count": 31,
   "metadata": {},
   "outputs": [
    {
     "data": {
      "text/html": [
       "<div>\n",
       "<style scoped>\n",
       "    .dataframe tbody tr th:only-of-type {\n",
       "        vertical-align: middle;\n",
       "    }\n",
       "\n",
       "    .dataframe tbody tr th {\n",
       "        vertical-align: top;\n",
       "    }\n",
       "\n",
       "    .dataframe thead th {\n",
       "        text-align: right;\n",
       "    }\n",
       "</style>\n",
       "<table border=\"1\" class=\"dataframe\">\n",
       "  <thead>\n",
       "    <tr style=\"text-align: right;\">\n",
       "      <th></th>\n",
       "      <th>Model</th>\n",
       "      <th>Score_x</th>\n",
       "      <th>Score_y</th>\n",
       "      <th>Score_x</th>\n",
       "      <th>Score_y</th>\n",
       "    </tr>\n",
       "  </thead>\n",
       "  <tbody>\n",
       "    <tr>\n",
       "      <th>0</th>\n",
       "      <td>LogisticRegression</td>\n",
       "      <td>0.6758</td>\n",
       "      <td>0.7103</td>\n",
       "      <td>0.6818</td>\n",
       "      <td>0.6865</td>\n",
       "    </tr>\n",
       "    <tr>\n",
       "      <th>1</th>\n",
       "      <td>Perceptron</td>\n",
       "      <td>0.5421</td>\n",
       "      <td>0.6570</td>\n",
       "      <td>0.5092</td>\n",
       "      <td>0.6884</td>\n",
       "    </tr>\n",
       "    <tr>\n",
       "      <th>2</th>\n",
       "      <td>DecisionTreeClassifier</td>\n",
       "      <td>0.9106</td>\n",
       "      <td>0.9180</td>\n",
       "      <td>0.9095</td>\n",
       "      <td>0.9084</td>\n",
       "    </tr>\n",
       "    <tr>\n",
       "      <th>3</th>\n",
       "      <td>ComplementNB</td>\n",
       "      <td>0.5952</td>\n",
       "      <td>0.6424</td>\n",
       "      <td>0.5935</td>\n",
       "      <td>0.6473</td>\n",
       "    </tr>\n",
       "    <tr>\n",
       "      <th>4</th>\n",
       "      <td>AdaBoostClassifier</td>\n",
       "      <td>0.8600</td>\n",
       "      <td>0.9010</td>\n",
       "      <td>0.8074</td>\n",
       "      <td>0.7473</td>\n",
       "    </tr>\n",
       "    <tr>\n",
       "      <th>5</th>\n",
       "      <td>LGBMClassifier</td>\n",
       "      <td>0.9413</td>\n",
       "      <td>0.9181</td>\n",
       "      <td>0.9186</td>\n",
       "      <td>0.9459</td>\n",
       "    </tr>\n",
       "    <tr>\n",
       "      <th>6</th>\n",
       "      <td>RandomForestClassifier</td>\n",
       "      <td>0.9448</td>\n",
       "      <td>0.9180</td>\n",
       "      <td>0.9283</td>\n",
       "      <td>0.9545</td>\n",
       "    </tr>\n",
       "  </tbody>\n",
       "</table>\n",
       "</div>"
      ],
      "text/plain": [
       "                    Model  Score_x  Score_y  Score_x  Score_y\n",
       "0      LogisticRegression   0.6758   0.7103   0.6818   0.6865\n",
       "1              Perceptron   0.5421   0.6570   0.5092   0.6884\n",
       "2  DecisionTreeClassifier   0.9106   0.9180   0.9095   0.9084\n",
       "3            ComplementNB   0.5952   0.6424   0.5935   0.6473\n",
       "4      AdaBoostClassifier   0.8600   0.9010   0.8074   0.7473\n",
       "5          LGBMClassifier   0.9413   0.9181   0.9186   0.9459\n",
       "6  RandomForestClassifier   0.9448   0.9180   0.9283   0.9545"
      ]
     },
     "execution_count": 31,
     "metadata": {},
     "output_type": "execute_result"
    }
   ],
   "source": [
    "Accuracy_over"
   ]
  },
  {
   "cell_type": "code",
   "execution_count": 34,
   "metadata": {},
   "outputs": [
    {
     "data": {
      "image/png": "[encoded data removed]",
      "text/plain": [
       "<Figure size 720x288 with 1 Axes>"
      ]
     },
     "metadata": {
      "needs_background": "light"
     },
     "output_type": "display_data"
    }
   ],
   "source": [
    "make_plot(Accuracy_over)"
   ]
  },
  {
   "cell_type": "code",
   "execution_count": 28,
   "metadata": {},
   "outputs": [
    {
     "data": {
      "text/html": [
       "<div>\n",
       "<style scoped>\n",
       "    .dataframe tbody tr th:only-of-type {\n",
       "        vertical-align: middle;\n",
       "    }\n",
       "\n",
       "    .dataframe tbody tr th {\n",
       "        vertical-align: top;\n",
       "    }\n",
       "\n",
       "    .dataframe thead th {\n",
       "        text-align: right;\n",
       "    }\n",
       "</style>\n",
       "<table border=\"1\" class=\"dataframe\">\n",
       "  <thead>\n",
       "    <tr style=\"text-align: right;\">\n",
       "      <th></th>\n",
       "      <th>Model</th>\n",
       "      <th>Score_x</th>\n",
       "      <th>Score_y</th>\n",
       "      <th>Score_x</th>\n",
       "      <th>Score_y</th>\n",
       "    </tr>\n",
       "  </thead>\n",
       "  <tbody>\n",
       "    <tr>\n",
       "      <th>0</th>\n",
       "      <td>LogisticRegression</td>\n",
       "      <td>0.6753</td>\n",
       "      <td>0.7100</td>\n",
       "      <td>0.6816</td>\n",
       "      <td>0.6865</td>\n",
       "    </tr>\n",
       "    <tr>\n",
       "      <th>1</th>\n",
       "      <td>Perceptron</td>\n",
       "      <td>0.4700</td>\n",
       "      <td>0.6270</td>\n",
       "      <td>0.3706</td>\n",
       "      <td>0.6851</td>\n",
       "    </tr>\n",
       "    <tr>\n",
       "      <th>2</th>\n",
       "      <td>DecisionTreeClassifier</td>\n",
       "      <td>0.9106</td>\n",
       "      <td>0.9175</td>\n",
       "      <td>0.9095</td>\n",
       "      <td>0.9084</td>\n",
       "    </tr>\n",
       "    <tr>\n",
       "      <th>3</th>\n",
       "      <td>ComplementNB</td>\n",
       "      <td>0.5794</td>\n",
       "      <td>0.6416</td>\n",
       "      <td>0.5775</td>\n",
       "      <td>0.6438</td>\n",
       "    </tr>\n",
       "    <tr>\n",
       "      <th>4</th>\n",
       "      <td>AdaBoostClassifier</td>\n",
       "      <td>0.8597</td>\n",
       "      <td>0.9007</td>\n",
       "      <td>0.8072</td>\n",
       "      <td>0.7469</td>\n",
       "    </tr>\n",
       "    <tr>\n",
       "      <th>5</th>\n",
       "      <td>LGBMClassifier</td>\n",
       "      <td>0.9412</td>\n",
       "      <td>0.9176</td>\n",
       "      <td>0.9185</td>\n",
       "      <td>0.9459</td>\n",
       "    </tr>\n",
       "    <tr>\n",
       "      <th>6</th>\n",
       "      <td>RandomForestClassifier</td>\n",
       "      <td>0.9447</td>\n",
       "      <td>0.9175</td>\n",
       "      <td>0.9283</td>\n",
       "      <td>0.9545</td>\n",
       "    </tr>\n",
       "  </tbody>\n",
       "</table>\n",
       "</div>"
      ],
      "text/plain": [
       "                    Model  Score_x  Score_y  Score_x  Score_y\n",
       "0      LogisticRegression   0.6753   0.7100   0.6816   0.6865\n",
       "1              Perceptron   0.4700   0.6270   0.3706   0.6851\n",
       "2  DecisionTreeClassifier   0.9106   0.9175   0.9095   0.9084\n",
       "3            ComplementNB   0.5794   0.6416   0.5775   0.6438\n",
       "4      AdaBoostClassifier   0.8597   0.9007   0.8072   0.7469\n",
       "5          LGBMClassifier   0.9412   0.9176   0.9185   0.9459\n",
       "6  RandomForestClassifier   0.9447   0.9175   0.9283   0.9545"
      ]
     },
     "execution_count": 28,
     "metadata": {},
     "output_type": "execute_result"
    }
   ],
   "source": [
    "F1_over"
   ]
  },
  {
   "cell_type": "code",
   "execution_count": 35,
   "metadata": {},
   "outputs": [
    {
     "data": {
      "image/png": "[encoded data removed]",
      "text/plain": [
       "<Figure size 720x288 with 1 Axes>"
      ]
     },
     "metadata": {
      "needs_background": "light"
     },
     "output_type": "display_data"
    }
   ],
   "source": [
    "make_plot(F1_over)"
   ]
  },
  {
   "cell_type": "code",
   "execution_count": 52,
   "metadata": {},
   "outputs": [
    {
     "name": "stdout",
     "output_type": "stream",
     "text": [
      "Accuracy Score: 0.946152\n",
      "F1 Score: 0.944539\n",
      "ROC Score: 0.946173\n"
     ]
    }
   ],
   "source": [
    "model = LGBMClassifier()\n",
    "\n",
    "X_over_train, X_over_test, y_over_train, y_over_test = train_test_split(X_over, y_over, test_size=0.2, shuffle=True)\n",
    "\n",
    "feat = features[3][1]\n",
    "\n",
    "model.fit(X_over_train[feat], y_over_train)\n",
    "\n",
    "y_pred = model.predict(X_over_test[feat])\n",
    "\n",
    "print(\"Accuracy Score: %f\" %accuracy_score(y_over_test, y_pred))\n",
    "print(\"F1 Score: %f\" %f1_score(y_over_test, y_pred))\n",
    "print(\"ROC Score: %f\" %roc_auc_score(y_over_test, y_pred))"
   ]
  },
  {
   "cell_type": "code",
   "execution_count": 54,
   "metadata": {},
   "outputs": [
    {
     "data": {
      "text/plain": [
       "<matplotlib.axes._subplots.AxesSubplot at 0x22581f37b00>"
      ]
     },
     "execution_count": 54,
     "metadata": {},
     "output_type": "execute_result"
    },
    {
     "data": {
      "image/png": "[encoded data removed]",
      "text/plain": [
       "<Figure size 432x288 with 2 Axes>"
      ]
     },
     "metadata": {
      "needs_background": "light"
     },
     "output_type": "display_data"
    }
   ],
   "source": [
    "import seaborn as sns\n",
    "\n",
    "cf = confusion_matrix(y_over_test, y_pred)\n",
    "sns.heatmap(cf/np.sum(cf), annot=True)"
   ]
  },
  {
   "cell_type": "code",
   "execution_count": 78,
   "metadata": {},
   "outputs": [
    {
     "name": "stdout",
     "output_type": "stream",
     "text": [
      "Default\n"
     ]
    },
    {
     "name": "stderr",
     "output_type": "stream",
     "text": [
      "C:\\Users\\Public\\Anaconda3\\lib\\site-packages\\sklearn\\linear_model\\_logistic.py:765: ConvergenceWarning: lbfgs failed to converge (status=1):\n",
      "STOP: TOTAL NO. of ITERATIONS REACHED LIMIT.\n",
      "\n",
      "Increase the number of iterations (max_iter) or scale the data as shown in:\n",
      "    https://scikit-learn.org/stable/modules/preprocessing.html\n",
      "Please also refer to the documentation for alternative solver options:\n",
      "    https://scikit-learn.org/stable/modules/linear_model.html#logistic-regression\n",
      "  extra_warning_msg=_LOGISTIC_SOLVER_CONVERGENCE_MSG)\n"
     ]
    },
    {
     "name": "stdout",
     "output_type": "stream",
     "text": [
      "LogisticRegression: 0.716244 0.716116 (25.3929 seconds)\n",
      "Perceptron: 0.589509 0.530955 (8.4635 seconds)\n",
      "DecisionTreeClassifier: 0.920527 0.920523 (46.7860 seconds)\n",
      "ComplementNB: 0.648726 0.645283 (1.1166 seconds)\n",
      "AdaBoostClassifier: 0.914792 0.914635 (363.5395 seconds)\n",
      "LGBMClassifier: 0.955096 0.955011 (25.0040 seconds)\n",
      "RandomForestClassifier: 0.958022 0.957956 (1115.5767 seconds)\n",
      "\n"
     ]
    }
   ],
   "source": [
    "models = GetBasedModel(None)\n",
    "feat = [['Default', X_over.columns]]\n",
    "\n",
    "AC, FC = compare_train(X_over, y_over, feat, models)"
   ]
  },
  {
   "cell_type": "code",
   "execution_count": 81,
   "metadata": {},
   "outputs": [
    {
     "name": "stdout",
     "output_type": "stream",
     "text": [
      "Accuracy Score: 0.954934\n",
      "F1 Score: 0.952939\n",
      "ROC Score: 0.954965\n"
     ]
    },
    {
     "data": {
      "text/plain": [
       "<matplotlib.axes._subplots.AxesSubplot at 0x22531cadd30>"
      ]
     },
     "execution_count": 81,
     "metadata": {},
     "output_type": "execute_result"
    },
    {
     "data": {
      "image/png": "[encoded data removed]",
      "text/plain": [
       "<Figure size 432x288 with 2 Axes>"
      ]
     },
     "metadata": {
      "needs_background": "light"
     },
     "output_type": "display_data"
    }
   ],
   "source": [
    "model = LGBMClassifier()\n",
    "\n",
    "model.fit(X_over_train, y_over_train)\n",
    "\n",
    "y_pred = model.predict(X_over_test)\n",
    "\n",
    "print(\"Accuracy Score: %f\" %accuracy_score(y_over_test, y_pred))\n",
    "print(\"F1 Score: %f\" %f1_score(y_over_test, y_pred))\n",
    "print(\"ROC Score: %f\" %roc_auc_score(y_over_test, y_pred))\n",
    "\n",
    "cf_over = confusion_matrix(y_over_test, y_pred)\n",
    "sns.heatmap(cf_over/np.sum(cf_over), annot=True)"
   ]
  },
  {
   "cell_type": "markdown",
   "metadata": {},
   "source": [
    "감격스럽다"
   ]
  },
  {
   "cell_type": "markdown",
   "metadata": {},
   "source": [
    "## UnderSampling"
   ]
  },
  {
   "cell_type": "code",
   "execution_count": 59,
   "metadata": {},
   "outputs": [
    {
     "name": "stdout",
     "output_type": "stream",
     "text": [
      "UnderSampling 적용 전 :  (1421674, 18) (1421674,)\n",
      "UnderSampling 적용 후 :  (256160, 18) (256160,)\n",
      "UnderSampling 적용 전 레이블 값 분포: \n",
      " 0.0    1293594\n",
      "1.0     128080\n",
      "Name: 식전혈당, dtype: int64\n",
      "UnderSampling 적용 후 레이블 값 분포: \n",
      " 1.0    128080\n",
      "0.0    128080\n",
      "Name: 식전혈당, dtype: int64\n"
     ]
    }
   ],
   "source": [
    "count_class_0, count_class_1 = pd.Series(y_2019).value_counts()\n",
    "\n",
    "df_class_0 = df_2019[df_2019['식전혈당'] == 0]\n",
    "df_class_1 = df_2019[df_2019['식전혈당'] == 1]\n",
    "\n",
    "df_class_0_under = df_class_0.sample(count_class_1)\n",
    "df_under = pd.concat([df_class_0_under, df_class_1], axis=0)\n",
    "\n",
    "X_under = df_under.loc[:, df_under.columns != '식전혈당']\n",
    "y_under = df_under['식전혈당']\n",
    "\n",
    "print('UnderSampling 적용 전 : ', X_2019.shape, y_2019.shape)\n",
    "print('UnderSampling 적용 후 : ', X_under.shape, y_under.shape)\n",
    "print('UnderSampling 적용 전 레이블 값 분포: \\n', pd.Series(y_2019).value_counts())\n",
    "print('UnderSampling 적용 후 레이블 값 분포: \\n', pd.Series(y_under).value_counts())"
   ]
  },
  {
   "cell_type": "code",
   "execution_count": 61,
   "metadata": {},
   "outputs": [
    {
     "name": "stdout",
     "output_type": "stream",
     "text": [
      "X_info\n"
     ]
    },
    {
     "name": "stderr",
     "output_type": "stream",
     "text": [
      "C:\\Users\\Public\\Anaconda3\\lib\\site-packages\\sklearn\\linear_model\\_logistic.py:765: ConvergenceWarning: lbfgs failed to converge (status=1):\n",
      "STOP: TOTAL NO. of ITERATIONS REACHED LIMIT.\n",
      "\n",
      "Increase the number of iterations (max_iter) or scale the data as shown in:\n",
      "    https://scikit-learn.org/stable/modules/preprocessing.html\n",
      "Please also refer to the documentation for alternative solver options:\n",
      "    https://scikit-learn.org/stable/modules/linear_model.html#logistic-regression\n",
      "  extra_warning_msg=_LOGISTIC_SOLVER_CONVERGENCE_MSG)\n"
     ]
    },
    {
     "name": "stdout",
     "output_type": "stream",
     "text": [
      "LogisticRegression: 0.664936 0.664925 (2.0821 seconds)\n",
      "Perceptron: 0.575988 0.489364 (0.8733 seconds)\n",
      "DecisionTreeClassifier: 0.601597 0.601586 (1.4941 seconds)\n",
      "ComplementNB: 0.585962 0.568302 (0.0943 seconds)\n",
      "AdaBoostClassifier: 0.692516 0.691718 (8.2115 seconds)\n",
      "LGBMClassifier: 0.696049 0.693579 (1.3829 seconds)\n",
      "RandomForestClassifier: 0.678228 0.677216 (36.2370 seconds)\n",
      "\n",
      "X_LR\n",
      "LogisticRegression: 0.668762 0.668749 (1.2503 seconds)\n",
      "Perceptron: 0.516084 0.370126 (0.4235 seconds)\n",
      "DecisionTreeClassifier: 0.672490 0.669951 (0.2955 seconds)\n",
      "ComplementNB: 0.609248 0.607751 (0.0925 seconds)\n",
      "AdaBoostClassifier: 0.671885 0.671468 (5.8868 seconds)\n",
      "LGBMClassifier: 0.677662 0.674289 (1.4187 seconds)\n",
      "RandomForestClassifier: 0.673759 0.671032 (13.2492 seconds)\n",
      "\n",
      "X_GBM\n",
      "LogisticRegression: 0.685938 0.685816 (1.3861 seconds)\n",
      "Perceptron: 0.627635 0.625179 (1.3679 seconds)\n",
      "DecisionTreeClassifier: 0.599196 0.599173 (1.1179 seconds)\n",
      "ComplementNB: 0.586957 0.568634 (0.0945 seconds)\n",
      "AdaBoostClassifier: 0.692146 0.691448 (7.0239 seconds)\n",
      "LGBMClassifier: 0.694585 0.692139 (1.2130 seconds)\n",
      "RandomForestClassifier: 0.660661 0.660069 (37.9017 seconds)\n",
      "\n",
      "X_RF\n"
     ]
    },
    {
     "name": "stderr",
     "output_type": "stream",
     "text": [
      "C:\\Users\\Public\\Anaconda3\\lib\\site-packages\\sklearn\\linear_model\\_logistic.py:765: ConvergenceWarning: lbfgs failed to converge (status=1):\n",
      "STOP: TOTAL NO. of ITERATIONS REACHED LIMIT.\n",
      "\n",
      "Increase the number of iterations (max_iter) or scale the data as shown in:\n",
      "    https://scikit-learn.org/stable/modules/preprocessing.html\n",
      "Please also refer to the documentation for alternative solver options:\n",
      "    https://scikit-learn.org/stable/modules/linear_model.html#logistic-regression\n",
      "  extra_warning_msg=_LOGISTIC_SOLVER_CONVERGENCE_MSG)\n"
     ]
    },
    {
     "name": "stdout",
     "output_type": "stream",
     "text": [
      "LogisticRegression: 0.689510 0.689423 (2.2131 seconds)\n",
      "Perceptron: 0.609404 0.561515 (0.4010 seconds)\n",
      "DecisionTreeClassifier: 0.624122 0.624121 (3.1304 seconds)\n",
      "ComplementNB: 0.645222 0.641766 (0.1091 seconds)\n",
      "AdaBoostClassifier: 0.712094 0.711809 (10.7051 seconds)\n",
      "LGBMClassifier: 0.722829 0.721849 (1.7350 seconds)\n",
      "RandomForestClassifier: 0.716369 0.715708 (62.5251 seconds)\n",
      "\n"
     ]
    }
   ],
   "source": [
    "models = GetBasedModel(None)\n",
    "\n",
    "Accuracy_under, F1_under = compare_train(X_under, y_under, features, models)"
   ]
  },
  {
   "cell_type": "code",
   "execution_count": 62,
   "metadata": {},
   "outputs": [
    {
     "data": {
      "text/html": [
       "<div>\n",
       "<style scoped>\n",
       "    .dataframe tbody tr th:only-of-type {\n",
       "        vertical-align: middle;\n",
       "    }\n",
       "\n",
       "    .dataframe tbody tr th {\n",
       "        vertical-align: top;\n",
       "    }\n",
       "\n",
       "    .dataframe thead th {\n",
       "        text-align: right;\n",
       "    }\n",
       "</style>\n",
       "<table border=\"1\" class=\"dataframe\">\n",
       "  <thead>\n",
       "    <tr style=\"text-align: right;\">\n",
       "      <th></th>\n",
       "      <th>Model</th>\n",
       "      <th>Score_info</th>\n",
       "      <th>Score_LR</th>\n",
       "      <th>Score_GBM</th>\n",
       "      <th>Score_RF</th>\n",
       "    </tr>\n",
       "  </thead>\n",
       "  <tbody>\n",
       "    <tr>\n",
       "      <th>0</th>\n",
       "      <td>LogisticRegression</td>\n",
       "      <td>0.6649</td>\n",
       "      <td>0.6688</td>\n",
       "      <td>0.6859</td>\n",
       "      <td>0.6895</td>\n",
       "    </tr>\n",
       "    <tr>\n",
       "      <th>1</th>\n",
       "      <td>Perceptron</td>\n",
       "      <td>0.5760</td>\n",
       "      <td>0.5161</td>\n",
       "      <td>0.6276</td>\n",
       "      <td>0.6094</td>\n",
       "    </tr>\n",
       "    <tr>\n",
       "      <th>2</th>\n",
       "      <td>DecisionTreeClassifier</td>\n",
       "      <td>0.6016</td>\n",
       "      <td>0.6725</td>\n",
       "      <td>0.5992</td>\n",
       "      <td>0.6241</td>\n",
       "    </tr>\n",
       "    <tr>\n",
       "      <th>3</th>\n",
       "      <td>ComplementNB</td>\n",
       "      <td>0.5860</td>\n",
       "      <td>0.6092</td>\n",
       "      <td>0.5870</td>\n",
       "      <td>0.6452</td>\n",
       "    </tr>\n",
       "    <tr>\n",
       "      <th>4</th>\n",
       "      <td>AdaBoostClassifier</td>\n",
       "      <td>0.6925</td>\n",
       "      <td>0.6719</td>\n",
       "      <td>0.6921</td>\n",
       "      <td>0.7121</td>\n",
       "    </tr>\n",
       "    <tr>\n",
       "      <th>5</th>\n",
       "      <td>LGBMClassifier</td>\n",
       "      <td>0.6960</td>\n",
       "      <td>0.6777</td>\n",
       "      <td>0.6946</td>\n",
       "      <td>0.7228</td>\n",
       "    </tr>\n",
       "    <tr>\n",
       "      <th>6</th>\n",
       "      <td>RandomForestClassifier</td>\n",
       "      <td>0.6782</td>\n",
       "      <td>0.6738</td>\n",
       "      <td>0.6607</td>\n",
       "      <td>0.7164</td>\n",
       "    </tr>\n",
       "  </tbody>\n",
       "</table>\n",
       "</div>"
      ],
      "text/plain": [
       "                    Model  Score_info  Score_LR  Score_GBM  Score_RF\n",
       "0      LogisticRegression      0.6649    0.6688     0.6859    0.6895\n",
       "1              Perceptron      0.5760    0.5161     0.6276    0.6094\n",
       "2  DecisionTreeClassifier      0.6016    0.6725     0.5992    0.6241\n",
       "3            ComplementNB      0.5860    0.6092     0.5870    0.6452\n",
       "4      AdaBoostClassifier      0.6925    0.6719     0.6921    0.7121\n",
       "5          LGBMClassifier      0.6960    0.6777     0.6946    0.7228\n",
       "6  RandomForestClassifier      0.6782    0.6738     0.6607    0.7164"
      ]
     },
     "execution_count": 62,
     "metadata": {},
     "output_type": "execute_result"
    }
   ],
   "source": [
    "Accuracy_under"
   ]
  },
  {
   "cell_type": "code",
   "execution_count": 63,
   "metadata": {},
   "outputs": [
    {
     "data": {
      "image/png": "[encoded data removed]",
      "text/plain": [
       "<Figure size 720x288 with 1 Axes>"
      ]
     },
     "metadata": {
      "needs_background": "light"
     },
     "output_type": "display_data"
    }
   ],
   "source": [
    "make_plot(Accuracy_under)"
   ]
  },
  {
   "cell_type": "code",
   "execution_count": 64,
   "metadata": {},
   "outputs": [
    {
     "data": {
      "text/html": [
       "<div>\n",
       "<style scoped>\n",
       "    .dataframe tbody tr th:only-of-type {\n",
       "        vertical-align: middle;\n",
       "    }\n",
       "\n",
       "    .dataframe tbody tr th {\n",
       "        vertical-align: top;\n",
       "    }\n",
       "\n",
       "    .dataframe thead th {\n",
       "        text-align: right;\n",
       "    }\n",
       "</style>\n",
       "<table border=\"1\" class=\"dataframe\">\n",
       "  <thead>\n",
       "    <tr style=\"text-align: right;\">\n",
       "      <th></th>\n",
       "      <th>Model</th>\n",
       "      <th>Score_info</th>\n",
       "      <th>Score_LR</th>\n",
       "      <th>Score_GBM</th>\n",
       "      <th>Score_RF</th>\n",
       "    </tr>\n",
       "  </thead>\n",
       "  <tbody>\n",
       "    <tr>\n",
       "      <th>0</th>\n",
       "      <td>LogisticRegression</td>\n",
       "      <td>0.6649</td>\n",
       "      <td>0.6687</td>\n",
       "      <td>0.6858</td>\n",
       "      <td>0.6894</td>\n",
       "    </tr>\n",
       "    <tr>\n",
       "      <th>1</th>\n",
       "      <td>Perceptron</td>\n",
       "      <td>0.4894</td>\n",
       "      <td>0.3701</td>\n",
       "      <td>0.6252</td>\n",
       "      <td>0.5615</td>\n",
       "    </tr>\n",
       "    <tr>\n",
       "      <th>2</th>\n",
       "      <td>DecisionTreeClassifier</td>\n",
       "      <td>0.6016</td>\n",
       "      <td>0.6700</td>\n",
       "      <td>0.5992</td>\n",
       "      <td>0.6241</td>\n",
       "    </tr>\n",
       "    <tr>\n",
       "      <th>3</th>\n",
       "      <td>ComplementNB</td>\n",
       "      <td>0.5683</td>\n",
       "      <td>0.6078</td>\n",
       "      <td>0.5686</td>\n",
       "      <td>0.6418</td>\n",
       "    </tr>\n",
       "    <tr>\n",
       "      <th>4</th>\n",
       "      <td>AdaBoostClassifier</td>\n",
       "      <td>0.6917</td>\n",
       "      <td>0.6715</td>\n",
       "      <td>0.6914</td>\n",
       "      <td>0.7118</td>\n",
       "    </tr>\n",
       "    <tr>\n",
       "      <th>5</th>\n",
       "      <td>LGBMClassifier</td>\n",
       "      <td>0.6936</td>\n",
       "      <td>0.6743</td>\n",
       "      <td>0.6921</td>\n",
       "      <td>0.7218</td>\n",
       "    </tr>\n",
       "    <tr>\n",
       "      <th>6</th>\n",
       "      <td>RandomForestClassifier</td>\n",
       "      <td>0.6772</td>\n",
       "      <td>0.6710</td>\n",
       "      <td>0.6601</td>\n",
       "      <td>0.7157</td>\n",
       "    </tr>\n",
       "  </tbody>\n",
       "</table>\n",
       "</div>"
      ],
      "text/plain": [
       "                    Model  Score_info  Score_LR  Score_GBM  Score_RF\n",
       "0      LogisticRegression      0.6649    0.6687     0.6858    0.6894\n",
       "1              Perceptron      0.4894    0.3701     0.6252    0.5615\n",
       "2  DecisionTreeClassifier      0.6016    0.6700     0.5992    0.6241\n",
       "3            ComplementNB      0.5683    0.6078     0.5686    0.6418\n",
       "4      AdaBoostClassifier      0.6917    0.6715     0.6914    0.7118\n",
       "5          LGBMClassifier      0.6936    0.6743     0.6921    0.7218\n",
       "6  RandomForestClassifier      0.6772    0.6710     0.6601    0.7157"
      ]
     },
     "execution_count": 64,
     "metadata": {},
     "output_type": "execute_result"
    }
   ],
   "source": [
    "F1_under"
   ]
  },
  {
   "cell_type": "code",
   "execution_count": 65,
   "metadata": {},
   "outputs": [
    {
     "data": {
      "image/png": "[encoded data removed]",
      "text/plain": [
       "<Figure size 720x288 with 1 Axes>"
      ]
     },
     "metadata": {
      "needs_background": "light"
     },
     "output_type": "display_data"
    }
   ],
   "source": [
    "make_plot(F1_under)"
   ]
  },
  {
   "cell_type": "code",
   "execution_count": 66,
   "metadata": {},
   "outputs": [
    {
     "data": {
      "text/plain": [
       "LGBMClassifier()"
      ]
     },
     "execution_count": 66,
     "metadata": {},
     "output_type": "execute_result"
    }
   ],
   "source": [
    "model = LGBMClassifier()\n",
    "\n",
    "X_under_train, X_under_test, y_under_train, y_under_test = train_test_split(X_under, y_under, test_size=0.2, shuffle=True)\n",
    "\n",
    "feat = features[3][1]\n",
    "\n",
    "model.fit(X_under_train[feat], y_under_train)"
   ]
  },
  {
   "cell_type": "code",
   "execution_count": 67,
   "metadata": {},
   "outputs": [
    {
     "name": "stdout",
     "output_type": "stream",
     "text": [
      "Accuracy Score: 0.722333\n",
      "F1 Score: 0.731846\n",
      "ROC Score: 0.722308\n"
     ]
    }
   ],
   "source": [
    "y_pred = model.predict(X_over_test[feat])\n",
    "\n",
    "print(\"Accuracy Score: %f\" %accuracy_score(y_over_test, y_pred))\n",
    "print(\"F1 Score: %f\" %f1_score(y_over_test, y_pred))\n",
    "print(\"ROC Score: %f\" %roc_auc_score(y_over_test, y_pred))"
   ]
  },
  {
   "cell_type": "code",
   "execution_count": 68,
   "metadata": {},
   "outputs": [
    {
     "data": {
      "text/plain": [
       "<matplotlib.axes._subplots.AxesSubplot at 0x22522d92940>"
      ]
     },
     "execution_count": 68,
     "metadata": {},
     "output_type": "execute_result"
    },
    {
     "data": {
      "image/png": "[encoded data removed]",
      "text/plain": [
       "<Figure size 432x288 with 2 Axes>"
      ]
     },
     "metadata": {
      "needs_background": "light"
     },
     "output_type": "display_data"
    }
   ],
   "source": [
    "cf = confusion_matrix(y_over_test, y_pred)\n",
    "sns.heatmap(cf/np.sum(cf), annot=True)"
   ]
  }
 ],
 "metadata": {
  "kernelspec": {
   "display_name": "Python 3",
   "language": "python",
   "name": "python3"
  },
  "language_info": {
   "codemirror_mode": {
    "name": "ipython",
    "version": 3
   },
   "file_extension": ".py",
   "mimetype": "text/x-python",
   "name": "python",
   "nbconvert_exporter": "python",
   "pygments_lexer": "ipython3",
   "version": "3.7.1"
  }
 },
 "nbformat": 4,
 "nbformat_minor": 2
}
