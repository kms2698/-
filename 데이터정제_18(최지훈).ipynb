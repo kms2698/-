{
 "cells": [
  {
   "cell_type": "code",
   "execution_count": 1,
   "metadata": {
    "ExecuteTime": {
     "end_time": "2021-04-10T15:24:30.435332Z",
     "start_time": "2021-04-10T15:24:28.428855Z"
    }
   },
   "outputs": [],
   "source": [
    "import numpy as np\n",
    "import sys,sklearn\n",
    "import pandas as pd\n",
    "import matplotlib as mpl\n",
    "import matplotlib.pyplot as plt\n",
    "import seaborn as sns\n",
    "\n",
    "plt.rcParams['font.family'] = 'AppleGothic'"
   ]
  },
  {
   "cell_type": "code",
   "execution_count": 2,
   "metadata": {
    "ExecuteTime": {
     "end_time": "2021-04-10T15:24:34.567932Z",
     "start_time": "2021-04-10T15:24:30.437333Z"
    }
   },
   "outputs": [],
   "source": [
    "df = pd.read_csv('NHIS_OPEN_GJ_2018_100.csv')"
   ]
  },
  {
   "cell_type": "code",
   "execution_count": 3,
   "metadata": {
    "ExecuteTime": {
     "end_time": "2021-04-10T15:24:34.597832Z",
     "start_time": "2021-04-10T15:24:34.569840Z"
    }
   },
   "outputs": [],
   "source": [
    "df_s = df[['성별코드','신장(5Cm단위)', '체중(5Kg단위)', '연령대코드(5세단위)','이완기혈압','수축기혈압','식전혈당(공복혈당)', '허리둘레']]"
   ]
  },
  {
   "cell_type": "code",
   "execution_count": 4,
   "metadata": {
    "ExecuteTime": {
     "end_time": "2021-04-10T15:24:34.627835Z",
     "start_time": "2021-04-10T15:24:34.599832Z"
    }
   },
   "outputs": [],
   "source": [
    "df_s = df_s.rename(columns={\"연령대코드(5세단위)\":\"연령대코드\",\n",
    "                            \"체중(5Kg단위)\":\"체중\",\n",
    "                            \"신장(5Cm단위)\":\"신장\",             \n",
    "                            \"식전혈당(공복혈당)\":\"식전혈당\"})"
   ]
  },
  {
   "cell_type": "code",
   "execution_count": 5,
   "metadata": {
    "ExecuteTime": {
     "end_time": "2021-04-10T15:24:34.642817Z",
     "start_time": "2021-04-10T15:24:34.629823Z"
    },
    "scrolled": true
   },
   "outputs": [
    {
     "data": {
      "text/html": [
       "<div>\n",
       "<style scoped>\n",
       "    .dataframe tbody tr th:only-of-type {\n",
       "        vertical-align: middle;\n",
       "    }\n",
       "\n",
       "    .dataframe tbody tr th {\n",
       "        vertical-align: top;\n",
       "    }\n",
       "\n",
       "    .dataframe thead th {\n",
       "        text-align: right;\n",
       "    }\n",
       "</style>\n",
       "<table border=\"1\" class=\"dataframe\">\n",
       "  <thead>\n",
       "    <tr style=\"text-align: right;\">\n",
       "      <th></th>\n",
       "      <th>성별코드</th>\n",
       "      <th>신장</th>\n",
       "      <th>체중</th>\n",
       "      <th>연령대코드</th>\n",
       "      <th>이완기혈압</th>\n",
       "      <th>수축기혈압</th>\n",
       "      <th>식전혈당</th>\n",
       "      <th>허리둘레</th>\n",
       "    </tr>\n",
       "  </thead>\n",
       "  <tbody>\n",
       "    <tr>\n",
       "      <th>0</th>\n",
       "      <td>2</td>\n",
       "      <td>160</td>\n",
       "      <td>60</td>\n",
       "      <td>7</td>\n",
       "      <td>60.0</td>\n",
       "      <td>110.0</td>\n",
       "      <td>96.0</td>\n",
       "      <td>79.5</td>\n",
       "    </tr>\n",
       "    <tr>\n",
       "      <th>1</th>\n",
       "      <td>1</td>\n",
       "      <td>170</td>\n",
       "      <td>55</td>\n",
       "      <td>6</td>\n",
       "      <td>78.0</td>\n",
       "      <td>128.0</td>\n",
       "      <td>79.0</td>\n",
       "      <td>69.3</td>\n",
       "    </tr>\n",
       "    <tr>\n",
       "      <th>2</th>\n",
       "      <td>1</td>\n",
       "      <td>165</td>\n",
       "      <td>70</td>\n",
       "      <td>12</td>\n",
       "      <td>65.0</td>\n",
       "      <td>128.0</td>\n",
       "      <td>80.0</td>\n",
       "      <td>85.0</td>\n",
       "    </tr>\n",
       "    <tr>\n",
       "      <th>3</th>\n",
       "      <td>2</td>\n",
       "      <td>150</td>\n",
       "      <td>45</td>\n",
       "      <td>15</td>\n",
       "      <td>89.0</td>\n",
       "      <td>151.0</td>\n",
       "      <td>100.0</td>\n",
       "      <td>71.5</td>\n",
       "    </tr>\n",
       "    <tr>\n",
       "      <th>4</th>\n",
       "      <td>2</td>\n",
       "      <td>145</td>\n",
       "      <td>50</td>\n",
       "      <td>14</td>\n",
       "      <td>62.0</td>\n",
       "      <td>114.0</td>\n",
       "      <td>124.0</td>\n",
       "      <td>77.0</td>\n",
       "    </tr>\n",
       "  </tbody>\n",
       "</table>\n",
       "</div>"
      ],
      "text/plain": [
       "   성별코드   신장  체중  연령대코드  이완기혈압  수축기혈압   식전혈당  허리둘레\n",
       "0     2  160  60      7   60.0  110.0   96.0  79.5\n",
       "1     1  170  55      6   78.0  128.0   79.0  69.3\n",
       "2     1  165  70     12   65.0  128.0   80.0  85.0\n",
       "3     2  150  45     15   89.0  151.0  100.0  71.5\n",
       "4     2  145  50     14   62.0  114.0  124.0  77.0"
      ]
     },
     "execution_count": 5,
     "metadata": {},
     "output_type": "execute_result"
    }
   ],
   "source": [
    "df_s.head(5)"
   ]
  },
  {
   "cell_type": "markdown",
   "metadata": {},
   "source": [
    "## 허리둘레(40이상 140 이하) "
   ]
  },
  {
   "cell_type": "code",
   "execution_count": 6,
   "metadata": {
    "ExecuteTime": {
     "end_time": "2021-04-10T15:24:34.732864Z",
     "start_time": "2021-04-10T15:24:34.643822Z"
    }
   },
   "outputs": [],
   "source": [
    "df_s = df_s.loc[(df_s['허리둘레'] <= 140) & (df_s['허리둘레'] >= 40)]"
   ]
  },
  {
   "cell_type": "code",
   "execution_count": 7,
   "metadata": {
    "ExecuteTime": {
     "end_time": "2021-04-10T15:24:34.747861Z",
     "start_time": "2021-04-10T15:24:34.735865Z"
    }
   },
   "outputs": [],
   "source": [
    "#diabete 식전혈당 (127이상:2, 100이상126미만:1, 정상 : 0)\n",
    "def diabete (x) : \n",
    "    if (x >= 127) : return 2\n",
    "    elif (x>=100 and x <= 126 ): return 1\n",
    "    else : return 0\n",
    "#bmi 단계  (0:정상, 1:과체중, 2:비만)\n",
    "def bmi(h,w):\n",
    "    bmi = w / ((h/100)**2)\n",
    "    if (bmi >= 30) : return 2\n",
    "    elif (bmi < 29 and bmi >= 25) : return 1\n",
    "    else : return 0\n",
    "    \n",
    "#혈압 0:정상 , 1:전단계, 2:1기, 3:2기고혈압기고혈압  \n",
    "def pulse(l,h):\n",
    "    if (l >= 100 or h >= 160):\n",
    "        return 3\n",
    "    elif (90 <= l < 100) or (140 <= h < 160):\n",
    "        return 2\n",
    "    elif (80 <= l < 90) or (120 <= h < 140):\n",
    "        return 1\n",
    "    else:\n",
    "        return 0\n",
    "    \n",
    "def bokbu(sex, waist) :\n",
    "    if (sex == 1) and (waist >= 90) :\n",
    "        return 1\n",
    "    elif (sex == 2) and (waist >= 85) :\n",
    "        return 2\n",
    "    else : return 0\n",
    "    "
   ]
  },
  {
   "cell_type": "code",
   "execution_count": 8,
   "metadata": {
    "ExecuteTime": {
     "end_time": "2021-04-10T15:24:36.622307Z",
     "start_time": "2021-04-10T15:24:34.749860Z"
    }
   },
   "outputs": [
    {
     "name": "stderr",
     "output_type": "stream",
     "text": [
      "D:\\ProgramData\\Anaconda3\\lib\\site-packages\\numpy\\lib\\function_base.py:2192: RuntimeWarning: invalid value encountered in ? (vectorized)\n",
      "  outputs = ufunc(*inputs)\n"
     ]
    },
    {
     "data": {
      "text/html": [
       "<div>\n",
       "<style scoped>\n",
       "    .dataframe tbody tr th:only-of-type {\n",
       "        vertical-align: middle;\n",
       "    }\n",
       "\n",
       "    .dataframe tbody tr th {\n",
       "        vertical-align: top;\n",
       "    }\n",
       "\n",
       "    .dataframe thead th {\n",
       "        text-align: right;\n",
       "    }\n",
       "</style>\n",
       "<table border=\"1\" class=\"dataframe\">\n",
       "  <thead>\n",
       "    <tr style=\"text-align: right;\">\n",
       "      <th></th>\n",
       "      <th>성별코드</th>\n",
       "      <th>신장</th>\n",
       "      <th>체중</th>\n",
       "      <th>연령대코드</th>\n",
       "      <th>이완기혈압</th>\n",
       "      <th>수축기혈압</th>\n",
       "      <th>식전혈당</th>\n",
       "      <th>허리둘레</th>\n",
       "      <th>혈당</th>\n",
       "      <th>고혈압</th>\n",
       "      <th>bmi</th>\n",
       "      <th>복부비만</th>\n",
       "    </tr>\n",
       "  </thead>\n",
       "  <tbody>\n",
       "    <tr>\n",
       "      <th>count</th>\n",
       "      <td>999566.000000</td>\n",
       "      <td>999566.000000</td>\n",
       "      <td>999566.000000</td>\n",
       "      <td>999566.000000</td>\n",
       "      <td>993848.000000</td>\n",
       "      <td>993848.000000</td>\n",
       "      <td>993658.000000</td>\n",
       "      <td>999566.000000</td>\n",
       "      <td>999566.000000</td>\n",
       "      <td>999566.000000</td>\n",
       "      <td>999566.000000</td>\n",
       "      <td>999566.000000</td>\n",
       "    </tr>\n",
       "    <tr>\n",
       "      <th>mean</th>\n",
       "      <td>1.464198</td>\n",
       "      <td>162.293931</td>\n",
       "      <td>63.591399</td>\n",
       "      <td>10.597882</td>\n",
       "      <td>76.078154</td>\n",
       "      <td>122.674750</td>\n",
       "      <td>100.874225</td>\n",
       "      <td>81.451995</td>\n",
       "      <td>0.461249</td>\n",
       "      <td>0.767358</td>\n",
       "      <td>0.350699</td>\n",
       "      <td>0.336663</td>\n",
       "    </tr>\n",
       "    <tr>\n",
       "      <th>std</th>\n",
       "      <td>0.498717</td>\n",
       "      <td>9.336116</td>\n",
       "      <td>12.730774</td>\n",
       "      <td>2.878849</td>\n",
       "      <td>10.010737</td>\n",
       "      <td>14.623355</td>\n",
       "      <td>24.111770</td>\n",
       "      <td>9.676727</td>\n",
       "      <td>0.632140</td>\n",
       "      <td>0.751803</td>\n",
       "      <td>0.572946</td>\n",
       "      <td>0.638203</td>\n",
       "    </tr>\n",
       "    <tr>\n",
       "      <th>min</th>\n",
       "      <td>1.000000</td>\n",
       "      <td>125.000000</td>\n",
       "      <td>30.000000</td>\n",
       "      <td>5.000000</td>\n",
       "      <td>27.000000</td>\n",
       "      <td>63.000000</td>\n",
       "      <td>23.000000</td>\n",
       "      <td>40.000000</td>\n",
       "      <td>0.000000</td>\n",
       "      <td>0.000000</td>\n",
       "      <td>0.000000</td>\n",
       "      <td>0.000000</td>\n",
       "    </tr>\n",
       "    <tr>\n",
       "      <th>25%</th>\n",
       "      <td>1.000000</td>\n",
       "      <td>155.000000</td>\n",
       "      <td>55.000000</td>\n",
       "      <td>8.000000</td>\n",
       "      <td>70.000000</td>\n",
       "      <td>112.000000</td>\n",
       "      <td>89.000000</td>\n",
       "      <td>75.000000</td>\n",
       "      <td>0.000000</td>\n",
       "      <td>0.000000</td>\n",
       "      <td>0.000000</td>\n",
       "      <td>0.000000</td>\n",
       "    </tr>\n",
       "    <tr>\n",
       "      <th>50%</th>\n",
       "      <td>1.000000</td>\n",
       "      <td>160.000000</td>\n",
       "      <td>60.000000</td>\n",
       "      <td>11.000000</td>\n",
       "      <td>76.000000</td>\n",
       "      <td>121.000000</td>\n",
       "      <td>96.000000</td>\n",
       "      <td>81.300000</td>\n",
       "      <td>0.000000</td>\n",
       "      <td>1.000000</td>\n",
       "      <td>0.000000</td>\n",
       "      <td>0.000000</td>\n",
       "    </tr>\n",
       "    <tr>\n",
       "      <th>75%</th>\n",
       "      <td>2.000000</td>\n",
       "      <td>170.000000</td>\n",
       "      <td>70.000000</td>\n",
       "      <td>13.000000</td>\n",
       "      <td>82.000000</td>\n",
       "      <td>131.000000</td>\n",
       "      <td>105.000000</td>\n",
       "      <td>88.000000</td>\n",
       "      <td>1.000000</td>\n",
       "      <td>1.000000</td>\n",
       "      <td>1.000000</td>\n",
       "      <td>0.000000</td>\n",
       "    </tr>\n",
       "    <tr>\n",
       "      <th>max</th>\n",
       "      <td>2.000000</td>\n",
       "      <td>190.000000</td>\n",
       "      <td>135.000000</td>\n",
       "      <td>18.000000</td>\n",
       "      <td>173.000000</td>\n",
       "      <td>267.000000</td>\n",
       "      <td>872.000000</td>\n",
       "      <td>140.000000</td>\n",
       "      <td>2.000000</td>\n",
       "      <td>3.000000</td>\n",
       "      <td>2.000000</td>\n",
       "      <td>2.000000</td>\n",
       "    </tr>\n",
       "  </tbody>\n",
       "</table>\n",
       "</div>"
      ],
      "text/plain": [
       "                성별코드             신장             체중          연령대코드  \\\n",
       "count  999566.000000  999566.000000  999566.000000  999566.000000   \n",
       "mean        1.464198     162.293931      63.591399      10.597882   \n",
       "std         0.498717       9.336116      12.730774       2.878849   \n",
       "min         1.000000     125.000000      30.000000       5.000000   \n",
       "25%         1.000000     155.000000      55.000000       8.000000   \n",
       "50%         1.000000     160.000000      60.000000      11.000000   \n",
       "75%         2.000000     170.000000      70.000000      13.000000   \n",
       "max         2.000000     190.000000     135.000000      18.000000   \n",
       "\n",
       "               이완기혈압          수축기혈압           식전혈당           허리둘레  \\\n",
       "count  993848.000000  993848.000000  993658.000000  999566.000000   \n",
       "mean       76.078154     122.674750     100.874225      81.451995   \n",
       "std        10.010737      14.623355      24.111770       9.676727   \n",
       "min        27.000000      63.000000      23.000000      40.000000   \n",
       "25%        70.000000     112.000000      89.000000      75.000000   \n",
       "50%        76.000000     121.000000      96.000000      81.300000   \n",
       "75%        82.000000     131.000000     105.000000      88.000000   \n",
       "max       173.000000     267.000000     872.000000     140.000000   \n",
       "\n",
       "                  혈당            고혈압            bmi           복부비만  \n",
       "count  999566.000000  999566.000000  999566.000000  999566.000000  \n",
       "mean        0.461249       0.767358       0.350699       0.336663  \n",
       "std         0.632140       0.751803       0.572946       0.638203  \n",
       "min         0.000000       0.000000       0.000000       0.000000  \n",
       "25%         0.000000       0.000000       0.000000       0.000000  \n",
       "50%         0.000000       1.000000       0.000000       0.000000  \n",
       "75%         1.000000       1.000000       1.000000       0.000000  \n",
       "max         2.000000       3.000000       2.000000       2.000000  "
      ]
     },
     "execution_count": 8,
     "metadata": {},
     "output_type": "execute_result"
    }
   ],
   "source": [
    "# 엄세진님 코드 참고했습니다.\n",
    "df_s['혈당'] = df_s['식전혈당'].map(diabete)\n",
    "df_s['고혈압'] = np.vectorize(pulse)(df_s['이완기혈압'], df_s['수축기혈압'])\n",
    "df_s['bmi'] = np.vectorize(bmi)(df_s['신장'], df_s['체중'])\n",
    "df_s['복부비만'] = np.vectorize(bokbu)(df_s['성별코드'], df_s['허리둘레'])\n",
    "df_s.describe()"
   ]
  },
  {
   "cell_type": "markdown",
   "metadata": {},
   "source": [
    "# 엔트로피"
   ]
  },
  {
   "cell_type": "code",
   "execution_count": 9,
   "metadata": {
    "ExecuteTime": {
     "end_time": "2021-04-10T15:24:38.124239Z",
     "start_time": "2021-04-10T15:24:36.623288Z"
    }
   },
   "outputs": [
    {
     "name": "stdout",
     "output_type": "stream",
     "text": [
      "성별코드 : 14.752319083181753\n",
      "고혈압 : 30.46176497542774\n",
      "bmi : 15.803809581364625\n",
      "복부비만 : 21.462026403340495\n",
      "연령대코드 : 45.842340350574105\n"
     ]
    }
   ],
   "source": [
    "def Entropy(df, attribute) :\n",
    "    list1  = list(df[attribute].unique())\n",
    "    etp = 0\n",
    "    for i in range(len(list1)):\n",
    "        q1 = len(df[df[attribute] == list1[i]])/len(df[attribute])\n",
    "        etp -=  q1*np.log2(q1)\n",
    "    return etp\n",
    "\n",
    "def Group_info(df,m_attribute,fix_attribute):\n",
    "    list2 = list(df[m_attribute].unique())\n",
    "    info_Entropy = Entropy(df,fix_attribute)\n",
    "    info_data = 0\n",
    "    for i in range (len(list2)) :\n",
    "        q2 = df.loc[df[m_attribute] == list2[i]]\n",
    "        info_data +=  (len(q2[m_attribute])/len(df[m_attribute]))* Entropy(q2,fix_attribute) \n",
    "    \n",
    "    data = info_Entropy - info_data\n",
    "    \n",
    "    return data\n",
    "\n",
    "info = np.array([(\"성별코드\"),(\"고혈압\"),(\"bmi\"),(\"복부비만\"),(\"연령대코드\")])\n",
    "\n",
    "for i in info:\n",
    "    print(i, \":\", Group_info(df_s, i, \"혈당\") * 1000)"
   ]
  },
  {
   "cell_type": "code",
   "execution_count": 10,
   "metadata": {
    "ExecuteTime": {
     "end_time": "2021-04-10T15:24:38.229208Z",
     "start_time": "2021-04-10T15:24:38.126259Z"
    }
   },
   "outputs": [
    {
     "data": {
      "text/plain": [
       "1.2372064525910793"
      ]
     },
     "execution_count": 10,
     "metadata": {},
     "output_type": "execute_result"
    }
   ],
   "source": [
    "Entropy(df_s,\"혈당\")"
   ]
  },
  {
   "cell_type": "markdown",
   "metadata": {},
   "source": [
    "### 지니 지수 https://lucy-the-marketer.kr/ko/growth/decision-tree-and-impurity/"
   ]
  },
  {
   "cell_type": "code",
   "execution_count": 11,
   "metadata": {
    "ExecuteTime": {
     "end_time": "2021-04-10T15:24:39.280550Z",
     "start_time": "2021-04-10T15:24:38.231210Z"
    }
   },
   "outputs": [
    {
     "name": "stdout",
     "output_type": "stream",
     "text": [
      "성별코드 : 51.332654007454\n",
      "고혈압 : 50.61087493173404\n",
      "bmi : 51.30041746755184\n",
      "복부비만 : 51.10639071882977\n",
      "연령대코드 : 50.2365301025295\n"
     ]
    }
   ],
   "source": [
    "def Gini(df, attribute) :\n",
    "    list1  = list(df[attribute].unique())\n",
    "    gini = 0\n",
    "    for i in range(len(list1)):\n",
    "        q1 = len(df[df[attribute] == list1[i]])/len(df[attribute])\n",
    "        gini += (q1**2)\n",
    "    return 1 - gini\n",
    "\n",
    "def Group_Gini(df,m_attribute,fix_attribute):\n",
    "    list2 = list(df[m_attribute].unique())\n",
    "    info_data = 0\n",
    "    for i in range (len(list2)) :\n",
    "        q2 = df.loc[df[m_attribute] == list2[i]]\n",
    "        info_data +=  (len(q2[m_attribute])/len(df[m_attribute]))* Gini(q2,fix_attribute) \n",
    "    \n",
    "    return info_data\n",
    "\n",
    "info = np.array([(\"성별코드\"),(\"고혈압\"),(\"bmi\"),(\"복부비만\"),(\"연령대코드\")])\n",
    "\n",
    "for i in info :\n",
    "    print(i,\":\",Group_Gini(df_s, i,\"혈당\")*100)"
   ]
  },
  {
   "cell_type": "code",
   "execution_count": null,
   "metadata": {},
   "outputs": [],
   "source": []
  }
 ],
 "metadata": {
  "kernelspec": {
   "display_name": "Python 3",
   "language": "python",
   "name": "python3"
  },
  "language_info": {
   "codemirror_mode": {
    "name": "ipython",
    "version": 3
   },
   "file_extension": ".py",
   "mimetype": "text/x-python",
   "name": "python",
   "nbconvert_exporter": "python",
   "pygments_lexer": "ipython3",
   "version": "3.8.5"
  },
  "toc": {
   "base_numbering": 1,
   "nav_menu": {},
   "number_sections": true,
   "sideBar": true,
   "skip_h1_title": false,
   "title_cell": "Table of Contents",
   "title_sidebar": "Contents",
   "toc_cell": false,
   "toc_position": {},
   "toc_section_display": true,
   "toc_window_display": false
  },
  "varInspector": {
   "cols": {
    "lenName": 16,
    "lenType": 16,
    "lenVar": 40
   },
   "kernels_config": {
    "python": {
     "delete_cmd_postfix": "",
     "delete_cmd_prefix": "del ",
     "library": "var_list.py",
     "varRefreshCmd": "print(var_dic_list())"
    },
    "r": {
     "delete_cmd_postfix": ") ",
     "delete_cmd_prefix": "rm(",
     "library": "var_list.r",
     "varRefreshCmd": "cat(var_dic_list()) "
    }
   },
   "types_to_exclude": [
    "module",
    "function",
    "builtin_function_or_method",
    "instance",
    "_Feature"
   ],
   "window_display": false
  }
 },
 "nbformat": 4,
 "nbformat_minor": 4
}
