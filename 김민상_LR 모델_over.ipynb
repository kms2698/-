{
 "cells": [
  {
   "cell_type": "code",
   "execution_count": 101,
   "id": "31b6d58c",
   "metadata": {},
   "outputs": [],
   "source": [
    "import sys\n",
    "import numpy as np\n",
    "import pandas as pd\n",
    "import matplotlib.pyplot as plt\n",
    "%matplotlib inline\n",
    "import matplotlib as mpl\n",
    "import seaborn as sns\n",
    "mpl.rcParams['figure.dpi'] = 400\n",
    "\n",
    "plt.rcParams['font.family'] = 'AppleGothic'\n",
    "plt.rcParams['axes.unicode_minus'] = False"
   ]
  },
  {
   "cell_type": "code",
   "execution_count": 102,
   "id": "ea15ba71",
   "metadata": {},
   "outputs": [],
   "source": [
    "df = pd.read_csv('data_preprocessed_over.csv') # over_sampling"
   ]
  },
  {
   "cell_type": "code",
   "execution_count": 103,
   "id": "ec3b3ee2",
   "metadata": {},
   "outputs": [
    {
     "name": "stdout",
     "output_type": "stream",
     "text": [
      "<class 'pandas.core.frame.DataFrame'>\n",
      "RangeIndex: 2773887 entries, 0 to 2773886\n",
      "Data columns (total 19 columns):\n",
      " #   Column    Dtype  \n",
      "---  ------    -----  \n",
      " 0   성별코드      float64\n",
      " 1   연령대코드     float64\n",
      " 2   허리둘레      float64\n",
      " 3   총콜레스테롤    float64\n",
      " 4   트리글리세라이드  float64\n",
      " 5   HDL콜레스테롤  float64\n",
      " 6   LDL콜레스테롤  float64\n",
      " 7   혈색소       float64\n",
      " 8   요단백       float64\n",
      " 9   혈청크레아티닌   float64\n",
      " 10  AST       float64\n",
      " 11  ALT       float64\n",
      " 12  감마지티피     float64\n",
      " 13  흡연상태      float64\n",
      " 14  음주여부      float64\n",
      " 15  복부비만      float64\n",
      " 16  비만여부      float64\n",
      " 17  고혈압       float64\n",
      " 18  식전혈당      int64  \n",
      "dtypes: float64(18), int64(1)\n",
      "memory usage: 402.1 MB\n"
     ]
    }
   ],
   "source": [
    "df.info()"
   ]
  },
  {
   "cell_type": "code",
   "execution_count": 104,
   "id": "fef4ca6c",
   "metadata": {
    "scrolled": true
   },
   "outputs": [
    {
     "name": "stdout",
     "output_type": "stream",
     "text": [
      "0    924629\n",
      "1    924629\n",
      "2    924629\n",
      "Name: 식전혈당, dtype: int64\n"
     ]
    }
   ],
   "source": [
    "print(df['식전혈당'].value_counts())"
   ]
  },
  {
   "cell_type": "code",
   "execution_count": 105,
   "id": "6b619ac2",
   "metadata": {},
   "outputs": [],
   "source": [
    "df = df[['성별코드', '연령대코드', '허리둘레', '총콜레스테롤', '트리글리세라이드', 'HDL콜레스테롤',\n",
    "       'LDL콜레스테롤', '혈색소', '요단백', '혈청크레아티닌', 'AST', 'ALT', '감마지티피', '흡연상태',\n",
    "       '음주여부', '복부비만', '비만여부', '고혈압', '식전혈당']]"
   ]
  },
  {
   "cell_type": "code",
   "execution_count": 106,
   "id": "3e46635d",
   "metadata": {},
   "outputs": [
    {
     "data": {
      "text/html": [
       "<div>\n",
       "<style scoped>\n",
       "    .dataframe tbody tr th:only-of-type {\n",
       "        vertical-align: middle;\n",
       "    }\n",
       "\n",
       "    .dataframe tbody tr th {\n",
       "        vertical-align: top;\n",
       "    }\n",
       "\n",
       "    .dataframe thead th {\n",
       "        text-align: right;\n",
       "    }\n",
       "</style>\n",
       "<table border=\"1\" class=\"dataframe\">\n",
       "  <thead>\n",
       "    <tr style=\"text-align: right;\">\n",
       "      <th></th>\n",
       "      <th>성별코드</th>\n",
       "      <th>연령대코드</th>\n",
       "      <th>허리둘레</th>\n",
       "      <th>총콜레스테롤</th>\n",
       "      <th>트리글리세라이드</th>\n",
       "      <th>HDL콜레스테롤</th>\n",
       "      <th>LDL콜레스테롤</th>\n",
       "      <th>혈색소</th>\n",
       "      <th>요단백</th>\n",
       "      <th>혈청크레아티닌</th>\n",
       "      <th>AST</th>\n",
       "      <th>ALT</th>\n",
       "      <th>감마지티피</th>\n",
       "      <th>흡연상태</th>\n",
       "      <th>음주여부</th>\n",
       "      <th>복부비만</th>\n",
       "      <th>비만여부</th>\n",
       "      <th>고혈압</th>\n",
       "      <th>식전혈당</th>\n",
       "    </tr>\n",
       "  </thead>\n",
       "  <tbody>\n",
       "    <tr>\n",
       "      <th>0</th>\n",
       "      <td>2.0</td>\n",
       "      <td>12.0</td>\n",
       "      <td>78.0</td>\n",
       "      <td>166.0</td>\n",
       "      <td>89.0</td>\n",
       "      <td>88.0</td>\n",
       "      <td>60.0</td>\n",
       "      <td>12.0</td>\n",
       "      <td>1.0</td>\n",
       "      <td>1.0</td>\n",
       "      <td>21.0</td>\n",
       "      <td>18.0</td>\n",
       "      <td>16.0</td>\n",
       "      <td>1.0</td>\n",
       "      <td>1.0</td>\n",
       "      <td>0.0</td>\n",
       "      <td>1.0</td>\n",
       "      <td>1.0</td>\n",
       "      <td>1</td>\n",
       "    </tr>\n",
       "    <tr>\n",
       "      <th>1</th>\n",
       "      <td>2.0</td>\n",
       "      <td>10.0</td>\n",
       "      <td>87.0</td>\n",
       "      <td>207.0</td>\n",
       "      <td>103.0</td>\n",
       "      <td>46.0</td>\n",
       "      <td>140.0</td>\n",
       "      <td>14.0</td>\n",
       "      <td>1.0</td>\n",
       "      <td>1.0</td>\n",
       "      <td>19.0</td>\n",
       "      <td>18.0</td>\n",
       "      <td>23.0</td>\n",
       "      <td>1.0</td>\n",
       "      <td>1.0</td>\n",
       "      <td>1.0</td>\n",
       "      <td>1.0</td>\n",
       "      <td>0.0</td>\n",
       "      <td>0</td>\n",
       "    </tr>\n",
       "    <tr>\n",
       "      <th>2</th>\n",
       "      <td>1.0</td>\n",
       "      <td>10.0</td>\n",
       "      <td>86.0</td>\n",
       "      <td>236.0</td>\n",
       "      <td>199.0</td>\n",
       "      <td>54.0</td>\n",
       "      <td>141.0</td>\n",
       "      <td>15.0</td>\n",
       "      <td>1.0</td>\n",
       "      <td>1.0</td>\n",
       "      <td>21.0</td>\n",
       "      <td>21.0</td>\n",
       "      <td>13.0</td>\n",
       "      <td>2.0</td>\n",
       "      <td>0.0</td>\n",
       "      <td>0.0</td>\n",
       "      <td>1.0</td>\n",
       "      <td>3.0</td>\n",
       "      <td>1</td>\n",
       "    </tr>\n",
       "    <tr>\n",
       "      <th>3</th>\n",
       "      <td>1.0</td>\n",
       "      <td>17.0</td>\n",
       "      <td>68.0</td>\n",
       "      <td>164.0</td>\n",
       "      <td>73.0</td>\n",
       "      <td>74.0</td>\n",
       "      <td>75.0</td>\n",
       "      <td>13.0</td>\n",
       "      <td>1.0</td>\n",
       "      <td>1.0</td>\n",
       "      <td>25.0</td>\n",
       "      <td>16.0</td>\n",
       "      <td>11.0</td>\n",
       "      <td>1.0</td>\n",
       "      <td>0.0</td>\n",
       "      <td>0.0</td>\n",
       "      <td>0.0</td>\n",
       "      <td>1.0</td>\n",
       "      <td>1</td>\n",
       "    </tr>\n",
       "    <tr>\n",
       "      <th>4</th>\n",
       "      <td>2.0</td>\n",
       "      <td>12.0</td>\n",
       "      <td>76.0</td>\n",
       "      <td>191.0</td>\n",
       "      <td>247.0</td>\n",
       "      <td>48.0</td>\n",
       "      <td>93.0</td>\n",
       "      <td>14.0</td>\n",
       "      <td>1.0</td>\n",
       "      <td>1.0</td>\n",
       "      <td>42.0</td>\n",
       "      <td>22.0</td>\n",
       "      <td>67.0</td>\n",
       "      <td>1.0</td>\n",
       "      <td>1.0</td>\n",
       "      <td>0.0</td>\n",
       "      <td>0.0</td>\n",
       "      <td>1.0</td>\n",
       "      <td>0</td>\n",
       "    </tr>\n",
       "  </tbody>\n",
       "</table>\n",
       "</div>"
      ],
      "text/plain": [
       "   성별코드  연령대코드  허리둘레  총콜레스테롤  트리글리세라이드  HDL콜레스테롤  LDL콜레스테롤   혈색소  요단백  \\\n",
       "0   2.0   12.0  78.0   166.0      89.0      88.0      60.0  12.0  1.0   \n",
       "1   2.0   10.0  87.0   207.0     103.0      46.0     140.0  14.0  1.0   \n",
       "2   1.0   10.0  86.0   236.0     199.0      54.0     141.0  15.0  1.0   \n",
       "3   1.0   17.0  68.0   164.0      73.0      74.0      75.0  13.0  1.0   \n",
       "4   2.0   12.0  76.0   191.0     247.0      48.0      93.0  14.0  1.0   \n",
       "\n",
       "   혈청크레아티닌   AST   ALT  감마지티피  흡연상태  음주여부  복부비만  비만여부  고혈압  식전혈당  \n",
       "0      1.0  21.0  18.0   16.0   1.0   1.0   0.0   1.0  1.0     1  \n",
       "1      1.0  19.0  18.0   23.0   1.0   1.0   1.0   1.0  0.0     0  \n",
       "2      1.0  21.0  21.0   13.0   2.0   0.0   0.0   1.0  3.0     1  \n",
       "3      1.0  25.0  16.0   11.0   1.0   0.0   0.0   0.0  1.0     1  \n",
       "4      1.0  42.0  22.0   67.0   1.0   1.0   0.0   0.0  1.0     0  "
      ]
     },
     "execution_count": 106,
     "metadata": {},
     "output_type": "execute_result"
    }
   ],
   "source": [
    "df.head()"
   ]
  },
  {
   "cell_type": "code",
   "execution_count": 107,
   "id": "9263f06e",
   "metadata": {},
   "outputs": [],
   "source": [
    "df.loc[df['식전혈당'] == 1, '식전혈당'] = 0\n",
    "df.loc[df['식전혈당'] == 2, '식전혈당'] = 1"
   ]
  },
  {
   "cell_type": "code",
   "execution_count": 108,
   "id": "f7dc4123",
   "metadata": {},
   "outputs": [
    {
     "name": "stdout",
     "output_type": "stream",
     "text": [
      "0    1849258\n",
      "1     924629\n",
      "Name: 식전혈당, dtype: int64\n"
     ]
    }
   ],
   "source": [
    "print(df['식전혈당'].value_counts())"
   ]
  },
  {
   "cell_type": "code",
   "execution_count": 109,
   "id": "223dd31b",
   "metadata": {
    "scrolled": true
   },
   "outputs": [
    {
     "data": {
      "text/html": [
       "<div>\n",
       "<style scoped>\n",
       "    .dataframe tbody tr th:only-of-type {\n",
       "        vertical-align: middle;\n",
       "    }\n",
       "\n",
       "    .dataframe tbody tr th {\n",
       "        vertical-align: top;\n",
       "    }\n",
       "\n",
       "    .dataframe thead th {\n",
       "        text-align: right;\n",
       "    }\n",
       "</style>\n",
       "<table border=\"1\" class=\"dataframe\">\n",
       "  <thead>\n",
       "    <tr style=\"text-align: right;\">\n",
       "      <th></th>\n",
       "      <th>성별코드</th>\n",
       "      <th>연령대코드</th>\n",
       "      <th>허리둘레</th>\n",
       "      <th>총콜레스테롤</th>\n",
       "      <th>트리글리세라이드</th>\n",
       "      <th>HDL콜레스테롤</th>\n",
       "      <th>LDL콜레스테롤</th>\n",
       "      <th>혈색소</th>\n",
       "      <th>요단백</th>\n",
       "      <th>혈청크레아티닌</th>\n",
       "      <th>AST</th>\n",
       "      <th>ALT</th>\n",
       "      <th>감마지티피</th>\n",
       "      <th>흡연상태</th>\n",
       "      <th>음주여부</th>\n",
       "      <th>복부비만</th>\n",
       "      <th>비만여부</th>\n",
       "      <th>고혈압</th>\n",
       "      <th>식전혈당</th>\n",
       "    </tr>\n",
       "  </thead>\n",
       "  <tbody>\n",
       "    <tr>\n",
       "      <th>0</th>\n",
       "      <td>2.0</td>\n",
       "      <td>12.0</td>\n",
       "      <td>78.0</td>\n",
       "      <td>166.0</td>\n",
       "      <td>89.0</td>\n",
       "      <td>88.0</td>\n",
       "      <td>60.0</td>\n",
       "      <td>12.0</td>\n",
       "      <td>1.0</td>\n",
       "      <td>1.0</td>\n",
       "      <td>21.0</td>\n",
       "      <td>18.0</td>\n",
       "      <td>16.0</td>\n",
       "      <td>1.0</td>\n",
       "      <td>1.0</td>\n",
       "      <td>0.0</td>\n",
       "      <td>1.0</td>\n",
       "      <td>1.0</td>\n",
       "      <td>0</td>\n",
       "    </tr>\n",
       "    <tr>\n",
       "      <th>1</th>\n",
       "      <td>2.0</td>\n",
       "      <td>10.0</td>\n",
       "      <td>87.0</td>\n",
       "      <td>207.0</td>\n",
       "      <td>103.0</td>\n",
       "      <td>46.0</td>\n",
       "      <td>140.0</td>\n",
       "      <td>14.0</td>\n",
       "      <td>1.0</td>\n",
       "      <td>1.0</td>\n",
       "      <td>19.0</td>\n",
       "      <td>18.0</td>\n",
       "      <td>23.0</td>\n",
       "      <td>1.0</td>\n",
       "      <td>1.0</td>\n",
       "      <td>1.0</td>\n",
       "      <td>1.0</td>\n",
       "      <td>0.0</td>\n",
       "      <td>0</td>\n",
       "    </tr>\n",
       "    <tr>\n",
       "      <th>2</th>\n",
       "      <td>1.0</td>\n",
       "      <td>10.0</td>\n",
       "      <td>86.0</td>\n",
       "      <td>236.0</td>\n",
       "      <td>199.0</td>\n",
       "      <td>54.0</td>\n",
       "      <td>141.0</td>\n",
       "      <td>15.0</td>\n",
       "      <td>1.0</td>\n",
       "      <td>1.0</td>\n",
       "      <td>21.0</td>\n",
       "      <td>21.0</td>\n",
       "      <td>13.0</td>\n",
       "      <td>2.0</td>\n",
       "      <td>0.0</td>\n",
       "      <td>0.0</td>\n",
       "      <td>1.0</td>\n",
       "      <td>3.0</td>\n",
       "      <td>0</td>\n",
       "    </tr>\n",
       "    <tr>\n",
       "      <th>3</th>\n",
       "      <td>1.0</td>\n",
       "      <td>17.0</td>\n",
       "      <td>68.0</td>\n",
       "      <td>164.0</td>\n",
       "      <td>73.0</td>\n",
       "      <td>74.0</td>\n",
       "      <td>75.0</td>\n",
       "      <td>13.0</td>\n",
       "      <td>1.0</td>\n",
       "      <td>1.0</td>\n",
       "      <td>25.0</td>\n",
       "      <td>16.0</td>\n",
       "      <td>11.0</td>\n",
       "      <td>1.0</td>\n",
       "      <td>0.0</td>\n",
       "      <td>0.0</td>\n",
       "      <td>0.0</td>\n",
       "      <td>1.0</td>\n",
       "      <td>0</td>\n",
       "    </tr>\n",
       "    <tr>\n",
       "      <th>4</th>\n",
       "      <td>2.0</td>\n",
       "      <td>12.0</td>\n",
       "      <td>76.0</td>\n",
       "      <td>191.0</td>\n",
       "      <td>247.0</td>\n",
       "      <td>48.0</td>\n",
       "      <td>93.0</td>\n",
       "      <td>14.0</td>\n",
       "      <td>1.0</td>\n",
       "      <td>1.0</td>\n",
       "      <td>42.0</td>\n",
       "      <td>22.0</td>\n",
       "      <td>67.0</td>\n",
       "      <td>1.0</td>\n",
       "      <td>1.0</td>\n",
       "      <td>0.0</td>\n",
       "      <td>0.0</td>\n",
       "      <td>1.0</td>\n",
       "      <td>0</td>\n",
       "    </tr>\n",
       "  </tbody>\n",
       "</table>\n",
       "</div>"
      ],
      "text/plain": [
       "   성별코드  연령대코드  허리둘레  총콜레스테롤  트리글리세라이드  HDL콜레스테롤  LDL콜레스테롤   혈색소  요단백  \\\n",
       "0   2.0   12.0  78.0   166.0      89.0      88.0      60.0  12.0  1.0   \n",
       "1   2.0   10.0  87.0   207.0     103.0      46.0     140.0  14.0  1.0   \n",
       "2   1.0   10.0  86.0   236.0     199.0      54.0     141.0  15.0  1.0   \n",
       "3   1.0   17.0  68.0   164.0      73.0      74.0      75.0  13.0  1.0   \n",
       "4   2.0   12.0  76.0   191.0     247.0      48.0      93.0  14.0  1.0   \n",
       "\n",
       "   혈청크레아티닌   AST   ALT  감마지티피  흡연상태  음주여부  복부비만  비만여부  고혈압  식전혈당  \n",
       "0      1.0  21.0  18.0   16.0   1.0   1.0   0.0   1.0  1.0     0  \n",
       "1      1.0  19.0  18.0   23.0   1.0   1.0   1.0   1.0  0.0     0  \n",
       "2      1.0  21.0  21.0   13.0   2.0   0.0   0.0   1.0  3.0     0  \n",
       "3      1.0  25.0  16.0   11.0   1.0   0.0   0.0   0.0  1.0     0  \n",
       "4      1.0  42.0  22.0   67.0   1.0   1.0   0.0   0.0  1.0     0  "
      ]
     },
     "execution_count": 109,
     "metadata": {},
     "output_type": "execute_result"
    }
   ],
   "source": [
    "df.head()"
   ]
  },
  {
   "cell_type": "code",
   "execution_count": 110,
   "id": "7e7dab8a",
   "metadata": {},
   "outputs": [],
   "source": [
    "df1 = df[(df['식전혈당'] == 0)].sample(frac= 0.5)\n",
    "df2 = df[(df['식전혈당'] == 1)].sample(frac= 1)"
   ]
  },
  {
   "cell_type": "code",
   "execution_count": 111,
   "id": "c6526651",
   "metadata": {},
   "outputs": [],
   "source": [
    "df = pd.concat([df1,df2],ignore_index=True)"
   ]
  },
  {
   "cell_type": "code",
   "execution_count": 112,
   "id": "5d582d51",
   "metadata": {},
   "outputs": [
    {
     "data": {
      "text/html": [
       "<div>\n",
       "<style scoped>\n",
       "    .dataframe tbody tr th:only-of-type {\n",
       "        vertical-align: middle;\n",
       "    }\n",
       "\n",
       "    .dataframe tbody tr th {\n",
       "        vertical-align: top;\n",
       "    }\n",
       "\n",
       "    .dataframe thead th {\n",
       "        text-align: right;\n",
       "    }\n",
       "</style>\n",
       "<table border=\"1\" class=\"dataframe\">\n",
       "  <thead>\n",
       "    <tr style=\"text-align: right;\">\n",
       "      <th></th>\n",
       "      <th>성별코드</th>\n",
       "      <th>연령대코드</th>\n",
       "      <th>허리둘레</th>\n",
       "      <th>총콜레스테롤</th>\n",
       "      <th>트리글리세라이드</th>\n",
       "      <th>HDL콜레스테롤</th>\n",
       "      <th>LDL콜레스테롤</th>\n",
       "      <th>혈색소</th>\n",
       "      <th>요단백</th>\n",
       "      <th>혈청크레아티닌</th>\n",
       "      <th>AST</th>\n",
       "      <th>ALT</th>\n",
       "      <th>감마지티피</th>\n",
       "      <th>흡연상태</th>\n",
       "      <th>음주여부</th>\n",
       "      <th>복부비만</th>\n",
       "      <th>비만여부</th>\n",
       "      <th>고혈압</th>\n",
       "      <th>식전혈당</th>\n",
       "    </tr>\n",
       "  </thead>\n",
       "  <tbody>\n",
       "    <tr>\n",
       "      <th>0</th>\n",
       "      <td>2.0</td>\n",
       "      <td>11.0</td>\n",
       "      <td>72.0</td>\n",
       "      <td>158.0</td>\n",
       "      <td>65.0</td>\n",
       "      <td>62.0</td>\n",
       "      <td>83.0</td>\n",
       "      <td>14.0</td>\n",
       "      <td>1.0</td>\n",
       "      <td>1.0</td>\n",
       "      <td>24.0</td>\n",
       "      <td>21.0</td>\n",
       "      <td>18.0</td>\n",
       "      <td>3.0</td>\n",
       "      <td>1.0</td>\n",
       "      <td>0.0</td>\n",
       "      <td>0.0</td>\n",
       "      <td>1.0</td>\n",
       "      <td>0</td>\n",
       "    </tr>\n",
       "    <tr>\n",
       "      <th>1</th>\n",
       "      <td>2.0</td>\n",
       "      <td>10.0</td>\n",
       "      <td>64.0</td>\n",
       "      <td>170.0</td>\n",
       "      <td>167.0</td>\n",
       "      <td>41.0</td>\n",
       "      <td>95.0</td>\n",
       "      <td>14.0</td>\n",
       "      <td>2.0</td>\n",
       "      <td>1.0</td>\n",
       "      <td>20.0</td>\n",
       "      <td>21.0</td>\n",
       "      <td>17.0</td>\n",
       "      <td>1.0</td>\n",
       "      <td>1.0</td>\n",
       "      <td>0.0</td>\n",
       "      <td>0.0</td>\n",
       "      <td>1.0</td>\n",
       "      <td>0</td>\n",
       "    </tr>\n",
       "    <tr>\n",
       "      <th>2</th>\n",
       "      <td>1.0</td>\n",
       "      <td>11.0</td>\n",
       "      <td>86.0</td>\n",
       "      <td>279.0</td>\n",
       "      <td>175.0</td>\n",
       "      <td>58.0</td>\n",
       "      <td>186.0</td>\n",
       "      <td>12.0</td>\n",
       "      <td>1.0</td>\n",
       "      <td>0.0</td>\n",
       "      <td>22.0</td>\n",
       "      <td>33.0</td>\n",
       "      <td>40.0</td>\n",
       "      <td>3.0</td>\n",
       "      <td>0.0</td>\n",
       "      <td>0.0</td>\n",
       "      <td>1.0</td>\n",
       "      <td>0.0</td>\n",
       "      <td>0</td>\n",
       "    </tr>\n",
       "    <tr>\n",
       "      <th>3</th>\n",
       "      <td>2.0</td>\n",
       "      <td>7.0</td>\n",
       "      <td>73.0</td>\n",
       "      <td>157.0</td>\n",
       "      <td>50.0</td>\n",
       "      <td>67.0</td>\n",
       "      <td>80.0</td>\n",
       "      <td>12.0</td>\n",
       "      <td>1.0</td>\n",
       "      <td>1.0</td>\n",
       "      <td>17.0</td>\n",
       "      <td>10.0</td>\n",
       "      <td>7.0</td>\n",
       "      <td>1.0</td>\n",
       "      <td>1.0</td>\n",
       "      <td>0.0</td>\n",
       "      <td>0.0</td>\n",
       "      <td>0.0</td>\n",
       "      <td>0</td>\n",
       "    </tr>\n",
       "    <tr>\n",
       "      <th>4</th>\n",
       "      <td>2.0</td>\n",
       "      <td>12.0</td>\n",
       "      <td>72.0</td>\n",
       "      <td>212.0</td>\n",
       "      <td>64.0</td>\n",
       "      <td>63.0</td>\n",
       "      <td>136.0</td>\n",
       "      <td>12.0</td>\n",
       "      <td>4.0</td>\n",
       "      <td>6.0</td>\n",
       "      <td>25.0</td>\n",
       "      <td>16.0</td>\n",
       "      <td>13.0</td>\n",
       "      <td>2.0</td>\n",
       "      <td>1.0</td>\n",
       "      <td>0.0</td>\n",
       "      <td>0.0</td>\n",
       "      <td>0.0</td>\n",
       "      <td>0</td>\n",
       "    </tr>\n",
       "    <tr>\n",
       "      <th>...</th>\n",
       "      <td>...</td>\n",
       "      <td>...</td>\n",
       "      <td>...</td>\n",
       "      <td>...</td>\n",
       "      <td>...</td>\n",
       "      <td>...</td>\n",
       "      <td>...</td>\n",
       "      <td>...</td>\n",
       "      <td>...</td>\n",
       "      <td>...</td>\n",
       "      <td>...</td>\n",
       "      <td>...</td>\n",
       "      <td>...</td>\n",
       "      <td>...</td>\n",
       "      <td>...</td>\n",
       "      <td>...</td>\n",
       "      <td>...</td>\n",
       "      <td>...</td>\n",
       "      <td>...</td>\n",
       "    </tr>\n",
       "    <tr>\n",
       "      <th>1849253</th>\n",
       "      <td>2.0</td>\n",
       "      <td>11.0</td>\n",
       "      <td>98.0</td>\n",
       "      <td>246.0</td>\n",
       "      <td>246.0</td>\n",
       "      <td>39.0</td>\n",
       "      <td>157.0</td>\n",
       "      <td>15.0</td>\n",
       "      <td>3.0</td>\n",
       "      <td>1.0</td>\n",
       "      <td>23.0</td>\n",
       "      <td>29.0</td>\n",
       "      <td>39.0</td>\n",
       "      <td>3.0</td>\n",
       "      <td>1.0</td>\n",
       "      <td>1.0</td>\n",
       "      <td>2.0</td>\n",
       "      <td>2.0</td>\n",
       "      <td>1</td>\n",
       "    </tr>\n",
       "    <tr>\n",
       "      <th>1849254</th>\n",
       "      <td>1.0</td>\n",
       "      <td>12.0</td>\n",
       "      <td>97.0</td>\n",
       "      <td>262.0</td>\n",
       "      <td>277.0</td>\n",
       "      <td>38.0</td>\n",
       "      <td>190.0</td>\n",
       "      <td>15.0</td>\n",
       "      <td>1.0</td>\n",
       "      <td>1.0</td>\n",
       "      <td>13.0</td>\n",
       "      <td>15.0</td>\n",
       "      <td>57.0</td>\n",
       "      <td>3.0</td>\n",
       "      <td>0.0</td>\n",
       "      <td>1.0</td>\n",
       "      <td>1.0</td>\n",
       "      <td>2.0</td>\n",
       "      <td>1</td>\n",
       "    </tr>\n",
       "    <tr>\n",
       "      <th>1849255</th>\n",
       "      <td>1.0</td>\n",
       "      <td>7.0</td>\n",
       "      <td>90.0</td>\n",
       "      <td>214.0</td>\n",
       "      <td>255.0</td>\n",
       "      <td>48.0</td>\n",
       "      <td>115.0</td>\n",
       "      <td>17.0</td>\n",
       "      <td>1.0</td>\n",
       "      <td>1.0</td>\n",
       "      <td>35.0</td>\n",
       "      <td>40.0</td>\n",
       "      <td>87.0</td>\n",
       "      <td>3.0</td>\n",
       "      <td>1.0</td>\n",
       "      <td>1.0</td>\n",
       "      <td>1.0</td>\n",
       "      <td>1.0</td>\n",
       "      <td>1</td>\n",
       "    </tr>\n",
       "    <tr>\n",
       "      <th>1849256</th>\n",
       "      <td>2.0</td>\n",
       "      <td>13.0</td>\n",
       "      <td>83.0</td>\n",
       "      <td>272.0</td>\n",
       "      <td>220.0</td>\n",
       "      <td>47.0</td>\n",
       "      <td>181.0</td>\n",
       "      <td>14.0</td>\n",
       "      <td>1.0</td>\n",
       "      <td>1.0</td>\n",
       "      <td>28.0</td>\n",
       "      <td>30.0</td>\n",
       "      <td>24.0</td>\n",
       "      <td>1.0</td>\n",
       "      <td>1.0</td>\n",
       "      <td>0.0</td>\n",
       "      <td>1.0</td>\n",
       "      <td>1.0</td>\n",
       "      <td>1</td>\n",
       "    </tr>\n",
       "    <tr>\n",
       "      <th>1849257</th>\n",
       "      <td>1.0</td>\n",
       "      <td>8.0</td>\n",
       "      <td>73.0</td>\n",
       "      <td>226.0</td>\n",
       "      <td>195.0</td>\n",
       "      <td>54.0</td>\n",
       "      <td>132.0</td>\n",
       "      <td>14.0</td>\n",
       "      <td>1.0</td>\n",
       "      <td>1.0</td>\n",
       "      <td>17.0</td>\n",
       "      <td>15.0</td>\n",
       "      <td>38.0</td>\n",
       "      <td>1.0</td>\n",
       "      <td>0.0</td>\n",
       "      <td>0.0</td>\n",
       "      <td>1.0</td>\n",
       "      <td>0.0</td>\n",
       "      <td>1</td>\n",
       "    </tr>\n",
       "  </tbody>\n",
       "</table>\n",
       "<p>1849258 rows × 19 columns</p>\n",
       "</div>"
      ],
      "text/plain": [
       "         성별코드  연령대코드  허리둘레  총콜레스테롤  트리글리세라이드  HDL콜레스테롤  LDL콜레스테롤   혈색소  요단백  \\\n",
       "0         2.0   11.0  72.0   158.0      65.0      62.0      83.0  14.0  1.0   \n",
       "1         2.0   10.0  64.0   170.0     167.0      41.0      95.0  14.0  2.0   \n",
       "2         1.0   11.0  86.0   279.0     175.0      58.0     186.0  12.0  1.0   \n",
       "3         2.0    7.0  73.0   157.0      50.0      67.0      80.0  12.0  1.0   \n",
       "4         2.0   12.0  72.0   212.0      64.0      63.0     136.0  12.0  4.0   \n",
       "...       ...    ...   ...     ...       ...       ...       ...   ...  ...   \n",
       "1849253   2.0   11.0  98.0   246.0     246.0      39.0     157.0  15.0  3.0   \n",
       "1849254   1.0   12.0  97.0   262.0     277.0      38.0     190.0  15.0  1.0   \n",
       "1849255   1.0    7.0  90.0   214.0     255.0      48.0     115.0  17.0  1.0   \n",
       "1849256   2.0   13.0  83.0   272.0     220.0      47.0     181.0  14.0  1.0   \n",
       "1849257   1.0    8.0  73.0   226.0     195.0      54.0     132.0  14.0  1.0   \n",
       "\n",
       "         혈청크레아티닌   AST   ALT  감마지티피  흡연상태  음주여부  복부비만  비만여부  고혈압  식전혈당  \n",
       "0            1.0  24.0  21.0   18.0   3.0   1.0   0.0   0.0  1.0     0  \n",
       "1            1.0  20.0  21.0   17.0   1.0   1.0   0.0   0.0  1.0     0  \n",
       "2            0.0  22.0  33.0   40.0   3.0   0.0   0.0   1.0  0.0     0  \n",
       "3            1.0  17.0  10.0    7.0   1.0   1.0   0.0   0.0  0.0     0  \n",
       "4            6.0  25.0  16.0   13.0   2.0   1.0   0.0   0.0  0.0     0  \n",
       "...          ...   ...   ...    ...   ...   ...   ...   ...  ...   ...  \n",
       "1849253      1.0  23.0  29.0   39.0   3.0   1.0   1.0   2.0  2.0     1  \n",
       "1849254      1.0  13.0  15.0   57.0   3.0   0.0   1.0   1.0  2.0     1  \n",
       "1849255      1.0  35.0  40.0   87.0   3.0   1.0   1.0   1.0  1.0     1  \n",
       "1849256      1.0  28.0  30.0   24.0   1.0   1.0   0.0   1.0  1.0     1  \n",
       "1849257      1.0  17.0  15.0   38.0   1.0   0.0   0.0   1.0  0.0     1  \n",
       "\n",
       "[1849258 rows x 19 columns]"
      ]
     },
     "execution_count": 112,
     "metadata": {},
     "output_type": "execute_result"
    }
   ],
   "source": [
    "df"
   ]
  },
  {
   "cell_type": "code",
   "execution_count": 150,
   "id": "ea71f981",
   "metadata": {},
   "outputs": [
    {
     "name": "stdout",
     "output_type": "stream",
     "text": [
      "0    924629\n",
      "1    924629\n",
      "Name: 식전혈당, dtype: int64\n"
     ]
    }
   ],
   "source": [
    "print(df['식전혈당'].value_counts())"
   ]
  },
  {
   "cell_type": "code",
   "execution_count": 113,
   "id": "a9c80158",
   "metadata": {},
   "outputs": [],
   "source": [
    "from sklearn.linear_model import LogisticRegression\n",
    "from sklearn.preprocessing import StandardScaler\n",
    "from sklearn.metrics import accuracy_score, roc_auc_score\n",
    "from sklearn.model_selection import train_test_split"
   ]
  },
  {
   "cell_type": "code",
   "execution_count": 114,
   "id": "feefb8f4",
   "metadata": {},
   "outputs": [],
   "source": [
    "features_response = df.columns.tolist()"
   ]
  },
  {
   "cell_type": "code",
   "execution_count": 115,
   "id": "6d801992",
   "metadata": {},
   "outputs": [
    {
     "data": {
      "text/plain": [
       "['성별코드',\n",
       " '연령대코드',\n",
       " '허리둘레',\n",
       " '총콜레스테롤',\n",
       " '트리글리세라이드',\n",
       " 'HDL콜레스테롤',\n",
       " 'LDL콜레스테롤',\n",
       " '혈색소',\n",
       " '요단백',\n",
       " '혈청크레아티닌',\n",
       " 'AST',\n",
       " 'ALT',\n",
       " '감마지티피',\n",
       " '흡연상태',\n",
       " '음주여부',\n",
       " '복부비만',\n",
       " '비만여부',\n",
       " '고혈압',\n",
       " '식전혈당']"
      ]
     },
     "execution_count": 115,
     "metadata": {},
     "output_type": "execute_result"
    }
   ],
   "source": [
    "features_response"
   ]
  },
  {
   "cell_type": "code",
   "execution_count": 116,
   "id": "c4fbb5e9",
   "metadata": {},
   "outputs": [
    {
     "name": "stdout",
     "output_type": "stream",
     "text": [
      "(1849258, 18) (1849258,)\n"
     ]
    }
   ],
   "source": [
    "X = df[features_response].iloc[:,:-1].values\n",
    "y = df[features_response].iloc[:,-1].values\n",
    "print(X.shape, y.shape)"
   ]
  },
  {
   "cell_type": "code",
   "execution_count": 117,
   "id": "771ceb4a",
   "metadata": {},
   "outputs": [],
   "source": [
    "scaler = StandardScaler()\n",
    "X = scaler.fit_transform(X)"
   ]
  },
  {
   "cell_type": "code",
   "execution_count": 118,
   "id": "b30fe51d",
   "metadata": {},
   "outputs": [
    {
     "data": {
      "text/html": [
       "<div>\n",
       "<style scoped>\n",
       "    .dataframe tbody tr th:only-of-type {\n",
       "        vertical-align: middle;\n",
       "    }\n",
       "\n",
       "    .dataframe tbody tr th {\n",
       "        vertical-align: top;\n",
       "    }\n",
       "\n",
       "    .dataframe thead th {\n",
       "        text-align: right;\n",
       "    }\n",
       "</style>\n",
       "<table border=\"1\" class=\"dataframe\">\n",
       "  <thead>\n",
       "    <tr style=\"text-align: right;\">\n",
       "      <th></th>\n",
       "      <th>Feature</th>\n",
       "      <th>F statistic</th>\n",
       "      <th>p value</th>\n",
       "    </tr>\n",
       "  </thead>\n",
       "  <tbody>\n",
       "    <tr>\n",
       "      <th>0</th>\n",
       "      <td>성별코드</td>\n",
       "      <td>21417.321633</td>\n",
       "      <td>0.000000</td>\n",
       "    </tr>\n",
       "    <tr>\n",
       "      <th>15</th>\n",
       "      <td>복부비만</td>\n",
       "      <td>56285.090404</td>\n",
       "      <td>0.000000</td>\n",
       "    </tr>\n",
       "    <tr>\n",
       "      <th>13</th>\n",
       "      <td>흡연상태</td>\n",
       "      <td>11570.061541</td>\n",
       "      <td>0.000000</td>\n",
       "    </tr>\n",
       "    <tr>\n",
       "      <th>12</th>\n",
       "      <td>감마지티피</td>\n",
       "      <td>48530.446726</td>\n",
       "      <td>0.000000</td>\n",
       "    </tr>\n",
       "    <tr>\n",
       "      <th>11</th>\n",
       "      <td>ALT</td>\n",
       "      <td>46899.957217</td>\n",
       "      <td>0.000000</td>\n",
       "    </tr>\n",
       "    <tr>\n",
       "      <th>10</th>\n",
       "      <td>AST</td>\n",
       "      <td>26157.609777</td>\n",
       "      <td>0.000000</td>\n",
       "    </tr>\n",
       "    <tr>\n",
       "      <th>9</th>\n",
       "      <td>혈청크레아티닌</td>\n",
       "      <td>2430.191615</td>\n",
       "      <td>0.000000</td>\n",
       "    </tr>\n",
       "    <tr>\n",
       "      <th>16</th>\n",
       "      <td>비만여부</td>\n",
       "      <td>42947.671434</td>\n",
       "      <td>0.000000</td>\n",
       "    </tr>\n",
       "    <tr>\n",
       "      <th>8</th>\n",
       "      <td>요단백</td>\n",
       "      <td>32614.527673</td>\n",
       "      <td>0.000000</td>\n",
       "    </tr>\n",
       "    <tr>\n",
       "      <th>6</th>\n",
       "      <td>LDL콜레스테롤</td>\n",
       "      <td>26136.107990</td>\n",
       "      <td>0.000000</td>\n",
       "    </tr>\n",
       "    <tr>\n",
       "      <th>5</th>\n",
       "      <td>HDL콜레스테롤</td>\n",
       "      <td>66661.655565</td>\n",
       "      <td>0.000000</td>\n",
       "    </tr>\n",
       "    <tr>\n",
       "      <th>4</th>\n",
       "      <td>트리글리세라이드</td>\n",
       "      <td>79909.399839</td>\n",
       "      <td>0.000000</td>\n",
       "    </tr>\n",
       "    <tr>\n",
       "      <th>3</th>\n",
       "      <td>총콜레스테롤</td>\n",
       "      <td>14402.858548</td>\n",
       "      <td>0.000000</td>\n",
       "    </tr>\n",
       "    <tr>\n",
       "      <th>2</th>\n",
       "      <td>허리둘레</td>\n",
       "      <td>132628.013707</td>\n",
       "      <td>0.000000</td>\n",
       "    </tr>\n",
       "    <tr>\n",
       "      <th>1</th>\n",
       "      <td>연령대코드</td>\n",
       "      <td>162674.204841</td>\n",
       "      <td>0.000000</td>\n",
       "    </tr>\n",
       "    <tr>\n",
       "      <th>7</th>\n",
       "      <td>혈색소</td>\n",
       "      <td>7658.077603</td>\n",
       "      <td>0.000000</td>\n",
       "    </tr>\n",
       "    <tr>\n",
       "      <th>17</th>\n",
       "      <td>고혈압</td>\n",
       "      <td>64064.558871</td>\n",
       "      <td>0.000000</td>\n",
       "    </tr>\n",
       "    <tr>\n",
       "      <th>14</th>\n",
       "      <td>음주여부</td>\n",
       "      <td>6.801925</td>\n",
       "      <td>0.009106</td>\n",
       "    </tr>\n",
       "  </tbody>\n",
       "</table>\n",
       "</div>"
      ],
      "text/plain": [
       "     Feature    F statistic   p value\n",
       "0       성별코드   21417.321633  0.000000\n",
       "15      복부비만   56285.090404  0.000000\n",
       "13      흡연상태   11570.061541  0.000000\n",
       "12     감마지티피   48530.446726  0.000000\n",
       "11       ALT   46899.957217  0.000000\n",
       "10       AST   26157.609777  0.000000\n",
       "9    혈청크레아티닌    2430.191615  0.000000\n",
       "16      비만여부   42947.671434  0.000000\n",
       "8        요단백   32614.527673  0.000000\n",
       "6   LDL콜레스테롤   26136.107990  0.000000\n",
       "5   HDL콜레스테롤   66661.655565  0.000000\n",
       "4   트리글리세라이드   79909.399839  0.000000\n",
       "3     총콜레스테롤   14402.858548  0.000000\n",
       "2       허리둘레  132628.013707  0.000000\n",
       "1      연령대코드  162674.204841  0.000000\n",
       "7        혈색소    7658.077603  0.000000\n",
       "17       고혈압   64064.558871  0.000000\n",
       "14      음주여부       6.801925  0.009106"
      ]
     },
     "execution_count": 118,
     "metadata": {},
     "output_type": "execute_result"
    }
   ],
   "source": [
    "from sklearn.feature_selection import f_classif\n",
    "from sklearn.feature_selection import SelectPercentile\n",
    "\n",
    "[f_stat, f_p_value] = f_classif(X,y)\n",
    "f_test_df = pd.DataFrame({'Feature':features_response[:-1],\n",
    "                         'F statistic':f_stat,\n",
    "                         'p value':f_p_value})\n",
    "f_test_df.sort_values('p value')"
   ]
  },
  {
   "cell_type": "code",
   "execution_count": 119,
   "id": "84ace090",
   "metadata": {},
   "outputs": [
    {
     "data": {
      "text/plain": [
       "array([False,  True,  True, False,  True,  True, False, False, False,\n",
       "       False, False, False, False, False, False, False, False,  True])"
      ]
     },
     "execution_count": 119,
     "metadata": {},
     "output_type": "execute_result"
    }
   ],
   "source": [
    "from sklearn.feature_selection import SelectPercentile\n",
    "\n",
    "selector = SelectPercentile(f_classif, percentile=25)\n",
    "selector.fit(X,y)\n",
    "best_feature_ix = selector.get_support()\n",
    "best_feature_ix"
   ]
  },
  {
   "cell_type": "code",
   "execution_count": 120,
   "id": "3288f2f5",
   "metadata": {},
   "outputs": [],
   "source": [
    "features = features_response[:-1]"
   ]
  },
  {
   "cell_type": "code",
   "execution_count": 121,
   "id": "3cc6b161",
   "metadata": {},
   "outputs": [],
   "source": [
    "best_features = [features[counter] for counter in range(len(features))\n",
    "                if best_feature_ix[counter]]"
   ]
  },
  {
   "cell_type": "code",
   "execution_count": 122,
   "id": "b926c0d0",
   "metadata": {},
   "outputs": [
    {
     "data": {
      "text/plain": [
       "['연령대코드', '허리둘레', '트리글리세라이드', 'HDL콜레스테롤', '고혈압']"
      ]
     },
     "execution_count": 122,
     "metadata": {},
     "output_type": "execute_result"
    }
   ],
   "source": [
    "best_features"
   ]
  },
  {
   "cell_type": "code",
   "execution_count": 123,
   "id": "faf94fc4",
   "metadata": {},
   "outputs": [
    {
     "data": {
      "text/plain": [
       "0.5"
      ]
     },
     "execution_count": 123,
     "metadata": {},
     "output_type": "execute_result"
    }
   ],
   "source": [
    "diabetes_rate = df['식전혈당'].mean()\n",
    "diabetes_rate"
   ]
  },
  {
   "cell_type": "code",
   "execution_count": 124,
   "id": "a8c30e48",
   "metadata": {},
   "outputs": [],
   "source": [
    "from sklearn.model_selection import train_test_split"
   ]
  },
  {
   "cell_type": "code",
   "execution_count": 125,
   "id": "626882d2",
   "metadata": {},
   "outputs": [],
   "source": [
    "X = df[best_features].values\n",
    "y = df['식전혈당'].values"
   ]
  },
  {
   "cell_type": "code",
   "execution_count": 126,
   "id": "15b5540a",
   "metadata": {},
   "outputs": [],
   "source": [
    "X_train, X_test, y_train, y_test = train_test_split(X,y,random_state=24, stratify=y)"
   ]
  },
  {
   "cell_type": "code",
   "execution_count": 127,
   "id": "33d14073",
   "metadata": {},
   "outputs": [],
   "source": [
    "from collections import Counter"
   ]
  },
  {
   "cell_type": "code",
   "execution_count": 128,
   "id": "f023a89d",
   "metadata": {},
   "outputs": [
    {
     "data": {
      "text/plain": [
       "Counter({0: 924629, 1: 924629})"
      ]
     },
     "execution_count": 128,
     "metadata": {},
     "output_type": "execute_result"
    }
   ],
   "source": [
    "Counter(y)"
   ]
  },
  {
   "cell_type": "code",
   "execution_count": 129,
   "id": "5c8303ef",
   "metadata": {},
   "outputs": [],
   "source": [
    "from sklearn.linear_model import LogisticRegression\n",
    "model = LogisticRegression(\n",
    "    C=1, class_weight='balanced', random_state=24, multi_class='auto',\n",
    "    n_jobs=-1, solver='lbfgs').fit(X_train, y_train)"
   ]
  },
  {
   "cell_type": "code",
   "execution_count": 130,
   "id": "0f5d9d66",
   "metadata": {
    "scrolled": true
   },
   "outputs": [
    {
     "name": "stdout",
     "output_type": "stream",
     "text": [
      "학습결과:  0.6703469428808538\n",
      "테스트결과:  0.6694266895947568\n"
     ]
    }
   ],
   "source": [
    "print('학습결과: ', model.score(X_train, y_train))\n",
    "print('테스트결과: ', model.score(X_test, y_test))"
   ]
  },
  {
   "cell_type": "code",
   "execution_count": 131,
   "id": "20254c71",
   "metadata": {},
   "outputs": [
    {
     "name": "stdout",
     "output_type": "stream",
     "text": [
      "classification_repot - 학습데이터\n",
      "              precision    recall  f1-score   support\n",
      "\n",
      "           0       0.68      0.64      0.66    693471\n",
      "           1       0.66      0.70      0.68    693472\n",
      "\n",
      "    accuracy                           0.67   1386943\n",
      "   macro avg       0.67      0.67      0.67   1386943\n",
      "weighted avg       0.67      0.67      0.67   1386943\n",
      "\n"
     ]
    }
   ],
   "source": [
    "from sklearn.metrics import classification_report\n",
    "pred_train = model.predict(X_train)\n",
    "pred_test = model.predict(X_test)\n",
    "print('classification_repot - 학습데이터')\n",
    "print(classification_report(y_train, pred_train))"
   ]
  },
  {
   "cell_type": "code",
   "execution_count": 132,
   "id": "2eec7b83",
   "metadata": {},
   "outputs": [
    {
     "name": "stdout",
     "output_type": "stream",
     "text": [
      "classification_report - 테스트데이터\n",
      "              precision    recall  f1-score   support\n",
      "\n",
      "           0       0.68      0.64      0.66    231158\n",
      "           1       0.66      0.70      0.68    231157\n",
      "\n",
      "    accuracy                           0.67    462315\n",
      "   macro avg       0.67      0.67      0.67    462315\n",
      "weighted avg       0.67      0.67      0.67    462315\n",
      "\n"
     ]
    }
   ],
   "source": [
    "print('classification_report - 테스트데이터')\n",
    "print(classification_report(y_test, pred_test))"
   ]
  },
  {
   "cell_type": "markdown",
   "id": "81e7838b",
   "metadata": {},
   "source": [
    "데이터 정규분포 스케일링 적용"
   ]
  },
  {
   "cell_type": "code",
   "execution_count": 133,
   "id": "2b19e8bd",
   "metadata": {},
   "outputs": [],
   "source": [
    "scaler = StandardScaler()\n",
    "data_scaled = scaler.fit_transform(X)"
   ]
  },
  {
   "cell_type": "code",
   "execution_count": 134,
   "id": "ec81c1e9",
   "metadata": {},
   "outputs": [],
   "source": [
    "X_train , X_test, y_train , y_test = train_test_split(data_scaled, y, test_size=0.25, random_state=0, stratify=y)"
   ]
  },
  {
   "cell_type": "code",
   "execution_count": 135,
   "id": "88614fec",
   "metadata": {},
   "outputs": [],
   "source": [
    "from sklearn.linear_model import LogisticRegression\n",
    "model = LogisticRegression(\n",
    "    C=0.1, class_weight='balanced', random_state=0, multi_class='multinomial',\n",
    "    n_jobs=-1, solver='lbfgs').fit(X_train, y_train)"
   ]
  },
  {
   "cell_type": "code",
   "execution_count": 136,
   "id": "e7833251",
   "metadata": {},
   "outputs": [
    {
     "name": "stdout",
     "output_type": "stream",
     "text": [
      "학습결과:  0.6701796685227872\n",
      "테스트결과:  0.6696191990309638\n"
     ]
    }
   ],
   "source": [
    "print('학습결과: ', model.score(X_train, y_train))\n",
    "print('테스트결과: ', model.score(X_test, y_test))"
   ]
  },
  {
   "cell_type": "code",
   "execution_count": 137,
   "id": "3ec68e06",
   "metadata": {},
   "outputs": [],
   "source": [
    "from sklearn.metrics import accuracy_score, precision_score, recall_score, roc_auc_score\n",
    "from sklearn.metrics import f1_score, confusion_matrix, precision_recall_curve, roc_curve"
   ]
  },
  {
   "cell_type": "code",
   "execution_count": 138,
   "id": "c3a3c1fd",
   "metadata": {},
   "outputs": [
    {
     "name": "stdout",
     "output_type": "stream",
     "text": [
      "classification_repot - 학습데이터\n",
      "              precision    recall  f1-score   support\n",
      "\n",
      "           0       0.68      0.64      0.66    693471\n",
      "           1       0.66      0.70      0.68    693472\n",
      "\n",
      "    accuracy                           0.67   1386943\n",
      "   macro avg       0.67      0.67      0.67   1386943\n",
      "weighted avg       0.67      0.67      0.67   1386943\n",
      "\n"
     ]
    }
   ],
   "source": [
    "pred_train = model.predict(X_train)\n",
    "pred_test = model.predict(X_test)\n",
    "print('classification_repot - 학습데이터')\n",
    "print(classification_report(y_train, pred_train))"
   ]
  },
  {
   "cell_type": "code",
   "execution_count": 139,
   "id": "7b4eed5f",
   "metadata": {},
   "outputs": [
    {
     "name": "stdout",
     "output_type": "stream",
     "text": [
      "classification_report - 테스트데이터\n",
      "              precision    recall  f1-score   support\n",
      "\n",
      "           0       0.68      0.64      0.66    231158\n",
      "           1       0.66      0.70      0.68    231157\n",
      "\n",
      "    accuracy                           0.67    462315\n",
      "   macro avg       0.67      0.67      0.67    462315\n",
      "weighted avg       0.67      0.67      0.67    462315\n",
      "\n"
     ]
    }
   ],
   "source": [
    "print('classification_report - 테스트데이터')\n",
    "print(classification_report(y_test, pred_test))"
   ]
  },
  {
   "cell_type": "code",
   "execution_count": 147,
   "id": "53c0b0f5",
   "metadata": {},
   "outputs": [],
   "source": [
    "from sklearn.metrics import accuracy_score, precision_score, recall_score, roc_auc_score\n",
    "from sklearn.metrics import f1_score, confusion_matrix, precision_recall_curve, roc_curve\n",
    "\n",
    "def get_clf_eval(y_test, y_pred):\n",
    "    confusion = confusion_matrix(y_test, y_pred)\n",
    "    accuracy = accuracy_score(y_test, y_pred)\n",
    "    precision = precision_score(y_test, y_pred)\n",
    "    recall = recall_score(y_test, y_pred)\n",
    "    F1 = f1_score(y_test, y_pred)\n",
    "    AUC = roc_auc_score(y_test, y_pred)\n",
    "    print('오차행렬:\\n', confusion)\n",
    "    print('\\n정확도: {:.4f}'.format(accuracy))\n",
    "    print('정밀도: {:.4f}'.format(precision))\n",
    "    print('재현율: {:.4f}'.format(recall))\n",
    "    print('F1: {:.4f}'.format(F1))\n",
    "    print('AUC: {:.4f}'.format(AUC))"
   ]
  },
  {
   "cell_type": "code",
   "execution_count": 148,
   "id": "2dd20400",
   "metadata": {},
   "outputs": [
    {
     "name": "stdout",
     "output_type": "stream",
     "text": [
      "오차행렬:\n",
      " [[148132  83026]\n",
      " [ 69714 161443]]\n",
      "\n",
      "정확도: 0.6696\n",
      "정밀도: 0.6604\n",
      "재현율: 0.6984\n",
      "F1: 0.6789\n",
      "AUC: 0.6696\n"
     ]
    }
   ],
   "source": [
    "get_clf_eval(y_test, pred_test)"
   ]
  },
  {
   "cell_type": "code",
   "execution_count": 149,
   "id": "83ab0b49",
   "metadata": {},
   "outputs": [
    {
     "name": "stdout",
     "output_type": "stream",
     "text": [
      "교차 검증 점수: [0.66956242 0.66981387 0.66992473 0.67136496 0.66970753]\n",
      "교차 검증 평균 점수: 0.67\n"
     ]
    }
   ],
   "source": [
    "from sklearn.model_selection import cross_val_score , cross_validate\n",
    "\n",
    "scores = cross_val_score(model,X,y)\n",
    "print(\"교차 검증 점수: {}\".format(scores))\n",
    "print(\"교차 검증 평균 점수: {:.2f}\".format(scores.mean()))"
   ]
  },
  {
   "cell_type": "code",
   "execution_count": null,
   "id": "ff36f9f0",
   "metadata": {},
   "outputs": [],
   "source": []
  }
 ],
 "metadata": {
  "kernelspec": {
   "display_name": "Python 3",
   "language": "python",
   "name": "python3"
  },
  "language_info": {
   "codemirror_mode": {
    "name": "ipython",
    "version": 3
   },
   "file_extension": ".py",
   "mimetype": "text/x-python",
   "name": "python",
   "nbconvert_exporter": "python",
   "pygments_lexer": "ipython3",
   "version": "3.9.2"
  }
 },
 "nbformat": 4,
 "nbformat_minor": 5
}
