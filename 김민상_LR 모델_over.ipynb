{
 "cells": [
  {
   "cell_type": "code",
   "execution_count": 5,
   "id": "31b6d58c",
   "metadata": {},
   "outputs": [],
   "source": [
    "import sys\n",
    "import numpy as np\n",
    "import pandas as pd\n",
    "import matplotlib.pyplot as plt\n",
    "%matplotlib inline\n",
    "import matplotlib as mpl\n",
    "import seaborn as sns\n",
    "mpl.rcParams['figure.dpi'] = 400\n",
    "\n",
    "plt.rcParams['font.family'] = 'AppleGothic'\n",
    "plt.rcParams['axes.unicode_minus'] = False"
   ]
  },
  {
   "cell_type": "code",
   "execution_count": 6,
   "id": "ea15ba71",
   "metadata": {},
   "outputs": [],
   "source": [
    "df = pd.read_csv('preprocessed/data_preprocessed_over.csv') # over_sampling"
   ]
  },
  {
   "cell_type": "code",
   "execution_count": 7,
   "id": "ec3b3ee2",
   "metadata": {},
   "outputs": [
    {
     "name": "stdout",
     "output_type": "stream",
     "text": [
      "<class 'pandas.core.frame.DataFrame'>\n",
      "RangeIndex: 2773887 entries, 0 to 2773886\n",
      "Data columns (total 19 columns):\n",
      " #   Column    Dtype  \n",
      "---  ------    -----  \n",
      " 0   성별코드      float64\n",
      " 1   연령대코드     float64\n",
      " 2   허리둘레      float64\n",
      " 3   총콜레스테롤    float64\n",
      " 4   트리글리세라이드  float64\n",
      " 5   HDL콜레스테롤  float64\n",
      " 6   LDL콜레스테롤  float64\n",
      " 7   혈색소       float64\n",
      " 8   요단백       float64\n",
      " 9   혈청크레아티닌   float64\n",
      " 10  AST       float64\n",
      " 11  ALT       float64\n",
      " 12  감마지티피     float64\n",
      " 13  흡연상태      float64\n",
      " 14  음주여부      float64\n",
      " 15  복부비만      float64\n",
      " 16  비만여부      float64\n",
      " 17  고혈압       float64\n",
      " 18  식전혈당      int64  \n",
      "dtypes: float64(18), int64(1)\n",
      "memory usage: 402.1 MB\n"
     ]
    }
   ],
   "source": [
    "df.info()"
   ]
  },
  {
   "cell_type": "code",
   "execution_count": 8,
   "id": "fef4ca6c",
   "metadata": {},
   "outputs": [
    {
     "name": "stdout",
     "output_type": "stream",
     "text": [
      "0    924629\n",
      "1    924629\n",
      "2    924629\n",
      "Name: 식전혈당, dtype: int64\n"
     ]
    }
   ],
   "source": [
    "print(df['식전혈당'].value_counts())"
   ]
  },
  {
   "cell_type": "code",
   "execution_count": 9,
   "id": "6b619ac2",
   "metadata": {},
   "outputs": [],
   "source": [
    "df = df[['성별코드', '연령대코드', '허리둘레', '총콜레스테롤', '트리글리세라이드', 'HDL콜레스테롤',\n",
    "       'LDL콜레스테롤', '혈색소', '요단백', '혈청크레아티닌', 'AST', 'ALT', '감마지티피', '흡연상태',\n",
    "       '음주여부', '복부비만', '비만여부', '고혈압', '식전혈당']]"
   ]
  },
  {
   "cell_type": "code",
   "execution_count": 10,
   "id": "a9c80158",
   "metadata": {},
   "outputs": [],
   "source": [
    "from sklearn.linear_model import LogisticRegression\n",
    "from sklearn.preprocessing import StandardScaler\n",
    "from sklearn.metrics import accuracy_score, roc_auc_score\n",
    "from sklearn.model_selection import train_test_split"
   ]
  },
  {
   "cell_type": "code",
   "execution_count": 11,
   "id": "feefb8f4",
   "metadata": {},
   "outputs": [],
   "source": [
    "features_response = df.columns.tolist()"
   ]
  },
  {
   "cell_type": "code",
   "execution_count": 12,
   "id": "6d801992",
   "metadata": {},
   "outputs": [
    {
     "data": {
      "text/plain": [
       "['성별코드',\n",
       " '연령대코드',\n",
       " '허리둘레',\n",
       " '총콜레스테롤',\n",
       " '트리글리세라이드',\n",
       " 'HDL콜레스테롤',\n",
       " 'LDL콜레스테롤',\n",
       " '혈색소',\n",
       " '요단백',\n",
       " '혈청크레아티닌',\n",
       " 'AST',\n",
       " 'ALT',\n",
       " '감마지티피',\n",
       " '흡연상태',\n",
       " '음주여부',\n",
       " '복부비만',\n",
       " '비만여부',\n",
       " '고혈압',\n",
       " '식전혈당']"
      ]
     },
     "execution_count": 12,
     "metadata": {},
     "output_type": "execute_result"
    }
   ],
   "source": [
    "features_response"
   ]
  },
  {
   "cell_type": "code",
   "execution_count": 13,
   "id": "c4fbb5e9",
   "metadata": {},
   "outputs": [
    {
     "name": "stdout",
     "output_type": "stream",
     "text": [
      "(2773887, 18) (2773887,)\n"
     ]
    }
   ],
   "source": [
    "X = df[features_response].iloc[:,:-1].values\n",
    "y = df[features_response].iloc[:,-1].values\n",
    "print(X.shape, y.shape)"
   ]
  },
  {
   "cell_type": "code",
   "execution_count": 14,
   "id": "771ceb4a",
   "metadata": {},
   "outputs": [],
   "source": [
    "scaler = StandardScaler()\n",
    "X = scaler.fit_transform(X)"
   ]
  },
  {
   "cell_type": "code",
   "execution_count": 15,
   "id": "b30fe51d",
   "metadata": {},
   "outputs": [
    {
     "data": {
      "text/html": [
       "<div>\n",
       "<style scoped>\n",
       "    .dataframe tbody tr th:only-of-type {\n",
       "        vertical-align: middle;\n",
       "    }\n",
       "\n",
       "    .dataframe tbody tr th {\n",
       "        vertical-align: top;\n",
       "    }\n",
       "\n",
       "    .dataframe thead th {\n",
       "        text-align: right;\n",
       "    }\n",
       "</style>\n",
       "<table border=\"1\" class=\"dataframe\">\n",
       "  <thead>\n",
       "    <tr style=\"text-align: right;\">\n",
       "      <th></th>\n",
       "      <th>Feature</th>\n",
       "      <th>F statistic</th>\n",
       "      <th>p value</th>\n",
       "    </tr>\n",
       "  </thead>\n",
       "  <tbody>\n",
       "    <tr>\n",
       "      <th>0</th>\n",
       "      <td>성별코드</td>\n",
       "      <td>29807.672559</td>\n",
       "      <td>0.000000e+00</td>\n",
       "    </tr>\n",
       "    <tr>\n",
       "      <th>15</th>\n",
       "      <td>복부비만</td>\n",
       "      <td>52555.827252</td>\n",
       "      <td>0.000000e+00</td>\n",
       "    </tr>\n",
       "    <tr>\n",
       "      <th>13</th>\n",
       "      <td>흡연상태</td>\n",
       "      <td>14309.326046</td>\n",
       "      <td>0.000000e+00</td>\n",
       "    </tr>\n",
       "    <tr>\n",
       "      <th>12</th>\n",
       "      <td>감마지티피</td>\n",
       "      <td>50019.966799</td>\n",
       "      <td>0.000000e+00</td>\n",
       "    </tr>\n",
       "    <tr>\n",
       "      <th>11</th>\n",
       "      <td>ALT</td>\n",
       "      <td>43839.284557</td>\n",
       "      <td>0.000000e+00</td>\n",
       "    </tr>\n",
       "    <tr>\n",
       "      <th>10</th>\n",
       "      <td>AST</td>\n",
       "      <td>23878.267720</td>\n",
       "      <td>0.000000e+00</td>\n",
       "    </tr>\n",
       "    <tr>\n",
       "      <th>9</th>\n",
       "      <td>혈청크레아티닌</td>\n",
       "      <td>1903.034666</td>\n",
       "      <td>0.000000e+00</td>\n",
       "    </tr>\n",
       "    <tr>\n",
       "      <th>16</th>\n",
       "      <td>비만여부</td>\n",
       "      <td>48180.203540</td>\n",
       "      <td>0.000000e+00</td>\n",
       "    </tr>\n",
       "    <tr>\n",
       "      <th>8</th>\n",
       "      <td>요단백</td>\n",
       "      <td>25839.218522</td>\n",
       "      <td>0.000000e+00</td>\n",
       "    </tr>\n",
       "    <tr>\n",
       "      <th>6</th>\n",
       "      <td>LDL콜레스테롤</td>\n",
       "      <td>19258.585212</td>\n",
       "      <td>0.000000e+00</td>\n",
       "    </tr>\n",
       "    <tr>\n",
       "      <th>5</th>\n",
       "      <td>HDL콜레스테롤</td>\n",
       "      <td>57110.094470</td>\n",
       "      <td>0.000000e+00</td>\n",
       "    </tr>\n",
       "    <tr>\n",
       "      <th>4</th>\n",
       "      <td>트리글리세라이드</td>\n",
       "      <td>80497.389087</td>\n",
       "      <td>0.000000e+00</td>\n",
       "    </tr>\n",
       "    <tr>\n",
       "      <th>3</th>\n",
       "      <td>총콜레스테롤</td>\n",
       "      <td>12376.253359</td>\n",
       "      <td>0.000000e+00</td>\n",
       "    </tr>\n",
       "    <tr>\n",
       "      <th>2</th>\n",
       "      <td>허리둘레</td>\n",
       "      <td>128947.618937</td>\n",
       "      <td>0.000000e+00</td>\n",
       "    </tr>\n",
       "    <tr>\n",
       "      <th>1</th>\n",
       "      <td>연령대코드</td>\n",
       "      <td>131716.006380</td>\n",
       "      <td>0.000000e+00</td>\n",
       "    </tr>\n",
       "    <tr>\n",
       "      <th>7</th>\n",
       "      <td>혈색소</td>\n",
       "      <td>10214.484000</td>\n",
       "      <td>0.000000e+00</td>\n",
       "    </tr>\n",
       "    <tr>\n",
       "      <th>17</th>\n",
       "      <td>고혈압</td>\n",
       "      <td>71750.273231</td>\n",
       "      <td>0.000000e+00</td>\n",
       "    </tr>\n",
       "    <tr>\n",
       "      <th>14</th>\n",
       "      <td>음주여부</td>\n",
       "      <td>40.955971</td>\n",
       "      <td>1.634220e-18</td>\n",
       "    </tr>\n",
       "  </tbody>\n",
       "</table>\n",
       "</div>"
      ],
      "text/plain": [
       "     Feature    F statistic       p value\n",
       "0       성별코드   29807.672559  0.000000e+00\n",
       "15      복부비만   52555.827252  0.000000e+00\n",
       "13      흡연상태   14309.326046  0.000000e+00\n",
       "12     감마지티피   50019.966799  0.000000e+00\n",
       "11       ALT   43839.284557  0.000000e+00\n",
       "10       AST   23878.267720  0.000000e+00\n",
       "9    혈청크레아티닌    1903.034666  0.000000e+00\n",
       "16      비만여부   48180.203540  0.000000e+00\n",
       "8        요단백   25839.218522  0.000000e+00\n",
       "6   LDL콜레스테롤   19258.585212  0.000000e+00\n",
       "5   HDL콜레스테롤   57110.094470  0.000000e+00\n",
       "4   트리글리세라이드   80497.389087  0.000000e+00\n",
       "3     총콜레스테롤   12376.253359  0.000000e+00\n",
       "2       허리둘레  128947.618937  0.000000e+00\n",
       "1      연령대코드  131716.006380  0.000000e+00\n",
       "7        혈색소   10214.484000  0.000000e+00\n",
       "17       고혈압   71750.273231  0.000000e+00\n",
       "14      음주여부      40.955971  1.634220e-18"
      ]
     },
     "execution_count": 15,
     "metadata": {},
     "output_type": "execute_result"
    }
   ],
   "source": [
    "from sklearn.feature_selection import f_classif\n",
    "from sklearn.feature_selection import SelectPercentile\n",
    "\n",
    "[f_stat, f_p_value] = f_classif(X,y)\n",
    "f_test_df = pd.DataFrame({'Feature':features_response[:-1],\n",
    "                         'F statistic':f_stat,\n",
    "                         'p value':f_p_value})\n",
    "f_test_df.sort_values('p value')"
   ]
  },
  {
   "cell_type": "code",
   "execution_count": 17,
   "id": "84ace090",
   "metadata": {},
   "outputs": [
    {
     "data": {
      "text/plain": [
       "array([False,  True,  True, False,  True,  True, False, False, False,\n",
       "       False, False, False, False, False, False, False, False,  True])"
      ]
     },
     "execution_count": 17,
     "metadata": {},
     "output_type": "execute_result"
    }
   ],
   "source": [
    "from sklearn.feature_selection import SelectPercentile\n",
    "\n",
    "selector = SelectPercentile(f_classif, percentile=25)\n",
    "selector.fit(X,y)\n",
    "best_feature_ix = selector.get_support()\n",
    "best_feature_ix"
   ]
  },
  {
   "cell_type": "code",
   "execution_count": 19,
   "id": "3288f2f5",
   "metadata": {},
   "outputs": [],
   "source": [
    "features = features_response[:-1]"
   ]
  },
  {
   "cell_type": "code",
   "execution_count": 20,
   "id": "3cc6b161",
   "metadata": {},
   "outputs": [],
   "source": [
    "best_features = [features[counter] for counter in range(len(features))\n",
    "                if best_feature_ix[counter]]"
   ]
  },
  {
   "cell_type": "code",
   "execution_count": 21,
   "id": "b926c0d0",
   "metadata": {},
   "outputs": [
    {
     "data": {
      "text/plain": [
       "['연령대코드', '허리둘레', '트리글리세라이드', 'HDL콜레스테롤', '고혈압']"
      ]
     },
     "execution_count": 21,
     "metadata": {},
     "output_type": "execute_result"
    }
   ],
   "source": [
    "best_features"
   ]
  },
  {
   "cell_type": "code",
   "execution_count": 22,
   "id": "faf94fc4",
   "metadata": {},
   "outputs": [
    {
     "data": {
      "text/plain": [
       "1.0"
      ]
     },
     "execution_count": 22,
     "metadata": {},
     "output_type": "execute_result"
    }
   ],
   "source": [
    "diabetes_rate = df['식전혈당'].mean()\n",
    "diabetes_rate"
   ]
  },
  {
   "cell_type": "code",
   "execution_count": 23,
   "id": "a8c30e48",
   "metadata": {},
   "outputs": [],
   "source": [
    "from sklearn.model_selection import train_test_split"
   ]
  },
  {
   "cell_type": "code",
   "execution_count": 24,
   "id": "626882d2",
   "metadata": {},
   "outputs": [],
   "source": [
    "X = df[best_features].values\n",
    "y = df['식전혈당'].values"
   ]
  },
  {
   "cell_type": "code",
   "execution_count": 25,
   "id": "15b5540a",
   "metadata": {},
   "outputs": [],
   "source": [
    "X_train, X_test, y_train, y_test = train_test_split(X,y,random_state=24, stratify=y)"
   ]
  },
  {
   "cell_type": "code",
   "execution_count": 26,
   "id": "33d14073",
   "metadata": {},
   "outputs": [],
   "source": [
    "from collections import Counter"
   ]
  },
  {
   "cell_type": "code",
   "execution_count": 27,
   "id": "f023a89d",
   "metadata": {},
   "outputs": [
    {
     "data": {
      "text/plain": [
       "Counter({1: 924629, 0: 924629, 2: 924629})"
      ]
     },
     "execution_count": 27,
     "metadata": {},
     "output_type": "execute_result"
    }
   ],
   "source": [
    "Counter(y)"
   ]
  },
  {
   "cell_type": "code",
   "execution_count": 28,
   "id": "5c8303ef",
   "metadata": {},
   "outputs": [],
   "source": [
    "from sklearn.linear_model import LogisticRegression\n",
    "model = LogisticRegression(\n",
    "    C=1, class_weight='balanced', random_state=24, multi_class='multinomial',\n",
    "    n_jobs=-1, solver='lbfgs').fit(X_train, y_train)"
   ]
  },
  {
   "cell_type": "code",
   "execution_count": 29,
   "id": "0f5d9d66",
   "metadata": {
    "scrolled": true
   },
   "outputs": [
    {
     "name": "stdout",
     "output_type": "stream",
     "text": [
      "학습결과:  0.47129875529641924\n",
      "테스트결과:  0.47099233999353973\n"
     ]
    }
   ],
   "source": [
    "print('학습결과: ', model.score(X_train, y_train))\n",
    "print('테스트결과: ', model.score(X_test, y_test))"
   ]
  },
  {
   "cell_type": "code",
   "execution_count": 30,
   "id": "20254c71",
   "metadata": {},
   "outputs": [
    {
     "name": "stdout",
     "output_type": "stream",
     "text": [
      "classification_repot - 학습데이터\n",
      "              precision    recall  f1-score   support\n",
      "\n",
      "           0       0.51      0.59      0.54    693472\n",
      "           1       0.37      0.19      0.25    693472\n",
      "           2       0.48      0.64      0.55    693471\n",
      "\n",
      "    accuracy                           0.47   2080415\n",
      "   macro avg       0.45      0.47      0.45   2080415\n",
      "weighted avg       0.45      0.47      0.45   2080415\n",
      "\n"
     ]
    }
   ],
   "source": [
    "from sklearn.metrics import classification_report\n",
    "pred_train = model.predict(X_train)\n",
    "pred_test = model.predict(X_test)\n",
    "print('classification_repot - 학습데이터')\n",
    "print(classification_report(y_train, pred_train))"
   ]
  },
  {
   "cell_type": "code",
   "execution_count": 31,
   "id": "2eec7b83",
   "metadata": {},
   "outputs": [
    {
     "name": "stdout",
     "output_type": "stream",
     "text": [
      "classification_report - 테스트데이터\n",
      "              precision    recall  f1-score   support\n",
      "\n",
      "           0       0.51      0.59      0.54    231157\n",
      "           1       0.37      0.19      0.25    231157\n",
      "           2       0.48      0.64      0.54    231158\n",
      "\n",
      "    accuracy                           0.47    693472\n",
      "   macro avg       0.45      0.47      0.45    693472\n",
      "weighted avg       0.45      0.47      0.45    693472\n",
      "\n"
     ]
    }
   ],
   "source": [
    "print('classification_report - 테스트데이터')\n",
    "print(classification_report(y_test, pred_test))"
   ]
  },
  {
   "cell_type": "markdown",
   "id": "81e7838b",
   "metadata": {},
   "source": [
    "데이터 정규분포 스케일링 적용"
   ]
  },
  {
   "cell_type": "code",
   "execution_count": 32,
   "id": "2b19e8bd",
   "metadata": {},
   "outputs": [],
   "source": [
    "scaler = StandardScaler()\n",
    "data_scaled = scaler.fit_transform(X)"
   ]
  },
  {
   "cell_type": "code",
   "execution_count": 33,
   "id": "ec81c1e9",
   "metadata": {},
   "outputs": [],
   "source": [
    "X_train , X_test, y_train , y_test = train_test_split(data_scaled, y, test_size=0.25, random_state=0, stratify=y)"
   ]
  },
  {
   "cell_type": "code",
   "execution_count": 34,
   "id": "88614fec",
   "metadata": {},
   "outputs": [],
   "source": [
    "from sklearn.linear_model import LogisticRegression\n",
    "model = LogisticRegression(\n",
    "    C=0.1, class_weight='balanced', random_state=0, multi_class='multinomial',\n",
    "    n_jobs=-1, solver='lbfgs').fit(X_train, y_train)"
   ]
  },
  {
   "cell_type": "code",
   "execution_count": 35,
   "id": "e7833251",
   "metadata": {},
   "outputs": [
    {
     "name": "stdout",
     "output_type": "stream",
     "text": [
      "학습결과:  0.4905117488578\n",
      "테스트결과:  0.48919783351022106\n"
     ]
    }
   ],
   "source": [
    "print('학습결과: ', model.score(X_train, y_train))\n",
    "print('테스트결과: ', model.score(X_test, y_test))"
   ]
  },
  {
   "cell_type": "code",
   "execution_count": 36,
   "id": "3ec68e06",
   "metadata": {},
   "outputs": [],
   "source": [
    "from sklearn.metrics import accuracy_score, precision_score, recall_score, roc_auc_score\n",
    "from sklearn.metrics import f1_score, confusion_matrix, precision_recall_curve, roc_curve"
   ]
  },
  {
   "cell_type": "code",
   "execution_count": 37,
   "id": "c3a3c1fd",
   "metadata": {},
   "outputs": [
    {
     "name": "stdout",
     "output_type": "stream",
     "text": [
      "classification_repot - 학습데이터\n",
      "              precision    recall  f1-score   support\n",
      "\n",
      "           0       0.53      0.61      0.57    693471\n",
      "           1       0.38      0.22      0.28    693472\n",
      "           2       0.50      0.64      0.56    693472\n",
      "\n",
      "    accuracy                           0.49   2080415\n",
      "   macro avg       0.47      0.49      0.47   2080415\n",
      "weighted avg       0.47      0.49      0.47   2080415\n",
      "\n"
     ]
    }
   ],
   "source": [
    "pred_train = model.predict(X_train)\n",
    "pred_test = model.predict(X_test)\n",
    "print('classification_repot - 학습데이터')\n",
    "print(classification_report(y_train, pred_train))"
   ]
  },
  {
   "cell_type": "code",
   "execution_count": 38,
   "id": "7b4eed5f",
   "metadata": {},
   "outputs": [
    {
     "name": "stdout",
     "output_type": "stream",
     "text": [
      "classification_report - 테스트데이터\n",
      "              precision    recall  f1-score   support\n",
      "\n",
      "           0       0.53      0.61      0.57    231158\n",
      "           1       0.38      0.22      0.28    231157\n",
      "           2       0.50      0.63      0.56    231157\n",
      "\n",
      "    accuracy                           0.49    693472\n",
      "   macro avg       0.47      0.49      0.47    693472\n",
      "weighted avg       0.47      0.49      0.47    693472\n",
      "\n"
     ]
    }
   ],
   "source": [
    "print('classification_report - 테스트데이터')\n",
    "print(classification_report(y_test, pred_test))"
   ]
  },
  {
   "cell_type": "code",
   "execution_count": 39,
   "id": "53c0b0f5",
   "metadata": {},
   "outputs": [],
   "source": [
    "from sklearn.metrics import accuracy_score, precision_score, recall_score, roc_auc_score\n",
    "from sklearn.metrics import f1_score, confusion_matrix, precision_recall_curve, roc_curve\n",
    "\n",
    "def get_clf_eval(y_test, y_pred):\n",
    "    confusion = confusion_matrix(y_test, y_pred)\n",
    "    accuracy = accuracy_score(y_test, y_pred)\n",
    "    print('오차행렬:\\n', confusion)"
   ]
  },
  {
   "cell_type": "code",
   "execution_count": 40,
   "id": "2dd20400",
   "metadata": {},
   "outputs": [
    {
     "name": "stdout",
     "output_type": "stream",
     "text": [
      "오차행렬:\n",
      " [[141456  37146  52556]\n",
      " [ 87338  51316  92503]\n",
      " [ 38346  46338 146473]]\n"
     ]
    }
   ],
   "source": [
    "get_clf_eval(y_test, pred_test)"
   ]
  },
  {
   "cell_type": "code",
   "execution_count": null,
   "id": "83ab0b49",
   "metadata": {},
   "outputs": [],
   "source": []
  }
 ],
 "metadata": {
  "kernelspec": {
   "display_name": "Python 3",
   "language": "python",
   "name": "python3"
  },
  "language_info": {
   "codemirror_mode": {
    "name": "ipython",
    "version": 3
   },
   "file_extension": ".py",
   "mimetype": "text/x-python",
   "name": "python",
   "nbconvert_exporter": "python",
   "pygments_lexer": "ipython3",
   "version": "3.9.2"
  }
 },
 "nbformat": 4,
 "nbformat_minor": 5
}
