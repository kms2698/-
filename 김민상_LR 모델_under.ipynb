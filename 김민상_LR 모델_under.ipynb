{
 "cells": [
  {
   "cell_type": "code",
   "execution_count": 1,
   "id": "31b6d58c",
   "metadata": {},
   "outputs": [],
   "source": [
    "import sys\n",
    "import numpy as np\n",
    "import pandas as pd\n",
    "import matplotlib.pyplot as plt\n",
    "%matplotlib inline\n",
    "import matplotlib as mpl\n",
    "import seaborn as sns\n",
    "mpl.rcParams['figure.dpi'] = 400\n",
    "\n",
    "plt.rcParams['font.family'] = 'AppleGothic'\n",
    "plt.rcParams['axes.unicode_minus'] = False"
   ]
  },
  {
   "cell_type": "code",
   "execution_count": 2,
   "id": "ea15ba71",
   "metadata": {},
   "outputs": [],
   "source": [
    "df = pd.read_csv('preprocessed/data_preprocessed_under.csv') # over_sampling"
   ]
  },
  {
   "cell_type": "code",
   "execution_count": 3,
   "id": "ec3b3ee2",
   "metadata": {},
   "outputs": [
    {
     "name": "stdout",
     "output_type": "stream",
     "text": [
      "<class 'pandas.core.frame.DataFrame'>\n",
      "RangeIndex: 703011 entries, 0 to 703010\n",
      "Data columns (total 19 columns):\n",
      " #   Column    Non-Null Count   Dtype  \n",
      "---  ------    --------------   -----  \n",
      " 0   성별코드      703011 non-null  int64  \n",
      " 1   연령대코드     703011 non-null  int64  \n",
      " 2   허리둘레      703011 non-null  float64\n",
      " 3   식전혈당      703011 non-null  float64\n",
      " 4   총콜레스테롤    703011 non-null  float64\n",
      " 5   트리글리세라이드  703011 non-null  float64\n",
      " 6   HDL콜레스테롤  703011 non-null  float64\n",
      " 7   LDL콜레스테롤  703011 non-null  float64\n",
      " 8   혈색소       703011 non-null  float64\n",
      " 9   요단백       703011 non-null  float64\n",
      " 10  혈청크레아티닌   703011 non-null  float64\n",
      " 11  AST       703011 non-null  float64\n",
      " 12  ALT       703011 non-null  float64\n",
      " 13  감마지티피     703011 non-null  float64\n",
      " 14  흡연상태      703011 non-null  float64\n",
      " 15  음주여부      703011 non-null  float64\n",
      " 16  복부비만      703011 non-null  float64\n",
      " 17  비만여부      703011 non-null  float64\n",
      " 18  고혈압       703011 non-null  float64\n",
      "dtypes: float64(17), int64(2)\n",
      "memory usage: 101.9 MB\n"
     ]
    }
   ],
   "source": [
    "df.info()"
   ]
  },
  {
   "cell_type": "code",
   "execution_count": 4,
   "id": "fef4ca6c",
   "metadata": {},
   "outputs": [
    {
     "name": "stdout",
     "output_type": "stream",
     "text": [
      "0.0    234337\n",
      "2.0    234337\n",
      "1.0    234337\n",
      "Name: 식전혈당, dtype: int64\n"
     ]
    }
   ],
   "source": [
    "print(df['식전혈당'].value_counts())"
   ]
  },
  {
   "cell_type": "code",
   "execution_count": 5,
   "id": "6b619ac2",
   "metadata": {},
   "outputs": [],
   "source": [
    "df = df[['성별코드', '연령대코드', '허리둘레', '총콜레스테롤', '트리글리세라이드', 'HDL콜레스테롤',\n",
    "       'LDL콜레스테롤', '혈색소', '요단백', '혈청크레아티닌', 'AST', 'ALT', '감마지티피', '흡연상태',\n",
    "       '음주여부', '복부비만', '비만여부', '고혈압', '식전혈당']]"
   ]
  },
  {
   "cell_type": "code",
   "execution_count": 6,
   "id": "a9c80158",
   "metadata": {},
   "outputs": [],
   "source": [
    "from sklearn.linear_model import LogisticRegression\n",
    "from sklearn.preprocessing import StandardScaler\n",
    "from sklearn.metrics import accuracy_score, roc_auc_score\n",
    "from sklearn.model_selection import train_test_split"
   ]
  },
  {
   "cell_type": "code",
   "execution_count": 7,
   "id": "feefb8f4",
   "metadata": {},
   "outputs": [],
   "source": [
    "features_response = df.columns.tolist()"
   ]
  },
  {
   "cell_type": "code",
   "execution_count": 8,
   "id": "6d801992",
   "metadata": {},
   "outputs": [
    {
     "data": {
      "text/plain": [
       "['성별코드',\n",
       " '연령대코드',\n",
       " '허리둘레',\n",
       " '총콜레스테롤',\n",
       " '트리글리세라이드',\n",
       " 'HDL콜레스테롤',\n",
       " 'LDL콜레스테롤',\n",
       " '혈색소',\n",
       " '요단백',\n",
       " '혈청크레아티닌',\n",
       " 'AST',\n",
       " 'ALT',\n",
       " '감마지티피',\n",
       " '흡연상태',\n",
       " '음주여부',\n",
       " '복부비만',\n",
       " '비만여부',\n",
       " '고혈압',\n",
       " '식전혈당']"
      ]
     },
     "execution_count": 8,
     "metadata": {},
     "output_type": "execute_result"
    }
   ],
   "source": [
    "features_response"
   ]
  },
  {
   "cell_type": "code",
   "execution_count": 9,
   "id": "c4fbb5e9",
   "metadata": {},
   "outputs": [
    {
     "name": "stdout",
     "output_type": "stream",
     "text": [
      "(703011, 18) (703011,)\n"
     ]
    }
   ],
   "source": [
    "X = df[features_response].iloc[:,:-1].values\n",
    "y = df[features_response].iloc[:,-1].values\n",
    "print(X.shape, y.shape)"
   ]
  },
  {
   "cell_type": "code",
   "execution_count": 10,
   "id": "771ceb4a",
   "metadata": {},
   "outputs": [],
   "source": [
    "scaler = StandardScaler()\n",
    "X = scaler.fit_transform(X)"
   ]
  },
  {
   "cell_type": "code",
   "execution_count": 11,
   "id": "b30fe51d",
   "metadata": {},
   "outputs": [
    {
     "data": {
      "text/html": [
       "<div>\n",
       "<style scoped>\n",
       "    .dataframe tbody tr th:only-of-type {\n",
       "        vertical-align: middle;\n",
       "    }\n",
       "\n",
       "    .dataframe tbody tr th {\n",
       "        vertical-align: top;\n",
       "    }\n",
       "\n",
       "    .dataframe thead th {\n",
       "        text-align: right;\n",
       "    }\n",
       "</style>\n",
       "<table border=\"1\" class=\"dataframe\">\n",
       "  <thead>\n",
       "    <tr style=\"text-align: right;\">\n",
       "      <th></th>\n",
       "      <th>Feature</th>\n",
       "      <th>F statistic</th>\n",
       "      <th>p value</th>\n",
       "    </tr>\n",
       "  </thead>\n",
       "  <tbody>\n",
       "    <tr>\n",
       "      <th>0</th>\n",
       "      <td>성별코드</td>\n",
       "      <td>7156.208687</td>\n",
       "      <td>0.000000e+00</td>\n",
       "    </tr>\n",
       "    <tr>\n",
       "      <th>15</th>\n",
       "      <td>복부비만</td>\n",
       "      <td>13891.282255</td>\n",
       "      <td>0.000000e+00</td>\n",
       "    </tr>\n",
       "    <tr>\n",
       "      <th>13</th>\n",
       "      <td>흡연상태</td>\n",
       "      <td>3368.233010</td>\n",
       "      <td>0.000000e+00</td>\n",
       "    </tr>\n",
       "    <tr>\n",
       "      <th>12</th>\n",
       "      <td>감마지티피</td>\n",
       "      <td>12568.385173</td>\n",
       "      <td>0.000000e+00</td>\n",
       "    </tr>\n",
       "    <tr>\n",
       "      <th>11</th>\n",
       "      <td>ALT</td>\n",
       "      <td>11067.988048</td>\n",
       "      <td>0.000000e+00</td>\n",
       "    </tr>\n",
       "    <tr>\n",
       "      <th>10</th>\n",
       "      <td>AST</td>\n",
       "      <td>6264.807598</td>\n",
       "      <td>0.000000e+00</td>\n",
       "    </tr>\n",
       "    <tr>\n",
       "      <th>9</th>\n",
       "      <td>혈청크레아티닌</td>\n",
       "      <td>1068.696658</td>\n",
       "      <td>0.000000e+00</td>\n",
       "    </tr>\n",
       "    <tr>\n",
       "      <th>16</th>\n",
       "      <td>비만여부</td>\n",
       "      <td>12089.354734</td>\n",
       "      <td>0.000000e+00</td>\n",
       "    </tr>\n",
       "    <tr>\n",
       "      <th>8</th>\n",
       "      <td>요단백</td>\n",
       "      <td>6556.484561</td>\n",
       "      <td>0.000000e+00</td>\n",
       "    </tr>\n",
       "    <tr>\n",
       "      <th>6</th>\n",
       "      <td>LDL콜레스테롤</td>\n",
       "      <td>4882.216276</td>\n",
       "      <td>0.000000e+00</td>\n",
       "    </tr>\n",
       "    <tr>\n",
       "      <th>5</th>\n",
       "      <td>HDL콜레스테롤</td>\n",
       "      <td>13853.381775</td>\n",
       "      <td>0.000000e+00</td>\n",
       "    </tr>\n",
       "    <tr>\n",
       "      <th>4</th>\n",
       "      <td>트리글리세라이드</td>\n",
       "      <td>20255.641163</td>\n",
       "      <td>0.000000e+00</td>\n",
       "    </tr>\n",
       "    <tr>\n",
       "      <th>3</th>\n",
       "      <td>총콜레스테롤</td>\n",
       "      <td>3161.260924</td>\n",
       "      <td>0.000000e+00</td>\n",
       "    </tr>\n",
       "    <tr>\n",
       "      <th>2</th>\n",
       "      <td>허리둘레</td>\n",
       "      <td>31485.889085</td>\n",
       "      <td>0.000000e+00</td>\n",
       "    </tr>\n",
       "    <tr>\n",
       "      <th>1</th>\n",
       "      <td>연령대코드</td>\n",
       "      <td>31514.572821</td>\n",
       "      <td>0.000000e+00</td>\n",
       "    </tr>\n",
       "    <tr>\n",
       "      <th>7</th>\n",
       "      <td>혈색소</td>\n",
       "      <td>2233.292355</td>\n",
       "      <td>0.000000e+00</td>\n",
       "    </tr>\n",
       "    <tr>\n",
       "      <th>17</th>\n",
       "      <td>고혈압</td>\n",
       "      <td>17677.457310</td>\n",
       "      <td>0.000000e+00</td>\n",
       "    </tr>\n",
       "    <tr>\n",
       "      <th>14</th>\n",
       "      <td>음주여부</td>\n",
       "      <td>21.399699</td>\n",
       "      <td>5.087588e-10</td>\n",
       "    </tr>\n",
       "  </tbody>\n",
       "</table>\n",
       "</div>"
      ],
      "text/plain": [
       "     Feature   F statistic       p value\n",
       "0       성별코드   7156.208687  0.000000e+00\n",
       "15      복부비만  13891.282255  0.000000e+00\n",
       "13      흡연상태   3368.233010  0.000000e+00\n",
       "12     감마지티피  12568.385173  0.000000e+00\n",
       "11       ALT  11067.988048  0.000000e+00\n",
       "10       AST   6264.807598  0.000000e+00\n",
       "9    혈청크레아티닌   1068.696658  0.000000e+00\n",
       "16      비만여부  12089.354734  0.000000e+00\n",
       "8        요단백   6556.484561  0.000000e+00\n",
       "6   LDL콜레스테롤   4882.216276  0.000000e+00\n",
       "5   HDL콜레스테롤  13853.381775  0.000000e+00\n",
       "4   트리글리세라이드  20255.641163  0.000000e+00\n",
       "3     총콜레스테롤   3161.260924  0.000000e+00\n",
       "2       허리둘레  31485.889085  0.000000e+00\n",
       "1      연령대코드  31514.572821  0.000000e+00\n",
       "7        혈색소   2233.292355  0.000000e+00\n",
       "17       고혈압  17677.457310  0.000000e+00\n",
       "14      음주여부     21.399699  5.087588e-10"
      ]
     },
     "execution_count": 11,
     "metadata": {},
     "output_type": "execute_result"
    }
   ],
   "source": [
    "from sklearn.feature_selection import f_classif\n",
    "from sklearn.feature_selection import SelectPercentile\n",
    "\n",
    "[f_stat, f_p_value] = f_classif(X,y)\n",
    "f_test_df = pd.DataFrame({'Feature':features_response[:-1],\n",
    "                         'F statistic':f_stat,\n",
    "                         'p value':f_p_value})\n",
    "f_test_df.sort_values('p value')"
   ]
  },
  {
   "cell_type": "code",
   "execution_count": 12,
   "id": "84ace090",
   "metadata": {},
   "outputs": [
    {
     "data": {
      "text/plain": [
       "array([False,  True,  True, False,  True, False, False, False, False,\n",
       "       False, False, False, False, False, False,  True, False,  True])"
      ]
     },
     "execution_count": 12,
     "metadata": {},
     "output_type": "execute_result"
    }
   ],
   "source": [
    "from sklearn.feature_selection import SelectPercentile\n",
    "\n",
    "selector = SelectPercentile(f_classif, percentile=25)\n",
    "selector.fit(X,y)\n",
    "best_feature_ix = selector.get_support()\n",
    "best_feature_ix"
   ]
  },
  {
   "cell_type": "code",
   "execution_count": 13,
   "id": "3288f2f5",
   "metadata": {},
   "outputs": [],
   "source": [
    "features = features_response[:-1]"
   ]
  },
  {
   "cell_type": "code",
   "execution_count": 14,
   "id": "3cc6b161",
   "metadata": {},
   "outputs": [],
   "source": [
    "best_features = [features[counter] for counter in range(len(features))\n",
    "                if best_feature_ix[counter]]"
   ]
  },
  {
   "cell_type": "code",
   "execution_count": 15,
   "id": "b926c0d0",
   "metadata": {},
   "outputs": [
    {
     "data": {
      "text/plain": [
       "['연령대코드', '허리둘레', '트리글리세라이드', '복부비만', '고혈압']"
      ]
     },
     "execution_count": 15,
     "metadata": {},
     "output_type": "execute_result"
    }
   ],
   "source": [
    "best_features"
   ]
  },
  {
   "cell_type": "code",
   "execution_count": 16,
   "id": "faf94fc4",
   "metadata": {},
   "outputs": [
    {
     "data": {
      "text/plain": [
       "1.0"
      ]
     },
     "execution_count": 16,
     "metadata": {},
     "output_type": "execute_result"
    }
   ],
   "source": [
    "diabetes_rate = df['식전혈당'].mean()\n",
    "diabetes_rate"
   ]
  },
  {
   "cell_type": "code",
   "execution_count": 17,
   "id": "a8c30e48",
   "metadata": {},
   "outputs": [],
   "source": [
    "from sklearn.model_selection import train_test_split"
   ]
  },
  {
   "cell_type": "code",
   "execution_count": 18,
   "id": "626882d2",
   "metadata": {},
   "outputs": [],
   "source": [
    "X = df[best_features].values\n",
    "y = df['식전혈당'].values"
   ]
  },
  {
   "cell_type": "code",
   "execution_count": 19,
   "id": "15b5540a",
   "metadata": {},
   "outputs": [],
   "source": [
    "X_train, X_test, y_train, y_test = train_test_split(X,y,random_state=24, stratify=y)"
   ]
  },
  {
   "cell_type": "code",
   "execution_count": 20,
   "id": "33d14073",
   "metadata": {},
   "outputs": [],
   "source": [
    "from collections import Counter"
   ]
  },
  {
   "cell_type": "code",
   "execution_count": 21,
   "id": "f023a89d",
   "metadata": {},
   "outputs": [
    {
     "data": {
      "text/plain": [
       "Counter({1.0: 234337, 2.0: 234337, 0.0: 234337})"
      ]
     },
     "execution_count": 21,
     "metadata": {},
     "output_type": "execute_result"
    }
   ],
   "source": [
    "Counter(y)"
   ]
  },
  {
   "cell_type": "code",
   "execution_count": 22,
   "id": "5c8303ef",
   "metadata": {},
   "outputs": [],
   "source": [
    "from sklearn.linear_model import LogisticRegression\n",
    "model = LogisticRegression(\n",
    "    C=1, class_weight='balanced', random_state=24, multi_class='multinomial',\n",
    "    n_jobs=-1, solver='lbfgs').fit(X_train, y_train)"
   ]
  },
  {
   "cell_type": "code",
   "execution_count": 23,
   "id": "0f5d9d66",
   "metadata": {
    "scrolled": true
   },
   "outputs": [
    {
     "name": "stdout",
     "output_type": "stream",
     "text": [
      "학습결과:  0.46102856665996533\n",
      "테스트결과:  0.46019129118706364\n"
     ]
    }
   ],
   "source": [
    "print('학습결과: ', model.score(X_train, y_train))\n",
    "print('테스트결과: ', model.score(X_test, y_test))"
   ]
  },
  {
   "cell_type": "code",
   "execution_count": 24,
   "id": "20254c71",
   "metadata": {},
   "outputs": [
    {
     "name": "stdout",
     "output_type": "stream",
     "text": [
      "classification_repot - 학습데이터\n",
      "              precision    recall  f1-score   support\n",
      "\n",
      "         0.0       0.49      0.61      0.54    175753\n",
      "         1.0       0.37      0.21      0.27    175753\n",
      "         2.0       0.48      0.56      0.52    175752\n",
      "\n",
      "    accuracy                           0.46    527258\n",
      "   macro avg       0.45      0.46      0.44    527258\n",
      "weighted avg       0.45      0.46      0.44    527258\n",
      "\n"
     ]
    }
   ],
   "source": [
    "from sklearn.metrics import classification_report\n",
    "pred_train = model.predict(X_train)\n",
    "pred_test = model.predict(X_test)\n",
    "print('classification_repot - 학습데이터')\n",
    "print(classification_report(y_train, pred_train))"
   ]
  },
  {
   "cell_type": "code",
   "execution_count": 25,
   "id": "2eec7b83",
   "metadata": {},
   "outputs": [
    {
     "name": "stdout",
     "output_type": "stream",
     "text": [
      "classification_report - 테스트데이터\n",
      "              precision    recall  f1-score   support\n",
      "\n",
      "         0.0       0.49      0.60      0.54     58584\n",
      "         1.0       0.37      0.22      0.27     58584\n",
      "         2.0       0.47      0.56      0.51     58585\n",
      "\n",
      "    accuracy                           0.46    175753\n",
      "   macro avg       0.44      0.46      0.44    175753\n",
      "weighted avg       0.44      0.46      0.44    175753\n",
      "\n"
     ]
    }
   ],
   "source": [
    "print('classification_report - 테스트데이터')\n",
    "print(classification_report(y_test, pred_test))"
   ]
  },
  {
   "cell_type": "markdown",
   "id": "81e7838b",
   "metadata": {},
   "source": [
    "데이터 정규분포 스케일링 적용"
   ]
  },
  {
   "cell_type": "code",
   "execution_count": 26,
   "id": "2b19e8bd",
   "metadata": {},
   "outputs": [],
   "source": [
    "scaler = StandardScaler()\n",
    "data_scaled = scaler.fit_transform(X)"
   ]
  },
  {
   "cell_type": "code",
   "execution_count": 27,
   "id": "ec81c1e9",
   "metadata": {},
   "outputs": [],
   "source": [
    "X_train , X_test, y_train , y_test = train_test_split(data_scaled, y, test_size=0.25, random_state=0, stratify=y)"
   ]
  },
  {
   "cell_type": "code",
   "execution_count": 28,
   "id": "88614fec",
   "metadata": {},
   "outputs": [],
   "source": [
    "from sklearn.linear_model import LogisticRegression\n",
    "model = LogisticRegression(\n",
    "    C=0.1, class_weight='balanced', random_state=0, multi_class='multinomial',\n",
    "    n_jobs=-1, solver='lbfgs').fit(X_train, y_train)"
   ]
  },
  {
   "cell_type": "code",
   "execution_count": 29,
   "id": "e7833251",
   "metadata": {},
   "outputs": [
    {
     "name": "stdout",
     "output_type": "stream",
     "text": [
      "학습결과:  0.48677497543896914\n",
      "테스트결과:  0.48542556883808524\n"
     ]
    }
   ],
   "source": [
    "print('학습결과: ', model.score(X_train, y_train))\n",
    "print('테스트결과: ', model.score(X_test, y_test))"
   ]
  },
  {
   "cell_type": "code",
   "execution_count": 30,
   "id": "3ec68e06",
   "metadata": {},
   "outputs": [],
   "source": [
    "from sklearn.metrics import accuracy_score, precision_score, recall_score, roc_auc_score\n",
    "from sklearn.metrics import f1_score, confusion_matrix, precision_recall_curve, roc_curve"
   ]
  },
  {
   "cell_type": "code",
   "execution_count": 31,
   "id": "c3a3c1fd",
   "metadata": {},
   "outputs": [
    {
     "name": "stdout",
     "output_type": "stream",
     "text": [
      "classification_repot - 학습데이터\n",
      "              precision    recall  f1-score   support\n",
      "\n",
      "         0.0       0.53      0.61      0.56    175752\n",
      "         1.0       0.38      0.23      0.29    175753\n",
      "         2.0       0.50      0.62      0.55    175753\n",
      "\n",
      "    accuracy                           0.49    527258\n",
      "   macro avg       0.47      0.49      0.47    527258\n",
      "weighted avg       0.47      0.49      0.47    527258\n",
      "\n"
     ]
    }
   ],
   "source": [
    "pred_train = model.predict(X_train)\n",
    "pred_test = model.predict(X_test)\n",
    "print('classification_repot - 학습데이터')\n",
    "print(classification_report(y_train, pred_train))"
   ]
  },
  {
   "cell_type": "code",
   "execution_count": 32,
   "id": "7b4eed5f",
   "metadata": {},
   "outputs": [
    {
     "name": "stdout",
     "output_type": "stream",
     "text": [
      "classification_report - 테스트데이터\n",
      "              precision    recall  f1-score   support\n",
      "\n",
      "         0.0       0.53      0.61      0.56     58585\n",
      "         1.0       0.38      0.23      0.29     58584\n",
      "         2.0       0.50      0.62      0.55     58584\n",
      "\n",
      "    accuracy                           0.49    175753\n",
      "   macro avg       0.47      0.49      0.47    175753\n",
      "weighted avg       0.47      0.49      0.47    175753\n",
      "\n"
     ]
    }
   ],
   "source": [
    "print('classification_report - 테스트데이터')\n",
    "print(classification_report(y_test, pred_test))"
   ]
  },
  {
   "cell_type": "code",
   "execution_count": 35,
   "id": "53c0b0f5",
   "metadata": {},
   "outputs": [],
   "source": [
    "from sklearn.metrics import accuracy_score, precision_score, recall_score, roc_auc_score\n",
    "from sklearn.metrics import f1_score, confusion_matrix, precision_recall_curve, roc_curve\n",
    "\n",
    "def get_clf_eval(y_test, y_pred):\n",
    "    confusion = confusion_matrix(y_test, y_pred)\n",
    "    accuracy = accuracy_score(y_test, y_pred)\n",
    "    print('오차행렬:\\n', confusion)"
   ]
  },
  {
   "cell_type": "code",
   "execution_count": 37,
   "id": "f0258352",
   "metadata": {},
   "outputs": [
    {
     "name": "stdout",
     "output_type": "stream",
     "text": [
      "오차행렬:\n",
      " [[35453  9718 13414]\n",
      " [21470 13397 23717]\n",
      " [10302 11817 36465]]\n"
     ]
    }
   ],
   "source": [
    "get_clf_eval(y_test, pred_test)"
   ]
  },
  {
   "cell_type": "code",
   "execution_count": null,
   "id": "cb6ecd18",
   "metadata": {},
   "outputs": [],
   "source": []
  }
 ],
 "metadata": {
  "kernelspec": {
   "display_name": "Python 3",
   "language": "python",
   "name": "python3"
  },
  "language_info": {
   "codemirror_mode": {
    "name": "ipython",
    "version": 3
   },
   "file_extension": ".py",
   "mimetype": "text/x-python",
   "name": "python",
   "nbconvert_exporter": "python",
   "pygments_lexer": "ipython3",
   "version": "3.9.2"
  }
 },
 "nbformat": 4,
 "nbformat_minor": 5
}
