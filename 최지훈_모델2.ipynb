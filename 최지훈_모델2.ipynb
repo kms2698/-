{
 "cells": [
  {
   "cell_type": "code",
   "execution_count": 1,
   "metadata": {
    "ExecuteTime": {
     "end_time": "2021-05-10T18:20:04.106777Z",
     "start_time": "2021-05-10T18:20:02.745096Z"
    }
   },
   "outputs": [],
   "source": [
    "import pandas as pd\n",
    "import numpy as np\n",
    "import seaborn as sns\n",
    "import matplotlib.pyplot as plt\n",
    "import matplotlib as mpl\n",
    "import warnings\n",
    "warnings.filterwarnings(action='ignore')"
   ]
  },
  {
   "cell_type": "code",
   "execution_count": 2,
   "metadata": {
    "ExecuteTime": {
     "end_time": "2021-05-10T18:20:04.121846Z",
     "start_time": "2021-05-10T18:20:04.108778Z"
    }
   },
   "outputs": [],
   "source": [
    "\n",
    "# plt.rc('font', family='NanumGothicOTF') # For MacOS\n",
    "plt.rc('font', family='NanumGothic') # For Windows\n",
    "mpl.rcParams['axes.unicode_minus'] = False\n",
    "pd.set_option('display.max_columns', None)"
   ]
  },
  {
   "cell_type": "code",
   "execution_count": 3,
   "metadata": {
    "ExecuteTime": {
     "end_time": "2021-05-10T18:20:05.801312Z",
     "start_time": "2021-05-10T18:20:04.122848Z"
    }
   },
   "outputs": [],
   "source": [
    "df = pd.read_csv('./data_preprocessed.csv')"
   ]
  },
  {
   "cell_type": "code",
   "execution_count": 4,
   "metadata": {
    "ExecuteTime": {
     "end_time": "2021-05-10T18:20:06.356143Z",
     "start_time": "2021-05-10T18:20:05.802313Z"
    }
   },
   "outputs": [],
   "source": [
    "df['식전혈당'] = df['식전혈당'].apply(lambda x: 0 if x <= 1 else 1 )\n",
    "df_target = df['식전혈당']\n",
    "data_set = df[['고혈압','연령대 코드','복부비만','비만여부' ]]"
   ]
  },
  {
   "cell_type": "code",
   "execution_count": 5,
   "metadata": {
    "ExecuteTime": {
     "end_time": "2021-05-10T18:20:07.345830Z",
     "start_time": "2021-05-10T18:20:06.358134Z"
    }
   },
   "outputs": [],
   "source": [
    "from sklearn.linear_model import LogisticRegression\n",
    "from sklearn.preprocessing import StandardScaler\n",
    "from sklearn.metrics import accuracy_score, roc_auc_score, f1_score\n",
    "from sklearn.model_selection import train_test_split\n",
    "from sklearn.metrics import confusion_matrix\n",
    "from sklearn.tree import DecisionTreeClassifier\n",
    "from sklearn.ensemble import RandomForestClassifier\n",
    "from sklearn.model_selection import GridSearchCV"
   ]
  },
  {
   "cell_type": "code",
   "execution_count": 6,
   "metadata": {
    "ExecuteTime": {
     "end_time": "2021-05-10T18:20:10.974658Z",
     "start_time": "2021-05-10T18:20:07.346834Z"
    }
   },
   "outputs": [
    {
     "name": "stdout",
     "output_type": "stream",
     "text": [
      "accuracy: 0.922\n"
     ]
    },
    {
     "data": {
      "text/plain": [
       "array([[296387,      2],\n",
       "       [ 25186,      0]], dtype=int64)"
      ]
     },
     "execution_count": 6,
     "metadata": {},
     "output_type": "execute_result"
    }
   ],
   "source": [
    "\n",
    "\n",
    "\n",
    "#데이터 분리\n",
    "train_input , test_input, train_label , test_label = train_test_split(data_set.values, df_target.values, test_size=0.25)\n",
    "\n",
    "\n",
    "#LogisticRegression\n",
    "\n",
    "LR = LogisticRegression(C = 0.01, penalty = 'l2')\n",
    "LR.fit(train_input, train_label)\n",
    "predicts = LR.predict(test_input)\n",
    "\n",
    "\n",
    "# accuracy와 roc_auc 측정\n",
    "print('accuracy: {:0.3f}'.format(accuracy_score(test_label,predicts)))\n",
    "confusion_matrix(test_label,predicts)"
   ]
  },
  {
   "cell_type": "code",
   "execution_count": 7,
   "metadata": {
    "ExecuteTime": {
     "end_time": "2021-05-10T18:20:35.894620Z",
     "start_time": "2021-05-10T18:20:10.976659Z"
    }
   },
   "outputs": [
    {
     "name": "stdout",
     "output_type": "stream",
     "text": [
      "예측 정확도: 0.9217\n"
     ]
    }
   ],
   "source": [
    "#RandomForestClassifier\n",
    "RFC = RandomForestClassifier(n_estimators = 100, \n",
    "                                max_depth = 12,\n",
    "                                min_samples_leaf = 8,\n",
    "                                min_samples_split = 8,\n",
    "                                random_state = 0,\n",
    "                                n_jobs = -1)\n",
    "RFC.fit(train_input, train_label)\n",
    "predicts = RFC.predict(test_input)\n",
    "print('예측 정확도: {:.4f}'.format(accuracy_score(test_label,predicts)))"
   ]
  },
  {
   "cell_type": "code",
   "execution_count": 8,
   "metadata": {
    "ExecuteTime": {
     "end_time": "2021-05-10T18:20:42.617841Z",
     "start_time": "2021-05-10T18:20:35.897620Z"
    }
   },
   "outputs": [
    {
     "name": "stdout",
     "output_type": "stream",
     "text": [
      "Accuracy Score: 0.921657\n"
     ]
    }
   ],
   "source": [
    "from lightgbm import LGBMClassifier\n",
    "\n",
    "LGB = LGBMClassifier()\n",
    "\n",
    "\n",
    "\n",
    "LGB.fit(train_input, train_label)\n",
    "\n",
    "predicts = LGB.predict(test_input)\n",
    "\n",
    "\n",
    "print(\"Accuracy Score: %f\" %accuracy_score(test_label, predicts))\n"
   ]
  },
  {
   "cell_type": "code",
   "execution_count": 9,
   "metadata": {
    "ExecuteTime": {
     "end_time": "2021-05-10T18:20:48.720844Z",
     "start_time": "2021-05-10T18:20:42.619841Z"
    },
    "code_folding": []
   },
   "outputs": [
    {
     "name": "stdout",
     "output_type": "stream",
     "text": [
      "최대 = 2 정확도: 0.9217\n",
      "최대 = 4 정확도: 0.9217\n",
      "최대 = 8 정확도: 0.9217\n",
      "최대 = 16 정확도: 0.9217\n",
      "최대 = 32 정확도: 0.9217\n",
      "최대 = 64 정확도: 0.9217\n",
      "최대 = 128 정확도: 0.9217\n",
      "최대 = 256 정확도: 0.9217\n"
     ]
    }
   ],
   "source": [
    "depths = [2,4,8,16,32,64,128,256]\n",
    "\n",
    "for depth in depths:\n",
    "    df_clf = DecisionTreeClassifier(max_depth = depth, random_state = 156)\n",
    "    df_clf.fit(train_input, train_label)\n",
    "    predicts = df_clf.predict(test_input)\n",
    "    print('최대 = {0} 정확도: {1:.4f}'.format(depth,accuracy_score(test_label,predicts)))"
   ]
  },
  {
   "cell_type": "code",
   "execution_count": null,
   "metadata": {},
   "outputs": [],
   "source": []
  }
 ],
 "metadata": {
  "kernelspec": {
   "display_name": "Python 3",
   "language": "python",
   "name": "python3"
  },
  "language_info": {
   "codemirror_mode": {
    "name": "ipython",
    "version": 3
   },
   "file_extension": ".py",
   "mimetype": "text/x-python",
   "name": "python",
   "nbconvert_exporter": "python",
   "pygments_lexer": "ipython3",
   "version": "3.8.5"
  },
  "toc": {
   "base_numbering": 1,
   "nav_menu": {},
   "number_sections": true,
   "sideBar": true,
   "skip_h1_title": false,
   "title_cell": "Table of Contents",
   "title_sidebar": "Contents",
   "toc_cell": false,
   "toc_position": {},
   "toc_section_display": true,
   "toc_window_display": false
  },
  "varInspector": {
   "cols": {
    "lenName": 16,
    "lenType": 16,
    "lenVar": 40
   },
   "kernels_config": {
    "python": {
     "delete_cmd_postfix": "",
     "delete_cmd_prefix": "del ",
     "library": "var_list.py",
     "varRefreshCmd": "print(var_dic_list())"
    },
    "r": {
     "delete_cmd_postfix": ") ",
     "delete_cmd_prefix": "rm(",
     "library": "var_list.r",
     "varRefreshCmd": "cat(var_dic_list()) "
    }
   },
   "types_to_exclude": [
    "module",
    "function",
    "builtin_function_or_method",
    "instance",
    "_Feature"
   ],
   "window_display": false
  }
 },
 "nbformat": 4,
 "nbformat_minor": 4
}
