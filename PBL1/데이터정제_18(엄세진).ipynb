{
 "cells": [
  {
   "cell_type": "code",
   "execution_count": 1,
   "metadata": {},
   "outputs": [],
   "source": [
    "import numpy as np\n",
    "import sys\n",
    "import numpy as np\n",
    "import pandas as pd\n",
    "import matplotlib as mpl\n",
    "import sklearn"
   ]
  },
  {
   "cell_type": "code",
   "execution_count": 5,
   "metadata": {},
   "outputs": [],
   "source": [
    "df = pd.read_csv('NHIS_OPEN_GJ_2018_100.csv')"
   ]
  },
  {
   "cell_type": "code",
   "execution_count": 7,
   "metadata": {},
   "outputs": [],
   "source": [
    "df_sample = df[['성별코드', '연령대코드(5세단위)','수축기혈압','이완기혈압','식전혈당(공복혈당)','신장(5Cm단위)', '체중(5Kg단위)', '허리둘레']]\n"
   ]
  },
  {
   "cell_type": "code",
   "execution_count": 8,
   "metadata": {},
   "outputs": [],
   "source": [
    "df_sample = df_sample.dropna()"
   ]
  },
  {
   "cell_type": "code",
   "execution_count": 9,
   "metadata": {},
   "outputs": [],
   "source": [
    "df_sample = df_sample.loc[(df_sample['허리둘레'] >= 40) & (df_sample['허리둘레'] <= 140)]"
   ]
  },
  {
   "cell_type": "code",
   "execution_count": 10,
   "metadata": {},
   "outputs": [],
   "source": [
    "def bmi(height,weight):\n",
    "    m = height / 100\n",
    "    return weight / (m ** 2)\n",
    "def diabetes(x):\n",
    "    if x >= 100 and x < 126:\n",
    "        return \"전단계\"\n",
    "    elif x >= 127:\n",
    "        return \"당뇨\"\n",
    "    else:\n",
    "        return \"정상\"\n",
    "\n",
    "def fat(bmi) :\n",
    "    if(bmi < 25):\n",
    "        return '정상'\n",
    "    elif(bmi >= 25 and bmi < 30):\n",
    "        return '과체중'\n",
    "    else:\n",
    "        return '비만'\n",
    "\n",
    "def pulse(low,high):\n",
    "    if low >= 100 or high >= 160:\n",
    "        return \"2기고혈압\"\n",
    "    elif 90 <= low < 100 or 140 <= high < 160:\n",
    "        return \"1기\"\n",
    "    elif 80 <= low < 90 or 120 <= high < 140:\n",
    "        return \"전단계\"\n",
    "    else:\n",
    "        return \"정상\"\n",
    "\n",
    "def bokbu(gen, hurry):\n",
    "    if gen == 1 and hurry >= 90:\n",
    "        return \"비만\"\n",
    "    elif gen == 2 and hurry >= 85:\n",
    "        return \"비만\"\n",
    "    else:\n",
    "        return \"정상\"\n",
    "        "
   ]
  },
  {
   "cell_type": "code",
   "execution_count": 11,
   "metadata": {},
   "outputs": [],
   "source": [
    "df_sample['당뇨병'] = df_sample['식전혈당(공복혈당)'].map(diabetes)\n",
    "df_sample['고혈압'] = np.vectorize(pulse)(df_sample['이완기혈압'], df_sample['수축기혈압'])\n",
    "df_sample['bmi'] = np.vectorize(bmi)(df_sample['신장(5Cm단위)'], df_sample['체중(5Kg단위)'])\n",
    "df_sample['비만도'] = df_sample['bmi'].map(fat)\n",
    "df_sample['복부비만'] = np.vectorize(bokbu)(df_sample['성별코드'], df_sample['허리둘레'])"
   ]
  },
  {
   "cell_type": "code",
   "execution_count": 12,
   "metadata": {
    "scrolled": true
   },
   "outputs": [
    {
     "data": {
      "text/html": [
       "<div>\n",
       "<style scoped>\n",
       "    .dataframe tbody tr th:only-of-type {\n",
       "        vertical-align: middle;\n",
       "    }\n",
       "\n",
       "    .dataframe tbody tr th {\n",
       "        vertical-align: top;\n",
       "    }\n",
       "\n",
       "    .dataframe thead th {\n",
       "        text-align: right;\n",
       "    }\n",
       "</style>\n",
       "<table border=\"1\" class=\"dataframe\">\n",
       "  <thead>\n",
       "    <tr style=\"text-align: right;\">\n",
       "      <th></th>\n",
       "      <th>성별코드</th>\n",
       "      <th>연령대코드(5세단위)</th>\n",
       "      <th>수축기혈압</th>\n",
       "      <th>이완기혈압</th>\n",
       "      <th>식전혈당(공복혈당)</th>\n",
       "      <th>신장(5Cm단위)</th>\n",
       "      <th>체중(5Kg단위)</th>\n",
       "      <th>허리둘레</th>\n",
       "      <th>bmi</th>\n",
       "    </tr>\n",
       "  </thead>\n",
       "  <tbody>\n",
       "    <tr>\n",
       "      <th>count</th>\n",
       "      <td>993643.000000</td>\n",
       "      <td>993643.000000</td>\n",
       "      <td>993643.000000</td>\n",
       "      <td>993643.000000</td>\n",
       "      <td>993643.000000</td>\n",
       "      <td>993643.000000</td>\n",
       "      <td>993643.000000</td>\n",
       "      <td>993643.000000</td>\n",
       "      <td>993643.000000</td>\n",
       "    </tr>\n",
       "    <tr>\n",
       "      <th>mean</th>\n",
       "      <td>1.463026</td>\n",
       "      <td>10.569117</td>\n",
       "      <td>122.673883</td>\n",
       "      <td>76.078374</td>\n",
       "      <td>100.874115</td>\n",
       "      <td>162.348681</td>\n",
       "      <td>63.633715</td>\n",
       "      <td>81.436899</td>\n",
       "      <td>24.010855</td>\n",
       "    </tr>\n",
       "    <tr>\n",
       "      <th>std</th>\n",
       "      <td>0.498631</td>\n",
       "      <td>2.861437</td>\n",
       "      <td>14.622733</td>\n",
       "      <td>10.010572</td>\n",
       "      <td>24.111816</td>\n",
       "      <td>9.312854</td>\n",
       "      <td>12.732016</td>\n",
       "      <td>9.677391</td>\n",
       "      <td>3.556839</td>\n",
       "    </tr>\n",
       "    <tr>\n",
       "      <th>min</th>\n",
       "      <td>1.000000</td>\n",
       "      <td>5.000000</td>\n",
       "      <td>63.000000</td>\n",
       "      <td>27.000000</td>\n",
       "      <td>23.000000</td>\n",
       "      <td>125.000000</td>\n",
       "      <td>30.000000</td>\n",
       "      <td>40.000000</td>\n",
       "      <td>13.333333</td>\n",
       "    </tr>\n",
       "    <tr>\n",
       "      <th>25%</th>\n",
       "      <td>1.000000</td>\n",
       "      <td>8.000000</td>\n",
       "      <td>112.000000</td>\n",
       "      <td>70.000000</td>\n",
       "      <td>89.000000</td>\n",
       "      <td>155.000000</td>\n",
       "      <td>55.000000</td>\n",
       "      <td>75.000000</td>\n",
       "      <td>21.484375</td>\n",
       "    </tr>\n",
       "    <tr>\n",
       "      <th>50%</th>\n",
       "      <td>1.000000</td>\n",
       "      <td>11.000000</td>\n",
       "      <td>121.000000</td>\n",
       "      <td>76.000000</td>\n",
       "      <td>96.000000</td>\n",
       "      <td>160.000000</td>\n",
       "      <td>60.000000</td>\n",
       "      <td>81.200000</td>\n",
       "      <td>23.875115</td>\n",
       "    </tr>\n",
       "    <tr>\n",
       "      <th>75%</th>\n",
       "      <td>2.000000</td>\n",
       "      <td>13.000000</td>\n",
       "      <td>131.000000</td>\n",
       "      <td>82.000000</td>\n",
       "      <td>105.000000</td>\n",
       "      <td>170.000000</td>\n",
       "      <td>70.000000</td>\n",
       "      <td>88.000000</td>\n",
       "      <td>26.122449</td>\n",
       "    </tr>\n",
       "    <tr>\n",
       "      <th>max</th>\n",
       "      <td>2.000000</td>\n",
       "      <td>18.000000</td>\n",
       "      <td>267.000000</td>\n",
       "      <td>173.000000</td>\n",
       "      <td>872.000000</td>\n",
       "      <td>190.000000</td>\n",
       "      <td>135.000000</td>\n",
       "      <td>140.000000</td>\n",
       "      <td>44.081633</td>\n",
       "    </tr>\n",
       "  </tbody>\n",
       "</table>\n",
       "</div>"
      ],
      "text/plain": [
       "                성별코드    연령대코드(5세단위)          수축기혈압          이완기혈압  \\\n",
       "count  993643.000000  993643.000000  993643.000000  993643.000000   \n",
       "mean        1.463026      10.569117     122.673883      76.078374   \n",
       "std         0.498631       2.861437      14.622733      10.010572   \n",
       "min         1.000000       5.000000      63.000000      27.000000   \n",
       "25%         1.000000       8.000000     112.000000      70.000000   \n",
       "50%         1.000000      11.000000     121.000000      76.000000   \n",
       "75%         2.000000      13.000000     131.000000      82.000000   \n",
       "max         2.000000      18.000000     267.000000     173.000000   \n",
       "\n",
       "          식전혈당(공복혈당)      신장(5Cm단위)      체중(5Kg단위)           허리둘레  \\\n",
       "count  993643.000000  993643.000000  993643.000000  993643.000000   \n",
       "mean      100.874115     162.348681      63.633715      81.436899   \n",
       "std        24.111816       9.312854      12.732016       9.677391   \n",
       "min        23.000000     125.000000      30.000000      40.000000   \n",
       "25%        89.000000     155.000000      55.000000      75.000000   \n",
       "50%        96.000000     160.000000      60.000000      81.200000   \n",
       "75%       105.000000     170.000000      70.000000      88.000000   \n",
       "max       872.000000     190.000000     135.000000     140.000000   \n",
       "\n",
       "                 bmi  \n",
       "count  993643.000000  \n",
       "mean       24.010855  \n",
       "std         3.556839  \n",
       "min        13.333333  \n",
       "25%        21.484375  \n",
       "50%        23.875115  \n",
       "75%        26.122449  \n",
       "max        44.081633  "
      ]
     },
     "execution_count": 12,
     "metadata": {},
     "output_type": "execute_result"
    }
   ],
   "source": [
    "df_sample.describe()"
   ]
  },
  {
   "cell_type": "code",
   "execution_count": 13,
   "metadata": {
    "scrolled": true
   },
   "outputs": [
    {
     "name": "stdout",
     "output_type": "stream",
     "text": [
      "성별코드 : 14.315310579631646\n",
      "고혈압 : 28.651320175026918\n",
      "비만도 : 21.000867423723424\n",
      "복부비만 : 20.98988639149235\n",
      "연령대코드(5세단위) : 47.02802877504841\n"
     ]
    }
   ],
   "source": [
    "\n",
    "def Entropy(df, attribute) :\n",
    "    list1  = list(df[attribute].unique())\n",
    "    etp = 0\n",
    "    for i in range(len(list1)):\n",
    "        q1 = len(df[df[attribute] == list1[i]])/len(df[attribute])\n",
    "        etp -=  q1*np.log2(q1)\n",
    "    return etp\n",
    "\n",
    "def Group_info(df,m_attribute,fix_attribute):\n",
    "    list2 = list(df[m_attribute].unique())\n",
    "    info_Entropy = Entropy(df,fix_attribute)\n",
    "    info_data = 0\n",
    "    for i in range (len(list2)) :\n",
    "        q2 = df.loc[df[m_attribute] == list2[i]]\n",
    "        info_data +=  (len(q2[m_attribute])/len(df[m_attribute]))* Entropy(q2,fix_attribute) \n",
    "    \n",
    "    data = info_Entropy - info_data\n",
    "    \n",
    "    return data\n",
    "\n",
    "info = np.array([(\"성별코드\"),(\"고혈압\"),(\"비만도\"),(\"복부비만\"),(\"연령대코드(5세단위)\")])\n",
    "\n",
    "for i in info :\n",
    "    print(i,\":\",Group_info(df_sample, i,\"당뇨병\") * 1000)"
   ]
  },
  {
   "cell_type": "code",
   "execution_count": 14,
   "metadata": {},
   "outputs": [],
   "source": [
    "#지니 지수 https://lucy-the-marketer.kr/ko/growth/decision-tree-and-impurity/"
   ]
  },
  {
   "cell_type": "code",
   "execution_count": 15,
   "metadata": {},
   "outputs": [
    {
     "name": "stdout",
     "output_type": "stream",
     "text": [
      "성별코드 : 0.5132477500810447\n",
      "고혈압 : 0.5067788048087857\n",
      "비만도 : 0.5102727536675177\n",
      "복부비만 : 0.5110472000612207\n",
      "연령대코드(5세단위) : 0.501566998920739\n"
     ]
    }
   ],
   "source": [
    "def Gini(df, attribute) :\n",
    "    list1  = list(df[attribute].unique())\n",
    "    gini = 0\n",
    "    for i in range(len(list1)):\n",
    "        q1 = len(df[df[attribute] == list1[i]])/len(df[attribute])\n",
    "        gini += (q1**2)\n",
    "    return 1 - gini\n",
    "\n",
    "def Group_Gini(df,m_attribute,fix_attribute):\n",
    "    list2 = list(df[m_attribute].unique())\n",
    "    info_data = 0\n",
    "    for i in range (len(list2)) :\n",
    "        q2 = df.loc[df[m_attribute] == list2[i]]\n",
    "        info_data +=  (len(q2[m_attribute])/len(df[m_attribute]))* Gini(q2,fix_attribute) \n",
    "    \n",
    "    return info_data\n",
    "\n",
    "info = np.array([(\"성별코드\"),(\"고혈압\"),(\"비만도\"),(\"복부비만\"),(\"연령대코드(5세단위)\")])\n",
    "\n",
    "for i in info :\n",
    "    print(i,\":\",Group_Gini(df_sample, i,\"당뇨병\"))"
   ]
  },
  {
   "cell_type": "code",
   "execution_count": null,
   "metadata": {},
   "outputs": [],
   "source": []
  }
 ],
 "metadata": {
  "kernelspec": {
   "display_name": "Python 3",
   "language": "python",
   "name": "python3"
  },
  "language_info": {
   "codemirror_mode": {
    "name": "ipython",
    "version": 3
   },
   "file_extension": ".py",
   "mimetype": "text/x-python",
   "name": "python",
   "nbconvert_exporter": "python",
   "pygments_lexer": "ipython3",
   "version": "3.8.5"
  }
 },
 "nbformat": 4,
 "nbformat_minor": 4
}
