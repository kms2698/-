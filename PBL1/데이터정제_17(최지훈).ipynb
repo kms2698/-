{
 "cells": [
  {
   "cell_type": "code",
   "execution_count": 1,
   "metadata": {
    "ExecuteTime": {
     "end_time": "2021-04-10T15:23:16.823655Z",
     "start_time": "2021-04-10T15:23:14.696334Z"
    }
   },
   "outputs": [],
   "source": [
    "import numpy as np\n",
    "import sys,sklearn\n",
    "import pandas as pd\n",
    "import matplotlib as mpl\n",
    "import matplotlib.pyplot as plt\n",
    "import seaborn as sns\n",
    "\n",
    "plt.rcParams['font.family'] = 'AppleGothic'"
   ]
  },
  {
   "cell_type": "code",
   "execution_count": 2,
   "metadata": {
    "ExecuteTime": {
     "end_time": "2021-04-10T15:23:43.917069Z",
     "start_time": "2021-04-10T15:23:16.826654Z"
    }
   },
   "outputs": [],
   "source": [
    "df = pd.read_csv('NHIS_OPEN_GJ_2017_100.csv',engine = 'python')"
   ]
  },
  {
   "cell_type": "code",
   "execution_count": 3,
   "metadata": {
    "ExecuteTime": {
     "end_time": "2021-04-10T15:23:43.962037Z",
     "start_time": "2021-04-10T15:23:43.918060Z"
    }
   },
   "outputs": [],
   "source": [
    "df_s = df[['성별코드','신장(5Cm단위)', '체중(5Kg단위)', '연령대코드(5세단위)','이완기혈압','수축기혈압','식전혈당(공복혈당)', '허리둘레']]"
   ]
  },
  {
   "cell_type": "code",
   "execution_count": 4,
   "metadata": {
    "ExecuteTime": {
     "end_time": "2021-04-10T15:23:44.007023Z",
     "start_time": "2021-04-10T15:23:43.964036Z"
    }
   },
   "outputs": [],
   "source": [
    "df_s = df_s.rename(columns={\"연령대코드(5세단위)\":\"연령대코드\",\n",
    "                            \"체중(5Kg단위)\":\"체중\",\n",
    "                            \"신장(5Cm단위)\":\"신장\",             \n",
    "                            \"식전혈당(공복혈당)\":\"식전혈당\"})"
   ]
  },
  {
   "cell_type": "code",
   "execution_count": 5,
   "metadata": {
    "ExecuteTime": {
     "end_time": "2021-04-10T15:23:44.022036Z",
     "start_time": "2021-04-10T15:23:44.009022Z"
    },
    "scrolled": true
   },
   "outputs": [
    {
     "data": {
      "text/html": [
       "<div>\n",
       "<style scoped>\n",
       "    .dataframe tbody tr th:only-of-type {\n",
       "        vertical-align: middle;\n",
       "    }\n",
       "\n",
       "    .dataframe tbody tr th {\n",
       "        vertical-align: top;\n",
       "    }\n",
       "\n",
       "    .dataframe thead th {\n",
       "        text-align: right;\n",
       "    }\n",
       "</style>\n",
       "<table border=\"1\" class=\"dataframe\">\n",
       "  <thead>\n",
       "    <tr style=\"text-align: right;\">\n",
       "      <th></th>\n",
       "      <th>성별코드</th>\n",
       "      <th>신장</th>\n",
       "      <th>체중</th>\n",
       "      <th>연령대코드</th>\n",
       "      <th>이완기혈압</th>\n",
       "      <th>수축기혈압</th>\n",
       "      <th>식전혈당</th>\n",
       "      <th>허리둘레</th>\n",
       "    </tr>\n",
       "  </thead>\n",
       "  <tbody>\n",
       "    <tr>\n",
       "      <th>0</th>\n",
       "      <td>1</td>\n",
       "      <td>170</td>\n",
       "      <td>75</td>\n",
       "      <td>8</td>\n",
       "      <td>80.0</td>\n",
       "      <td>120.0</td>\n",
       "      <td>99.0</td>\n",
       "      <td>90.0</td>\n",
       "    </tr>\n",
       "    <tr>\n",
       "      <th>1</th>\n",
       "      <td>1</td>\n",
       "      <td>180</td>\n",
       "      <td>80</td>\n",
       "      <td>7</td>\n",
       "      <td>82.0</td>\n",
       "      <td>130.0</td>\n",
       "      <td>106.0</td>\n",
       "      <td>89.0</td>\n",
       "    </tr>\n",
       "    <tr>\n",
       "      <th>2</th>\n",
       "      <td>1</td>\n",
       "      <td>165</td>\n",
       "      <td>75</td>\n",
       "      <td>9</td>\n",
       "      <td>70.0</td>\n",
       "      <td>120.0</td>\n",
       "      <td>98.0</td>\n",
       "      <td>91.0</td>\n",
       "    </tr>\n",
       "    <tr>\n",
       "      <th>3</th>\n",
       "      <td>1</td>\n",
       "      <td>175</td>\n",
       "      <td>80</td>\n",
       "      <td>11</td>\n",
       "      <td>87.0</td>\n",
       "      <td>145.0</td>\n",
       "      <td>95.0</td>\n",
       "      <td>91.0</td>\n",
       "    </tr>\n",
       "    <tr>\n",
       "      <th>4</th>\n",
       "      <td>1</td>\n",
       "      <td>165</td>\n",
       "      <td>60</td>\n",
       "      <td>11</td>\n",
       "      <td>82.0</td>\n",
       "      <td>138.0</td>\n",
       "      <td>101.0</td>\n",
       "      <td>80.0</td>\n",
       "    </tr>\n",
       "  </tbody>\n",
       "</table>\n",
       "</div>"
      ],
      "text/plain": [
       "   성별코드   신장  체중  연령대코드  이완기혈압  수축기혈압   식전혈당  허리둘레\n",
       "0     1  170  75      8   80.0  120.0   99.0  90.0\n",
       "1     1  180  80      7   82.0  130.0  106.0  89.0\n",
       "2     1  165  75      9   70.0  120.0   98.0  91.0\n",
       "3     1  175  80     11   87.0  145.0   95.0  91.0\n",
       "4     1  165  60     11   82.0  138.0  101.0  80.0"
      ]
     },
     "execution_count": 5,
     "metadata": {},
     "output_type": "execute_result"
    }
   ],
   "source": [
    "df_s.head(5)"
   ]
  },
  {
   "cell_type": "markdown",
   "metadata": {},
   "source": [
    "## 허리둘레(40이상 140 이하) "
   ]
  },
  {
   "cell_type": "code",
   "execution_count": 6,
   "metadata": {
    "ExecuteTime": {
     "end_time": "2021-04-10T15:23:44.127984Z",
     "start_time": "2021-04-10T15:23:44.024430Z"
    }
   },
   "outputs": [],
   "source": [
    "df_s = df_s.loc[(df_s['허리둘레'] <= 140) & (df_s['허리둘레'] >= 40)]"
   ]
  },
  {
   "cell_type": "code",
   "execution_count": 7,
   "metadata": {
    "ExecuteTime": {
     "end_time": "2021-04-10T15:23:44.142979Z",
     "start_time": "2021-04-10T15:23:44.131983Z"
    }
   },
   "outputs": [],
   "source": [
    "#diabete 식전혈당 (127이상:2, 100이상126미만:1, 정상 : 0)\n",
    "def diabete (x) : \n",
    "    if (x >= 127) : return 2\n",
    "    elif (x>=100 and x <= 126 ): return 1\n",
    "    else : return 0\n",
    "#bmi 단계  (0:정상, 1:과체중, 2:비만)\n",
    "def bmi(h,w):\n",
    "    bmi = w / ((h/100)**2)\n",
    "    if (bmi >= 30) : return 2\n",
    "    elif (bmi < 29 and bmi >= 25) : return 1\n",
    "    else : return 0\n",
    "    \n",
    "#혈압 0:정상 , 1:전단계, 2:1기, 3:2기고혈압기고혈압  \n",
    "def pulse(l,h):\n",
    "    if (l >= 100 or h >= 160):\n",
    "        return 3\n",
    "    elif (90 <= l < 100) or (140 <= h < 160):\n",
    "        return 2\n",
    "    elif (80 <= l < 90) or (120 <= h < 140):\n",
    "        return 1\n",
    "    else:\n",
    "        return 0\n",
    "    \n",
    "def bokbu(sex, waist) :\n",
    "    if (sex == 1) and (waist >= 90) :\n",
    "        return 1\n",
    "    elif (sex == 2) and (waist >= 85) :\n",
    "        return 2\n",
    "    else : return 0\n",
    "    "
   ]
  },
  {
   "cell_type": "code",
   "execution_count": 8,
   "metadata": {
    "ExecuteTime": {
     "end_time": "2021-04-10T15:23:46.212319Z",
     "start_time": "2021-04-10T15:23:44.144978Z"
    }
   },
   "outputs": [
    {
     "name": "stderr",
     "output_type": "stream",
     "text": [
      "D:\\ProgramData\\Anaconda3\\lib\\site-packages\\numpy\\lib\\function_base.py:2192: RuntimeWarning: invalid value encountered in ? (vectorized)\n",
      "  outputs = ufunc(*inputs)\n"
     ]
    },
    {
     "data": {
      "text/html": [
       "<div>\n",
       "<style scoped>\n",
       "    .dataframe tbody tr th:only-of-type {\n",
       "        vertical-align: middle;\n",
       "    }\n",
       "\n",
       "    .dataframe tbody tr th {\n",
       "        vertical-align: top;\n",
       "    }\n",
       "\n",
       "    .dataframe thead th {\n",
       "        text-align: right;\n",
       "    }\n",
       "</style>\n",
       "<table border=\"1\" class=\"dataframe\">\n",
       "  <thead>\n",
       "    <tr style=\"text-align: right;\">\n",
       "      <th></th>\n",
       "      <th>성별코드</th>\n",
       "      <th>신장</th>\n",
       "      <th>체중</th>\n",
       "      <th>연령대코드</th>\n",
       "      <th>이완기혈압</th>\n",
       "      <th>수축기혈압</th>\n",
       "      <th>식전혈당</th>\n",
       "      <th>허리둘레</th>\n",
       "      <th>혈당</th>\n",
       "      <th>고혈압</th>\n",
       "      <th>bmi</th>\n",
       "      <th>복부비만</th>\n",
       "    </tr>\n",
       "  </thead>\n",
       "  <tbody>\n",
       "    <tr>\n",
       "      <th>count</th>\n",
       "      <td>999666.000000</td>\n",
       "      <td>999666.000000</td>\n",
       "      <td>999666.000000</td>\n",
       "      <td>999666.000000</td>\n",
       "      <td>999652.000000</td>\n",
       "      <td>999651.000000</td>\n",
       "      <td>999625.000000</td>\n",
       "      <td>999666.000000</td>\n",
       "      <td>999666.000000</td>\n",
       "      <td>999666.000000</td>\n",
       "      <td>999666.000000</td>\n",
       "      <td>999666.000000</td>\n",
       "    </tr>\n",
       "    <tr>\n",
       "      <th>mean</th>\n",
       "      <td>1.469435</td>\n",
       "      <td>162.229165</td>\n",
       "      <td>63.270052</td>\n",
       "      <td>10.527908</td>\n",
       "      <td>76.051752</td>\n",
       "      <td>122.432110</td>\n",
       "      <td>100.457973</td>\n",
       "      <td>81.179611</td>\n",
       "      <td>0.449049</td>\n",
       "      <td>0.763584</td>\n",
       "      <td>0.339247</td>\n",
       "      <td>0.325536</td>\n",
       "    </tr>\n",
       "    <tr>\n",
       "      <th>std</th>\n",
       "      <td>0.499065</td>\n",
       "      <td>9.285150</td>\n",
       "      <td>12.520791</td>\n",
       "      <td>2.840880</td>\n",
       "      <td>9.894593</td>\n",
       "      <td>14.556586</td>\n",
       "      <td>24.251799</td>\n",
       "      <td>9.595587</td>\n",
       "      <td>0.629250</td>\n",
       "      <td>0.743347</td>\n",
       "      <td>0.563690</td>\n",
       "      <td>0.632687</td>\n",
       "    </tr>\n",
       "    <tr>\n",
       "      <th>min</th>\n",
       "      <td>1.000000</td>\n",
       "      <td>130.000000</td>\n",
       "      <td>25.000000</td>\n",
       "      <td>5.000000</td>\n",
       "      <td>30.000000</td>\n",
       "      <td>58.000000</td>\n",
       "      <td>25.000000</td>\n",
       "      <td>40.000000</td>\n",
       "      <td>0.000000</td>\n",
       "      <td>0.000000</td>\n",
       "      <td>0.000000</td>\n",
       "      <td>0.000000</td>\n",
       "    </tr>\n",
       "    <tr>\n",
       "      <th>25%</th>\n",
       "      <td>1.000000</td>\n",
       "      <td>155.000000</td>\n",
       "      <td>55.000000</td>\n",
       "      <td>8.000000</td>\n",
       "      <td>70.000000</td>\n",
       "      <td>112.000000</td>\n",
       "      <td>88.000000</td>\n",
       "      <td>74.100000</td>\n",
       "      <td>0.000000</td>\n",
       "      <td>0.000000</td>\n",
       "      <td>0.000000</td>\n",
       "      <td>0.000000</td>\n",
       "    </tr>\n",
       "    <tr>\n",
       "      <th>50%</th>\n",
       "      <td>1.000000</td>\n",
       "      <td>160.000000</td>\n",
       "      <td>60.000000</td>\n",
       "      <td>10.000000</td>\n",
       "      <td>76.000000</td>\n",
       "      <td>120.000000</td>\n",
       "      <td>96.000000</td>\n",
       "      <td>81.000000</td>\n",
       "      <td>0.000000</td>\n",
       "      <td>1.000000</td>\n",
       "      <td>0.000000</td>\n",
       "      <td>0.000000</td>\n",
       "    </tr>\n",
       "    <tr>\n",
       "      <th>75%</th>\n",
       "      <td>2.000000</td>\n",
       "      <td>170.000000</td>\n",
       "      <td>70.000000</td>\n",
       "      <td>13.000000</td>\n",
       "      <td>82.000000</td>\n",
       "      <td>131.000000</td>\n",
       "      <td>105.000000</td>\n",
       "      <td>87.800000</td>\n",
       "      <td>1.000000</td>\n",
       "      <td>1.000000</td>\n",
       "      <td>1.000000</td>\n",
       "      <td>0.000000</td>\n",
       "    </tr>\n",
       "    <tr>\n",
       "      <th>max</th>\n",
       "      <td>2.000000</td>\n",
       "      <td>190.000000</td>\n",
       "      <td>140.000000</td>\n",
       "      <td>18.000000</td>\n",
       "      <td>185.000000</td>\n",
       "      <td>273.000000</td>\n",
       "      <td>852.000000</td>\n",
       "      <td>140.000000</td>\n",
       "      <td>2.000000</td>\n",
       "      <td>3.000000</td>\n",
       "      <td>2.000000</td>\n",
       "      <td>2.000000</td>\n",
       "    </tr>\n",
       "  </tbody>\n",
       "</table>\n",
       "</div>"
      ],
      "text/plain": [
       "                성별코드             신장             체중          연령대코드  \\\n",
       "count  999666.000000  999666.000000  999666.000000  999666.000000   \n",
       "mean        1.469435     162.229165      63.270052      10.527908   \n",
       "std         0.499065       9.285150      12.520791       2.840880   \n",
       "min         1.000000     130.000000      25.000000       5.000000   \n",
       "25%         1.000000     155.000000      55.000000       8.000000   \n",
       "50%         1.000000     160.000000      60.000000      10.000000   \n",
       "75%         2.000000     170.000000      70.000000      13.000000   \n",
       "max         2.000000     190.000000     140.000000      18.000000   \n",
       "\n",
       "               이완기혈압          수축기혈압           식전혈당           허리둘레  \\\n",
       "count  999652.000000  999651.000000  999625.000000  999666.000000   \n",
       "mean       76.051752     122.432110     100.457973      81.179611   \n",
       "std         9.894593      14.556586      24.251799       9.595587   \n",
       "min        30.000000      58.000000      25.000000      40.000000   \n",
       "25%        70.000000     112.000000      88.000000      74.100000   \n",
       "50%        76.000000     120.000000      96.000000      81.000000   \n",
       "75%        82.000000     131.000000     105.000000      87.800000   \n",
       "max       185.000000     273.000000     852.000000     140.000000   \n",
       "\n",
       "                  혈당            고혈압            bmi           복부비만  \n",
       "count  999666.000000  999666.000000  999666.000000  999666.000000  \n",
       "mean        0.449049       0.763584       0.339247       0.325536  \n",
       "std         0.629250       0.743347       0.563690       0.632687  \n",
       "min         0.000000       0.000000       0.000000       0.000000  \n",
       "25%         0.000000       0.000000       0.000000       0.000000  \n",
       "50%         0.000000       1.000000       0.000000       0.000000  \n",
       "75%         1.000000       1.000000       1.000000       0.000000  \n",
       "max         2.000000       3.000000       2.000000       2.000000  "
      ]
     },
     "execution_count": 8,
     "metadata": {},
     "output_type": "execute_result"
    }
   ],
   "source": [
    "# 엄세진님 코드 참고했습니다.\n",
    "df_s['혈당'] = df_s['식전혈당'].map(diabete)\n",
    "df_s['고혈압'] = np.vectorize(pulse)(df_s['이완기혈압'], df_s['수축기혈압'])\n",
    "df_s['bmi'] = np.vectorize(bmi)(df_s['신장'], df_s['체중'])\n",
    "df_s['복부비만'] = np.vectorize(bokbu)(df_s['성별코드'], df_s['허리둘레'])\n",
    "df_s.describe()"
   ]
  },
  {
   "cell_type": "markdown",
   "metadata": {},
   "source": [
    "# 엔트로피"
   ]
  },
  {
   "cell_type": "code",
   "execution_count": 9,
   "metadata": {
    "ExecuteTime": {
     "end_time": "2021-04-10T15:23:47.786819Z",
     "start_time": "2021-04-10T15:23:46.214319Z"
    }
   },
   "outputs": [
    {
     "name": "stdout",
     "output_type": "stream",
     "text": [
      "성별코드 : 13.995870989997217\n",
      "고혈압 : 30.179777895751325\n",
      "bmi : 15.911702156371055\n",
      "복부비만 : 21.854511238592387\n",
      "연령대코드 : 47.7881958256976\n"
     ]
    }
   ],
   "source": [
    "def Entropy(df, attribute) :\n",
    "    list1  = list(df[attribute].unique())\n",
    "    etp = 0\n",
    "    for i in range(len(list1)):\n",
    "        q1 = len(df[df[attribute] == list1[i]])/len(df[attribute])\n",
    "        etp -=  q1*np.log2(q1)\n",
    "    return etp\n",
    "\n",
    "def Group_info(df,m_attribute,fix_attribute):\n",
    "    list2 = list(df[m_attribute].unique())\n",
    "    info_Entropy = Entropy(df,fix_attribute)\n",
    "    info_data = 0\n",
    "    for i in range (len(list2)) :\n",
    "        q2 = df.loc[df[m_attribute] == list2[i]]\n",
    "        info_data +=  (len(q2[m_attribute])/len(df[m_attribute]))* Entropy(q2,fix_attribute) \n",
    "    \n",
    "    data = info_Entropy - info_data\n",
    "    \n",
    "    return data\n",
    "\n",
    "info = np.array([(\"성별코드\"),(\"고혈압\"),(\"bmi\"),(\"복부비만\"),(\"연령대코드\")])\n",
    "\n",
    "for i in info:\n",
    "    print(i, \":\", Group_info(df_s, i, \"혈당\") * 1000)"
   ]
  },
  {
   "cell_type": "code",
   "execution_count": 10,
   "metadata": {
    "ExecuteTime": {
     "end_time": "2021-04-10T15:23:47.891784Z",
     "start_time": "2021-04-10T15:23:47.787819Z"
    }
   },
   "outputs": [
    {
     "data": {
      "text/plain": [
       "1.2234627560356184"
      ]
     },
     "execution_count": 10,
     "metadata": {},
     "output_type": "execute_result"
    }
   ],
   "source": [
    "Entropy(df_s,\"혈당\")"
   ]
  },
  {
   "cell_type": "markdown",
   "metadata": {},
   "source": [
    "### 지니 지수 https://lucy-the-marketer.kr/ko/growth/decision-tree-and-impurity/"
   ]
  },
  {
   "cell_type": "code",
   "execution_count": 11,
   "metadata": {
    "ExecuteTime": {
     "end_time": "2021-04-10T15:23:48.956445Z",
     "start_time": "2021-04-10T15:23:47.893785Z"
    }
   },
   "outputs": [
    {
     "name": "stdout",
     "output_type": "stream",
     "text": [
      "성별코드 : 50.63366542723353\n",
      "고혈압 : 49.904839405715045\n",
      "bmi : 50.548242650914766\n",
      "복부비만 : 50.348286979004484\n",
      "연령대코드 : 49.41516144632993\n"
     ]
    }
   ],
   "source": [
    "def Gini(df, attribute) :\n",
    "    list1  = list(df[attribute].unique())\n",
    "    gini = 0\n",
    "    for i in range(len(list1)):\n",
    "        q1 = len(df[df[attribute] == list1[i]])/len(df[attribute])\n",
    "        gini += (q1**2)\n",
    "    return 1 - gini\n",
    "\n",
    "def Group_Gini(df,m_attribute,fix_attribute):\n",
    "    list2 = list(df[m_attribute].unique())\n",
    "    info_data = 0\n",
    "    for i in range (len(list2)) :\n",
    "        q2 = df.loc[df[m_attribute] == list2[i]]\n",
    "        info_data +=  (len(q2[m_attribute])/len(df[m_attribute]))* Gini(q2,fix_attribute) \n",
    "    \n",
    "    return info_data\n",
    "\n",
    "info = np.array([(\"성별코드\"),(\"고혈압\"),(\"bmi\"),(\"복부비만\"),(\"연령대코드\")])\n",
    "\n",
    "for i in info :\n",
    "    print(i,\":\",Group_Gini(df_s, i,\"혈당\")*100)"
   ]
  },
  {
   "cell_type": "code",
   "execution_count": null,
   "metadata": {},
   "outputs": [],
   "source": []
  }
 ],
 "metadata": {
  "kernelspec": {
   "display_name": "Python 3",
   "language": "python",
   "name": "python3"
  },
  "language_info": {
   "codemirror_mode": {
    "name": "ipython",
    "version": 3
   },
   "file_extension": ".py",
   "mimetype": "text/x-python",
   "name": "python",
   "nbconvert_exporter": "python",
   "pygments_lexer": "ipython3",
   "version": "3.8.5"
  },
  "toc": {
   "base_numbering": 1,
   "nav_menu": {},
   "number_sections": true,
   "sideBar": true,
   "skip_h1_title": false,
   "title_cell": "Table of Contents",
   "title_sidebar": "Contents",
   "toc_cell": false,
   "toc_position": {},
   "toc_section_display": true,
   "toc_window_display": false
  },
  "varInspector": {
   "cols": {
    "lenName": 16,
    "lenType": 16,
    "lenVar": 40
   },
   "kernels_config": {
    "python": {
     "delete_cmd_postfix": "",
     "delete_cmd_prefix": "del ",
     "library": "var_list.py",
     "varRefreshCmd": "print(var_dic_list())"
    },
    "r": {
     "delete_cmd_postfix": ") ",
     "delete_cmd_prefix": "rm(",
     "library": "var_list.r",
     "varRefreshCmd": "cat(var_dic_list()) "
    }
   },
   "types_to_exclude": [
    "module",
    "function",
    "builtin_function_or_method",
    "instance",
    "_Feature"
   ],
   "window_display": false
  }
 },
 "nbformat": 4,
 "nbformat_minor": 4
}
