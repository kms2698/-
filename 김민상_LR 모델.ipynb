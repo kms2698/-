{
 "cells": [
  {
   "cell_type": "code",
   "execution_count": 49,
   "id": "31b6d58c",
   "metadata": {},
   "outputs": [],
   "source": [
    "import sys\n",
    "import numpy as np\n",
    "import pandas as pd\n",
    "import matplotlib.pyplot as plt\n",
    "%matplotlib inline\n",
    "import matplotlib as mpl\n",
    "import seaborn as sns\n",
    "mpl.rcParams['figure.dpi'] = 400\n",
    "\n",
    "plt.rcParams['font.family'] = 'AppleGothic'\n",
    "plt.rcParams['axes.unicode_minus'] = False"
   ]
  },
  {
   "cell_type": "code",
   "execution_count": 78,
   "id": "ea15ba71",
   "metadata": {},
   "outputs": [],
   "source": [
    "df_over = pd.read_csv('preprocessed/data_preprocessed_over.csv') # over_sampling\n",
    "df_under = pd.read_csv('preprocessed/data_preprocessed_under.csv') # under_sampling\n",
    "df = pd.read_csv('preprocessed/data_preprocessed.csv')"
   ]
  },
  {
   "cell_type": "code",
   "execution_count": 79,
   "id": "ec3b3ee2",
   "metadata": {},
   "outputs": [
    {
     "name": "stdout",
     "output_type": "stream",
     "text": [
      "<class 'pandas.core.frame.DataFrame'>\n",
      "RangeIndex: 1959728 entries, 0 to 1959727\n",
      "Data columns (total 19 columns):\n",
      " #   Column    Dtype  \n",
      "---  ------    -----  \n",
      " 0   성별코드      int64  \n",
      " 1   연령대코드     int64  \n",
      " 2   허리둘레      float64\n",
      " 3   식전혈당      float64\n",
      " 4   총콜레스테롤    float64\n",
      " 5   트리글리세라이드  float64\n",
      " 6   HDL콜레스테롤  float64\n",
      " 7   LDL콜레스테롤  float64\n",
      " 8   혈색소       float64\n",
      " 9   요단백       float64\n",
      " 10  혈청크레아티닌   float64\n",
      " 11  AST       float64\n",
      " 12  ALT       float64\n",
      " 13  감마지티피     float64\n",
      " 14  흡연상태      float64\n",
      " 15  음주여부      float64\n",
      " 16  복부비만      float64\n",
      " 17  비만여부      float64\n",
      " 18  고혈압       float64\n",
      "dtypes: float64(17), int64(2)\n",
      "memory usage: 284.1 MB\n"
     ]
    }
   ],
   "source": [
    "df.info()"
   ]
  },
  {
   "cell_type": "code",
   "execution_count": 108,
   "id": "fef4ca6c",
   "metadata": {},
   "outputs": [
    {
     "name": "stdout",
     "output_type": "stream",
     "text": [
      "1.0    924629\n",
      "0.0    800762\n",
      "2.0    234337\n",
      "Name: 식전혈당, dtype: int64\n"
     ]
    }
   ],
   "source": [
    "print(df['식전혈당'].value_counts())"
   ]
  },
  {
   "cell_type": "code",
   "execution_count": 152,
   "id": "6b619ac2",
   "metadata": {},
   "outputs": [],
   "source": [
    "df = df[['성별코드', '연령대코드', '허리둘레', '총콜레스테롤', '트리글리세라이드', 'HDL콜레스테롤',\n",
    "       'LDL콜레스테롤', '혈색소', '요단백', '혈청크레아티닌', 'AST', 'ALT', '감마지티피', '흡연상태',\n",
    "       '음주여부', '복부비만', '비만여부', '고혈압', '식전혈당']]"
   ]
  },
  {
   "cell_type": "code",
   "execution_count": 155,
   "id": "a9c80158",
   "metadata": {},
   "outputs": [],
   "source": [
    "from sklearn.linear_model import LogisticRegression\n",
    "from sklearn.preprocessing import StandardScaler\n",
    "from sklearn.metrics import accuracy_score, roc_auc_score\n",
    "from sklearn.model_selection import train_test_split"
   ]
  },
  {
   "cell_type": "code",
   "execution_count": 161,
   "id": "feefb8f4",
   "metadata": {},
   "outputs": [],
   "source": [
    "features_response = df.columns.tolist()"
   ]
  },
  {
   "cell_type": "code",
   "execution_count": 162,
   "id": "6d801992",
   "metadata": {},
   "outputs": [
    {
     "data": {
      "text/plain": [
       "['성별코드',\n",
       " '연령대코드',\n",
       " '허리둘레',\n",
       " '총콜레스테롤',\n",
       " '트리글리세라이드',\n",
       " 'HDL콜레스테롤',\n",
       " 'LDL콜레스테롤',\n",
       " '혈색소',\n",
       " '요단백',\n",
       " '혈청크레아티닌',\n",
       " 'AST',\n",
       " 'ALT',\n",
       " '감마지티피',\n",
       " '흡연상태',\n",
       " '음주여부',\n",
       " '복부비만',\n",
       " '비만여부',\n",
       " '고혈압',\n",
       " '식전혈당']"
      ]
     },
     "execution_count": 162,
     "metadata": {},
     "output_type": "execute_result"
    }
   ],
   "source": [
    "features_response"
   ]
  },
  {
   "cell_type": "code",
   "execution_count": 163,
   "id": "c4fbb5e9",
   "metadata": {},
   "outputs": [
    {
     "name": "stdout",
     "output_type": "stream",
     "text": [
      "(1959728, 18) (1959728,)\n"
     ]
    }
   ],
   "source": [
    "X = df[features_response].iloc[:,:-1].values\n",
    "y = df[features_response].iloc[:,-1].values\n",
    "print(X.shape, y.shape)"
   ]
  },
  {
   "cell_type": "code",
   "execution_count": 164,
   "id": "771ceb4a",
   "metadata": {},
   "outputs": [],
   "source": [
    "scaler = StandardScaler()\n",
    "X = scaler.fit_transform(X)"
   ]
  },
  {
   "cell_type": "code",
   "execution_count": 165,
   "id": "b30fe51d",
   "metadata": {},
   "outputs": [
    {
     "data": {
      "text/html": [
       "<div>\n",
       "<style scoped>\n",
       "    .dataframe tbody tr th:only-of-type {\n",
       "        vertical-align: middle;\n",
       "    }\n",
       "\n",
       "    .dataframe tbody tr th {\n",
       "        vertical-align: top;\n",
       "    }\n",
       "\n",
       "    .dataframe thead th {\n",
       "        text-align: right;\n",
       "    }\n",
       "</style>\n",
       "<table border=\"1\" class=\"dataframe\">\n",
       "  <thead>\n",
       "    <tr style=\"text-align: right;\">\n",
       "      <th></th>\n",
       "      <th>Feature</th>\n",
       "      <th>F statistic</th>\n",
       "      <th>p value</th>\n",
       "    </tr>\n",
       "  </thead>\n",
       "  <tbody>\n",
       "    <tr>\n",
       "      <th>0</th>\n",
       "      <td>성별코드</td>\n",
       "      <td>18316.998555</td>\n",
       "      <td>0.000000e+00</td>\n",
       "    </tr>\n",
       "    <tr>\n",
       "      <th>15</th>\n",
       "      <td>복부비만</td>\n",
       "      <td>26337.532092</td>\n",
       "      <td>0.000000e+00</td>\n",
       "    </tr>\n",
       "    <tr>\n",
       "      <th>13</th>\n",
       "      <td>흡연상태</td>\n",
       "      <td>8302.089879</td>\n",
       "      <td>0.000000e+00</td>\n",
       "    </tr>\n",
       "    <tr>\n",
       "      <th>12</th>\n",
       "      <td>감마지티피</td>\n",
       "      <td>29180.207481</td>\n",
       "      <td>0.000000e+00</td>\n",
       "    </tr>\n",
       "    <tr>\n",
       "      <th>11</th>\n",
       "      <td>ALT</td>\n",
       "      <td>22609.674985</td>\n",
       "      <td>0.000000e+00</td>\n",
       "    </tr>\n",
       "    <tr>\n",
       "      <th>10</th>\n",
       "      <td>AST</td>\n",
       "      <td>12537.064122</td>\n",
       "      <td>0.000000e+00</td>\n",
       "    </tr>\n",
       "    <tr>\n",
       "      <th>9</th>\n",
       "      <td>혈청크레아티닌</td>\n",
       "      <td>2893.691363</td>\n",
       "      <td>0.000000e+00</td>\n",
       "    </tr>\n",
       "    <tr>\n",
       "      <th>16</th>\n",
       "      <td>비만여부</td>\n",
       "      <td>26999.376762</td>\n",
       "      <td>0.000000e+00</td>\n",
       "    </tr>\n",
       "    <tr>\n",
       "      <th>8</th>\n",
       "      <td>요단백</td>\n",
       "      <td>12037.704349</td>\n",
       "      <td>0.000000e+00</td>\n",
       "    </tr>\n",
       "    <tr>\n",
       "      <th>6</th>\n",
       "      <td>LDL콜레스테롤</td>\n",
       "      <td>7653.538764</td>\n",
       "      <td>0.000000e+00</td>\n",
       "    </tr>\n",
       "    <tr>\n",
       "      <th>5</th>\n",
       "      <td>HDL콜레스테롤</td>\n",
       "      <td>25082.383822</td>\n",
       "      <td>0.000000e+00</td>\n",
       "    </tr>\n",
       "    <tr>\n",
       "      <th>4</th>\n",
       "      <td>트리글리세라이드</td>\n",
       "      <td>42995.676780</td>\n",
       "      <td>0.000000e+00</td>\n",
       "    </tr>\n",
       "    <tr>\n",
       "      <th>3</th>\n",
       "      <td>총콜레스테롤</td>\n",
       "      <td>6005.197519</td>\n",
       "      <td>0.000000e+00</td>\n",
       "    </tr>\n",
       "    <tr>\n",
       "      <th>2</th>\n",
       "      <td>허리둘레</td>\n",
       "      <td>62496.761846</td>\n",
       "      <td>0.000000e+00</td>\n",
       "    </tr>\n",
       "    <tr>\n",
       "      <th>1</th>\n",
       "      <td>연령대코드</td>\n",
       "      <td>53052.156874</td>\n",
       "      <td>0.000000e+00</td>\n",
       "    </tr>\n",
       "    <tr>\n",
       "      <th>7</th>\n",
       "      <td>혈색소</td>\n",
       "      <td>5965.482693</td>\n",
       "      <td>0.000000e+00</td>\n",
       "    </tr>\n",
       "    <tr>\n",
       "      <th>17</th>\n",
       "      <td>고혈압</td>\n",
       "      <td>38881.002495</td>\n",
       "      <td>0.000000e+00</td>\n",
       "    </tr>\n",
       "    <tr>\n",
       "      <th>14</th>\n",
       "      <td>음주여부</td>\n",
       "      <td>36.416076</td>\n",
       "      <td>1.531063e-16</td>\n",
       "    </tr>\n",
       "  </tbody>\n",
       "</table>\n",
       "</div>"
      ],
      "text/plain": [
       "     Feature   F statistic       p value\n",
       "0       성별코드  18316.998555  0.000000e+00\n",
       "15      복부비만  26337.532092  0.000000e+00\n",
       "13      흡연상태   8302.089879  0.000000e+00\n",
       "12     감마지티피  29180.207481  0.000000e+00\n",
       "11       ALT  22609.674985  0.000000e+00\n",
       "10       AST  12537.064122  0.000000e+00\n",
       "9    혈청크레아티닌   2893.691363  0.000000e+00\n",
       "16      비만여부  26999.376762  0.000000e+00\n",
       "8        요단백  12037.704349  0.000000e+00\n",
       "6   LDL콜레스테롤   7653.538764  0.000000e+00\n",
       "5   HDL콜레스테롤  25082.383822  0.000000e+00\n",
       "4   트리글리세라이드  42995.676780  0.000000e+00\n",
       "3     총콜레스테롤   6005.197519  0.000000e+00\n",
       "2       허리둘레  62496.761846  0.000000e+00\n",
       "1      연령대코드  53052.156874  0.000000e+00\n",
       "7        혈색소   5965.482693  0.000000e+00\n",
       "17       고혈압  38881.002495  0.000000e+00\n",
       "14      음주여부     36.416076  1.531063e-16"
      ]
     },
     "execution_count": 165,
     "metadata": {},
     "output_type": "execute_result"
    }
   ],
   "source": [
    "from sklearn.feature_selection import f_classif\n",
    "from sklearn.feature_selection import SelectPercentile\n",
    "\n",
    "[f_stat, f_p_value] = f_classif(X,y)\n",
    "f_test_df = pd.DataFrame({'Feature':features_response[:-1],\n",
    "                         'F statistic':f_stat,\n",
    "                         'p value':f_p_value})\n",
    "f_test_df.sort_values('p value')"
   ]
  },
  {
   "cell_type": "code",
   "execution_count": 166,
   "id": "84ace090",
   "metadata": {},
   "outputs": [
    {
     "data": {
      "text/plain": [
       "array([False,  True,  True, False,  True, False, False, False, False,\n",
       "       False, False, False, False, False, False,  True, False,  True])"
      ]
     },
     "execution_count": 166,
     "metadata": {},
     "output_type": "execute_result"
    }
   ],
   "source": [
    "from sklearn.feature_selection import SelectPercentile\n",
    "\n",
    "selector = SelectPercentile(f_classif, percentile=25)\n",
    "selector.fit(X1,y1)\n",
    "best_feature_ix = selector.get_support()\n",
    "best_feature_ix"
   ]
  },
  {
   "cell_type": "code",
   "execution_count": 167,
   "id": "3288f2f5",
   "metadata": {},
   "outputs": [],
   "source": [
    "features = features_response1[:-1]"
   ]
  },
  {
   "cell_type": "code",
   "execution_count": 168,
   "id": "3cc6b161",
   "metadata": {},
   "outputs": [],
   "source": [
    "best_features = [features[counter] for counter in range(len(features))\n",
    "                if best_feature_ix[counter]]"
   ]
  },
  {
   "cell_type": "code",
   "execution_count": 169,
   "id": "b926c0d0",
   "metadata": {},
   "outputs": [
    {
     "data": {
      "text/plain": [
       "['연령대코드', '허리둘레', '트리글리세라이드', '복부비만', '고혈압']"
      ]
     },
     "execution_count": 169,
     "metadata": {},
     "output_type": "execute_result"
    }
   ],
   "source": [
    "best_features"
   ]
  },
  {
   "cell_type": "code",
   "execution_count": 170,
   "id": "faf94fc4",
   "metadata": {},
   "outputs": [
    {
     "data": {
      "text/plain": [
       "0.7109675424344603"
      ]
     },
     "execution_count": 170,
     "metadata": {},
     "output_type": "execute_result"
    }
   ],
   "source": [
    "diabetes_rate = df['식전혈당'].mean()\n",
    "diabetes_rate"
   ]
  },
  {
   "cell_type": "code",
   "execution_count": 171,
   "id": "a8c30e48",
   "metadata": {},
   "outputs": [],
   "source": [
    "from sklearn.model_selection import train_test_split"
   ]
  },
  {
   "cell_type": "code",
   "execution_count": 175,
   "id": "626882d2",
   "metadata": {},
   "outputs": [],
   "source": [
    "X = df[best_features].values\n",
    "y = df['식전혈당'].values"
   ]
  },
  {
   "cell_type": "code",
   "execution_count": 141,
   "id": "15b5540a",
   "metadata": {},
   "outputs": [],
   "source": [
    "X_train, X_test, y_train, y_test = train_test_split(X,y,random_state=24, stratify=y)"
   ]
  },
  {
   "cell_type": "code",
   "execution_count": 142,
   "id": "33d14073",
   "metadata": {},
   "outputs": [],
   "source": [
    "from collections import Counter"
   ]
  },
  {
   "cell_type": "code",
   "execution_count": 143,
   "id": "f023a89d",
   "metadata": {},
   "outputs": [
    {
     "data": {
      "text/plain": [
       "Counter({1.0: 924629, 0.0: 800762, 2.0: 234337})"
      ]
     },
     "execution_count": 143,
     "metadata": {},
     "output_type": "execute_result"
    }
   ],
   "source": [
    "Counter(y)"
   ]
  },
  {
   "cell_type": "code",
   "execution_count": 176,
   "id": "5c8303ef",
   "metadata": {},
   "outputs": [],
   "source": [
    "from sklearn.linear_model import LogisticRegression\n",
    "model = LogisticRegression(\n",
    "    C=1, class_weight='balanced', random_state=24, multi_class='multinomial',\n",
    "    n_jobs=-1, solver='lbfgs').fit(X_train, y_train)"
   ]
  },
  {
   "cell_type": "code",
   "execution_count": 177,
   "id": "0f5d9d66",
   "metadata": {
    "scrolled": true
   },
   "outputs": [
    {
     "name": "stdout",
     "output_type": "stream",
     "text": [
      "학습결과:  0.41560869671709544\n",
      "테스트결과:  0.415124956116359\n"
     ]
    }
   ],
   "source": [
    "print('학습결과: ', model.score(X_train, y_train))\n",
    "print('테스트결과: ', model.score(X_test, y_test))"
   ]
  },
  {
   "cell_type": "code",
   "execution_count": 178,
   "id": "20254c71",
   "metadata": {},
   "outputs": [
    {
     "name": "stdout",
     "output_type": "stream",
     "text": [
      "classification_repot - 학습데이터\n",
      "              precision    recall  f1-score   support\n",
      "\n",
      "         0.0       0.53      0.60      0.56    600571\n",
      "         1.0       0.53      0.22      0.31    693472\n",
      "         2.0       0.20      0.56      0.29    175753\n",
      "\n",
      "    accuracy                           0.42   1469796\n",
      "   macro avg       0.42      0.46      0.39   1469796\n",
      "weighted avg       0.49      0.42      0.41   1469796\n",
      "\n"
     ]
    }
   ],
   "source": [
    "from sklearn.metrics import classification_report\n",
    "pred_train = model.predict(X_train)\n",
    "pred_test = model.predict(X_test)\n",
    "print('classification_repot - 학습데이터')\n",
    "print(classification_report(y_train, pred_train))"
   ]
  },
  {
   "cell_type": "code",
   "execution_count": 179,
   "id": "2eec7b83",
   "metadata": {},
   "outputs": [
    {
     "name": "stdout",
     "output_type": "stream",
     "text": [
      "classification_report - 테스트데이터\n",
      "              precision    recall  f1-score   support\n",
      "\n",
      "         0.0       0.53      0.60      0.57    200191\n",
      "         1.0       0.53      0.22      0.31    231157\n",
      "         2.0       0.19      0.56      0.29     58584\n",
      "\n",
      "    accuracy                           0.42    489932\n",
      "   macro avg       0.42      0.46      0.39    489932\n",
      "weighted avg       0.49      0.42      0.41    489932\n",
      "\n"
     ]
    }
   ],
   "source": [
    "print('classification_report - 테스트데이터')\n",
    "print(classification_report(y_test, pred_test))"
   ]
  },
  {
   "cell_type": "markdown",
   "id": "81e7838b",
   "metadata": {},
   "source": [
    "데이터 정규분포 스케일링 적용"
   ]
  },
  {
   "cell_type": "code",
   "execution_count": 183,
   "id": "2b19e8bd",
   "metadata": {},
   "outputs": [],
   "source": [
    "scaler = StandardScaler()\n",
    "data_scaled = scaler.fit_transform(X)"
   ]
  },
  {
   "cell_type": "code",
   "execution_count": 209,
   "id": "ec81c1e9",
   "metadata": {},
   "outputs": [],
   "source": [
    "X_train , X_test, y_train , y_test = train_test_split(data_scaled, y, test_size=0.25, random_state=0, stratify=y)"
   ]
  },
  {
   "cell_type": "code",
   "execution_count": 211,
   "id": "88614fec",
   "metadata": {},
   "outputs": [],
   "source": [
    "from sklearn.linear_model import LogisticRegression\n",
    "model = LogisticRegression(\n",
    "    C=0.1, class_weight='balanced', random_state=0, multi_class='multinomial',\n",
    "    n_jobs=-1, solver='lbfgs').fit(X_train, y_train)"
   ]
  },
  {
   "cell_type": "code",
   "execution_count": 212,
   "id": "e7833251",
   "metadata": {},
   "outputs": [
    {
     "name": "stdout",
     "output_type": "stream",
     "text": [
      "학습결과:  0.4295126670640007\n",
      "테스트결과:  0.4294718450723774\n"
     ]
    }
   ],
   "source": [
    "print('학습결과: ', model.score(X_train, y_train))\n",
    "print('테스트결과: ', model.score(X_test, y_test))"
   ]
  },
  {
   "cell_type": "code",
   "execution_count": 219,
   "id": "3ec68e06",
   "metadata": {},
   "outputs": [],
   "source": [
    "from sklearn.metrics import accuracy_score, precision_score, recall_score, roc_auc_score\n",
    "from sklearn.metrics import f1_score, confusion_matrix, precision_recall_curve, roc_curve"
   ]
  },
  {
   "cell_type": "code",
   "execution_count": 222,
   "id": "c3a3c1fd",
   "metadata": {},
   "outputs": [
    {
     "name": "stdout",
     "output_type": "stream",
     "text": [
      "classification_repot - 학습데이터\n",
      "              precision    recall  f1-score   support\n",
      "\n",
      "         0.0       0.56      0.61      0.58    600571\n",
      "         1.0       0.54      0.23      0.32    693472\n",
      "         2.0       0.21      0.62      0.31    175753\n",
      "\n",
      "    accuracy                           0.43   1469796\n",
      "   macro avg       0.44      0.49      0.40   1469796\n",
      "weighted avg       0.51      0.43      0.43   1469796\n",
      "\n"
     ]
    }
   ],
   "source": [
    "pred_train = model.predict(X_train)\n",
    "pred_test = model.predict(X_test)\n",
    "print('classification_repot - 학습데이터')\n",
    "print(classification_report(y_train, pred_train))"
   ]
  },
  {
   "cell_type": "code",
   "execution_count": 225,
   "id": "7b4eed5f",
   "metadata": {},
   "outputs": [
    {
     "name": "stdout",
     "output_type": "stream",
     "text": [
      "classification_report - 테스트데이터\n",
      "              precision    recall  f1-score   support\n",
      "\n",
      "         0.0       0.56      0.61      0.58    200191\n",
      "         1.0       0.54      0.23      0.32    231157\n",
      "         2.0       0.21      0.62      0.31     58584\n",
      "\n",
      "    accuracy                           0.43    489932\n",
      "   macro avg       0.44      0.49      0.40    489932\n",
      "weighted avg       0.51      0.43      0.43    489932\n",
      "\n"
     ]
    }
   ],
   "source": [
    "print('classification_report - 테스트데이터')\n",
    "print(classification_report(y_test, pred_test))"
   ]
  },
  {
   "cell_type": "code",
   "execution_count": 226,
   "id": "53c0b0f5",
   "metadata": {},
   "outputs": [],
   "source": [
    "from sklearn.metrics import accuracy_score, precision_score, recall_score, roc_auc_score\n",
    "from sklearn.metrics import f1_score, confusion_matrix, precision_recall_curve, roc_curve\n",
    "\n",
    "def get_clf_eval(y_test, y_pred):\n",
    "    confusion = confusion_matrix(y_test, y_pred)\n",
    "    accuracy = accuracy_score(y_test, y_pred)\n",
    "    print('오차행렬:\\n', confusion)"
   ]
  },
  {
   "cell_type": "code",
   "execution_count": 227,
   "id": "4ccd1aa6",
   "metadata": {},
   "outputs": [
    {
     "name": "stdout",
     "output_type": "stream",
     "text": [
      "오차행렬:\n",
      " [[121606  32952  45633]\n",
      " [ 85924  52430  92803]\n",
      " [ 10484  11724  36376]]\n"
     ]
    }
   ],
   "source": [
    "get_clf_eval(y_test, pred_test)"
   ]
  },
  {
   "cell_type": "code",
   "execution_count": null,
   "id": "5f2d28de",
   "metadata": {},
   "outputs": [],
   "source": []
  }
 ],
 "metadata": {
  "kernelspec": {
   "display_name": "Python 3",
   "language": "python",
   "name": "python3"
  },
  "language_info": {
   "codemirror_mode": {
    "name": "ipython",
    "version": 3
   },
   "file_extension": ".py",
   "mimetype": "text/x-python",
   "name": "python",
   "nbconvert_exporter": "python",
   "pygments_lexer": "ipython3",
   "version": "3.9.2"
  }
 },
 "nbformat": 4,
 "nbformat_minor": 5
}
