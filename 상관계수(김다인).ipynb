{
 "cells": [
  {
   "cell_type": "markdown",
   "metadata": {},
   "source": [
    "## 코드"
   ]
  },
  {
   "cell_type": "code",
   "execution_count": 1,
   "metadata": {},
   "outputs": [],
   "source": [
    "import pandas as pd\n",
    "import numpy as np\n",
    "import matplotlib.pyplot as plt\n",
    "import seaborn as sns\n",
    "import matplotlib as mpl"
   ]
  },
  {
   "cell_type": "code",
   "execution_count": 2,
   "metadata": {},
   "outputs": [],
   "source": [
    "# plt.rc('font', family='NanumGothicOTF') # For MacOS\n",
    "plt.rc('font', family='NanumGothic') # For Windows\n",
    "mpl.rcParams['axes.unicode_minus'] = False\n",
    "pd.set_option('display.max_columns', None)"
   ]
  },
  {
   "cell_type": "code",
   "execution_count": 3,
   "metadata": {},
   "outputs": [],
   "source": [
    "df1 = pd.read_csv('data_2017.csv',engine = 'python')\n",
    "df2 = pd.read_csv('data_2018.csv')"
   ]
  },
  {
   "cell_type": "code",
   "execution_count": 4,
   "metadata": {},
   "outputs": [],
   "source": [
    "frames = [df1, df2]\n",
    "df = pd.concat(frames)"
   ]
  },
  {
   "cell_type": "code",
   "execution_count": 5,
   "metadata": {},
   "outputs": [],
   "source": [
    "df = df.rename(columns={\"연령대코드(5세단위)\":\"연령대 코드\", \n",
    "                        \"신장(5Cm단위)\":\"신장\", \n",
    "                        \"체중(5Kg단위)\":\"체중\",\n",
    "                        \"식전혈당(공복혈당)\":\"식전혈당\"})"
   ]
  },
  {
   "cell_type": "code",
   "execution_count": 7,
   "metadata": {},
   "outputs": [],
   "source": [
    "df = df.drop(['기준년도', '가입자일련번호', '시도코드', '총콜레스테롤','트리글리세라이드', 'HDL콜레스테롤', 'LDL콜레스테롤', \n",
    "              '구강검진수검여부','치아우식증유무', '결손치유무', '치아마모증유무', '제3대구치(사랑니)이상', \n",
    "              '치석', '데이터공개일자'], axis=1)"
   ]
  },
  {
   "cell_type": "code",
   "execution_count": 8,
   "metadata": {},
   "outputs": [
    {
     "data": {
      "text/plain": [
       "Index(['성별코드', '연령대 코드', '신장', '체중', '허리둘레', '시력(좌)', '시력(우)', '청력(좌)',\n",
       "       '청력(우)', '수축기혈압', '이완기혈압', '식전혈당', '혈색소', '요단백', '혈청크레아티닌',\n",
       "       '(혈청지오티)AST', '(혈청지오티)ALT', '감마지티피', '흡연상태', '음주여부'],\n",
       "      dtype='object')"
      ]
     },
     "execution_count": 8,
     "metadata": {},
     "output_type": "execute_result"
    }
   ],
   "source": [
    "df.columns"
   ]
  },
  {
   "cell_type": "markdown",
   "metadata": {},
   "source": [
    "## null 값 정리"
   ]
  },
  {
   "cell_type": "code",
   "execution_count": 9,
   "metadata": {},
   "outputs": [
    {
     "data": {
      "text/plain": [
       "성별코드               0\n",
       "연령대 코드             0\n",
       "신장                 0\n",
       "체중                 0\n",
       "허리둘레             680\n",
       "시력(좌)            436\n",
       "시력(우)            455\n",
       "청력(좌)            375\n",
       "청력(우)            373\n",
       "수축기혈압           5749\n",
       "이완기혈압           5748\n",
       "식전혈당            5957\n",
       "혈색소             5966\n",
       "요단백            15162\n",
       "혈청크레아티닌         5949\n",
       "(혈청지오티)AST      5947\n",
       "(혈청지오티)ALT      5948\n",
       "감마지티피           5951\n",
       "흡연상태             378\n",
       "음주여부          355479\n",
       "dtype: int64"
      ]
     },
     "execution_count": 9,
     "metadata": {},
     "output_type": "execute_result"
    }
   ],
   "source": [
    "df.isnull().sum()"
   ]
  },
  {
   "cell_type": "code",
   "execution_count": null,
   "metadata": {},
   "outputs": [],
   "source": [
    "#식전혈당이 없을 시 드랍\n",
    "#음주여부 데이터에 1만 있음. 0이 누락된 것으로 판단\n",
    "df['음주여부'] = df['음주여부'].fillna(0)\n",
    "df"
   ]
  },
  {
   "cell_type": "markdown",
   "metadata": {},
   "source": [
    "## BMI"
   ]
  },
  {
   "cell_type": "code",
   "execution_count": null,
   "metadata": {},
   "outputs": [],
   "source": [
    "df_weight = df[['신장', '체중']].copy()\n",
    "#체중(kg)을 신장(m)의 제곱으로 나눈 값(체중(kg)/신장(m2))\n",
    "temp = df_weight['신장']/100\n",
    "df_bmi = round(df_weight['체중'] / (temp * temp), 1)\n",
    "#세계보건기구 아시아태평양지역과 대한비만학회\n",
    "#BMI < 25 kg/m2 : 저체중+정상 0\n",
    "#BMI ≥ 25 kg/m2 : 과체중 1\n",
    "#BMI ≥ 30 kg/m2 : 비만 2\n",
    "df_bmi.loc[df_bmi < 25] = 0\n",
    "df_bmi.loc[(df_bmi >= 25) & (df_bmi < 30)] = 1\n",
    "df_bmi.loc[df_bmi >= 30] = 2\n",
    "df['비만여부'] = df_bmi\n",
    "df = df.drop(['체중', '신장'], axis = 1)"
   ]
  },
  {
   "cell_type": "markdown",
   "metadata": {},
   "source": [
    "## 고혈압"
   ]
  },
  {
   "cell_type": "code",
   "execution_count": null,
   "metadata": {},
   "outputs": [],
   "source": [
    "df_pressure = df[['이완기혈압', '수축기혈압']].copy()\n",
    "# 정상: 0 / 120~139/80~89 전단계: 1/  140~159/90~99 1기:2 / 160/100 2기:3\n",
    "df_pressure.loc[(df_pressure['수축기혈압'] < 120) & (df_pressure['이완기혈압'] < 80), '고혈압 여부'] = 0\n",
    "df_pressure.loc[((df_pressure['수축기혈압'] >= 120) & (df_pressure['수축기혈압'] < 140))|\n",
    "                ((df_pressure['이완기혈압'] >= 80) & (df_pressure['이완기혈압'] < 90)), '고혈압 여부'] = 1\n",
    "df_pressure.loc[((df_pressure['수축기혈압'] >= 140) & (df_pressure['수축기혈압'] < 160))|\n",
    "                ((df_pressure['이완기혈압'] >= 90) & (df_pressure['이완기혈압'] < 99)), '고혈압 여부'] = 2\n",
    "df_pressure.loc[(df_pressure['수축기혈압'] >=160) | (df_pressure['이완기혈압'] >= 100), '고혈압 여부'] = 3\n",
    "df['고혈압'] = df_pressure['고혈압 여부']"
   ]
  },
  {
   "cell_type": "markdown",
   "metadata": {},
   "source": [
    "## 시력"
   ]
  },
  {
   "cell_type": "code",
   "execution_count": null,
   "metadata": {},
   "outputs": [],
   "source": [
    "#9.9 값 null 값 처리 후 평균으로 채움\n",
    "df_eyes = df[['시력(좌)', '시력(우)']].copy()\n",
    "df_eyes.loc[df_eyes['시력(좌)'] == 9.9,'시력(좌)'] = np.nan\n",
    "df_eyes.loc[df_eyes['시력(우)'] == 9.9,'시력(우)'] = np.nan\n",
    "df_eyes['시력(좌)'] = df_eyes['시력(좌)'].fillna(round(df_eyes['시력(좌)'].mean(), 1))\n",
    "df_eyes['시력(우)'] = df_eyes['시력(우)'].fillna(round(df_eyes['시력(우)'].mean(), 1))\n",
    "df['시력(좌)'] = df_eyes['시력(좌)']\n",
    "df['시력(우)'] = df_eyes['시력(우)']\n",
    "df_eyes.isnull().sum()"
   ]
  },
  {
   "cell_type": "markdown",
   "metadata": {},
   "source": [
    "## 청력"
   ]
  },
  {
   "cell_type": "code",
   "execution_count": null,
   "metadata": {},
   "outputs": [],
   "source": [
    "#정상: 0 한쪽이 안 좋음:1 둘 다 안 좋음:2\n",
    "df_ear = df[['청력(좌)', '청력(우)']].copy()\n",
    "df_ear.loc[(df_ear['청력(좌)'] == 1) & (df_ear['청력(우)'] == 1), '청력'] =0\n",
    "df_ear.loc[(df_ear['청력(좌)'] == 2) & (df_ear['청력(우)'] == 1), '청력'] =1\n",
    "df_ear.loc[(df_ear['청력(좌)'] == 1) & (df_ear['청력(우)'] == 2), '청력'] =1\n",
    "df_ear.loc[(df_ear['청력(좌)'] == 2) & (df_ear['청력(우)'] == 2), '청력'] =2\n",
    "df['청력'] = df_ear['청력']\n",
    "df = df.drop(['청력(좌)', '청력(우)'], axis=1)"
   ]
  },
  {
   "cell_type": "markdown",
   "metadata": {},
   "source": [
    "## 상관계수"
   ]
  },
  {
   "cell_type": "code",
   "execution_count": null,
   "metadata": {},
   "outputs": [],
   "source": [
    "df_corr = df.corr()"
   ]
  },
  {
   "cell_type": "code",
   "execution_count": null,
   "metadata": {},
   "outputs": [],
   "source": [
    "plt.subplots(figsize=(11, 11))\n",
    "ax = sns.heatmap(df_corr, annot=True,fmt=\".2f\", linewidth=0.3, square = True, cmap='RdBu_r')\n",
    "plt.title('상관계수 히트맵', fontsize=20)\n",
    "plt.show() "
   ]
  },
  {
   "cell_type": "code",
   "execution_count": null,
   "metadata": {},
   "outputs": [],
   "source": [
    "df_sorted = df_corr['식전혈당'].sort_values(ascending=False)\n",
    "df_sorted = df_sorted.drop(['식전혈당'])\n",
    "print(df_sorted)"
   ]
  },
  {
   "cell_type": "code",
   "execution_count": null,
   "metadata": {},
   "outputs": [],
   "source": [
    "plt.subplots(figsize=(17,4))\n",
    "sns.barplot(x = df_sorted.index, y = df_sorted.values,palette='RdBu')"
   ]
  }
 ],
 "metadata": {
  "kernelspec": {
   "display_name": "Python 3",
   "language": "python",
   "name": "python3"
  },
  "language_info": {
   "codemirror_mode": {
    "name": "ipython",
    "version": 3
   },
   "file_extension": ".py",
   "mimetype": "text/x-python",
   "name": "python",
   "nbconvert_exporter": "python",
   "pygments_lexer": "ipython3",
   "version": "3.7.1"
  }
 },
 "nbformat": 4,
 "nbformat_minor": 2
}
