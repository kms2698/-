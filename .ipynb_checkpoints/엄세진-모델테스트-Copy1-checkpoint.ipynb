{
 "cells": [
  {
   "cell_type": "code",
   "execution_count": 1,
   "metadata": {
    "slideshow": {
     "slide_type": "slide"
    }
   },
   "outputs": [],
   "source": [
    "import numpy as np\n",
    "import sys\n",
    "import numpy as np\n",
    "import pandas as pd\n",
    "import matplotlib as mpl\n",
    "import sklearn"
   ]
  },
  {
   "cell_type": "code",
   "execution_count": 2,
   "metadata": {
    "slideshow": {
     "slide_type": "slide"
    }
   },
   "outputs": [],
   "source": [
    "df = pd.read_csv('data_preprocessed.csv')"
   ]
  },
  {
   "cell_type": "code",
   "execution_count": 3,
   "metadata": {},
   "outputs": [],
   "source": [
    "df['식전혈당'] = df['식전혈당'].apply(lambda x: 0 if x <= 1 else 1 )"
   ]
  },
  {
   "cell_type": "code",
   "execution_count": 4,
   "metadata": {},
   "outputs": [
    {
     "data": {
      "text/plain": [
       "0    1186152\n",
       "1     100148\n",
       "Name: 식전혈당, dtype: int64"
      ]
     },
     "execution_count": 4,
     "metadata": {},
     "output_type": "execute_result"
    }
   ],
   "source": [
    "df['식전혈당'].value_counts()"
   ]
  },
  {
   "cell_type": "code",
   "execution_count": 5,
   "metadata": {},
   "outputs": [],
   "source": [
    "df_x = df[['고혈압','연령대 코드','복부비만','비만여부' ]]"
   ]
  },
  {
   "cell_type": "code",
   "execution_count": 6,
   "metadata": {},
   "outputs": [],
   "source": [
    "from sklearn.model_selection import train_test_split\n",
    "X_train, X_test, y_train, y_test = train_test_split(df_x.values, df[\"식전혈당\"].values, test_size=0.2, random_state = 11)"
   ]
  },
  {
   "cell_type": "code",
   "execution_count": 106,
   "metadata": {},
   "outputs": [],
   "source": [
    "# df_x.describe()"
   ]
  },
  {
   "cell_type": "code",
   "execution_count": 8,
   "metadata": {},
   "outputs": [
    {
     "name": "stdout",
     "output_type": "stream",
     "text": [
      "max_depth = 6 정확도: 0.9223\n",
      "max_depth = 8 정확도: 0.9223\n",
      "max_depth = 10 정확도: 0.9223\n",
      "max_depth = 12 정확도: 0.9223\n",
      "max_depth = 16 정확도: 0.9223\n",
      "max_depth = 20 정확도: 0.9223\n",
      "max_depth = 24 정확도: 0.9223\n"
     ]
    }
   ],
   "source": [
    "## 디시젼트리\n",
    "from sklearn.tree import DecisionTreeClassifier\n",
    "from sklearn.metrics import accuracy_score\n",
    "max_depths = [6,8,10,12,16,20,24]\n",
    "\n",
    "for depth in max_depths:\n",
    "    df_clf = DecisionTreeClassifier(max_depth = depth, random_state = 156)\n",
    "    df_clf.fit(X_train, y_train)\n",
    "    pred = df_clf.predict(X_test)\n",
    "    accuracy = accuracy_score(y_test,pred)\n",
    "    print('max_depth = {0} 정확도: {1:.4f}'.format(depth, accuracy))"
   ]
  },
  {
   "cell_type": "code",
   "execution_count": 9,
   "metadata": {},
   "outputs": [
    {
     "name": "stdout",
     "output_type": "stream",
     "text": [
      "GBM 정확도: 0.9223\n",
      "GBM 수행시간:56.803524초\n"
     ]
    }
   ],
   "source": [
    "from sklearn.ensemble import GradientBoostingClassifier\n",
    "import time\n",
    "import warnings\n",
    "warnings.filterwarnings('ignore')\n",
    "\n",
    "start_time = time.time()\n",
    "gb_clf = GradientBoostingClassifier(random_state = 0)\n",
    "gb_clf.fit(X_train,y_train)\n",
    "gb_pred = gb_clf.predict(X_test)\n",
    "gb_accuracy = accuracy_score(y_test,gb_pred)\n",
    "\n",
    "print('GBM 정확도: {0:.4f}'.format(gb_accuracy))\n",
    "print('GBM 수행시간:{0:1f}초'.format(time.time() - start_time))"
   ]
  },
  {
   "cell_type": "code",
   "execution_count": 127,
   "metadata": {},
   "outputs": [],
   "source": [
    "from sklearn.ensemble import VotingClassifier\n",
    "from sklearn.linear_model import LogisticRegression\n",
    "from sklearn.neighbors import KNeighborsClassifier\n",
    "from sklearn.metrics import accuracy_score\n"
   ]
  },
  {
   "cell_type": "code",
   "execution_count": 128,
   "metadata": {},
   "outputs": [
    {
     "data": {
      "text/plain": [
       "0.922292622249864"
      ]
     },
     "execution_count": 128,
     "metadata": {},
     "output_type": "execute_result"
    }
   ],
   "source": [
    "lr_clf = LogisticRegression()\n",
    "knn_clf = KNeighborsClassifier(n_neighbors = 8)\n",
    "\n",
    "vo_clf = VotingClassifier( estimators = [('LR', lr_clf),  ('KNN', knn_clf)], voting = 'soft')\n",
    "\n",
    "vo_clf.fit(X_train,y_train)\n",
    "pred = vo_clf.predict(X_test)\n",
    "accuracy_score(y_test,pred)"
   ]
  },
  {
   "cell_type": "code",
   "execution_count": 133,
   "metadata": {},
   "outputs": [
    {
     "name": "stdout",
     "output_type": "stream",
     "text": [
      "[LightGBM] [Warning] feature_fraction is set=0.9, colsample_bytree=1.0 will be ignored. Current value: feature_fraction=0.9\n",
      "[1]\tvalid_0's binary_logloss: 0.269052\n",
      "Training until validation scores don't improve for 100 rounds\n",
      "[2]\tvalid_0's binary_logloss: 0.265826\n",
      "[3]\tvalid_0's binary_logloss: 0.263219\n",
      "[4]\tvalid_0's binary_logloss: 0.261088\n",
      "[5]\tvalid_0's binary_logloss: 0.259297\n",
      "[6]\tvalid_0's binary_logloss: 0.257802\n",
      "[7]\tvalid_0's binary_logloss: 0.256547\n",
      "[8]\tvalid_0's binary_logloss: 0.255491\n",
      "[9]\tvalid_0's binary_logloss: 0.254599\n",
      "[10]\tvalid_0's binary_logloss: 0.253835\n",
      "[11]\tvalid_0's binary_logloss: 0.253174\n",
      "[12]\tvalid_0's binary_logloss: 0.252624\n",
      "[13]\tvalid_0's binary_logloss: 0.252144\n",
      "[14]\tvalid_0's binary_logloss: 0.251725\n",
      "[15]\tvalid_0's binary_logloss: 0.251369\n",
      "[16]\tvalid_0's binary_logloss: 0.251066\n",
      "[17]\tvalid_0's binary_logloss: 0.250808\n",
      "[18]\tvalid_0's binary_logloss: 0.250586\n",
      "[19]\tvalid_0's binary_logloss: 0.250398\n",
      "[20]\tvalid_0's binary_logloss: 0.250237\n",
      "[21]\tvalid_0's binary_logloss: 0.250097\n",
      "[22]\tvalid_0's binary_logloss: 0.249978\n",
      "[23]\tvalid_0's binary_logloss: 0.249878\n",
      "[24]\tvalid_0's binary_logloss: 0.249793\n",
      "[25]\tvalid_0's binary_logloss: 0.249721\n",
      "[26]\tvalid_0's binary_logloss: 0.249663\n",
      "[27]\tvalid_0's binary_logloss: 0.24961\n",
      "[28]\tvalid_0's binary_logloss: 0.249564\n",
      "[29]\tvalid_0's binary_logloss: 0.249527\n",
      "[30]\tvalid_0's binary_logloss: 0.249494\n",
      "[31]\tvalid_0's binary_logloss: 0.249469\n",
      "[32]\tvalid_0's binary_logloss: 0.249447\n",
      "[33]\tvalid_0's binary_logloss: 0.249431\n",
      "[34]\tvalid_0's binary_logloss: 0.249416\n",
      "[35]\tvalid_0's binary_logloss: 0.249405\n",
      "[36]\tvalid_0's binary_logloss: 0.249394\n",
      "[37]\tvalid_0's binary_logloss: 0.249387\n",
      "[38]\tvalid_0's binary_logloss: 0.249378\n",
      "[39]\tvalid_0's binary_logloss: 0.249373\n",
      "[40]\tvalid_0's binary_logloss: 0.249366\n",
      "[41]\tvalid_0's binary_logloss: 0.249362\n",
      "[42]\tvalid_0's binary_logloss: 0.249358\n",
      "[43]\tvalid_0's binary_logloss: 0.249356\n",
      "[44]\tvalid_0's binary_logloss: 0.249354\n",
      "[45]\tvalid_0's binary_logloss: 0.249352\n",
      "[46]\tvalid_0's binary_logloss: 0.249352\n",
      "[47]\tvalid_0's binary_logloss: 0.24935\n",
      "[48]\tvalid_0's binary_logloss: 0.24935\n",
      "[49]\tvalid_0's binary_logloss: 0.24935\n",
      "[50]\tvalid_0's binary_logloss: 0.24935\n",
      "[51]\tvalid_0's binary_logloss: 0.24935\n",
      "[52]\tvalid_0's binary_logloss: 0.249351\n",
      "[53]\tvalid_0's binary_logloss: 0.249352\n",
      "[54]\tvalid_0's binary_logloss: 0.249353\n",
      "[55]\tvalid_0's binary_logloss: 0.249354\n",
      "[56]\tvalid_0's binary_logloss: 0.249355\n",
      "[57]\tvalid_0's binary_logloss: 0.249354\n",
      "[58]\tvalid_0's binary_logloss: 0.249356\n",
      "[59]\tvalid_0's binary_logloss: 0.249357\n",
      "[60]\tvalid_0's binary_logloss: 0.249359\n",
      "[61]\tvalid_0's binary_logloss: 0.249359\n",
      "[62]\tvalid_0's binary_logloss: 0.24936\n",
      "[63]\tvalid_0's binary_logloss: 0.249361\n",
      "[64]\tvalid_0's binary_logloss: 0.249361\n",
      "[65]\tvalid_0's binary_logloss: 0.249362\n",
      "[66]\tvalid_0's binary_logloss: 0.249362\n",
      "[67]\tvalid_0's binary_logloss: 0.249362\n",
      "[68]\tvalid_0's binary_logloss: 0.249362\n",
      "[69]\tvalid_0's binary_logloss: 0.249363\n",
      "[70]\tvalid_0's binary_logloss: 0.249364\n",
      "[71]\tvalid_0's binary_logloss: 0.249365\n",
      "[72]\tvalid_0's binary_logloss: 0.249366\n",
      "[73]\tvalid_0's binary_logloss: 0.249367\n",
      "[74]\tvalid_0's binary_logloss: 0.249367\n",
      "[75]\tvalid_0's binary_logloss: 0.249368\n",
      "[76]\tvalid_0's binary_logloss: 0.249369\n",
      "[77]\tvalid_0's binary_logloss: 0.249369\n",
      "[78]\tvalid_0's binary_logloss: 0.249371\n",
      "[79]\tvalid_0's binary_logloss: 0.249372\n",
      "[80]\tvalid_0's binary_logloss: 0.249372\n",
      "[81]\tvalid_0's binary_logloss: 0.249372\n",
      "[82]\tvalid_0's binary_logloss: 0.249373\n",
      "[83]\tvalid_0's binary_logloss: 0.249374\n",
      "[84]\tvalid_0's binary_logloss: 0.249374\n",
      "[85]\tvalid_0's binary_logloss: 0.249375\n",
      "[86]\tvalid_0's binary_logloss: 0.249376\n",
      "[87]\tvalid_0's binary_logloss: 0.249377\n",
      "[88]\tvalid_0's binary_logloss: 0.249378\n",
      "[89]\tvalid_0's binary_logloss: 0.249378\n",
      "[90]\tvalid_0's binary_logloss: 0.249379\n",
      "[91]\tvalid_0's binary_logloss: 0.249379\n",
      "[92]\tvalid_0's binary_logloss: 0.249381\n",
      "[93]\tvalid_0's binary_logloss: 0.249381\n",
      "[94]\tvalid_0's binary_logloss: 0.249382\n",
      "[95]\tvalid_0's binary_logloss: 0.249382\n",
      "[96]\tvalid_0's binary_logloss: 0.249382\n",
      "[97]\tvalid_0's binary_logloss: 0.249383\n",
      "[98]\tvalid_0's binary_logloss: 0.249383\n",
      "[99]\tvalid_0's binary_logloss: 0.249384\n",
      "[100]\tvalid_0's binary_logloss: 0.249384\n",
      "[101]\tvalid_0's binary_logloss: 0.249385\n",
      "[102]\tvalid_0's binary_logloss: 0.249385\n",
      "[103]\tvalid_0's binary_logloss: 0.249386\n",
      "[104]\tvalid_0's binary_logloss: 0.249386\n",
      "[105]\tvalid_0's binary_logloss: 0.249386\n",
      "[106]\tvalid_0's binary_logloss: 0.249387\n",
      "[107]\tvalid_0's binary_logloss: 0.249387\n",
      "[108]\tvalid_0's binary_logloss: 0.249387\n",
      "[109]\tvalid_0's binary_logloss: 0.249388\n",
      "[110]\tvalid_0's binary_logloss: 0.249388\n",
      "[111]\tvalid_0's binary_logloss: 0.249389\n",
      "[112]\tvalid_0's binary_logloss: 0.249389\n",
      "[113]\tvalid_0's binary_logloss: 0.24939\n",
      "[114]\tvalid_0's binary_logloss: 0.249391\n",
      "[115]\tvalid_0's binary_logloss: 0.249391\n",
      "[116]\tvalid_0's binary_logloss: 0.249391\n",
      "[117]\tvalid_0's binary_logloss: 0.249391\n",
      "[118]\tvalid_0's binary_logloss: 0.249392\n",
      "[119]\tvalid_0's binary_logloss: 0.249393\n",
      "[120]\tvalid_0's binary_logloss: 0.249393\n",
      "[121]\tvalid_0's binary_logloss: 0.249394\n",
      "[122]\tvalid_0's binary_logloss: 0.249395\n",
      "[123]\tvalid_0's binary_logloss: 0.249395\n",
      "[124]\tvalid_0's binary_logloss: 0.249396\n",
      "[125]\tvalid_0's binary_logloss: 0.249396\n",
      "[126]\tvalid_0's binary_logloss: 0.249397\n",
      "[127]\tvalid_0's binary_logloss: 0.249397\n",
      "[128]\tvalid_0's binary_logloss: 0.249398\n",
      "[129]\tvalid_0's binary_logloss: 0.249399\n",
      "[130]\tvalid_0's binary_logloss: 0.249399\n",
      "[131]\tvalid_0's binary_logloss: 0.2494\n",
      "[132]\tvalid_0's binary_logloss: 0.249401\n",
      "[133]\tvalid_0's binary_logloss: 0.249401\n",
      "[134]\tvalid_0's binary_logloss: 0.249402\n",
      "[135]\tvalid_0's binary_logloss: 0.249402\n",
      "[136]\tvalid_0's binary_logloss: 0.249403\n",
      "[137]\tvalid_0's binary_logloss: 0.249403\n",
      "[138]\tvalid_0's binary_logloss: 0.249404\n",
      "[139]\tvalid_0's binary_logloss: 0.249404\n",
      "[140]\tvalid_0's binary_logloss: 0.249404\n",
      "[141]\tvalid_0's binary_logloss: 0.249405\n",
      "[142]\tvalid_0's binary_logloss: 0.249405\n",
      "[143]\tvalid_0's binary_logloss: 0.249406\n",
      "[144]\tvalid_0's binary_logloss: 0.249407\n",
      "[145]\tvalid_0's binary_logloss: 0.249407\n",
      "[146]\tvalid_0's binary_logloss: 0.249407\n",
      "[147]\tvalid_0's binary_logloss: 0.249408\n",
      "[148]\tvalid_0's binary_logloss: 0.249409\n",
      "Early stopping, best iteration is:\n",
      "[48]\tvalid_0's binary_logloss: 0.24935\n",
      "[0.17358841 0.14172931 0.04841301 ... 0.07499589 0.16029503 0.11777326]\n"
     ]
    }
   ],
   "source": [
    "from lightgbm import LGBMClassifier\n",
    "\n",
    "lgbm_wrapper = LGBMClassifier(n_estimators = 1000, max_depth = -1,feature_fraction = 0.9)\n",
    "\n",
    "evals = [(X_test,y_test)]\n",
    "lgbm_wrapper.fit(X_train, y_train, early_stopping_rounds=100, eval_metric=\"logloss\", eval_set=evals, verbose = True)\n",
    "\n",
    "preds = lgbm_wrapper.predict(X_test)\n",
    "pred_proba = lgbm_wrapper.predict_proba(X_test)[:,1]\n",
    "\n",
    "print(pred_proba)"
   ]
  },
  {
   "cell_type": "code",
   "execution_count": 134,
   "metadata": {},
   "outputs": [
    {
     "name": "stdout",
     "output_type": "stream",
     "text": [
      "[0.17358841 0.14172931 0.04841301 ... 0.07499589 0.16029503 0.11777326]\n",
      "[1. 0. 0. ... 0. 1. 0.]\n"
     ]
    }
   ],
   "source": [
    "import copy\n",
    "print(pred_proba)\n",
    "y_pred = copy.copy(pred_proba)\n",
    "\n",
    "#convert into binary values\n",
    "for i in range(0,len(y_pred)):\n",
    "    if y_pred[i]>=.15:       # setting threshold to .5\n",
    "       y_pred[i]=1\n",
    "    else:  \n",
    "       y_pred[i]=0\n",
    "\n",
    "print(y_pred)"
   ]
  },
  {
   "cell_type": "code",
   "execution_count": 135,
   "metadata": {},
   "outputs": [
    {
     "data": {
      "text/plain": [
       "0.8336507813107362"
      ]
     },
     "execution_count": 135,
     "metadata": {},
     "output_type": "execute_result"
    }
   ],
   "source": [
    "accuracy_score(y_test,y_pred)"
   ]
  },
  {
   "cell_type": "code",
   "execution_count": 136,
   "metadata": {},
   "outputs": [
    {
     "data": {
      "text/plain": [
       "array([[208192,  29077],\n",
       "       [ 13718,   6273]], dtype=int64)"
      ]
     },
     "execution_count": 136,
     "metadata": {},
     "output_type": "execute_result"
    }
   ],
   "source": [
    "confusion_matrix(y_test,y_pred)"
   ]
  },
  {
   "cell_type": "code",
   "execution_count": 15,
   "metadata": {},
   "outputs": [
    {
     "name": "stdout",
     "output_type": "stream",
     "text": [
      "[15:00:17] WARNING: ..\\src\\learner.cc:541: \n",
      "Parameters: { early_stoppings } might not be used.\n",
      "\n",
      "  This may not be accurate due to some parameters are only used in language bindings but\n",
      "  passed down to XGBoost core.  Or some parameters are not used but slip through this\n",
      "  verification. Please open an issue if you find above cases.\n",
      "\n",
      "\n",
      "[0]\ttrain-logloss:0.62434\teval-logloss:0.62438\n",
      "[1]\ttrain-logloss:0.56817\teval-logloss:0.56817\n",
      "[2]\ttrain-logloss:0.52181\teval-logloss:0.52162\n",
      "[3]\ttrain-logloss:0.48279\teval-logloss:0.48267\n",
      "[4]\ttrain-logloss:0.44993\teval-logloss:0.44982\n",
      "[5]\ttrain-logloss:0.42207\teval-logloss:0.42196\n",
      "[6]\ttrain-logloss:0.39832\teval-logloss:0.39821\n",
      "[7]\ttrain-logloss:0.37803\teval-logloss:0.37787\n",
      "[8]\ttrain-logloss:0.36049\teval-logloss:0.36045\n",
      "[9]\ttrain-logloss:0.34553\teval-logloss:0.34546\n",
      "[10]\ttrain-logloss:0.33259\teval-logloss:0.33252\n",
      "[11]\ttrain-logloss:0.32157\teval-logloss:0.32136\n",
      "[12]\ttrain-logloss:0.31187\teval-logloss:0.31174\n",
      "[13]\ttrain-logloss:0.30352\teval-logloss:0.30345\n",
      "[14]\ttrain-logloss:0.29637\teval-logloss:0.29625\n",
      "[15]\ttrain-logloss:0.29010\teval-logloss:0.29004\n",
      "[16]\ttrain-logloss:0.28480\teval-logloss:0.28464\n",
      "[17]\ttrain-logloss:0.28012\teval-logloss:0.28000\n",
      "[18]\ttrain-logloss:0.27601\teval-logloss:0.27597\n",
      "[19]\ttrain-logloss:0.27252\teval-logloss:0.27248\n",
      "[20]\ttrain-logloss:0.26946\teval-logloss:0.26947\n",
      "[21]\ttrain-logloss:0.26684\teval-logloss:0.26684\n",
      "[22]\ttrain-logloss:0.26460\teval-logloss:0.26458\n",
      "[23]\ttrain-logloss:0.26257\teval-logloss:0.26261\n",
      "[24]\ttrain-logloss:0.26088\teval-logloss:0.26092\n",
      "[25]\ttrain-logloss:0.25945\teval-logloss:0.25943\n",
      "[26]\ttrain-logloss:0.25816\teval-logloss:0.25814\n",
      "[27]\ttrain-logloss:0.25702\teval-logloss:0.25704\n",
      "[28]\ttrain-logloss:0.25602\teval-logloss:0.25608\n",
      "[29]\ttrain-logloss:0.25520\teval-logloss:0.25524\n",
      "[30]\ttrain-logloss:0.25451\teval-logloss:0.25451\n",
      "[31]\ttrain-logloss:0.25385\teval-logloss:0.25387\n",
      "[32]\ttrain-logloss:0.25326\teval-logloss:0.25334\n",
      "[33]\ttrain-logloss:0.25279\teval-logloss:0.25286\n",
      "[34]\ttrain-logloss:0.25238\teval-logloss:0.25244\n",
      "[35]\ttrain-logloss:0.25197\teval-logloss:0.25206\n",
      "[36]\ttrain-logloss:0.25168\teval-logloss:0.25175\n",
      "[37]\ttrain-logloss:0.25142\teval-logloss:0.25147\n",
      "[38]\ttrain-logloss:0.25115\teval-logloss:0.25124\n",
      "[39]\ttrain-logloss:0.25091\teval-logloss:0.25102\n",
      "[40]\ttrain-logloss:0.25076\teval-logloss:0.25083\n",
      "[41]\ttrain-logloss:0.25056\teval-logloss:0.25067\n",
      "[42]\ttrain-logloss:0.25044\teval-logloss:0.25052\n",
      "[43]\ttrain-logloss:0.25027\teval-logloss:0.25041\n",
      "[44]\ttrain-logloss:0.25015\teval-logloss:0.25030\n",
      "[45]\ttrain-logloss:0.25010\teval-logloss:0.25020\n",
      "[46]\ttrain-logloss:0.24997\teval-logloss:0.25010\n",
      "[47]\ttrain-logloss:0.24988\teval-logloss:0.25004\n",
      "[48]\ttrain-logloss:0.24983\teval-logloss:0.24997\n",
      "[49]\ttrain-logloss:0.24980\teval-logloss:0.24989\n",
      "[50]\ttrain-logloss:0.24972\teval-logloss:0.24985\n",
      "[51]\ttrain-logloss:0.24968\teval-logloss:0.24980\n",
      "[52]\ttrain-logloss:0.24959\teval-logloss:0.24976\n",
      "[53]\ttrain-logloss:0.24955\teval-logloss:0.24971\n",
      "[54]\ttrain-logloss:0.24954\teval-logloss:0.24968\n",
      "[55]\ttrain-logloss:0.24949\teval-logloss:0.24965\n",
      "[56]\ttrain-logloss:0.24947\teval-logloss:0.24962\n",
      "[57]\ttrain-logloss:0.24945\teval-logloss:0.24959\n",
      "[58]\ttrain-logloss:0.24942\teval-logloss:0.24957\n",
      "[59]\ttrain-logloss:0.24942\teval-logloss:0.24955\n",
      "[60]\ttrain-logloss:0.24938\teval-logloss:0.24953\n",
      "[61]\ttrain-logloss:0.24934\teval-logloss:0.24951\n",
      "[62]\ttrain-logloss:0.24928\teval-logloss:0.24950\n",
      "[63]\ttrain-logloss:0.24929\teval-logloss:0.24949\n",
      "[64]\ttrain-logloss:0.24925\teval-logloss:0.24948\n",
      "[65]\ttrain-logloss:0.24923\teval-logloss:0.24946\n",
      "[66]\ttrain-logloss:0.24925\teval-logloss:0.24946\n",
      "[67]\ttrain-logloss:0.24924\teval-logloss:0.24946\n",
      "[68]\ttrain-logloss:0.24926\teval-logloss:0.24944\n",
      "[69]\ttrain-logloss:0.24928\teval-logloss:0.24943\n",
      "[70]\ttrain-logloss:0.24928\teval-logloss:0.24942\n",
      "[71]\ttrain-logloss:0.24923\teval-logloss:0.24942\n",
      "[72]\ttrain-logloss:0.24922\teval-logloss:0.24941\n",
      "[73]\ttrain-logloss:0.24922\teval-logloss:0.24940\n",
      "[74]\ttrain-logloss:0.24921\teval-logloss:0.24940\n",
      "[75]\ttrain-logloss:0.24922\teval-logloss:0.24940\n",
      "[76]\ttrain-logloss:0.24922\teval-logloss:0.24940\n",
      "[77]\ttrain-logloss:0.24920\teval-logloss:0.24939\n",
      "[78]\ttrain-logloss:0.24920\teval-logloss:0.24939\n",
      "[79]\ttrain-logloss:0.24917\teval-logloss:0.24939\n",
      "[80]\ttrain-logloss:0.24918\teval-logloss:0.24939\n",
      "[81]\ttrain-logloss:0.24919\teval-logloss:0.24938\n",
      "[82]\ttrain-logloss:0.24920\teval-logloss:0.24937\n",
      "[83]\ttrain-logloss:0.24919\teval-logloss:0.24937\n",
      "[84]\ttrain-logloss:0.24918\teval-logloss:0.24937\n",
      "[85]\ttrain-logloss:0.24917\teval-logloss:0.24937\n",
      "[86]\ttrain-logloss:0.24913\teval-logloss:0.24937\n",
      "[87]\ttrain-logloss:0.24913\teval-logloss:0.24937\n",
      "[88]\ttrain-logloss:0.24913\teval-logloss:0.24938\n",
      "[89]\ttrain-logloss:0.24914\teval-logloss:0.24937\n",
      "[90]\ttrain-logloss:0.24913\teval-logloss:0.24937\n",
      "[91]\ttrain-logloss:0.24914\teval-logloss:0.24936\n",
      "[92]\ttrain-logloss:0.24914\teval-logloss:0.24936\n",
      "[93]\ttrain-logloss:0.24914\teval-logloss:0.24936\n",
      "[94]\ttrain-logloss:0.24913\teval-logloss:0.24936\n",
      "[95]\ttrain-logloss:0.24914\teval-logloss:0.24935\n",
      "[96]\ttrain-logloss:0.24915\teval-logloss:0.24935\n",
      "[97]\ttrain-logloss:0.24915\teval-logloss:0.24936\n",
      "[98]\ttrain-logloss:0.24915\teval-logloss:0.24935\n",
      "[99]\ttrain-logloss:0.24914\teval-logloss:0.24935\n",
      "[100]\ttrain-logloss:0.24914\teval-logloss:0.24935\n",
      "[101]\ttrain-logloss:0.24915\teval-logloss:0.24936\n",
      "[102]\ttrain-logloss:0.24915\teval-logloss:0.24935\n",
      "[103]\ttrain-logloss:0.24915\teval-logloss:0.24935\n",
      "[104]\ttrain-logloss:0.24913\teval-logloss:0.24935\n",
      "[105]\ttrain-logloss:0.24913\teval-logloss:0.24935\n",
      "[106]\ttrain-logloss:0.24914\teval-logloss:0.24935\n",
      "[107]\ttrain-logloss:0.24915\teval-logloss:0.24936\n",
      "[108]\ttrain-logloss:0.24913\teval-logloss:0.24935\n",
      "[109]\ttrain-logloss:0.24910\teval-logloss:0.24935\n",
      "[110]\ttrain-logloss:0.24910\teval-logloss:0.24935\n",
      "[111]\ttrain-logloss:0.24910\teval-logloss:0.24935\n",
      "[112]\ttrain-logloss:0.24911\teval-logloss:0.24934\n",
      "[113]\ttrain-logloss:0.24912\teval-logloss:0.24934\n",
      "[114]\ttrain-logloss:0.24912\teval-logloss:0.24935\n",
      "[115]\ttrain-logloss:0.24910\teval-logloss:0.24935\n",
      "[116]\ttrain-logloss:0.24909\teval-logloss:0.24934\n",
      "[117]\ttrain-logloss:0.24909\teval-logloss:0.24935\n",
      "[118]\ttrain-logloss:0.24909\teval-logloss:0.24935\n",
      "[119]\ttrain-logloss:0.24909\teval-logloss:0.24934\n",
      "[120]\ttrain-logloss:0.24908\teval-logloss:0.24934\n",
      "[121]\ttrain-logloss:0.24909\teval-logloss:0.24934\n",
      "[122]\ttrain-logloss:0.24907\teval-logloss:0.24934\n",
      "[123]\ttrain-logloss:0.24908\teval-logloss:0.24934\n",
      "[124]\ttrain-logloss:0.24908\teval-logloss:0.24934\n",
      "[125]\ttrain-logloss:0.24909\teval-logloss:0.24934\n",
      "[126]\ttrain-logloss:0.24907\teval-logloss:0.24934\n",
      "[127]\ttrain-logloss:0.24907\teval-logloss:0.24934\n",
      "[128]\ttrain-logloss:0.24909\teval-logloss:0.24933\n",
      "[129]\ttrain-logloss:0.24909\teval-logloss:0.24933\n",
      "[130]\ttrain-logloss:0.24907\teval-logloss:0.24934\n",
      "[131]\ttrain-logloss:0.24907\teval-logloss:0.24934\n",
      "[132]\ttrain-logloss:0.24907\teval-logloss:0.24934\n",
      "[133]\ttrain-logloss:0.24905\teval-logloss:0.24934\n",
      "[134]\ttrain-logloss:0.24905\teval-logloss:0.24934\n",
      "[135]\ttrain-logloss:0.24903\teval-logloss:0.24934\n",
      "[136]\ttrain-logloss:0.24904\teval-logloss:0.24934\n",
      "[137]\ttrain-logloss:0.24904\teval-logloss:0.24934\n",
      "[138]\ttrain-logloss:0.24905\teval-logloss:0.24934\n",
      "[139]\ttrain-logloss:0.24905\teval-logloss:0.24934\n",
      "[140]\ttrain-logloss:0.24906\teval-logloss:0.24935\n",
      "[141]\ttrain-logloss:0.24906\teval-logloss:0.24935\n",
      "[142]\ttrain-logloss:0.24905\teval-logloss:0.24934\n",
      "[143]\ttrain-logloss:0.24905\teval-logloss:0.24934\n",
      "[144]\ttrain-logloss:0.24905\teval-logloss:0.24933\n",
      "[145]\ttrain-logloss:0.24906\teval-logloss:0.24933\n",
      "[146]\ttrain-logloss:0.24905\teval-logloss:0.24933\n",
      "[147]\ttrain-logloss:0.24905\teval-logloss:0.24933\n",
      "[148]\ttrain-logloss:0.24904\teval-logloss:0.24933\n",
      "[149]\ttrain-logloss:0.24904\teval-logloss:0.24934\n",
      "[150]\ttrain-logloss:0.24905\teval-logloss:0.24934\n",
      "[151]\ttrain-logloss:0.24905\teval-logloss:0.24934\n",
      "[152]\ttrain-logloss:0.24906\teval-logloss:0.24934\n",
      "[153]\ttrain-logloss:0.24906\teval-logloss:0.24935\n",
      "[154]\ttrain-logloss:0.24905\teval-logloss:0.24935\n",
      "[155]\ttrain-logloss:0.24906\teval-logloss:0.24935\n",
      "[156]\ttrain-logloss:0.24904\teval-logloss:0.24935\n",
      "[157]\ttrain-logloss:0.24905\teval-logloss:0.24934\n",
      "[158]\ttrain-logloss:0.24905\teval-logloss:0.24934\n",
      "[159]\ttrain-logloss:0.24906\teval-logloss:0.24935\n",
      "[160]\ttrain-logloss:0.24906\teval-logloss:0.24935\n",
      "[161]\ttrain-logloss:0.24906\teval-logloss:0.24935\n",
      "[162]\ttrain-logloss:0.24907\teval-logloss:0.24934\n"
     ]
    },
    {
     "name": "stdout",
     "output_type": "stream",
     "text": [
      "[163]\ttrain-logloss:0.24906\teval-logloss:0.24934\n",
      "[164]\ttrain-logloss:0.24907\teval-logloss:0.24934\n",
      "[165]\ttrain-logloss:0.24907\teval-logloss:0.24934\n",
      "[166]\ttrain-logloss:0.24907\teval-logloss:0.24934\n",
      "[167]\ttrain-logloss:0.24907\teval-logloss:0.24933\n",
      "[168]\ttrain-logloss:0.24907\teval-logloss:0.24933\n",
      "[169]\ttrain-logloss:0.24907\teval-logloss:0.24933\n",
      "[170]\ttrain-logloss:0.24907\teval-logloss:0.24934\n",
      "[171]\ttrain-logloss:0.24906\teval-logloss:0.24933\n",
      "[172]\ttrain-logloss:0.24906\teval-logloss:0.24933\n",
      "[173]\ttrain-logloss:0.24906\teval-logloss:0.24934\n",
      "[174]\ttrain-logloss:0.24907\teval-logloss:0.24933\n",
      "[175]\ttrain-logloss:0.24907\teval-logloss:0.24933\n",
      "[176]\ttrain-logloss:0.24907\teval-logloss:0.24934\n",
      "[177]\ttrain-logloss:0.24908\teval-logloss:0.24934\n",
      "[178]\ttrain-logloss:0.24908\teval-logloss:0.24934\n",
      "[179]\ttrain-logloss:0.24908\teval-logloss:0.24934\n",
      "[180]\ttrain-logloss:0.24908\teval-logloss:0.24934\n",
      "[181]\ttrain-logloss:0.24907\teval-logloss:0.24934\n",
      "[182]\ttrain-logloss:0.24907\teval-logloss:0.24934\n",
      "[183]\ttrain-logloss:0.24907\teval-logloss:0.24934\n",
      "[184]\ttrain-logloss:0.24907\teval-logloss:0.24934\n",
      "[185]\ttrain-logloss:0.24907\teval-logloss:0.24934\n",
      "[186]\ttrain-logloss:0.24907\teval-logloss:0.24934\n",
      "[187]\ttrain-logloss:0.24907\teval-logloss:0.24934\n",
      "[188]\ttrain-logloss:0.24907\teval-logloss:0.24934\n",
      "[189]\ttrain-logloss:0.24907\teval-logloss:0.24934\n",
      "[190]\ttrain-logloss:0.24907\teval-logloss:0.24934\n",
      "[191]\ttrain-logloss:0.24907\teval-logloss:0.24934\n",
      "[192]\ttrain-logloss:0.24907\teval-logloss:0.24934\n",
      "[193]\ttrain-logloss:0.24907\teval-logloss:0.24934\n",
      "[194]\ttrain-logloss:0.24906\teval-logloss:0.24934\n",
      "[195]\ttrain-logloss:0.24906\teval-logloss:0.24934\n",
      "[196]\ttrain-logloss:0.24906\teval-logloss:0.24934\n",
      "[197]\ttrain-logloss:0.24906\teval-logloss:0.24935\n",
      "[198]\ttrain-logloss:0.24906\teval-logloss:0.24935\n",
      "[199]\ttrain-logloss:0.24906\teval-logloss:0.24935\n",
      "[200]\ttrain-logloss:0.24906\teval-logloss:0.24935\n",
      "[201]\ttrain-logloss:0.24906\teval-logloss:0.24935\n",
      "[202]\ttrain-logloss:0.24904\teval-logloss:0.24934\n",
      "[203]\ttrain-logloss:0.24906\teval-logloss:0.24934\n",
      "[204]\ttrain-logloss:0.24907\teval-logloss:0.24934\n",
      "[205]\ttrain-logloss:0.24907\teval-logloss:0.24934\n",
      "[206]\ttrain-logloss:0.24907\teval-logloss:0.24934\n",
      "[207]\ttrain-logloss:0.24907\teval-logloss:0.24934\n",
      "[208]\ttrain-logloss:0.24907\teval-logloss:0.24934\n",
      "[209]\ttrain-logloss:0.24904\teval-logloss:0.24934\n",
      "[210]\ttrain-logloss:0.24904\teval-logloss:0.24934\n",
      "[211]\ttrain-logloss:0.24904\teval-logloss:0.24934\n",
      "[212]\ttrain-logloss:0.24904\teval-logloss:0.24934\n",
      "[213]\ttrain-logloss:0.24904\teval-logloss:0.24934\n",
      "[214]\ttrain-logloss:0.24904\teval-logloss:0.24934\n",
      "[215]\ttrain-logloss:0.24904\teval-logloss:0.24934\n",
      "[216]\ttrain-logloss:0.24905\teval-logloss:0.24934\n",
      "[217]\ttrain-logloss:0.24905\teval-logloss:0.24934\n",
      "[218]\ttrain-logloss:0.24905\teval-logloss:0.24934\n",
      "[219]\ttrain-logloss:0.24905\teval-logloss:0.24934\n",
      "[220]\ttrain-logloss:0.24904\teval-logloss:0.24935\n",
      "[221]\ttrain-logloss:0.24904\teval-logloss:0.24935\n",
      "[222]\ttrain-logloss:0.24904\teval-logloss:0.24934\n",
      "[223]\ttrain-logloss:0.24903\teval-logloss:0.24934\n",
      "[224]\ttrain-logloss:0.24903\teval-logloss:0.24934\n",
      "[225]\ttrain-logloss:0.24903\teval-logloss:0.24934\n",
      "[226]\ttrain-logloss:0.24902\teval-logloss:0.24934\n",
      "[227]\ttrain-logloss:0.24903\teval-logloss:0.24935\n",
      "[228]\ttrain-logloss:0.24904\teval-logloss:0.24935\n",
      "[229]\ttrain-logloss:0.24904\teval-logloss:0.24935\n",
      "[230]\ttrain-logloss:0.24904\teval-logloss:0.24935\n",
      "[231]\ttrain-logloss:0.24903\teval-logloss:0.24934\n",
      "[232]\ttrain-logloss:0.24903\teval-logloss:0.24935\n",
      "[233]\ttrain-logloss:0.24903\teval-logloss:0.24935\n",
      "[234]\ttrain-logloss:0.24904\teval-logloss:0.24935\n",
      "[235]\ttrain-logloss:0.24904\teval-logloss:0.24935\n",
      "[236]\ttrain-logloss:0.24904\teval-logloss:0.24934\n",
      "[237]\ttrain-logloss:0.24902\teval-logloss:0.24934\n",
      "[238]\ttrain-logloss:0.24902\teval-logloss:0.24934\n",
      "[239]\ttrain-logloss:0.24902\teval-logloss:0.24934\n",
      "[240]\ttrain-logloss:0.24902\teval-logloss:0.24934\n",
      "[241]\ttrain-logloss:0.24903\teval-logloss:0.24934\n",
      "[242]\ttrain-logloss:0.24904\teval-logloss:0.24934\n",
      "[243]\ttrain-logloss:0.24904\teval-logloss:0.24934\n",
      "[244]\ttrain-logloss:0.24904\teval-logloss:0.24935\n",
      "[245]\ttrain-logloss:0.24904\teval-logloss:0.24934\n",
      "[246]\ttrain-logloss:0.24905\teval-logloss:0.24934\n",
      "[247]\ttrain-logloss:0.24905\teval-logloss:0.24934\n",
      "[248]\ttrain-logloss:0.24905\teval-logloss:0.24934\n",
      "[249]\ttrain-logloss:0.24905\teval-logloss:0.24934\n",
      "[250]\ttrain-logloss:0.24905\teval-logloss:0.24934\n",
      "[251]\ttrain-logloss:0.24904\teval-logloss:0.24934\n",
      "[252]\ttrain-logloss:0.24904\teval-logloss:0.24934\n",
      "[253]\ttrain-logloss:0.24904\teval-logloss:0.24934\n",
      "[254]\ttrain-logloss:0.24904\teval-logloss:0.24934\n",
      "[255]\ttrain-logloss:0.24904\teval-logloss:0.24934\n",
      "[256]\ttrain-logloss:0.24904\teval-logloss:0.24934\n",
      "[257]\ttrain-logloss:0.24904\teval-logloss:0.24934\n",
      "[258]\ttrain-logloss:0.24904\teval-logloss:0.24934\n",
      "[259]\ttrain-logloss:0.24904\teval-logloss:0.24934\n",
      "[260]\ttrain-logloss:0.24904\teval-logloss:0.24935\n",
      "[261]\ttrain-logloss:0.24904\teval-logloss:0.24935\n",
      "[262]\ttrain-logloss:0.24902\teval-logloss:0.24935\n",
      "[263]\ttrain-logloss:0.24903\teval-logloss:0.24935\n",
      "[264]\ttrain-logloss:0.24903\teval-logloss:0.24935\n",
      "[265]\ttrain-logloss:0.24903\teval-logloss:0.24934\n",
      "[266]\ttrain-logloss:0.24903\teval-logloss:0.24934\n",
      "[267]\ttrain-logloss:0.24903\teval-logloss:0.24935\n",
      "[268]\ttrain-logloss:0.24903\teval-logloss:0.24934\n",
      "[269]\ttrain-logloss:0.24903\teval-logloss:0.24935\n",
      "[270]\ttrain-logloss:0.24903\teval-logloss:0.24934\n",
      "[271]\ttrain-logloss:0.24903\teval-logloss:0.24935\n"
     ]
    }
   ],
   "source": [
    "import xgboost as xgb\n",
    "from xgboost import plot_importance\n",
    "\n",
    "dtrain = xgb.DMatrix(data=X_train, label = y_train)\n",
    "dtest = xgb.DMatrix(data=X_test, label = y_test)\n",
    "\n",
    "params = {\n",
    "    'max_depth': 3,\n",
    "    'eta': 0.1,\n",
    "    'objective':'binary:logistic',\n",
    "    'eval_metric':'logloss',\n",
    "    'early_stoppings':100\n",
    "}\n",
    "num_rounds = 400\n",
    "\n",
    "wlist = [(dtrain, 'train'), (dtest, 'eval')]\n",
    "xgb_model = xgb.train(params = params, dtrain= dtrain, num_boost_round = num_rounds, early_stopping_rounds = 100, evals=wlist)"
   ]
  },
  {
   "cell_type": "code",
   "execution_count": 16,
   "metadata": {},
   "outputs": [],
   "source": [
    "pred_probs = xgb_model.predict(dtest)\n",
    "preds = [1 if x > 0.5 else 0 for x in pred_probs]"
   ]
  },
  {
   "cell_type": "code",
   "execution_count": 17,
   "metadata": {},
   "outputs": [],
   "source": [
    "def get_clf_eval(y_test, y_pred):\n",
    "    confusion = confusion_matrix(y_test, y_pred)\n",
    "    accuracy = accuracy_score(y_test, y_pred)\n",
    "    precision = precision_score(y_test, y_pred)\n",
    "    recall = recall_score(y_test, y_pred)\n",
    "    F1 = f1_score(y_test, y_pred)\n",
    "    AUC = roc_auc_score(y_test, y_pred)\n",
    "    \n",
    "    print('오차행렬:\\n', confusion)\n",
    "    print('\\n정확도: {:.4f}'.format(accuracy))\n",
    "    print('정밀도: {:.4f}'.format(precision))\n",
    "    print('재현율: {:.4f}'.format(recall))\n",
    "    print('F1: {:.4f}'.format(F1))\n",
    "    print('AUC: {:.4f}'.format(AUC))"
   ]
  },
  {
   "cell_type": "code",
   "execution_count": 19,
   "metadata": {},
   "outputs": [
    {
     "ename": "NameError",
     "evalue": "name 'confusion_matrix' is not defined",
     "output_type": "error",
     "traceback": [
      "\u001b[1;31m---------------------------------------------------------------------------\u001b[0m",
      "\u001b[1;31mNameError\u001b[0m                                 Traceback (most recent call last)",
      "\u001b[1;32m<ipython-input-19-01c7db0aa904>\u001b[0m in \u001b[0;36m<module>\u001b[1;34m\u001b[0m\n\u001b[1;32m----> 1\u001b[1;33m \u001b[0mget_clf_eval\u001b[0m\u001b[1;33m(\u001b[0m\u001b[0my_test\u001b[0m\u001b[1;33m,\u001b[0m \u001b[0mpreds\u001b[0m\u001b[1;33m)\u001b[0m\u001b[1;33m\u001b[0m\u001b[1;33m\u001b[0m\u001b[0m\n\u001b[0m",
      "\u001b[1;32m<ipython-input-17-e515974d90cc>\u001b[0m in \u001b[0;36mget_clf_eval\u001b[1;34m(y_test, y_pred)\u001b[0m\n\u001b[0;32m      1\u001b[0m \u001b[1;32mdef\u001b[0m \u001b[0mget_clf_eval\u001b[0m\u001b[1;33m(\u001b[0m\u001b[0my_test\u001b[0m\u001b[1;33m,\u001b[0m \u001b[0my_pred\u001b[0m\u001b[1;33m)\u001b[0m\u001b[1;33m:\u001b[0m\u001b[1;33m\u001b[0m\u001b[1;33m\u001b[0m\u001b[0m\n\u001b[1;32m----> 2\u001b[1;33m     \u001b[0mconfusion\u001b[0m \u001b[1;33m=\u001b[0m \u001b[0mconfusion_matrix\u001b[0m\u001b[1;33m(\u001b[0m\u001b[0my_test\u001b[0m\u001b[1;33m,\u001b[0m \u001b[0my_pred\u001b[0m\u001b[1;33m)\u001b[0m\u001b[1;33m\u001b[0m\u001b[1;33m\u001b[0m\u001b[0m\n\u001b[0m\u001b[0;32m      3\u001b[0m     \u001b[0maccuracy\u001b[0m \u001b[1;33m=\u001b[0m \u001b[0maccuracy_score\u001b[0m\u001b[1;33m(\u001b[0m\u001b[0my_test\u001b[0m\u001b[1;33m,\u001b[0m \u001b[0my_pred\u001b[0m\u001b[1;33m)\u001b[0m\u001b[1;33m\u001b[0m\u001b[1;33m\u001b[0m\u001b[0m\n\u001b[0;32m      4\u001b[0m     \u001b[0mprecision\u001b[0m \u001b[1;33m=\u001b[0m \u001b[0mprecision_score\u001b[0m\u001b[1;33m(\u001b[0m\u001b[0my_test\u001b[0m\u001b[1;33m,\u001b[0m \u001b[0my_pred\u001b[0m\u001b[1;33m)\u001b[0m\u001b[1;33m\u001b[0m\u001b[1;33m\u001b[0m\u001b[0m\n\u001b[0;32m      5\u001b[0m     \u001b[0mrecall\u001b[0m \u001b[1;33m=\u001b[0m \u001b[0mrecall_score\u001b[0m\u001b[1;33m(\u001b[0m\u001b[0my_test\u001b[0m\u001b[1;33m,\u001b[0m \u001b[0my_pred\u001b[0m\u001b[1;33m)\u001b[0m\u001b[1;33m\u001b[0m\u001b[1;33m\u001b[0m\u001b[0m\n",
      "\u001b[1;31mNameError\u001b[0m: name 'confusion_matrix' is not defined"
     ]
    }
   ],
   "source": [
    "get_clf_eval(y_test, preds)"
   ]
  },
  {
   "cell_type": "code",
   "execution_count": 25,
   "metadata": {},
   "outputs": [
    {
     "name": "stdout",
     "output_type": "stream",
     "text": [
      "[LightGBM] [Info] Number of positive: 392278, number of negative: 160033\n",
      "[LightGBM] [Info] Total Bins 24\n",
      "[LightGBM] [Info] Number of data points in the train set: 552311, number of used features: 4\n",
      "[LightGBM] [Info] [binary:BoostFromScore]: pavg=0.710248 -> initscore=0.896591\n",
      "[LightGBM] [Info] Start training from score 0.896591\n"
     ]
    }
   ],
   "source": [
    "import lightgbm as lgb\n",
    "d_train = lgb.Dataset(X_train, label=y_train)\n",
    "params = {}\n",
    "params['learning_rate'] = 0.003\n",
    "params['boosting_type'] = 'gbdt'\n",
    "params['objective'] = 'binary'\n",
    "params['metric'] = 'binary_logloss'\n",
    "params['sub_feature'] = 0.5\n",
    "params['num_leaves'] = 10\n",
    "params['min_data'] = 50\n",
    "params['max_depth'] = 10\n",
    "params['force_col_wise'] = True\n",
    "clf = lgb.train(params, d_train, 100)"
   ]
  },
  {
   "cell_type": "code",
   "execution_count": 44,
   "metadata": {},
   "outputs": [
    {
     "name": "stdout",
     "output_type": "stream",
     "text": [
      "[1. 0. 1. ... 0. 1. 0.]\n"
     ]
    }
   ],
   "source": [
    "y_pred=clf.predict(X_test)\n",
    "#convert into binary values\n",
    "for i in range(0,len(y_pred)):\n",
    "    if y_pred[i]>=.71:       # setting threshold to .5\n",
    "       y_pred[i]=1\n",
    "    else:  \n",
    "       y_pred[i]=0\n",
    "\n",
    "print(y_pred)"
   ]
  },
  {
   "cell_type": "code",
   "execution_count": 45,
   "metadata": {},
   "outputs": [
    {
     "name": "stdout",
     "output_type": "stream",
     "text": [
      "[1. 0. 1. ... 1. 0. 1.]\n"
     ]
    }
   ],
   "source": [
    "print(y_test)"
   ]
  },
  {
   "cell_type": "code",
   "execution_count": 46,
   "metadata": {},
   "outputs": [],
   "source": [
    "#Confusion matrix\n",
    "from sklearn.metrics import confusion_matrix\n",
    "cm = confusion_matrix(y_test, y_pred)\n",
    "#Accuracy\n",
    "from sklearn.metrics import accuracy_score\n",
    "accuracy=accuracy_score(y_pred,y_test)"
   ]
  },
  {
   "cell_type": "code",
   "execution_count": 47,
   "metadata": {},
   "outputs": [
    {
     "name": "stdout",
     "output_type": "stream",
     "text": [
      "0.5355523689508829\n"
     ]
    }
   ],
   "source": [
    "print(accuracy)"
   ]
  },
  {
   "cell_type": "code",
   "execution_count": 18,
   "metadata": {},
   "outputs": [
    {
     "data": {
      "text/plain": [
       "<AxesSubplot:title={'center':'Feature importance'}, xlabel='Feature importance', ylabel='Features'>"
      ]
     },
     "execution_count": 18,
     "metadata": {},
     "output_type": "execute_result"
    },
    {
     "data": {
      "image/png": "[encoded data removed]",
      "text/plain": [
       "<Figure size 720x864 with 1 Axes>"
      ]
     },
     "metadata": {
      "needs_background": "light"
     },
     "output_type": "display_data"
    }
   ],
   "source": [
    "from lightgbm import plot_importance\n",
    "import matplotlib.pyplot as plt\n",
    "%matplotlib inline\n",
    "\n",
    "fig, ax = plt.subplots(figsize=(10,12))\n",
    "plot_importance(lgbm_wrapper, ax = ax)"
   ]
  },
  {
   "cell_type": "code",
   "execution_count": null,
   "metadata": {},
   "outputs": [],
   "source": []
  }
 ],
 "metadata": {
  "celltoolbar": "Slideshow",
  "kernelspec": {
   "display_name": "Python 3",
   "language": "python",
   "name": "python3"
  },
  "language_info": {
   "codemirror_mode": {
    "name": "ipython",
    "version": 3
   },
   "file_extension": ".py",
   "mimetype": "text/x-python",
   "name": "python",
   "nbconvert_exporter": "python",
   "pygments_lexer": "ipython3",
   "version": "3.8.5"
  }
 },
 "nbformat": 4,
 "nbformat_minor": 4
}
