{
 "cells": [
  {
   "cell_type": "code",
   "execution_count": 13,
   "metadata": {},
   "outputs": [],
   "source": [
    "import numpy as np\n",
    "import sys\n",
    "import numpy as np\n",
    "import pandas as pd\n",
    "import matplotlib as mpl\n",
    "import sklearn"
   ]
  },
  {
   "cell_type": "code",
   "execution_count": 2,
   "metadata": {},
   "outputs": [],
   "source": [
    "df = pd.read_csv('NHIS_OPEN_GJ_2017_100.csv',engine = 'python')"
   ]
  },
  {
   "cell_type": "code",
   "execution_count": 14,
   "metadata": {},
   "outputs": [],
   "source": [
    "df_sample = df[['성별코드', '연령대코드(5세단위)','수축기혈압','이완기혈압','식전혈당(공복혈당)','신장(5Cm단위)', '체중(5Kg단위)', '허리둘레']]\n"
   ]
  },
  {
   "cell_type": "code",
   "execution_count": 15,
   "metadata": {},
   "outputs": [],
   "source": [
    "df_sample = df_sample.dropna()"
   ]
  },
  {
   "cell_type": "code",
   "execution_count": 16,
   "metadata": {},
   "outputs": [],
   "source": [
    "df_sample = df_sample.loc[(df_sample['허리둘레'] >= 40) & (df_sample['허리둘레'] <= 140)]"
   ]
  },
  {
   "cell_type": "code",
   "execution_count": 17,
   "metadata": {},
   "outputs": [],
   "source": [
    "def bmi(height,weight):\n",
    "    m = height / 100\n",
    "    return weight / (m ** 2)\n",
    "def diabetes(x):\n",
    "    if x >= 100 and x < 126:\n",
    "        return \"전단계\"\n",
    "    elif x >= 127:\n",
    "        return \"당뇨\"\n",
    "    else:\n",
    "        return \"정상\"\n",
    "\n",
    "def fat(bmi) :\n",
    "    if(bmi < 25):\n",
    "        return '정상'\n",
    "    elif(bmi >= 25 and bmi < 30):\n",
    "        return '과체중'\n",
    "    else:\n",
    "        return '비만'\n",
    "\n",
    "def pulse(low,high):\n",
    "    if low >= 100 or high >= 160:\n",
    "        return \"2기고혈압\"\n",
    "    elif 90 <= low < 100 or 140 <= high < 160:\n",
    "        return \"1기\"\n",
    "    elif 80 <= low < 90 or 120 <= high < 140:\n",
    "        return \"전단계\"\n",
    "    else:\n",
    "        return \"정상\"\n",
    "\n",
    "def bokbu(gen, hurry):\n",
    "    if gen == 1 and hurry >= 90:\n",
    "        return \"비만\"\n",
    "    elif gen == 2 and hurry >= 85:\n",
    "        return \"비만\"\n",
    "    else:\n",
    "        return \"정상\"\n",
    "        "
   ]
  },
  {
   "cell_type": "code",
   "execution_count": 18,
   "metadata": {},
   "outputs": [],
   "source": [
    "df_sample['당뇨병'] = df_sample['식전혈당(공복혈당)'].map(diabetes)\n",
    "df_sample['고혈압'] = np.vectorize(pulse)(df_sample['이완기혈압'], df_sample['수축기혈압'])\n",
    "df_sample['bmi'] = np.vectorize(bmi)(df_sample['신장(5Cm단위)'], df_sample['체중(5Kg단위)'])\n",
    "df_sample['비만도'] = df_sample['bmi'].map(fat)\n",
    "df_sample['복부비만'] = np.vectorize(bokbu)(df_sample['성별코드'], df_sample['허리둘레'])"
   ]
  },
  {
   "cell_type": "code",
   "execution_count": 19,
   "metadata": {
    "scrolled": true
   },
   "outputs": [
    {
     "data": {
      "text/html": [
       "<div>\n",
       "<style scoped>\n",
       "    .dataframe tbody tr th:only-of-type {\n",
       "        vertical-align: middle;\n",
       "    }\n",
       "\n",
       "    .dataframe tbody tr th {\n",
       "        vertical-align: top;\n",
       "    }\n",
       "\n",
       "    .dataframe thead th {\n",
       "        text-align: right;\n",
       "    }\n",
       "</style>\n",
       "<table border=\"1\" class=\"dataframe\">\n",
       "  <thead>\n",
       "    <tr style=\"text-align: right;\">\n",
       "      <th></th>\n",
       "      <th>성별코드</th>\n",
       "      <th>연령대코드(5세단위)</th>\n",
       "      <th>수축기혈압</th>\n",
       "      <th>이완기혈압</th>\n",
       "      <th>식전혈당(공복혈당)</th>\n",
       "      <th>신장(5Cm단위)</th>\n",
       "      <th>체중(5Kg단위)</th>\n",
       "      <th>허리둘레</th>\n",
       "      <th>bmi</th>\n",
       "    </tr>\n",
       "  </thead>\n",
       "  <tbody>\n",
       "    <tr>\n",
       "      <th>count</th>\n",
       "      <td>999610.000000</td>\n",
       "      <td>999610.000000</td>\n",
       "      <td>999610.000000</td>\n",
       "      <td>999610.000000</td>\n",
       "      <td>999610.000000</td>\n",
       "      <td>999610.000000</td>\n",
       "      <td>999610.000000</td>\n",
       "      <td>999610.000000</td>\n",
       "      <td>999610.000000</td>\n",
       "    </tr>\n",
       "    <tr>\n",
       "      <th>mean</th>\n",
       "      <td>1.469427</td>\n",
       "      <td>10.527888</td>\n",
       "      <td>122.432257</td>\n",
       "      <td>76.051853</td>\n",
       "      <td>100.457874</td>\n",
       "      <td>162.229234</td>\n",
       "      <td>63.270245</td>\n",
       "      <td>81.179801</td>\n",
       "      <td>23.914891</td>\n",
       "    </tr>\n",
       "    <tr>\n",
       "      <th>std</th>\n",
       "      <td>0.499065</td>\n",
       "      <td>2.840837</td>\n",
       "      <td>14.556389</td>\n",
       "      <td>9.894582</td>\n",
       "      <td>24.251758</td>\n",
       "      <td>9.285240</td>\n",
       "      <td>12.520907</td>\n",
       "      <td>9.595533</td>\n",
       "      <td>3.516696</td>\n",
       "    </tr>\n",
       "    <tr>\n",
       "      <th>min</th>\n",
       "      <td>1.000000</td>\n",
       "      <td>5.000000</td>\n",
       "      <td>58.000000</td>\n",
       "      <td>30.000000</td>\n",
       "      <td>25.000000</td>\n",
       "      <td>130.000000</td>\n",
       "      <td>25.000000</td>\n",
       "      <td>40.000000</td>\n",
       "      <td>12.486993</td>\n",
       "    </tr>\n",
       "    <tr>\n",
       "      <th>25%</th>\n",
       "      <td>1.000000</td>\n",
       "      <td>8.000000</td>\n",
       "      <td>112.000000</td>\n",
       "      <td>70.000000</td>\n",
       "      <td>88.000000</td>\n",
       "      <td>155.000000</td>\n",
       "      <td>55.000000</td>\n",
       "      <td>74.100000</td>\n",
       "      <td>21.484375</td>\n",
       "    </tr>\n",
       "    <tr>\n",
       "      <th>50%</th>\n",
       "      <td>1.000000</td>\n",
       "      <td>10.000000</td>\n",
       "      <td>120.000000</td>\n",
       "      <td>76.000000</td>\n",
       "      <td>96.000000</td>\n",
       "      <td>160.000000</td>\n",
       "      <td>60.000000</td>\n",
       "      <td>81.000000</td>\n",
       "      <td>23.875115</td>\n",
       "    </tr>\n",
       "    <tr>\n",
       "      <th>75%</th>\n",
       "      <td>2.000000</td>\n",
       "      <td>13.000000</td>\n",
       "      <td>131.000000</td>\n",
       "      <td>82.000000</td>\n",
       "      <td>105.000000</td>\n",
       "      <td>170.000000</td>\n",
       "      <td>70.000000</td>\n",
       "      <td>87.800000</td>\n",
       "      <td>25.951557</td>\n",
       "    </tr>\n",
       "    <tr>\n",
       "      <th>max</th>\n",
       "      <td>2.000000</td>\n",
       "      <td>18.000000</td>\n",
       "      <td>273.000000</td>\n",
       "      <td>185.000000</td>\n",
       "      <td>852.000000</td>\n",
       "      <td>190.000000</td>\n",
       "      <td>140.000000</td>\n",
       "      <td>140.000000</td>\n",
       "      <td>45.714286</td>\n",
       "    </tr>\n",
       "  </tbody>\n",
       "</table>\n",
       "</div>"
      ],
      "text/plain": [
       "                성별코드    연령대코드(5세단위)          수축기혈압          이완기혈압  \\\n",
       "count  999610.000000  999610.000000  999610.000000  999610.000000   \n",
       "mean        1.469427      10.527888     122.432257      76.051853   \n",
       "std         0.499065       2.840837      14.556389       9.894582   \n",
       "min         1.000000       5.000000      58.000000      30.000000   \n",
       "25%         1.000000       8.000000     112.000000      70.000000   \n",
       "50%         1.000000      10.000000     120.000000      76.000000   \n",
       "75%         2.000000      13.000000     131.000000      82.000000   \n",
       "max         2.000000      18.000000     273.000000     185.000000   \n",
       "\n",
       "          식전혈당(공복혈당)      신장(5Cm단위)      체중(5Kg단위)           허리둘레  \\\n",
       "count  999610.000000  999610.000000  999610.000000  999610.000000   \n",
       "mean      100.457874     162.229234      63.270245      81.179801   \n",
       "std        24.251758       9.285240      12.520907       9.595533   \n",
       "min        25.000000     130.000000      25.000000      40.000000   \n",
       "25%        88.000000     155.000000      55.000000      74.100000   \n",
       "50%        96.000000     160.000000      60.000000      81.000000   \n",
       "75%       105.000000     170.000000      70.000000      87.800000   \n",
       "max       852.000000     190.000000     140.000000     140.000000   \n",
       "\n",
       "                 bmi  \n",
       "count  999610.000000  \n",
       "mean       23.914891  \n",
       "std         3.516696  \n",
       "min        12.486993  \n",
       "25%        21.484375  \n",
       "50%        23.875115  \n",
       "75%        25.951557  \n",
       "max        45.714286  "
      ]
     },
     "execution_count": 19,
     "metadata": {},
     "output_type": "execute_result"
    }
   ],
   "source": [
    "df_sample.describe()"
   ]
  },
  {
   "cell_type": "code",
   "execution_count": 20,
   "metadata": {
    "scrolled": true
   },
   "outputs": [
    {
     "name": "stdout",
     "output_type": "stream",
     "text": [
      "성별코드 : 13.783207796305597\n",
      "고혈압 : 29.603841836036928\n",
      "비만도 : 20.75656178804919\n",
      "복부비만 : 20.946074351597012\n",
      "연령대코드(5세단위) : 46.84348507387837\n"
     ]
    }
   ],
   "source": [
    "\n",
    "def Entropy(df, attribute) :\n",
    "    list1  = list(df[attribute].unique())\n",
    "    etp = 0\n",
    "    for i in range(len(list1)):\n",
    "        q1 = len(df[df[attribute] == list1[i]])/len(df[attribute])\n",
    "        etp -=  q1*np.log2(q1)\n",
    "    return etp\n",
    "\n",
    "def Group_info(df,m_attribute,fix_attribute):\n",
    "    list2 = list(df[m_attribute].unique())\n",
    "    info_Entropy = Entropy(df,fix_attribute)\n",
    "    info_data = 0\n",
    "    for i in range (len(list2)) :\n",
    "        q2 = df.loc[df[m_attribute] == list2[i]]\n",
    "        info_data +=  (len(q2[m_attribute])/len(df[m_attribute]))* Entropy(q2,fix_attribute) \n",
    "    \n",
    "    data = info_Entropy - info_data\n",
    "    \n",
    "    return data\n",
    "\n",
    "info = np.array([(\"성별코드\"),(\"고혈압\"),(\"비만도\"),(\"복부비만\"),(\"연령대코드(5세단위)\")])\n",
    "\n",
    "for i in info :\n",
    "    print(i,\":\",Group_info(df_sample, i,\"당뇨병\") * 1000)"
   ]
  },
  {
   "cell_type": "code",
   "execution_count": 21,
   "metadata": {},
   "outputs": [],
   "source": [
    "#지니 지수 https://lucy-the-marketer.kr/ko/growth/decision-tree-and-impurity/"
   ]
  },
  {
   "cell_type": "code",
   "execution_count": 22,
   "metadata": {},
   "outputs": [
    {
     "name": "stdout",
     "output_type": "stream",
     "text": [
      "성별코드 : 0.504551814729441\n",
      "고혈압 : 0.4974907692080581\n",
      "비만도 : 0.5013416451222283\n",
      "복부비만 : 0.5020883590052425\n",
      "연령대코드(5세단위) : 0.49281309497940073\n"
     ]
    }
   ],
   "source": [
    "def Gini(df, attribute) :\n",
    "    list1  = list(df[attribute].unique())\n",
    "    gini = 0\n",
    "    for i in range(len(list1)):\n",
    "        q1 = len(df[df[attribute] == list1[i]])/len(df[attribute])\n",
    "        gini += (q1**2)\n",
    "    return 1 - gini\n",
    "\n",
    "def Group_Gini(df,m_attribute,fix_attribute):\n",
    "    list2 = list(df[m_attribute].unique())\n",
    "    info_data = 0\n",
    "    for i in range (len(list2)) :\n",
    "        q2 = df.loc[df[m_attribute] == list2[i]]\n",
    "        info_data +=  (len(q2[m_attribute])/len(df[m_attribute]))* Gini(q2,fix_attribute) \n",
    "    \n",
    "    return info_data\n",
    "\n",
    "info = np.array([(\"성별코드\"),(\"고혈압\"),(\"비만도\"),(\"복부비만\"),(\"연령대코드(5세단위)\")])\n",
    "\n",
    "for i in info :\n",
    "    print(i,\":\",Group_Gini(df_sample, i,\"당뇨병\"))"
   ]
  },
  {
   "cell_type": "code",
   "execution_count": null,
   "metadata": {},
   "outputs": [],
   "source": []
  }
 ],
 "metadata": {
  "kernelspec": {
   "display_name": "Python 3",
   "language": "python",
   "name": "python3"
  },
  "language_info": {
   "codemirror_mode": {
    "name": "ipython",
    "version": 3
   },
   "file_extension": ".py",
   "mimetype": "text/x-python",
   "name": "python",
   "nbconvert_exporter": "python",
   "pygments_lexer": "ipython3",
   "version": "3.8.5"
  }
 },
 "nbformat": 4,
 "nbformat_minor": 4
}
